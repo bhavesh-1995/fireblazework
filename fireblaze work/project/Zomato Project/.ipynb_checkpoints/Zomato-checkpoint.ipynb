{
 "cells": [
  {
   "cell_type": "code",
   "execution_count": 1,
   "id": "d7e1bae6",
   "metadata": {},
   "outputs": [],
   "source": [
    "import matplotlib.pyplot as plt\n",
    "import pandas as pd\n",
    "import seaborn as sns\n",
    "import numpy as np"
   ]
  },
  {
   "cell_type": "code",
   "execution_count": 2,
   "id": "98b35320",
   "metadata": {},
   "outputs": [],
   "source": [
    "# Merge the two datas to create one dataframe"
   ]
  },
  {
   "cell_type": "code",
   "execution_count": 3,
   "id": "a3eff95c",
   "metadata": {},
   "outputs": [],
   "source": [
    "zd=pd.read_csv('zomato.csv',encoding='latin1')\n",
    "cc=pd.read_csv('Country-Code.csv')"
   ]
  },
  {
   "cell_type": "code",
   "execution_count": 4,
   "id": "0492b426",
   "metadata": {
    "scrolled": true
   },
   "outputs": [
    {
     "data": {
      "text/plain": [
       "(9551, 22)"
      ]
     },
     "execution_count": 4,
     "metadata": {},
     "output_type": "execute_result"
    }
   ],
   "source": [
    "df=zd.merge(cc, how='left')\n",
    "df.shape"
   ]
  },
  {
   "cell_type": "code",
   "execution_count": 5,
   "id": "704b9ca9",
   "metadata": {},
   "outputs": [],
   "source": [
    "# Droping colums not required"
   ]
  },
  {
   "cell_type": "code",
   "execution_count": 6,
   "id": "837f1fe9",
   "metadata": {},
   "outputs": [
    {
     "data": {
      "text/html": [
       "<div>\n",
       "<style scoped>\n",
       "    .dataframe tbody tr th:only-of-type {\n",
       "        vertical-align: middle;\n",
       "    }\n",
       "\n",
       "    .dataframe tbody tr th {\n",
       "        vertical-align: top;\n",
       "    }\n",
       "\n",
       "    .dataframe thead th {\n",
       "        text-align: right;\n",
       "    }\n",
       "</style>\n",
       "<table border=\"1\" class=\"dataframe\">\n",
       "  <thead>\n",
       "    <tr style=\"text-align: right;\">\n",
       "      <th></th>\n",
       "      <th>Restaurant ID</th>\n",
       "      <th>Restaurant Name</th>\n",
       "      <th>Country Code</th>\n",
       "      <th>City</th>\n",
       "      <th>Address</th>\n",
       "      <th>Locality</th>\n",
       "      <th>Locality Verbose</th>\n",
       "      <th>Longitude</th>\n",
       "      <th>Latitude</th>\n",
       "      <th>Cuisines</th>\n",
       "      <th>...</th>\n",
       "      <th>Has Table booking</th>\n",
       "      <th>Has Online delivery</th>\n",
       "      <th>Is delivering now</th>\n",
       "      <th>Switch to order menu</th>\n",
       "      <th>Price range</th>\n",
       "      <th>Aggregate rating</th>\n",
       "      <th>Rating color</th>\n",
       "      <th>Rating text</th>\n",
       "      <th>Votes</th>\n",
       "      <th>Country</th>\n",
       "    </tr>\n",
       "  </thead>\n",
       "  <tbody>\n",
       "    <tr>\n",
       "      <th>4092</th>\n",
       "      <td>303261</td>\n",
       "      <td>Udupi Cafe</td>\n",
       "      <td>1</td>\n",
       "      <td>New Delhi</td>\n",
       "      <td>Ground Floor, Pratap Bhawan, Building 5, Bahad...</td>\n",
       "      <td>ITO</td>\n",
       "      <td>ITO, New Delhi</td>\n",
       "      <td>77.241345</td>\n",
       "      <td>28.631142</td>\n",
       "      <td>South Indian, Chinese</td>\n",
       "      <td>...</td>\n",
       "      <td>No</td>\n",
       "      <td>No</td>\n",
       "      <td>No</td>\n",
       "      <td>No</td>\n",
       "      <td>1</td>\n",
       "      <td>3.5</td>\n",
       "      <td>Yellow</td>\n",
       "      <td>Good</td>\n",
       "      <td>117</td>\n",
       "      <td>India</td>\n",
       "    </tr>\n",
       "    <tr>\n",
       "      <th>3114</th>\n",
       "      <td>18454488</td>\n",
       "      <td>The G.T. Road</td>\n",
       "      <td>1</td>\n",
       "      <td>New Delhi</td>\n",
       "      <td>M 39, Outer Circle, Connaught Place, New Delhi</td>\n",
       "      <td>Connaught Place</td>\n",
       "      <td>Connaught Place, New Delhi</td>\n",
       "      <td>77.222891</td>\n",
       "      <td>28.633228</td>\n",
       "      <td>North Indian, Afghani, Mughlai</td>\n",
       "      <td>...</td>\n",
       "      <td>Yes</td>\n",
       "      <td>No</td>\n",
       "      <td>No</td>\n",
       "      <td>No</td>\n",
       "      <td>3</td>\n",
       "      <td>4.3</td>\n",
       "      <td>Green</td>\n",
       "      <td>Very Good</td>\n",
       "      <td>104</td>\n",
       "      <td>India</td>\n",
       "    </tr>\n",
       "    <tr>\n",
       "      <th>8784</th>\n",
       "      <td>18439522</td>\n",
       "      <td>The Big Buddha Grill</td>\n",
       "      <td>1</td>\n",
       "      <td>Noida</td>\n",
       "      <td>4th Floor, Hoshiarpur Market, Sector 51, Noida</td>\n",
       "      <td>Sector 51</td>\n",
       "      <td>Sector 51, Noida</td>\n",
       "      <td>77.366121</td>\n",
       "      <td>28.581868</td>\n",
       "      <td>Cafe, Mexican</td>\n",
       "      <td>...</td>\n",
       "      <td>No</td>\n",
       "      <td>Yes</td>\n",
       "      <td>No</td>\n",
       "      <td>No</td>\n",
       "      <td>2</td>\n",
       "      <td>0.0</td>\n",
       "      <td>White</td>\n",
       "      <td>Not rated</td>\n",
       "      <td>2</td>\n",
       "      <td>India</td>\n",
       "    </tr>\n",
       "    <tr>\n",
       "      <th>6607</th>\n",
       "      <td>18427200</td>\n",
       "      <td>Spooky Sky</td>\n",
       "      <td>1</td>\n",
       "      <td>New Delhi</td>\n",
       "      <td>Rajinder Nagar, New Delhi</td>\n",
       "      <td>Rajinder Nagar</td>\n",
       "      <td>Rajinder Nagar, New Delhi</td>\n",
       "      <td>77.178993</td>\n",
       "      <td>28.635268</td>\n",
       "      <td>Italian, Chinese, North Indian</td>\n",
       "      <td>...</td>\n",
       "      <td>No</td>\n",
       "      <td>Yes</td>\n",
       "      <td>Yes</td>\n",
       "      <td>No</td>\n",
       "      <td>2</td>\n",
       "      <td>3.5</td>\n",
       "      <td>Yellow</td>\n",
       "      <td>Good</td>\n",
       "      <td>38</td>\n",
       "      <td>India</td>\n",
       "    </tr>\n",
       "    <tr>\n",
       "      <th>8221</th>\n",
       "      <td>311186</td>\n",
       "      <td>Punjabi Pakwaan</td>\n",
       "      <td>1</td>\n",
       "      <td>Noida</td>\n",
       "      <td>Shop 39 &amp; 40, L-93-A, Sector 11, Noida</td>\n",
       "      <td>Sector 11</td>\n",
       "      <td>Sector 11, Noida</td>\n",
       "      <td>77.335716</td>\n",
       "      <td>28.597744</td>\n",
       "      <td>North Indian, Chinese</td>\n",
       "      <td>...</td>\n",
       "      <td>Yes</td>\n",
       "      <td>Yes</td>\n",
       "      <td>No</td>\n",
       "      <td>No</td>\n",
       "      <td>2</td>\n",
       "      <td>3.3</td>\n",
       "      <td>Orange</td>\n",
       "      <td>Average</td>\n",
       "      <td>34</td>\n",
       "      <td>India</td>\n",
       "    </tr>\n",
       "  </tbody>\n",
       "</table>\n",
       "<p>5 rows × 22 columns</p>\n",
       "</div>"
      ],
      "text/plain": [
       "      Restaurant ID       Restaurant Name  Country Code       City  \\\n",
       "4092         303261            Udupi Cafe             1  New Delhi   \n",
       "3114       18454488         The G.T. Road             1  New Delhi   \n",
       "8784       18439522  The Big Buddha Grill             1      Noida   \n",
       "6607       18427200            Spooky Sky             1  New Delhi   \n",
       "8221         311186       Punjabi Pakwaan             1      Noida   \n",
       "\n",
       "                                                Address         Locality  \\\n",
       "4092  Ground Floor, Pratap Bhawan, Building 5, Bahad...              ITO   \n",
       "3114     M 39, Outer Circle, Connaught Place, New Delhi  Connaught Place   \n",
       "8784     4th Floor, Hoshiarpur Market, Sector 51, Noida        Sector 51   \n",
       "6607                          Rajinder Nagar, New Delhi   Rajinder Nagar   \n",
       "8221             Shop 39 & 40, L-93-A, Sector 11, Noida        Sector 11   \n",
       "\n",
       "                Locality Verbose  Longitude   Latitude  \\\n",
       "4092              ITO, New Delhi  77.241345  28.631142   \n",
       "3114  Connaught Place, New Delhi  77.222891  28.633228   \n",
       "8784            Sector 51, Noida  77.366121  28.581868   \n",
       "6607   Rajinder Nagar, New Delhi  77.178993  28.635268   \n",
       "8221            Sector 11, Noida  77.335716  28.597744   \n",
       "\n",
       "                            Cuisines  ...  Has Table booking  \\\n",
       "4092           South Indian, Chinese  ...                 No   \n",
       "3114  North Indian, Afghani, Mughlai  ...                Yes   \n",
       "8784                   Cafe, Mexican  ...                 No   \n",
       "6607  Italian, Chinese, North Indian  ...                 No   \n",
       "8221           North Indian, Chinese  ...                Yes   \n",
       "\n",
       "     Has Online delivery Is delivering now Switch to order menu Price range  \\\n",
       "4092                  No                No                   No           1   \n",
       "3114                  No                No                   No           3   \n",
       "8784                 Yes                No                   No           2   \n",
       "6607                 Yes               Yes                   No           2   \n",
       "8221                 Yes                No                   No           2   \n",
       "\n",
       "     Aggregate rating  Rating color  Rating text Votes Country  \n",
       "4092              3.5        Yellow         Good   117   India  \n",
       "3114              4.3         Green    Very Good   104   India  \n",
       "8784              0.0         White    Not rated     2   India  \n",
       "6607              3.5        Yellow         Good    38   India  \n",
       "8221              3.3        Orange      Average    34   India  \n",
       "\n",
       "[5 rows x 22 columns]"
      ]
     },
     "execution_count": 6,
     "metadata": {},
     "output_type": "execute_result"
    }
   ],
   "source": [
    "df.sample(5)"
   ]
  },
  {
   "cell_type": "code",
   "execution_count": 7,
   "id": "550e577c",
   "metadata": {},
   "outputs": [],
   "source": [
    "df=df.drop(['Country Code','Locality','Switch to order menu','Rating color', 'Address'],axis=1)"
   ]
  },
  {
   "cell_type": "code",
   "execution_count": 8,
   "id": "89ba8831",
   "metadata": {
    "scrolled": true
   },
   "outputs": [
    {
     "data": {
      "text/plain": [
       "Index(['Restaurant ID', 'Restaurant Name', 'City', 'Locality Verbose',\n",
       "       'Longitude', 'Latitude', 'Cuisines', 'Average Cost for two', 'Currency',\n",
       "       'Has Table booking', 'Has Online delivery', 'Is delivering now',\n",
       "       'Price range', 'Aggregate rating', 'Rating text', 'Votes', 'Country'],\n",
       "      dtype='object')"
      ]
     },
     "execution_count": 8,
     "metadata": {},
     "output_type": "execute_result"
    }
   ],
   "source": [
    "df.columns"
   ]
  },
  {
   "cell_type": "code",
   "execution_count": 9,
   "id": "c7cbf483",
   "metadata": {},
   "outputs": [
    {
     "data": {
      "text/plain": [
       "(9551, 17)"
      ]
     },
     "execution_count": 9,
     "metadata": {},
     "output_type": "execute_result"
    }
   ],
   "source": [
    "df.shape"
   ]
  },
  {
   "cell_type": "code",
   "execution_count": 10,
   "id": "fe590344",
   "metadata": {},
   "outputs": [],
   "source": [
    "# droping duplicate values"
   ]
  },
  {
   "cell_type": "code",
   "execution_count": 11,
   "id": "cfc78e11",
   "metadata": {},
   "outputs": [],
   "source": [
    "df.drop_duplicates(inplace=True)"
   ]
  },
  {
   "cell_type": "code",
   "execution_count": 12,
   "id": "4a904cfc",
   "metadata": {},
   "outputs": [
    {
     "data": {
      "text/plain": [
       "(9551, 17)"
      ]
     },
     "execution_count": 12,
     "metadata": {},
     "output_type": "execute_result"
    }
   ],
   "source": [
    "df.shape"
   ]
  },
  {
   "cell_type": "code",
   "execution_count": 13,
   "id": "483b30cb",
   "metadata": {},
   "outputs": [],
   "source": [
    "# checking th null values "
   ]
  },
  {
   "cell_type": "code",
   "execution_count": 14,
   "id": "6e85af7e",
   "metadata": {},
   "outputs": [
    {
     "data": {
      "text/plain": [
       "Restaurant ID           0\n",
       "Restaurant Name         0\n",
       "City                    0\n",
       "Locality Verbose        0\n",
       "Longitude               0\n",
       "Latitude                0\n",
       "Cuisines                9\n",
       "Average Cost for two    0\n",
       "Currency                0\n",
       "Has Table booking       0\n",
       "Has Online delivery     0\n",
       "Is delivering now       0\n",
       "Price range             0\n",
       "Aggregate rating        0\n",
       "Rating text             0\n",
       "Votes                   0\n",
       "Country                 0\n",
       "dtype: int64"
      ]
     },
     "execution_count": 14,
     "metadata": {},
     "output_type": "execute_result"
    }
   ],
   "source": [
    "df.isnull().sum()"
   ]
  },
  {
   "cell_type": "code",
   "execution_count": 15,
   "id": "e91a1d9c",
   "metadata": {},
   "outputs": [
    {
     "data": {
      "text/plain": [
       "array(['French, Japanese, Desserts', 'Japanese',\n",
       "       'Seafood, Asian, Filipino, Indian', ..., 'Burger, Izgara',\n",
       "       'World Cuisine, Patisserie, Cafe', 'Italian, World Cuisine'],\n",
       "      dtype=object)"
      ]
     },
     "execution_count": 15,
     "metadata": {},
     "output_type": "execute_result"
    }
   ],
   "source": [
    "df['Cuisines'].unique()"
   ]
  },
  {
   "cell_type": "code",
   "execution_count": null,
   "id": "97c4cb5b",
   "metadata": {},
   "outputs": [],
   "source": []
  },
  {
   "cell_type": "code",
   "execution_count": 16,
   "id": "5a532b4a",
   "metadata": {},
   "outputs": [
    {
     "data": {
      "text/plain": [
       "Restaurant ID           0\n",
       "Restaurant Name         0\n",
       "City                    0\n",
       "Locality Verbose        0\n",
       "Longitude               0\n",
       "Latitude                0\n",
       "Cuisines                9\n",
       "Average Cost for two    0\n",
       "Currency                0\n",
       "Has Table booking       0\n",
       "Has Online delivery     0\n",
       "Is delivering now       0\n",
       "Price range             0\n",
       "Aggregate rating        0\n",
       "Rating text             0\n",
       "Votes                   0\n",
       "Country                 0\n",
       "dtype: int64"
      ]
     },
     "execution_count": 16,
     "metadata": {},
     "output_type": "execute_result"
    }
   ],
   "source": [
    "df.isnull().sum()"
   ]
  },
  {
   "cell_type": "code",
   "execution_count": 17,
   "id": "6d7a26e2",
   "metadata": {},
   "outputs": [
    {
     "data": {
      "text/html": [
       "<div>\n",
       "<style scoped>\n",
       "    .dataframe tbody tr th:only-of-type {\n",
       "        vertical-align: middle;\n",
       "    }\n",
       "\n",
       "    .dataframe tbody tr th {\n",
       "        vertical-align: top;\n",
       "    }\n",
       "\n",
       "    .dataframe thead th {\n",
       "        text-align: right;\n",
       "    }\n",
       "</style>\n",
       "<table border=\"1\" class=\"dataframe\">\n",
       "  <thead>\n",
       "    <tr style=\"text-align: right;\">\n",
       "      <th></th>\n",
       "      <th>Restaurant ID</th>\n",
       "      <th>Restaurant Name</th>\n",
       "      <th>City</th>\n",
       "      <th>Locality Verbose</th>\n",
       "      <th>Longitude</th>\n",
       "      <th>Latitude</th>\n",
       "      <th>Cuisines</th>\n",
       "      <th>Average Cost for two</th>\n",
       "      <th>Currency</th>\n",
       "      <th>Has Table booking</th>\n",
       "      <th>Has Online delivery</th>\n",
       "      <th>Is delivering now</th>\n",
       "      <th>Price range</th>\n",
       "      <th>Aggregate rating</th>\n",
       "      <th>Rating text</th>\n",
       "      <th>Votes</th>\n",
       "      <th>Country</th>\n",
       "    </tr>\n",
       "  </thead>\n",
       "  <tbody>\n",
       "    <tr>\n",
       "      <th>6997</th>\n",
       "      <td>18237321</td>\n",
       "      <td>Echoes Satyaniketan</td>\n",
       "      <td>New Delhi</td>\n",
       "      <td>Satyaniketan, New Delhi</td>\n",
       "      <td>77.167164</td>\n",
       "      <td>28.587609</td>\n",
       "      <td>Cafe, Continental, Italian, Mexican, Chinese, ...</td>\n",
       "      <td>600</td>\n",
       "      <td>Indian Rupees(Rs.)</td>\n",
       "      <td>No</td>\n",
       "      <td>No</td>\n",
       "      <td>No</td>\n",
       "      <td>2</td>\n",
       "      <td>4.7</td>\n",
       "      <td>Excellent</td>\n",
       "      <td>1563</td>\n",
       "      <td>India</td>\n",
       "    </tr>\n",
       "    <tr>\n",
       "      <th>6187</th>\n",
       "      <td>9956</td>\n",
       "      <td>McDonald's</td>\n",
       "      <td>New Delhi</td>\n",
       "      <td>Paschim Vihar, New Delhi</td>\n",
       "      <td>77.092389</td>\n",
       "      <td>28.663645</td>\n",
       "      <td>Fast Food, Burger</td>\n",
       "      <td>500</td>\n",
       "      <td>Indian Rupees(Rs.)</td>\n",
       "      <td>No</td>\n",
       "      <td>Yes</td>\n",
       "      <td>No</td>\n",
       "      <td>2</td>\n",
       "      <td>3.3</td>\n",
       "      <td>Average</td>\n",
       "      <td>94</td>\n",
       "      <td>India</td>\n",
       "    </tr>\n",
       "    <tr>\n",
       "      <th>1893</th>\n",
       "      <td>18376925</td>\n",
       "      <td>Twigly</td>\n",
       "      <td>Gurgaon</td>\n",
       "      <td>Sector 31, Gurgaon</td>\n",
       "      <td>77.058763</td>\n",
       "      <td>28.434474</td>\n",
       "      <td>Asian, Continental, Fast Food</td>\n",
       "      <td>500</td>\n",
       "      <td>Indian Rupees(Rs.)</td>\n",
       "      <td>No</td>\n",
       "      <td>Yes</td>\n",
       "      <td>No</td>\n",
       "      <td>2</td>\n",
       "      <td>4.5</td>\n",
       "      <td>Excellent</td>\n",
       "      <td>76</td>\n",
       "      <td>India</td>\n",
       "    </tr>\n",
       "    <tr>\n",
       "      <th>527</th>\n",
       "      <td>17678283</td>\n",
       "      <td>El Cazador</td>\n",
       "      <td>Valdosta</td>\n",
       "      <td>Valdosta, Valdosta</td>\n",
       "      <td>-83.280780</td>\n",
       "      <td>30.850888</td>\n",
       "      <td>Mexican</td>\n",
       "      <td>10</td>\n",
       "      <td>Dollar($)</td>\n",
       "      <td>No</td>\n",
       "      <td>No</td>\n",
       "      <td>No</td>\n",
       "      <td>1</td>\n",
       "      <td>3.7</td>\n",
       "      <td>Good</td>\n",
       "      <td>168</td>\n",
       "      <td>United States</td>\n",
       "    </tr>\n",
       "    <tr>\n",
       "      <th>383</th>\n",
       "      <td>17580074</td>\n",
       "      <td>Ichiban</td>\n",
       "      <td>Pensacola</td>\n",
       "      <td>Pensacola, Pensacola</td>\n",
       "      <td>-87.225200</td>\n",
       "      <td>30.476700</td>\n",
       "      <td>Japanese, Sushi</td>\n",
       "      <td>25</td>\n",
       "      <td>Dollar($)</td>\n",
       "      <td>No</td>\n",
       "      <td>No</td>\n",
       "      <td>No</td>\n",
       "      <td>2</td>\n",
       "      <td>4.3</td>\n",
       "      <td>Very Good</td>\n",
       "      <td>765</td>\n",
       "      <td>United States</td>\n",
       "    </tr>\n",
       "    <tr>\n",
       "      <th>7775</th>\n",
       "      <td>8530</td>\n",
       "      <td>Aggarwal Confectionary</td>\n",
       "      <td>New Delhi</td>\n",
       "      <td>Vasundhara Enclave, New Delhi</td>\n",
       "      <td>77.317668</td>\n",
       "      <td>28.599715</td>\n",
       "      <td>Street Food, Bakery</td>\n",
       "      <td>50</td>\n",
       "      <td>Indian Rupees(Rs.)</td>\n",
       "      <td>No</td>\n",
       "      <td>No</td>\n",
       "      <td>No</td>\n",
       "      <td>1</td>\n",
       "      <td>2.8</td>\n",
       "      <td>Average</td>\n",
       "      <td>7</td>\n",
       "      <td>India</td>\n",
       "    </tr>\n",
       "    <tr>\n",
       "      <th>3288</th>\n",
       "      <td>311962</td>\n",
       "      <td>Hookups Cafe &amp; Lounge</td>\n",
       "      <td>New Delhi</td>\n",
       "      <td>Delhi University-GTB Nagar, New Delhi</td>\n",
       "      <td>77.204542</td>\n",
       "      <td>28.697073</td>\n",
       "      <td>Chinese, Continental, North Indian</td>\n",
       "      <td>850</td>\n",
       "      <td>Indian Rupees(Rs.)</td>\n",
       "      <td>Yes</td>\n",
       "      <td>No</td>\n",
       "      <td>No</td>\n",
       "      <td>2</td>\n",
       "      <td>3.3</td>\n",
       "      <td>Average</td>\n",
       "      <td>113</td>\n",
       "      <td>India</td>\n",
       "    </tr>\n",
       "    <tr>\n",
       "      <th>3947</th>\n",
       "      <td>308257</td>\n",
       "      <td>Dzukou Tribal Kitchen</td>\n",
       "      <td>New Delhi</td>\n",
       "      <td>Hauz Khas, New Delhi</td>\n",
       "      <td>77.208163</td>\n",
       "      <td>28.550931</td>\n",
       "      <td>Naga</td>\n",
       "      <td>1300</td>\n",
       "      <td>Indian Rupees(Rs.)</td>\n",
       "      <td>Yes</td>\n",
       "      <td>Yes</td>\n",
       "      <td>No</td>\n",
       "      <td>3</td>\n",
       "      <td>3.8</td>\n",
       "      <td>Good</td>\n",
       "      <td>145</td>\n",
       "      <td>India</td>\n",
       "    </tr>\n",
       "    <tr>\n",
       "      <th>4977</th>\n",
       "      <td>9316</td>\n",
       "      <td>Bangla Sweet Corner</td>\n",
       "      <td>New Delhi</td>\n",
       "      <td>Lodhi Colony, New Delhi</td>\n",
       "      <td>77.220711</td>\n",
       "      <td>28.582058</td>\n",
       "      <td>Chinese, North Indian, Mithai, Street Food</td>\n",
       "      <td>400</td>\n",
       "      <td>Indian Rupees(Rs.)</td>\n",
       "      <td>No</td>\n",
       "      <td>No</td>\n",
       "      <td>No</td>\n",
       "      <td>1</td>\n",
       "      <td>2.6</td>\n",
       "      <td>Average</td>\n",
       "      <td>32</td>\n",
       "      <td>India</td>\n",
       "    </tr>\n",
       "    <tr>\n",
       "      <th>3422</th>\n",
       "      <td>5260</td>\n",
       "      <td>Cafe Coffee Day</td>\n",
       "      <td>New Delhi</td>\n",
       "      <td>DLF City Centre Mall, Shalimar Bagh, New Delhi</td>\n",
       "      <td>77.158268</td>\n",
       "      <td>28.702936</td>\n",
       "      <td>Cafe</td>\n",
       "      <td>450</td>\n",
       "      <td>Indian Rupees(Rs.)</td>\n",
       "      <td>No</td>\n",
       "      <td>No</td>\n",
       "      <td>No</td>\n",
       "      <td>1</td>\n",
       "      <td>3.0</td>\n",
       "      <td>Average</td>\n",
       "      <td>29</td>\n",
       "      <td>India</td>\n",
       "    </tr>\n",
       "    <tr>\n",
       "      <th>2914</th>\n",
       "      <td>307218</td>\n",
       "      <td>Shyam Sweets</td>\n",
       "      <td>New Delhi</td>\n",
       "      <td>Chawri Bazar, New Delhi</td>\n",
       "      <td>77.230311</td>\n",
       "      <td>28.650476</td>\n",
       "      <td>Mithai, Street Food</td>\n",
       "      <td>150</td>\n",
       "      <td>Indian Rupees(Rs.)</td>\n",
       "      <td>No</td>\n",
       "      <td>No</td>\n",
       "      <td>No</td>\n",
       "      <td>1</td>\n",
       "      <td>4.1</td>\n",
       "      <td>Very Good</td>\n",
       "      <td>200</td>\n",
       "      <td>India</td>\n",
       "    </tr>\n",
       "    <tr>\n",
       "      <th>5067</th>\n",
       "      <td>18356797</td>\n",
       "      <td>Jain Sweets &amp; Bakers</td>\n",
       "      <td>New Delhi</td>\n",
       "      <td>Mahipalpur, New Delhi</td>\n",
       "      <td>77.124741</td>\n",
       "      <td>28.546981</td>\n",
       "      <td>North Indian, Mithai</td>\n",
       "      <td>300</td>\n",
       "      <td>Indian Rupees(Rs.)</td>\n",
       "      <td>No</td>\n",
       "      <td>No</td>\n",
       "      <td>No</td>\n",
       "      <td>1</td>\n",
       "      <td>0.0</td>\n",
       "      <td>Not rated</td>\n",
       "      <td>1</td>\n",
       "      <td>India</td>\n",
       "    </tr>\n",
       "    <tr>\n",
       "      <th>5047</th>\n",
       "      <td>305151</td>\n",
       "      <td>Traffic Jaam</td>\n",
       "      <td>New Delhi</td>\n",
       "      <td>Mahipalpur, New Delhi</td>\n",
       "      <td>77.126719</td>\n",
       "      <td>28.546812</td>\n",
       "      <td>North Indian, Chinese</td>\n",
       "      <td>550</td>\n",
       "      <td>Indian Rupees(Rs.)</td>\n",
       "      <td>No</td>\n",
       "      <td>No</td>\n",
       "      <td>No</td>\n",
       "      <td>2</td>\n",
       "      <td>2.9</td>\n",
       "      <td>Average</td>\n",
       "      <td>5</td>\n",
       "      <td>India</td>\n",
       "    </tr>\n",
       "    <tr>\n",
       "      <th>1219</th>\n",
       "      <td>309252</td>\n",
       "      <td>Fatburger</td>\n",
       "      <td>Gurgaon</td>\n",
       "      <td>Cyber Hub, DLF Cyber City, Gurgaon</td>\n",
       "      <td>77.088242</td>\n",
       "      <td>28.494757</td>\n",
       "      <td>American, Mexican</td>\n",
       "      <td>1000</td>\n",
       "      <td>Indian Rupees(Rs.)</td>\n",
       "      <td>Yes</td>\n",
       "      <td>Yes</td>\n",
       "      <td>No</td>\n",
       "      <td>3</td>\n",
       "      <td>3.3</td>\n",
       "      <td>Average</td>\n",
       "      <td>793</td>\n",
       "      <td>India</td>\n",
       "    </tr>\n",
       "    <tr>\n",
       "      <th>8269</th>\n",
       "      <td>18460286</td>\n",
       "      <td>RV's Family Restaurant</td>\n",
       "      <td>Noida</td>\n",
       "      <td>Sector 110, Noida</td>\n",
       "      <td>0.000000</td>\n",
       "      <td>0.000000</td>\n",
       "      <td>North Indian, South Indian, Italian, Chinese</td>\n",
       "      <td>500</td>\n",
       "      <td>Indian Rupees(Rs.)</td>\n",
       "      <td>No</td>\n",
       "      <td>No</td>\n",
       "      <td>No</td>\n",
       "      <td>2</td>\n",
       "      <td>0.0</td>\n",
       "      <td>Not rated</td>\n",
       "      <td>0</td>\n",
       "      <td>India</td>\n",
       "    </tr>\n",
       "    <tr>\n",
       "      <th>8241</th>\n",
       "      <td>8236</td>\n",
       "      <td>Mezbaan Jaika Restaurant</td>\n",
       "      <td>Noida</td>\n",
       "      <td>Sector 110, Noida</td>\n",
       "      <td>77.387170</td>\n",
       "      <td>28.533308</td>\n",
       "      <td>Biryani, North Indian, Fast Food</td>\n",
       "      <td>500</td>\n",
       "      <td>Indian Rupees(Rs.)</td>\n",
       "      <td>No</td>\n",
       "      <td>No</td>\n",
       "      <td>No</td>\n",
       "      <td>2</td>\n",
       "      <td>2.7</td>\n",
       "      <td>Average</td>\n",
       "      <td>18</td>\n",
       "      <td>India</td>\n",
       "    </tr>\n",
       "    <tr>\n",
       "      <th>5852</th>\n",
       "      <td>2775</td>\n",
       "      <td>Oh! Calcutta</td>\n",
       "      <td>New Delhi</td>\n",
       "      <td>Nehru Place, New Delhi</td>\n",
       "      <td>77.250618</td>\n",
       "      <td>28.550124</td>\n",
       "      <td>Bengali, Seafood</td>\n",
       "      <td>1400</td>\n",
       "      <td>Indian Rupees(Rs.)</td>\n",
       "      <td>Yes</td>\n",
       "      <td>Yes</td>\n",
       "      <td>No</td>\n",
       "      <td>3</td>\n",
       "      <td>4.4</td>\n",
       "      <td>Very Good</td>\n",
       "      <td>1293</td>\n",
       "      <td>India</td>\n",
       "    </tr>\n",
       "    <tr>\n",
       "      <th>9050</th>\n",
       "      <td>3212</td>\n",
       "      <td>Chicane</td>\n",
       "      <td>Noida</td>\n",
       "      <td>Spice World Mall, Sector 25, Noida</td>\n",
       "      <td>77.341021</td>\n",
       "      <td>28.585493</td>\n",
       "      <td>European, North Indian, Chinese</td>\n",
       "      <td>2500</td>\n",
       "      <td>Indian Rupees(Rs.)</td>\n",
       "      <td>Yes</td>\n",
       "      <td>No</td>\n",
       "      <td>No</td>\n",
       "      <td>4</td>\n",
       "      <td>2.2</td>\n",
       "      <td>Poor</td>\n",
       "      <td>116</td>\n",
       "      <td>India</td>\n",
       "    </tr>\n",
       "    <tr>\n",
       "      <th>8834</th>\n",
       "      <td>8092</td>\n",
       "      <td>Shivam Fast Food</td>\n",
       "      <td>Noida</td>\n",
       "      <td>Sector 59, Noida</td>\n",
       "      <td>77.362613</td>\n",
       "      <td>28.608844</td>\n",
       "      <td>North Indian, South Indian, Chinese</td>\n",
       "      <td>350</td>\n",
       "      <td>Indian Rupees(Rs.)</td>\n",
       "      <td>No</td>\n",
       "      <td>No</td>\n",
       "      <td>No</td>\n",
       "      <td>1</td>\n",
       "      <td>2.9</td>\n",
       "      <td>Average</td>\n",
       "      <td>12</td>\n",
       "      <td>India</td>\n",
       "    </tr>\n",
       "    <tr>\n",
       "      <th>8968</th>\n",
       "      <td>18416867</td>\n",
       "      <td>Shahenshah</td>\n",
       "      <td>Noida</td>\n",
       "      <td>Sector 72, Noida</td>\n",
       "      <td>77.383312</td>\n",
       "      <td>28.590594</td>\n",
       "      <td>North Indian, Mughlai, Chinese</td>\n",
       "      <td>500</td>\n",
       "      <td>Indian Rupees(Rs.)</td>\n",
       "      <td>No</td>\n",
       "      <td>No</td>\n",
       "      <td>No</td>\n",
       "      <td>2</td>\n",
       "      <td>3.0</td>\n",
       "      <td>Average</td>\n",
       "      <td>4</td>\n",
       "      <td>India</td>\n",
       "    </tr>\n",
       "  </tbody>\n",
       "</table>\n",
       "</div>"
      ],
      "text/plain": [
       "      Restaurant ID           Restaurant Name       City  \\\n",
       "6997       18237321       Echoes Satyaniketan  New Delhi   \n",
       "6187           9956                McDonald's  New Delhi   \n",
       "1893       18376925                    Twigly    Gurgaon   \n",
       "527        17678283                El Cazador   Valdosta   \n",
       "383        17580074                   Ichiban  Pensacola   \n",
       "7775           8530    Aggarwal Confectionary  New Delhi   \n",
       "3288         311962     Hookups Cafe & Lounge  New Delhi   \n",
       "3947         308257     Dzukou Tribal Kitchen  New Delhi   \n",
       "4977           9316       Bangla Sweet Corner  New Delhi   \n",
       "3422           5260           Cafe Coffee Day  New Delhi   \n",
       "2914         307218              Shyam Sweets  New Delhi   \n",
       "5067       18356797      Jain Sweets & Bakers  New Delhi   \n",
       "5047         305151              Traffic Jaam  New Delhi   \n",
       "1219         309252                 Fatburger    Gurgaon   \n",
       "8269       18460286    RV's Family Restaurant      Noida   \n",
       "8241           8236  Mezbaan Jaika Restaurant      Noida   \n",
       "5852           2775              Oh! Calcutta  New Delhi   \n",
       "9050           3212                   Chicane      Noida   \n",
       "8834           8092          Shivam Fast Food      Noida   \n",
       "8968       18416867                Shahenshah      Noida   \n",
       "\n",
       "                                    Locality Verbose  Longitude   Latitude  \\\n",
       "6997                         Satyaniketan, New Delhi  77.167164  28.587609   \n",
       "6187                        Paschim Vihar, New Delhi  77.092389  28.663645   \n",
       "1893                              Sector 31, Gurgaon  77.058763  28.434474   \n",
       "527                               Valdosta, Valdosta -83.280780  30.850888   \n",
       "383                             Pensacola, Pensacola -87.225200  30.476700   \n",
       "7775                   Vasundhara Enclave, New Delhi  77.317668  28.599715   \n",
       "3288           Delhi University-GTB Nagar, New Delhi  77.204542  28.697073   \n",
       "3947                            Hauz Khas, New Delhi  77.208163  28.550931   \n",
       "4977                         Lodhi Colony, New Delhi  77.220711  28.582058   \n",
       "3422  DLF City Centre Mall, Shalimar Bagh, New Delhi  77.158268  28.702936   \n",
       "2914                         Chawri Bazar, New Delhi  77.230311  28.650476   \n",
       "5067                           Mahipalpur, New Delhi  77.124741  28.546981   \n",
       "5047                           Mahipalpur, New Delhi  77.126719  28.546812   \n",
       "1219              Cyber Hub, DLF Cyber City, Gurgaon  77.088242  28.494757   \n",
       "8269                               Sector 110, Noida   0.000000   0.000000   \n",
       "8241                               Sector 110, Noida  77.387170  28.533308   \n",
       "5852                          Nehru Place, New Delhi  77.250618  28.550124   \n",
       "9050              Spice World Mall, Sector 25, Noida  77.341021  28.585493   \n",
       "8834                                Sector 59, Noida  77.362613  28.608844   \n",
       "8968                                Sector 72, Noida  77.383312  28.590594   \n",
       "\n",
       "                                               Cuisines  Average Cost for two  \\\n",
       "6997  Cafe, Continental, Italian, Mexican, Chinese, ...                   600   \n",
       "6187                                  Fast Food, Burger                   500   \n",
       "1893                      Asian, Continental, Fast Food                   500   \n",
       "527                                             Mexican                    10   \n",
       "383                                     Japanese, Sushi                    25   \n",
       "7775                                Street Food, Bakery                    50   \n",
       "3288                 Chinese, Continental, North Indian                   850   \n",
       "3947                                               Naga                  1300   \n",
       "4977         Chinese, North Indian, Mithai, Street Food                   400   \n",
       "3422                                               Cafe                   450   \n",
       "2914                                Mithai, Street Food                   150   \n",
       "5067                               North Indian, Mithai                   300   \n",
       "5047                              North Indian, Chinese                   550   \n",
       "1219                                  American, Mexican                  1000   \n",
       "8269       North Indian, South Indian, Italian, Chinese                   500   \n",
       "8241                   Biryani, North Indian, Fast Food                   500   \n",
       "5852                                   Bengali, Seafood                  1400   \n",
       "9050                    European, North Indian, Chinese                  2500   \n",
       "8834                North Indian, South Indian, Chinese                   350   \n",
       "8968                     North Indian, Mughlai, Chinese                   500   \n",
       "\n",
       "                Currency Has Table booking Has Online delivery  \\\n",
       "6997  Indian Rupees(Rs.)                No                  No   \n",
       "6187  Indian Rupees(Rs.)                No                 Yes   \n",
       "1893  Indian Rupees(Rs.)                No                 Yes   \n",
       "527            Dollar($)                No                  No   \n",
       "383            Dollar($)                No                  No   \n",
       "7775  Indian Rupees(Rs.)                No                  No   \n",
       "3288  Indian Rupees(Rs.)               Yes                  No   \n",
       "3947  Indian Rupees(Rs.)               Yes                 Yes   \n",
       "4977  Indian Rupees(Rs.)                No                  No   \n",
       "3422  Indian Rupees(Rs.)                No                  No   \n",
       "2914  Indian Rupees(Rs.)                No                  No   \n",
       "5067  Indian Rupees(Rs.)                No                  No   \n",
       "5047  Indian Rupees(Rs.)                No                  No   \n",
       "1219  Indian Rupees(Rs.)               Yes                 Yes   \n",
       "8269  Indian Rupees(Rs.)                No                  No   \n",
       "8241  Indian Rupees(Rs.)                No                  No   \n",
       "5852  Indian Rupees(Rs.)               Yes                 Yes   \n",
       "9050  Indian Rupees(Rs.)               Yes                  No   \n",
       "8834  Indian Rupees(Rs.)                No                  No   \n",
       "8968  Indian Rupees(Rs.)                No                  No   \n",
       "\n",
       "     Is delivering now  Price range  Aggregate rating Rating text  Votes  \\\n",
       "6997                No            2               4.7   Excellent   1563   \n",
       "6187                No            2               3.3     Average     94   \n",
       "1893                No            2               4.5   Excellent     76   \n",
       "527                 No            1               3.7        Good    168   \n",
       "383                 No            2               4.3   Very Good    765   \n",
       "7775                No            1               2.8     Average      7   \n",
       "3288                No            2               3.3     Average    113   \n",
       "3947                No            3               3.8        Good    145   \n",
       "4977                No            1               2.6     Average     32   \n",
       "3422                No            1               3.0     Average     29   \n",
       "2914                No            1               4.1   Very Good    200   \n",
       "5067                No            1               0.0   Not rated      1   \n",
       "5047                No            2               2.9     Average      5   \n",
       "1219                No            3               3.3     Average    793   \n",
       "8269                No            2               0.0   Not rated      0   \n",
       "8241                No            2               2.7     Average     18   \n",
       "5852                No            3               4.4   Very Good   1293   \n",
       "9050                No            4               2.2        Poor    116   \n",
       "8834                No            1               2.9     Average     12   \n",
       "8968                No            2               3.0     Average      4   \n",
       "\n",
       "            Country  \n",
       "6997          India  \n",
       "6187          India  \n",
       "1893          India  \n",
       "527   United States  \n",
       "383   United States  \n",
       "7775          India  \n",
       "3288          India  \n",
       "3947          India  \n",
       "4977          India  \n",
       "3422          India  \n",
       "2914          India  \n",
       "5067          India  \n",
       "5047          India  \n",
       "1219          India  \n",
       "8269          India  \n",
       "8241          India  \n",
       "5852          India  \n",
       "9050          India  \n",
       "8834          India  \n",
       "8968          India  "
      ]
     },
     "execution_count": 17,
     "metadata": {},
     "output_type": "execute_result"
    }
   ],
   "source": [
    "df.sample(20)"
   ]
  },
  {
   "cell_type": "code",
   "execution_count": 18,
   "id": "93714886",
   "metadata": {},
   "outputs": [
    {
     "data": {
      "text/plain": [
       "array(['Makati City', 'Mandaluyong City', 'Pasay City', 'Pasig City',\n",
       "       'Quezon City', 'San Juan City', 'Santa Rosa', 'Tagaytay City',\n",
       "       'Taguig City', 'Brasí_lia', 'Rio de Janeiro', 'Sí£o Paulo',\n",
       "       'Albany', 'Armidale', 'Athens', 'Augusta', 'Balingup',\n",
       "       'Beechworth', 'Boise', 'Cedar Rapids/Iowa City', 'Chatham-Kent',\n",
       "       'Clatskanie', 'Cochrane', 'Columbus', 'Consort', 'Dalton',\n",
       "       'Davenport', 'Des Moines', 'Dicky Beach', 'Dubuque',\n",
       "       'East Ballina', 'Fernley', 'Flaxton', 'Forrest', 'Gainesville',\n",
       "       'Hepburn Springs', 'Huskisson', 'Inverloch', 'Lakes Entrance',\n",
       "       'Lakeview', 'Lincoln', 'Lorn', 'Macedon', 'Macon', 'Mayfield',\n",
       "       'Mc Millan', 'Middleton Beach', 'Miller', 'Monroe', 'Montville',\n",
       "       'Ojo Caliente', 'Orlando', 'Palm Cove', 'Paynesville', 'Penola',\n",
       "       'Pensacola', 'Phillip Island', 'Pocatello', 'Potrero', 'Princeton',\n",
       "       'Rest of Hawaii', 'Savannah', 'Singapore', 'Sioux City',\n",
       "       'Tampa Bay', 'Tanunda', 'Trentham East', 'Valdosta', 'Vernonia',\n",
       "       'Victor Harbor', 'Vineland Station', 'Waterloo', 'Weirton',\n",
       "       'Winchester Bay', 'Yorkton', 'Abu Dhabi', 'Dubai', 'Sharjah',\n",
       "       'Agra', 'Ahmedabad', 'Allahabad', 'Amritsar', 'Aurangabad',\n",
       "       'Bangalore', 'Bhopal', 'Bhubaneshwar', 'Chandigarh', 'Chennai',\n",
       "       'Coimbatore', 'Dehradun', 'Faridabad', 'Ghaziabad', 'Goa',\n",
       "       'Gurgaon', 'Guwahati', 'Hyderabad', 'Indore', 'Jaipur', 'Kanpur',\n",
       "       'Kochi', 'Kolkata', 'Lucknow', 'Ludhiana', 'Mangalore', 'Mohali',\n",
       "       'Mumbai', 'Mysore', 'Nagpur', 'Nashik', 'New Delhi', 'Noida',\n",
       "       'Panchkula', 'Patna', 'Puducherry', 'Pune', 'Ranchi',\n",
       "       'Secunderabad', 'Surat', 'Vadodara', 'Varanasi', 'Vizag',\n",
       "       'Bandung', 'Bogor', 'Jakarta', 'Tangerang', 'Auckland',\n",
       "       'Wellington City', 'Birmingham', 'Edinburgh', 'London',\n",
       "       'Manchester', 'Doha', 'Cape Town', 'Inner City', 'Johannesburg',\n",
       "       'Pretoria', 'Randburg', 'Sandton', 'Colombo', 'Ankara',\n",
       "       'ÛÁstanbul'], dtype=object)"
      ]
     },
     "execution_count": 18,
     "metadata": {},
     "output_type": "execute_result"
    }
   ],
   "source": [
    "df['City'].unique()"
   ]
  },
  {
   "cell_type": "code",
   "execution_count": 19,
   "id": "6c09e857",
   "metadata": {},
   "outputs": [
    {
     "data": {
      "image/png": "[encoded data removed]",
      "text/plain": [
       "<Figure size 432x288 with 1 Axes>"
      ]
     },
     "metadata": {
      "needs_background": "light"
     },
     "output_type": "display_data"
    }
   ],
   "source": [
    "# which country has the highest number of restaurents\n",
    "\n",
    "sns.countplot(y='Country', data=df);"
   ]
  },
  {
   "cell_type": "code",
   "execution_count": 20,
   "id": "b1e2657a",
   "metadata": {},
   "outputs": [
    {
     "data": {
      "image/png": "[encoded data removed]",
      "text/plain": [
       "<Figure size 432x288 with 1 Axes>"
      ]
     },
     "metadata": {
      "needs_background": "light"
     },
     "output_type": "display_data"
    }
   ],
   "source": [
    "noind=df.loc[df['Country'] != 'India'] \n",
    "sns.countplot(y='Country', data=noind);"
   ]
  },
  {
   "cell_type": "code",
   "execution_count": 21,
   "id": "5573b3d1",
   "metadata": {},
   "outputs": [
    {
     "data": {
      "image/png": "[encoded data removed]",
      "text/plain": [
       "<Figure size 360x360 with 1 Axes>"
      ]
     },
     "metadata": {
      "needs_background": "light"
     },
     "output_type": "display_data"
    }
   ],
   "source": [
    "inind=df.loc[df['Country'] == 'India']\n",
    "sns.displot(y='City', data=inind)\n",
    "plt.show()"
   ]
  },
  {
   "cell_type": "code",
   "execution_count": null,
   "id": "0d69f38d",
   "metadata": {},
   "outputs": [],
   "source": []
  },
  {
   "cell_type": "code",
   "execution_count": null,
   "id": "1cab6cfd",
   "metadata": {},
   "outputs": [],
   "source": []
  },
  {
   "cell_type": "code",
   "execution_count": 22,
   "id": "ccfcd382",
   "metadata": {},
   "outputs": [
    {
     "data": {
      "text/plain": [
       "Cuisines\n",
       "North Indian                                             936\n",
       "North Indian, Chinese                                    511\n",
       "Chinese                                                  354\n",
       "Fast Food                                                354\n",
       "North Indian, Mughlai                                    334\n",
       "                                                        ... \n",
       "Continental, Italian, North Indian, Lebanese, Thai         1\n",
       "Continental, Italian, North Indian, Lebanese               1\n",
       "Continental, Italian, North Indian, Chinese, Lebanese      1\n",
       "Continental, Italian, North Indian, Chinese                1\n",
       "World Cuisine, Patisserie, Cafe                            1\n",
       "Length: 1825, dtype: int64"
      ]
     },
     "execution_count": 22,
     "metadata": {},
     "output_type": "execute_result"
    }
   ],
   "source": [
    "df.value_counts('Cuisines')"
   ]
  },
  {
   "cell_type": "code",
   "execution_count": 23,
   "id": "ead6f834",
   "metadata": {},
   "outputs": [
    {
     "data": {
      "text/plain": [
       "Rating text\n",
       "Average      3737\n",
       "Not rated    2148\n",
       "Good         2100\n",
       "Very Good    1079\n",
       "Excellent     301\n",
       "Poor          186\n",
       "dtype: int64"
      ]
     },
     "execution_count": 23,
     "metadata": {},
     "output_type": "execute_result"
    }
   ],
   "source": [
    "df.value_counts('Rating text')"
   ]
  },
  {
   "cell_type": "code",
   "execution_count": 24,
   "id": "b62b9738",
   "metadata": {
    "scrolled": true
   },
   "outputs": [
    {
     "data": {
      "image/png": "[encoded data removed]",
      "text/plain": [
       "<Figure size 432x288 with 1 Axes>"
      ]
     },
     "metadata": {},
     "output_type": "display_data"
    }
   ],
   "source": [
    "df.value_counts('Has Table booking').plot(kind='pie', autopct='%1.2f%%');\n",
    "plt.title('How many Restaurants have Table booking')\n",
    "plt.show()"
   ]
  },
  {
   "cell_type": "code",
   "execution_count": 25,
   "id": "bdeb73ec",
   "metadata": {},
   "outputs": [
    {
     "data": {
      "image/png": "[encoded data removed]",
      "text/plain": [
       "<Figure size 432x288 with 1 Axes>"
      ]
     },
     "metadata": {},
     "output_type": "display_data"
    }
   ],
   "source": [
    "df.value_counts('Has Online delivery').plot(kind='pie', autopct='%1.2f%%');\n",
    "plt.title('How many Restaurants have Online Delivery')\n",
    "plt.show()"
   ]
  },
  {
   "cell_type": "code",
   "execution_count": 28,
   "id": "9ee49fc8",
   "metadata": {},
   "outputs": [
    {
     "data": {
      "text/plain": [
       "<AxesSubplot:xlabel='Price range', ylabel='count'>"
      ]
     },
     "execution_count": 28,
     "metadata": {},
     "output_type": "execute_result"
    },
    {
     "data": {
      "image/png": "[encoded data removed]",
      "text/plain": [
       "<Figure size 432x288 with 1 Axes>"
      ]
     },
     "metadata": {
      "needs_background": "light"
     },
     "output_type": "display_data"
    }
   ],
   "source": [
    "sns.countplot(x='Price range',data=df)"
   ]
  },
  {
   "cell_type": "code",
   "execution_count": null,
   "id": "c328b169",
   "metadata": {},
   "outputs": [],
   "source": []
  }
 ],
 "metadata": {
  "kernelspec": {
   "display_name": "Python 3 (ipykernel)",
   "language": "python",
   "name": "python3"
  },
  "language_info": {
   "codemirror_mode": {
    "name": "ipython",
    "version": 3
   },
   "file_extension": ".py",
   "mimetype": "text/x-python",
   "name": "python",
   "nbconvert_exporter": "python",
   "pygments_lexer": "ipython3",
   "version": "3.9.12"
  }
 },
 "nbformat": 4,
 "nbformat_minor": 5
}

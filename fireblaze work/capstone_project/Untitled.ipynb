{
 "cells": [
  {
   "cell_type": "code",
   "execution_count": 6,
   "id": "7b22dfd1",
   "metadata": {},
   "outputs": [],
   "source": [
    "import numpy as np\n",
    "import pandas as pd\n",
    "import pandas_datareader.data as pdr\n",
    "from sklearn import preprocessing\n",
    "from sklearn import metrics\n",
    "from sklearn.model_selection import train_test_split\n",
    "from sklearn.linear_model import LinearRegression\n",
    "import matplotlib.pyplot as plt\n",
    "from datetime import datetime as dt"
   ]
  },
  {
   "cell_type": "code",
   "execution_count": 7,
   "id": "22a37f8b",
   "metadata": {},
   "outputs": [],
   "source": [
    "start=dt(2021, 1, 1)"
   ]
  },
  {
   "cell_type": "code",
   "execution_count": 8,
   "id": "0d692587",
   "metadata": {},
   "outputs": [],
   "source": [
    "end=dt(2021, 12, 1)"
   ]
  },
  {
   "cell_type": "code",
   "execution_count": 9,
   "id": "7c330b21",
   "metadata": {},
   "outputs": [],
   "source": [
    "df=pdr.DataReader(name='TITAN.NS', data_source='yahoo', start=start, end=end)"
   ]
  },
  {
   "cell_type": "code",
   "execution_count": 10,
   "id": "a0e27b11",
   "metadata": {},
   "outputs": [],
   "source": [
    "data = df\n",
    "X = data[['High','Low','Open','Volume']].values\n",
    "y = data['Close'].values"
   ]
  },
  {
   "cell_type": "code",
   "execution_count": 11,
   "id": "4312e63f",
   "metadata": {},
   "outputs": [],
   "source": [
    "# split\n",
    "X_train, X_test, y_train, y_test = train_test_split(X,y, test_size=0.3, random_state=1)"
   ]
  },
  {
   "cell_type": "code",
   "execution_count": 12,
   "id": "775944b9",
   "metadata": {},
   "outputs": [],
   "source": [
    "regressor = LinearRegression()"
   ]
  },
  {
   "cell_type": "code",
   "execution_count": 13,
   "id": "5e40792e",
   "metadata": {},
   "outputs": [
    {
     "data": {
      "text/plain": [
       "LinearRegression()"
      ]
     },
     "execution_count": 13,
     "metadata": {},
     "output_type": "execute_result"
    }
   ],
   "source": [
    "regressor.fit(X_train, y_train)"
   ]
  },
  {
   "cell_type": "code",
   "execution_count": 14,
   "id": "1fee05a9",
   "metadata": {},
   "outputs": [
    {
     "name": "stdout",
     "output_type": "stream",
     "text": [
      "[ 8.21519783e-01  7.91958572e-01 -6.13656966e-01 -6.68112842e-07]\n"
     ]
    }
   ],
   "source": [
    "print(regressor.coef_)"
   ]
  },
  {
   "cell_type": "code",
   "execution_count": 15,
   "id": "7e1ba253",
   "metadata": {},
   "outputs": [
    {
     "name": "stdout",
     "output_type": "stream",
     "text": [
      "-1.427402664700594\n"
     ]
    }
   ],
   "source": [
    "print(regressor.intercept_)"
   ]
  },
  {
   "cell_type": "code",
   "execution_count": 16,
   "id": "58c18fdb",
   "metadata": {},
   "outputs": [],
   "source": [
    "predicted = regressor.predict(X_test)"
   ]
  },
  {
   "cell_type": "code",
   "execution_count": 17,
   "id": "93ae736c",
   "metadata": {},
   "outputs": [
    {
     "name": "stdout",
     "output_type": "stream",
     "text": [
      "[1412.93764669 2014.27768323 1535.48509523 1520.63358289 2499.6932191\n",
      " 2153.72656269 1436.05805491 1738.60490925 1706.62238972 1447.05149593\n",
      " 1538.68925264 1805.11117965 2379.21886086 1563.77260008 1597.50510952\n",
      " 1726.87513049 1474.27845272 1717.12000593 1514.93775643 1733.69816619\n",
      " 1963.96857401 1422.78189484 1911.41887996 2043.8102311  1482.7903956\n",
      " 1827.57475133 2349.80533657 2390.89999245 1441.93911735 1872.27257525\n",
      " 1812.92442724 1703.66821732 1730.09887284 1431.29784427 1447.73249724\n",
      " 1541.23055681 1438.61299776 1476.94603394 1405.7153162  1492.73252118\n",
      " 1496.61123183 1563.80745674 2389.35727552 1865.67274925 2422.71188155\n",
      " 1456.99510873 1533.66865963 1487.82008063 2031.83062393 1751.25301374\n",
      " 1481.80636027 1497.76065845 2142.35212239 1470.96280947 1502.50501385\n",
      " 2095.21135168 1543.49954139 2277.49902696 1451.18485046 2125.68407916\n",
      " 1526.90042134 2383.48091318 1860.0225664  1779.69754946 2049.65608678\n",
      " 1833.67528824 2453.02476222 1444.77516055]\n"
     ]
    }
   ],
   "source": [
    "print(predicted)"
   ]
  },
  {
   "cell_type": "code",
   "execution_count": 30,
   "id": "daa46028",
   "metadata": {},
   "outputs": [],
   "source": [
    "df3=pd.DataFrame(y_test,predicted)"
   ]
  },
  {
   "cell_type": "code",
   "execution_count": 31,
   "id": "1b120de6",
   "metadata": {},
   "outputs": [
    {
     "data": {
      "text/html": [
       "<div>\n",
       "<style scoped>\n",
       "    .dataframe tbody tr th:only-of-type {\n",
       "        vertical-align: middle;\n",
       "    }\n",
       "\n",
       "    .dataframe tbody tr th {\n",
       "        vertical-align: top;\n",
       "    }\n",
       "\n",
       "    .dataframe thead th {\n",
       "        text-align: right;\n",
       "    }\n",
       "</style>\n",
       "<table border=\"1\" class=\"dataframe\">\n",
       "  <thead>\n",
       "    <tr style=\"text-align: right;\">\n",
       "      <th></th>\n",
       "      <th>0</th>\n",
       "    </tr>\n",
       "  </thead>\n",
       "  <tbody>\n",
       "    <tr>\n",
       "      <th>1412.937647</th>\n",
       "      <td>1406.900024</td>\n",
       "    </tr>\n",
       "    <tr>\n",
       "      <th>2014.277683</th>\n",
       "      <td>2020.650024</td>\n",
       "    </tr>\n",
       "    <tr>\n",
       "      <th>1535.485095</th>\n",
       "      <td>1538.349976</td>\n",
       "    </tr>\n",
       "    <tr>\n",
       "      <th>1520.633583</th>\n",
       "      <td>1535.000000</td>\n",
       "    </tr>\n",
       "    <tr>\n",
       "      <th>2499.693219</th>\n",
       "      <td>2484.899902</td>\n",
       "    </tr>\n",
       "  </tbody>\n",
       "</table>\n",
       "</div>"
      ],
      "text/plain": [
       "                       0\n",
       "1412.937647  1406.900024\n",
       "2014.277683  2020.650024\n",
       "1535.485095  1538.349976\n",
       "1520.633583  1535.000000\n",
       "2499.693219  2484.899902"
      ]
     },
     "execution_count": 31,
     "metadata": {},
     "output_type": "execute_result"
    }
   ],
   "source": [
    "df3.head()"
   ]
  },
  {
   "cell_type": "code",
   "execution_count": null,
   "id": "0798416a",
   "metadata": {},
   "outputs": [],
   "source": []
  }
 ],
 "metadata": {
  "kernelspec": {
   "display_name": "Python 3 (ipykernel)",
   "language": "python",
   "name": "python3"
  },
  "language_info": {
   "codemirror_mode": {
    "name": "ipython",
    "version": 3
   },
   "file_extension": ".py",
   "mimetype": "text/x-python",
   "name": "python",
   "nbconvert_exporter": "python",
   "pygments_lexer": "ipython3",
   "version": "3.9.12"
  }
 },
 "nbformat": 4,
 "nbformat_minor": 5
}

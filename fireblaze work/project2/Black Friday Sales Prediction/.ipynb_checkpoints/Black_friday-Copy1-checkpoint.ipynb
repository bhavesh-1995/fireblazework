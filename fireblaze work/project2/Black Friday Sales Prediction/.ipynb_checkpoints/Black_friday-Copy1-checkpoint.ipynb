{
 "cells": [
  {
   "cell_type": "markdown",
   "id": "8815b503",
   "metadata": {},
   "source": [
    "# Import Modules"
   ]
  },
  {
   "cell_type": "code",
   "execution_count": null,
   "id": "001be745",
   "metadata": {},
   "outputs": [],
   "source": [
    "import numpy as np\n",
    "import pandas as pd\n",
    "import seaborn as sns\n",
    "import matplotlib.pyplot as plt\n",
    "import warnings\n",
    "%matplotlib inline\n",
    "warnings.filterwarnings('ignore')"
   ]
  },
  {
   "cell_type": "code",
   "execution_count": null,
   "id": "a7071f55",
   "metadata": {},
   "outputs": [],
   "source": [
    "df = pd.read_csv('Black Friday Sales.csv')"
   ]
  },
  {
   "cell_type": "code",
   "execution_count": null,
   "id": "adf7f7a4",
   "metadata": {},
   "outputs": [],
   "source": [
    "# Descripotive analysis"
   ]
  },
  {
   "cell_type": "code",
   "execution_count": null,
   "id": "ddf04400",
   "metadata": {},
   "outputs": [],
   "source": [
    "df.head()"
   ]
  },
  {
   "cell_type": "code",
   "execution_count": null,
   "id": "43588bca",
   "metadata": {},
   "outputs": [],
   "source": [
    "# Datatype info\n",
    "df.info()"
   ]
  },
  {
   "cell_type": "code",
   "execution_count": null,
   "id": "2d81dca8",
   "metadata": {},
   "outputs": [],
   "source": [
    "# statistical info\n",
    "df.describe()"
   ]
  },
  {
   "cell_type": "code",
   "execution_count": null,
   "id": "72b2d9d1",
   "metadata": {},
   "outputs": [],
   "source": [
    "# Unique values\n",
    "df.apply(lambda x: len(x.unique()))"
   ]
  },
  {
   "cell_type": "code",
   "execution_count": null,
   "id": "6c35ef3b",
   "metadata": {},
   "outputs": [],
   "source": [
    "# Null values\n",
    "df.isnull().sum()"
   ]
  },
  {
   "cell_type": "markdown",
   "id": "5e05f39d",
   "metadata": {},
   "source": [
    "# Exploratory Data Ananalysis"
   ]
  },
  {
   "cell_type": "code",
   "execution_count": null,
   "id": "93a91c27",
   "metadata": {},
   "outputs": [],
   "source": [
    "plt.figure(figsize=(10,6))\n",
    "sns.distplot(df['Purchase'] ,bins=25);"
   ]
  },
  {
   "cell_type": "code",
   "execution_count": null,
   "id": "fbbc3df0",
   "metadata": {},
   "outputs": [],
   "source": [
    "sns.boxplot(df['Purchase']);"
   ]
  },
  {
   "cell_type": "code",
   "execution_count": null,
   "id": "6cf3a2a1",
   "metadata": {},
   "outputs": [],
   "source": [
    "# We can see outliers in Purchase column"
   ]
  },
  {
   "cell_type": "code",
   "execution_count": null,
   "id": "437b2c6a",
   "metadata": {},
   "outputs": [],
   "source": [
    "# dist of numeric variablres\n",
    "sns.countplot(df.Gender);"
   ]
  },
  {
   "cell_type": "code",
   "execution_count": null,
   "id": "97252d7b",
   "metadata": {},
   "outputs": [],
   "source": [
    "sns.countplot(df.Age);"
   ]
  },
  {
   "cell_type": "code",
   "execution_count": null,
   "id": "d0b16576",
   "metadata": {},
   "outputs": [],
   "source": [
    "sns.countplot(df.Marital_Status);"
   ]
  },
  {
   "cell_type": "code",
   "execution_count": null,
   "id": "d15c2148",
   "metadata": {},
   "outputs": [],
   "source": [
    "plt.figure(figsize=(10,6))\n",
    "sns.countplot(df.Occupation);"
   ]
  },
  {
   "cell_type": "code",
   "execution_count": null,
   "id": "7175dc12",
   "metadata": {},
   "outputs": [],
   "source": [
    "plt.figure(figsize=(10,6))\n",
    "sns.countplot(df.Product_Category_1);"
   ]
  },
  {
   "cell_type": "code",
   "execution_count": null,
   "id": "90f62851",
   "metadata": {},
   "outputs": [],
   "source": [
    "plt.figure(figsize=(10,6))\n",
    "sns.countplot(df.Product_Category_2);"
   ]
  },
  {
   "cell_type": "code",
   "execution_count": null,
   "id": "f5ef2487",
   "metadata": {},
   "outputs": [],
   "source": [
    "plt.figure(figsize=(10,6))\n",
    "sns.countplot(df.Product_Category_3);"
   ]
  },
  {
   "cell_type": "code",
   "execution_count": null,
   "id": "e85d4734",
   "metadata": {},
   "outputs": [],
   "source": [
    "plt.figure(figsize=(10,6))\n",
    "sns.countplot(df.City_Category);"
   ]
  },
  {
   "cell_type": "code",
   "execution_count": null,
   "id": "f6a78dcf",
   "metadata": {},
   "outputs": [],
   "source": [
    "plt.figure(figsize=(10,6))\n",
    "sns.countplot(df.Stay_In_Current_City_Years);"
   ]
  },
  {
   "cell_type": "code",
   "execution_count": null,
   "id": "dcfc4cbc",
   "metadata": {},
   "outputs": [],
   "source": [
    "# Bivariate analysis\n",
    "occupation_plot = df.pivot_table(index='Occupation', values='Purchase', aggfunc=np.mean)\n",
    "occupation_plot.plot(kind='bar', figsize=(10, 6))\n",
    "plt.xlabel('Occupation')\n",
    "plt.ylabel(\"Purchase\")\n",
    "plt.title(\"Occupation and Purchase Analysis\")\n",
    "plt.xticks(rotation=0)\n",
    "plt.show()"
   ]
  },
  {
   "cell_type": "code",
   "execution_count": null,
   "id": "1149b8cd",
   "metadata": {},
   "outputs": [],
   "source": [
    "age_plot = df.pivot_table(index='Age', values='Purchase', aggfunc=np.mean)\n",
    "age_plot.plot(kind='bar', figsize=(13, 7))\n",
    "plt.xlabel('Age')\n",
    "plt.ylabel(\"Purchase\")\n",
    "plt.title(\"Age and Purchase Analysis\")\n",
    "plt.xticks(rotation=0)\n",
    "plt.show()"
   ]
  },
  {
   "cell_type": "code",
   "execution_count": null,
   "id": "77468c4d",
   "metadata": {},
   "outputs": [],
   "source": [
    "gender_plot = df.pivot_table(index='Gender', values='Purchase', aggfunc=np.mean)\n",
    "gender_plot.plot(kind='bar', figsize=(13, 7))\n",
    "plt.xlabel('Gender')\n",
    "plt.ylabel(\"Purchase\")\n",
    "plt.title(\"Gender and Purchase Analysis\")\n",
    "plt.xticks(rotation=0)\n",
    "plt.show()"
   ]
  },
  {
   "cell_type": "code",
   "execution_count": null,
   "id": "2f45f166",
   "metadata": {},
   "outputs": [],
   "source": [
    "df.head()"
   ]
  },
  {
   "cell_type": "markdown",
   "id": "976da222",
   "metadata": {},
   "source": [
    "# Preprocessing the Dataset"
   ]
  },
  {
   "cell_type": "code",
   "execution_count": null,
   "id": "92604f49",
   "metadata": {
    "scrolled": true
   },
   "outputs": [],
   "source": [
    "df.isnull().sum()"
   ]
  },
  {
   "cell_type": "code",
   "execution_count": null,
   "id": "b140b95e",
   "metadata": {},
   "outputs": [],
   "source": [
    "df.unique().sum()"
   ]
  },
  {
   "cell_type": "code",
   "execution_count": null,
   "id": "fd890407",
   "metadata": {},
   "outputs": [],
   "source": [
    "# Remove outliers using IQR technique"
   ]
  },
  {
   "cell_type": "code",
   "execution_count": null,
   "id": "7878d02e",
   "metadata": {},
   "outputs": [],
   "source": [
    "cols = ['Purchase'] \n",
    "\n",
    "Q1 = df[cols].quantile(0.25)\n",
    "Q3 = df[cols].quantile(0.75)\n",
    "IQR = Q3 - Q1\n",
    "\n",
    "df = df[~((df[cols] < (Q1 - 1.5 * IQR)) |(df[cols] > (Q3 + 1.5 * IQR))).any(axis=1)]"
   ]
  },
  {
   "cell_type": "code",
   "execution_count": null,
   "id": "a14fa850",
   "metadata": {},
   "outputs": [],
   "source": []
  },
  {
   "cell_type": "code",
   "execution_count": null,
   "id": "38895ee4",
   "metadata": {},
   "outputs": [],
   "source": []
  },
  {
   "cell_type": "code",
   "execution_count": null,
   "id": "9412bea0",
   "metadata": {},
   "outputs": [],
   "source": [
    "sns.boxplot(df['Purchase']);"
   ]
  },
  {
   "cell_type": "code",
   "execution_count": null,
   "id": "57c87140",
   "metadata": {},
   "outputs": [],
   "source": [
    "# Droping columns"
   ]
  },
  {
   "cell_type": "code",
   "execution_count": null,
   "id": "d12c578e",
   "metadata": {},
   "outputs": [],
   "source": [
    "df['Product_Category_2'] = df['Product_Category_2'].fillna((df['Product_Category_2']).mean()).astype(\"int32\")\n",
    "df.drop(['Product_Category_3'], axis=1, inplace=True)"
   ]
  },
  {
   "cell_type": "markdown",
   "id": "8dfae003",
   "metadata": {},
   "source": [
    "# Corealtion Matrix"
   ]
  },
  {
   "cell_type": "code",
   "execution_count": null,
   "id": "19d50ea5",
   "metadata": {},
   "outputs": [],
   "source": [
    "corr = df.corr()\n",
    "plt.figure(figsize=(13,6))\n",
    "sns.heatmap(corr, annot=True);"
   ]
  },
  {
   "cell_type": "code",
   "execution_count": null,
   "id": "2b991add",
   "metadata": {},
   "outputs": [],
   "source": [
    "# df_Gender = pd.get_dummies(train['Gender'])\n",
    "# df_Age = pd.get_dummies(train['Age'])\n",
    "# df_City_Category = pd.get_dummies(train['City_Category'])\n",
    "# df_Stay_In_Current_City_Years = pd.get_dummies(train['Stay_In_Current_City_Years'])\n",
    "\n",
    "# data_final= pd.concat([train, df_Gender, df_Age, df_City_Category, df_Stay_In_Current_City_Years], axis=1)\n",
    "\n",
    "# data_final.head()"
   ]
  },
  {
   "cell_type": "code",
   "execution_count": null,
   "id": "9737306b",
   "metadata": {},
   "outputs": [],
   "source": [
    "from sklearn.preprocessing import LabelEncoder\n",
    "LE= LabelEncoder()"
   ]
  },
  {
   "cell_type": "code",
   "execution_count": null,
   "id": "83a1e3e7",
   "metadata": {},
   "outputs": [],
   "source": [
    "# df['Gender'] = LE.fit_transform(df['Gender'])\n",
    "# df['Age'] = LE.fit_transform(df['Age'])\n",
    "# df['City_Category'] = LE.fit_transform(df['City_Category'])\n",
    "# df['Stay_In_Current_City_Years'] = LE.fit_transform(df['Stay_In_Current_City_Years'])"
   ]
  },
  {
   "cell_type": "code",
   "execution_count": null,
   "id": "ee5cf41d",
   "metadata": {},
   "outputs": [],
   "source": [
    "df= pd.get_dummies(df, columns = ['Gender', 'Age','City_Category','Stay_In_Current_City_Years','Occupation'])"
   ]
  },
  {
   "cell_type": "code",
   "execution_count": null,
   "id": "4a4e8f84",
   "metadata": {},
   "outputs": [],
   "source": [
    "df.head()"
   ]
  },
  {
   "cell_type": "markdown",
   "id": "c9fb09a1",
   "metadata": {},
   "source": [
    "# Input Split"
   ]
  },
  {
   "cell_type": "code",
   "execution_count": null,
   "id": "92ace89b",
   "metadata": {},
   "outputs": [],
   "source": [
    "df.head()"
   ]
  },
  {
   "cell_type": "code",
   "execution_count": null,
   "id": "0c92f7bf",
   "metadata": {},
   "outputs": [],
   "source": [
    "X = df.drop(columns=['User_ID', 'Product_ID', 'Purchase'])\n",
    "y = df['Purchase']\n",
    "X.info()"
   ]
  },
  {
   "cell_type": "code",
   "execution_count": null,
   "id": "6093754a",
   "metadata": {},
   "outputs": [],
   "source": [
    "X.head()"
   ]
  },
  {
   "cell_type": "code",
   "execution_count": null,
   "id": "ff3e7346",
   "metadata": {},
   "outputs": [],
   "source": [
    "from sklearn.model_selection import train_test_split\n",
    "\n",
    "X_train,X_test,y_train,y_test=train_test_split(X,y,test_size=0.30,random_state=42)"
   ]
  },
  {
   "cell_type": "code",
   "execution_count": null,
   "id": "7ba8d5e8",
   "metadata": {},
   "outputs": [],
   "source": [
    "print(X.shape)\n",
    "print(y.shape)\n",
    "print(X_train.shape)\n",
    "print(y_train.shape)\n",
    "print(X_test.shape)\n",
    "print(y_test.shape)"
   ]
  },
  {
   "cell_type": "code",
   "execution_count": null,
   "id": "89a291ae",
   "metadata": {},
   "outputs": [],
   "source": [
    "from sklearn.preprocessing import StandardScaler\n",
    "ss = StandardScaler()\n",
    "X_train = ss.fit_transform(X_train)\n",
    "X_test = ss.transform(X_test)"
   ]
  },
  {
   "cell_type": "code",
   "execution_count": null,
   "id": "f9f14e0d",
   "metadata": {},
   "outputs": [],
   "source": [
    "print(X.shape)\n",
    "print(y.shape)\n",
    "print(X_train.shape)\n",
    "print(y_train.shape)\n",
    "print(X_test.shape)\n",
    "print(y_test.shape)"
   ]
  },
  {
   "cell_type": "code",
   "execution_count": null,
   "id": "15726fff",
   "metadata": {},
   "outputs": [],
   "source": [
    "# Training Model selection "
   ]
  },
  {
   "cell_type": "code",
   "execution_count": null,
   "id": "d140fbe4",
   "metadata": {},
   "outputs": [],
   "source": [
    "from sklearn.linear_model import LinearRegression\n",
    "LR=LinearRegression()"
   ]
  },
  {
   "cell_type": "code",
   "execution_count": null,
   "id": "879544d0",
   "metadata": {},
   "outputs": [],
   "source": [
    "LR.fit(X_train,y_train)"
   ]
  },
  {
   "cell_type": "code",
   "execution_count": null,
   "id": "a43a2ecd",
   "metadata": {},
   "outputs": [],
   "source": [
    "y_pred=LR.predict(X_test)"
   ]
  },
  {
   "cell_type": "code",
   "execution_count": null,
   "id": "7b3342ca",
   "metadata": {},
   "outputs": [],
   "source": [
    "y_pred"
   ]
  },
  {
   "cell_type": "code",
   "execution_count": null,
   "id": "da0340b0",
   "metadata": {
    "scrolled": true
   },
   "outputs": [],
   "source": [
    "print(\"training score =\", LR.score(X_train, y_train))\n",
    "print(\"Testing score =\", LR.score(X_test, y_test))"
   ]
  },
  {
   "cell_type": "code",
   "execution_count": null,
   "id": "57edf05f",
   "metadata": {},
   "outputs": [],
   "source": [
    "from sklearn.metrics import mean_absolute_error,mean_squared_error"
   ]
  },
  {
   "cell_type": "code",
   "execution_count": null,
   "id": "1e27d880",
   "metadata": {},
   "outputs": [],
   "source": [
    "mae = mean_absolute_error(y_true=y_test,y_pred=y_pred)\n",
    "#squared True returns MSE value, False returns RMSE value.\n",
    "mse = mean_squared_error(y_true=y_test,y_pred=y_pred) #default=True\n",
    "rmse = mean_squared_error(y_true=y_test,y_pred=y_pred,squared=False)\n",
    "  \n",
    "print(\"MAE:\",mae)\n",
    "print(\"MSE:\",mse)\n",
    "print(\"RMSE:\",rmse)"
   ]
  },
  {
   "cell_type": "code",
   "execution_count": null,
   "id": "e0a0fd6e",
   "metadata": {},
   "outputs": [],
   "source": [
    "from sklearn.ensemble import RandomForestRegressor\n",
    "rf=RandomForestRegressor()"
   ]
  },
  {
   "cell_type": "code",
   "execution_count": null,
   "id": "726701c3",
   "metadata": {},
   "outputs": [],
   "source": [
    "rf.fit(X_train,y_train)"
   ]
  },
  {
   "cell_type": "code",
   "execution_count": null,
   "id": "a90fe4a5",
   "metadata": {},
   "outputs": [],
   "source": [
    "print(\"training score =\", rf.score(X_train, y_train))\n",
    "print(\"Testing score =\", rf.score(X_test, y_test))"
   ]
  },
  {
   "cell_type": "code",
   "execution_count": null,
   "id": "a7aa3b3b",
   "metadata": {},
   "outputs": [],
   "source": []
  },
  {
   "cell_type": "code",
   "execution_count": null,
   "id": "d8832930",
   "metadata": {},
   "outputs": [],
   "source": []
  },
  {
   "cell_type": "code",
   "execution_count": null,
   "id": "a9d378a5",
   "metadata": {},
   "outputs": [],
   "source": []
  },
  {
   "cell_type": "code",
   "execution_count": null,
   "id": "dd832bd0",
   "metadata": {},
   "outputs": [],
   "source": []
  },
  {
   "cell_type": "code",
   "execution_count": null,
   "id": "ec7f7308",
   "metadata": {},
   "outputs": [],
   "source": []
  },
  {
   "cell_type": "code",
   "execution_count": null,
   "id": "ff6ccdfa",
   "metadata": {},
   "outputs": [],
   "source": []
  },
  {
   "cell_type": "code",
   "execution_count": null,
   "id": "075a6abd",
   "metadata": {},
   "outputs": [],
   "source": []
  },
  {
   "cell_type": "code",
   "execution_count": null,
   "id": "b4d43755",
   "metadata": {},
   "outputs": [],
   "source": []
  },
  {
   "cell_type": "code",
   "execution_count": null,
   "id": "cba72c5e",
   "metadata": {},
   "outputs": [],
   "source": []
  },
  {
   "cell_type": "code",
   "execution_count": null,
   "id": "34ca74e2",
   "metadata": {},
   "outputs": [],
   "source": [
    "from sklearn.metrics import r2_score\n",
    "r2_score(y_test,y_pred)"
   ]
  },
  {
   "cell_type": "code",
   "execution_count": null,
   "id": "b6f18b51",
   "metadata": {},
   "outputs": [],
   "source": [
    "from sklearn.metrics import mean_squared_error\n",
    "from sklearn.model_selection import cross_val_score"
   ]
  },
  {
   "cell_type": "code",
   "execution_count": null,
   "id": "2b6e0e7f",
   "metadata": {},
   "outputs": [],
   "source": [
    "# score the model on the train set\n",
    "print('Train score:',LR.score(X_train,y_train))\n",
    "\n",
    "# score the model on the test set\n",
    "print('Test score:',LR.score(X_test,y_test))\n",
    "\n",
    "# calculate the overall accuracy of the model\n",
    "print('Overall model accuracy:',r2_score(y_test,y_pred))\n",
    "\n",
    "# compute the mean squared error of the model\n",
    "print('Mean Squared Error:',mean_squared_error(y_test,y_pred))"
   ]
  },
  {
   "cell_type": "code",
   "execution_count": null,
   "id": "5d3cafcd",
   "metadata": {},
   "outputs": [],
   "source": []
  }
 ],
 "metadata": {
  "kernelspec": {
   "display_name": "Python 3 (ipykernel)",
   "language": "python",
   "name": "python3"
  },
  "language_info": {
   "codemirror_mode": {
    "name": "ipython",
    "version": 3
   },
   "file_extension": ".py",
   "mimetype": "text/x-python",
   "name": "python",
   "nbconvert_exporter": "python",
   "pygments_lexer": "ipython3",
   "version": "3.9.12"
  }
 },
 "nbformat": 4,
 "nbformat_minor": 5
}

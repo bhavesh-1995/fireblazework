{
 "cells": [
  {
   "cell_type": "markdown",
   "id": "20c245fb",
   "metadata": {},
   "source": [
    "<img src=\"fireblaze.jpg\" width=250 height=150 />\n"
   ]
  },
  {
   "cell_type": "markdown",
   "id": "122fa4de",
   "metadata": {},
   "source": [
    "## <p style=\"font-family: Arial; font-size:1.4em;color:red; style='background :yellow'\"> Assignment</p>\n"
   ]
  },
  {
   "cell_type": "markdown",
   "id": "51f774a4",
   "metadata": {},
   "source": [
    "<span style='color:Red'> **About The Dataset(StudentsPerformance)** </span>"
   ]
  },
  {
   "cell_type": "markdown",
   "id": "7ccb25c5",
   "metadata": {},
   "source": [
    "This data set consists of the marks secured by the students in various subjects.\n",
    "\n",
    "* **gender:** female,male\n",
    "\n",
    "* **race/ethnicity:** group C,group D\n",
    "\n",
    "* **parental level of education:** some college, associate's degree\n",
    "\n",
    "* **lunch:** standard, free/reduced\n",
    "\n",
    "* **test preparation course:** none, completed\n",
    "\n",
    "* **math score:** subject marks\n",
    "\n",
    "* **reading score:** How much time spend on reading\n",
    "\n",
    "* **writing score:** Writing speed "
   ]
  },
  {
   "cell_type": "markdown",
   "id": "02ef79d9",
   "metadata": {},
   "source": [
    "## Import required library."
   ]
  },
  {
   "cell_type": "code",
   "execution_count": 3,
   "id": "75975247",
   "metadata": {},
   "outputs": [],
   "source": [
    "# Write code and Observation here."
   ]
  },
  {
   "cell_type": "markdown",
   "id": "2d63850d",
   "metadata": {},
   "source": [
    "### <span style='color:Blue'> **Questions - 1.Read the students performance dataset.** </span>"
   ]
  },
  {
   "cell_type": "code",
   "execution_count": 4,
   "id": "b1cb56df",
   "metadata": {},
   "outputs": [],
   "source": [
    "# Write code and Observation here."
   ]
  },
  {
   "cell_type": "markdown",
   "id": "e2b547f3",
   "metadata": {},
   "source": [
    "### <span style='color:Blue'> **Question - 2. Show some random sample record from dataset** </span>"
   ]
  },
  {
   "cell_type": "code",
   "execution_count": null,
   "id": "620f45d3",
   "metadata": {},
   "outputs": [],
   "source": [
    "# Write code and Observation here."
   ]
  },
  {
   "cell_type": "markdown",
   "id": "d1fa8fe4",
   "metadata": {},
   "source": [
    "### <span style='color:Blue'> **Question - 3. Display some upper part sample records from dataset   .** </span>"
   ]
  },
  {
   "cell_type": "code",
   "execution_count": null,
   "id": "e148b748",
   "metadata": {},
   "outputs": [],
   "source": [
    "# Write code and Observation here."
   ]
  },
  {
   "cell_type": "markdown",
   "id": "0c6cd1af",
   "metadata": {},
   "source": [
    "### <span style='color:Blue'> **Question - 4. Display some lower part records from dataset.** </span>"
   ]
  },
  {
   "cell_type": "code",
   "execution_count": null,
   "id": "ca82f8ec",
   "metadata": {},
   "outputs": [],
   "source": [
    "# Write code and Observation here."
   ]
  },
  {
   "cell_type": "markdown",
   "id": "0fae5a72",
   "metadata": {},
   "source": [
    "### <span style='color:Blue'> **Question - 5. Show the statistical summary.** </span>"
   ]
  },
  {
   "cell_type": "code",
   "execution_count": null,
   "id": "a2c2cef7",
   "metadata": {},
   "outputs": [],
   "source": [
    "# Write code and Observation here."
   ]
  },
  {
   "cell_type": "markdown",
   "id": "0fc2f8f0",
   "metadata": {},
   "source": [
    "### <span style='color:Blue'> **Question - 6. Check out the missing values.** </span>"
   ]
  },
  {
   "cell_type": "code",
   "execution_count": 3,
   "id": "c412d0dc",
   "metadata": {},
   "outputs": [],
   "source": [
    "# Write code and Observation here."
   ]
  },
  {
   "cell_type": "markdown",
   "id": "e366d70e",
   "metadata": {},
   "source": [
    "### <span style='color:Blue'> **Question - 7. How many male and female in give dataset and count in percentage format.** </span>\n",
    "\n",
    "NOTE:- Answer in visualization."
   ]
  },
  {
   "cell_type": "code",
   "execution_count": 5,
   "id": "f361ca95",
   "metadata": {},
   "outputs": [],
   "source": [
    "# Write code and Observation here.\n"
   ]
  },
  {
   "cell_type": "markdown",
   "id": "9d4be653",
   "metadata": {},
   "source": [
    "### <span style='color:Blue'> **Question - 8. Which lunch is common?** </span>\n",
    "\n",
    "NOTE:- Do not be use count method. Observation can be done by visualization."
   ]
  },
  {
   "cell_type": "code",
   "execution_count": 6,
   "id": "cccf0022",
   "metadata": {},
   "outputs": [],
   "source": [
    "# Write code and Observation here."
   ]
  },
  {
   "cell_type": "markdown",
   "id": "ff960bf6",
   "metadata": {},
   "source": [
    "### <span style='color:Blue'> **Question- 9: What is the effect of gender and education level on math score?** </span>"
   ]
  },
  {
   "cell_type": "code",
   "execution_count": 7,
   "id": "0ad7a309",
   "metadata": {},
   "outputs": [],
   "source": [
    "# Write code and Observation here."
   ]
  },
  {
   "cell_type": "markdown",
   "id": "a05d4957",
   "metadata": {},
   "source": [
    "### <span style='color:Blue'> **Question - 10. What is the effect of gender and preparation course on math score?** </span>"
   ]
  },
  {
   "cell_type": "code",
   "execution_count": 7,
   "id": "eed1cb72",
   "metadata": {},
   "outputs": [],
   "source": [
    "# Write code and Observation here."
   ]
  },
  {
   "cell_type": "markdown",
   "id": "3e2bea4e",
   "metadata": {},
   "source": [
    "### <span style='color:Blue'> **Question - 11. Which group is the most successful based on math score?** </span>"
   ]
  },
  {
   "cell_type": "markdown",
   "id": "cddbf8c7",
   "metadata": {},
   "source": [
    "NOTE:- However, explain why particular group is most sucessful?. "
   ]
  },
  {
   "cell_type": "code",
   "execution_count": 8,
   "id": "322d8fc8",
   "metadata": {
    "scrolled": false
   },
   "outputs": [],
   "source": [
    "# Write code and Observation here."
   ]
  },
  {
   "cell_type": "markdown",
   "id": "7fca0b15",
   "metadata": {},
   "source": [
    "### <span style='color:Blue'> **Question - 12. Which group is much more successful than other students on \"reading score\".?** </span>"
   ]
  },
  {
   "cell_type": "code",
   "execution_count": 10,
   "id": "dbee153d",
   "metadata": {},
   "outputs": [],
   "source": [
    "# Write code and Observation here."
   ]
  },
  {
   "cell_type": "markdown",
   "id": "0e2184ad",
   "metadata": {},
   "source": [
    "### <span style='color:Blue'> **Question - 13. Show the frequency of each and every score.** </span>"
   ]
  },
  {
   "cell_type": "code",
   "execution_count": 11,
   "id": "5fb2df5c",
   "metadata": {},
   "outputs": [],
   "source": [
    "# Write code and Observation here."
   ]
  },
  {
   "cell_type": "markdown",
   "id": "2194df70",
   "metadata": {},
   "source": [
    "### <span style='color:Blue'> **Question - 14. Show point estimation of race/ethnicity based on reading score** </span>"
   ]
  },
  {
   "cell_type": "code",
   "execution_count": 12,
   "id": "6b5c8f01",
   "metadata": {},
   "outputs": [],
   "source": [
    "# Write code and Observation here."
   ]
  },
  {
   "cell_type": "markdown",
   "id": "a3cb90cf",
   "metadata": {},
   "source": [
    "### <span style='color:Blue'> **Question - 15. Show point estimation of race/ethnicity based on math score with parental level of education** </span>"
   ]
  },
  {
   "cell_type": "code",
   "execution_count": 13,
   "id": "c9c4c05b",
   "metadata": {},
   "outputs": [],
   "source": [
    "# Write code and Observation here."
   ]
  },
  {
   "cell_type": "markdown",
   "id": "9c8cda9e",
   "metadata": {},
   "source": [
    "### <span style='color:Blue'> **Question - 16. Show the relationship of math score based reading score.** </span>"
   ]
  },
  {
   "cell_type": "code",
   "execution_count": 14,
   "id": "65d3d80c",
   "metadata": {},
   "outputs": [],
   "source": [
    "# Write code and Observation here."
   ]
  },
  {
   "cell_type": "markdown",
   "id": "e8b723c8",
   "metadata": {},
   "source": [
    "### <span style='color:Blue'> **Question - 17. Show the relationship between writing score based on reading score with respect to gender** </span>"
   ]
  },
  {
   "cell_type": "code",
   "execution_count": 15,
   "id": "c082e33f",
   "metadata": {},
   "outputs": [],
   "source": [
    "# Write code and Observation here."
   ]
  },
  {
   "cell_type": "markdown",
   "id": "2773e497",
   "metadata": {},
   "source": [
    "### <span style='color:Blue'> **Question - 18. Show the relationship between writing score based on math score with respect to parental level of education.** </span>"
   ]
  },
  {
   "cell_type": "code",
   "execution_count": 16,
   "id": "13d408be",
   "metadata": {},
   "outputs": [],
   "source": [
    "# Write code and Observation here."
   ]
  },
  {
   "cell_type": "markdown",
   "id": "10a35527",
   "metadata": {},
   "source": [
    "### <span style='color:Blue'> **Question - 19. Is there an increased math score while students are continuously reading.** </span>"
   ]
  },
  {
   "cell_type": "code",
   "execution_count": 17,
   "id": "19633aa9",
   "metadata": {},
   "outputs": [],
   "source": [
    "# Write code and Observation here."
   ]
  },
  {
   "cell_type": "markdown",
   "id": "0cb112df",
   "metadata": {},
   "source": [
    "### <span style='color:Blue'> **Question - 20. Which gender is continuously practicing the example and they help to increase the math score?** </span>"
   ]
  },
  {
   "cell_type": "code",
   "execution_count": 18,
   "id": "a2d46bd8",
   "metadata": {},
   "outputs": [],
   "source": [
    "# Write code and Observation here."
   ]
  },
  {
   "cell_type": "markdown",
   "id": "5302866e",
   "metadata": {},
   "source": [
    "### <span style='color:Blue'> **Question - 21. In math some of the examples differ from one another, can we plot them and explain them?** </span>"
   ]
  },
  {
   "cell_type": "code",
   "execution_count": 19,
   "id": "e064869e",
   "metadata": {},
   "outputs": [],
   "source": [
    "# Write code and Observation here."
   ]
  },
  {
   "cell_type": "markdown",
   "id": "cc9f8f25",
   "metadata": {},
   "source": [
    "### <span style='color:Blue'> **Question - 22. In which group examples are more spread out with respect to math?** </span>"
   ]
  },
  {
   "cell_type": "code",
   "execution_count": 20,
   "id": "21970baa",
   "metadata": {},
   "outputs": [],
   "source": [
    "# Write code and Observation here."
   ]
  },
  {
   "cell_type": "markdown",
   "id": "1a0ef917",
   "metadata": {},
   "source": [
    "### <span style='color:Blue'> **Question - 23. If outliers in mathematics can we show them on which quartile have an outlier example?** </span>"
   ]
  },
  {
   "cell_type": "code",
   "execution_count": 21,
   "id": "8135dce6",
   "metadata": {},
   "outputs": [],
   "source": [
    "# Write code and Observation here."
   ]
  },
  {
   "cell_type": "markdown",
   "id": "ad27be4b",
   "metadata": {},
   "source": [
    "### <span style='color:Blue'> **Question - 24. Show the correlation between each and every feature.** </span>"
   ]
  },
  {
   "cell_type": "code",
   "execution_count": 22,
   "id": "9f7ee4dc",
   "metadata": {},
   "outputs": [],
   "source": [
    "# Write code and Observation here."
   ]
  },
  {
   "cell_type": "markdown",
   "id": "e52f6a53",
   "metadata": {},
   "source": [
    "### <span style='color:Blue'> **Question - 25. Is there any relationship between math and reading score? If yes? show the answer and explain it.** </span>"
   ]
  },
  {
   "cell_type": "code",
   "execution_count": 23,
   "id": "39ae0e86",
   "metadata": {},
   "outputs": [],
   "source": [
    "# Write code and Observation here."
   ]
  },
  {
   "cell_type": "markdown",
   "id": "4aeb220c",
   "metadata": {},
   "source": [
    "# End"
   ]
  },
  {
   "cell_type": "code",
   "execution_count": null,
   "id": "590a1dc8",
   "metadata": {},
   "outputs": [],
   "source": []
  }
 ],
 "metadata": {
  "kernelspec": {
   "display_name": "Python 3 (ipykernel)",
   "language": "python",
   "name": "python3"
  },
  "language_info": {
   "codemirror_mode": {
    "name": "ipython",
    "version": 3
   },
   "file_extension": ".py",
   "mimetype": "text/x-python",
   "name": "python",
   "nbconvert_exporter": "python",
   "pygments_lexer": "ipython3",
   "version": "3.9.12"
  }
 },
 "nbformat": 4,
 "nbformat_minor": 5
}

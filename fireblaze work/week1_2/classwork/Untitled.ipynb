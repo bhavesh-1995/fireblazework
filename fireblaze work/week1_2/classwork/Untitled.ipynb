{
 "cells": [
  {
   "cell_type": "markdown",
   "id": "c9ab857e",
   "metadata": {},
   "source": [
    "# PANDAS "
   ]
  },
  {
   "cell_type": "raw",
   "id": "01363f0e",
   "metadata": {},
   "source": [
    "1. Series \n",
    "2. DataFrame"
   ]
  },
  {
   "cell_type": "raw",
   "id": "c404207f",
   "metadata": {},
   "source": [
    "Pannel Data = Pandas"
   ]
  },
  {
   "cell_type": "markdown",
   "id": "862d74f2",
   "metadata": {},
   "source": [
    "# Series"
   ]
  },
  {
   "cell_type": "code",
   "execution_count": 3,
   "id": "e5fbfe56",
   "metadata": {},
   "outputs": [],
   "source": [
    "import numpy as np\n",
    "import pandas as pd"
   ]
  },
  {
   "cell_type": "code",
   "execution_count": null,
   "id": "c8f9fe79",
   "metadata": {},
   "outputs": [],
   "source": []
  }
 ],
 "metadata": {
  "kernelspec": {
   "display_name": "Python 3 (ipykernel)",
   "language": "python",
   "name": "python3"
  },
  "language_info": {
   "codemirror_mode": {
    "name": "ipython",
    "version": 3
   },
   "file_extension": ".py",
   "mimetype": "text/x-python",
   "name": "python",
   "nbconvert_exporter": "python",
   "pygments_lexer": "ipython3",
   "version": "3.9.12"
  }
 },
 "nbformat": 4,
 "nbformat_minor": 5
}

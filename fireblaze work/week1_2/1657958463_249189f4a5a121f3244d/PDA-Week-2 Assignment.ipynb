{
 "cells": [
  {
   "cell_type": "markdown",
   "metadata": {},
   "source": [
    "<img src=\"fireblaze.jpg\" width=250 height=150 />\n"
   ]
  },
  {
   "cell_type": "markdown",
   "metadata": {},
   "source": [
    "## Table of Content\n",
    "\n",
    "1. **[Numpy Array](#Array)**\n",
    "2. **[Numpy Function](#Function)**\n",
    "3. **[Pandas Series & DataFrame](#Pandas)**\n",
    "4. **[Datetime Module](#Datetime)**"
   ]
  },
  {
   "cell_type": "markdown",
   "metadata": {},
   "source": [
    "# <p style=\"font-family: Arial; font-size:1.4em;color:red; style='background :yellow'\"> Assignment</p>\n"
   ]
  },
  {
   "cell_type": "markdown",
   "metadata": {},
   "source": [
    "<a id=\"Array\"></a>\n",
    "## Numpy Array"
   ]
  },
  {
   "cell_type": "markdown",
   "metadata": {},
   "source": [
    "### <span style='color:Blue'> **Question - 1. Write a program to create an Array:** </span>\n",
    "1. Create 10 X 10 array of numbers starting from 0.01 to 1.0.\n",
    "2. Create a boolean array\n",
    "3. Create an array of values between 0 to 1 with 20 equal spacings.\n",
    "4. Create a 5 x 5 matrics of values between 0 to 26"
   ]
  },
  {
   "cell_type": "code",
   "execution_count": 1,
   "metadata": {},
   "outputs": [],
   "source": [
    "# Importing useful Libraries\n",
    "import numpy as np"
   ]
  },
  {
   "cell_type": "code",
   "execution_count": 2,
   "metadata": {},
   "outputs": [
    {
     "data": {
      "text/plain": [
       "array([[0.01, 0.02, 0.03, 0.04, 0.05, 0.06, 0.07, 0.08, 0.09, 0.1 ],\n",
       "       [0.11, 0.12, 0.13, 0.14, 0.15, 0.16, 0.17, 0.18, 0.19, 0.2 ],\n",
       "       [0.21, 0.22, 0.23, 0.24, 0.25, 0.26, 0.27, 0.28, 0.29, 0.3 ],\n",
       "       [0.31, 0.32, 0.33, 0.34, 0.35, 0.36, 0.37, 0.38, 0.39, 0.4 ],\n",
       "       [0.41, 0.42, 0.43, 0.44, 0.45, 0.46, 0.47, 0.48, 0.49, 0.5 ],\n",
       "       [0.51, 0.52, 0.53, 0.54, 0.55, 0.56, 0.57, 0.58, 0.59, 0.6 ],\n",
       "       [0.61, 0.62, 0.63, 0.64, 0.65, 0.66, 0.67, 0.68, 0.69, 0.7 ],\n",
       "       [0.71, 0.72, 0.73, 0.74, 0.75, 0.76, 0.77, 0.78, 0.79, 0.8 ],\n",
       "       [0.81, 0.82, 0.83, 0.84, 0.85, 0.86, 0.87, 0.88, 0.89, 0.9 ],\n",
       "       [0.91, 0.92, 0.93, 0.94, 0.95, 0.96, 0.97, 0.98, 0.99, 1.  ]])"
      ]
     },
     "execution_count": 2,
     "metadata": {},
     "output_type": "execute_result"
    }
   ],
   "source": [
    "# Answer 1.1) 10 X 10 array of numbers starting from 0.01 to 1.0.\n",
    "\n",
    "\n",
    "arr=np.arange(0.01,1.01,0.01).reshape(10,10)\n",
    "arr"
   ]
  },
  {
   "cell_type": "code",
   "execution_count": 3,
   "metadata": {},
   "outputs": [
    {
     "name": "stdout",
     "output_type": "stream",
     "text": [
      "[[ True  True  True  True  True]\n",
      " [ True  True  True  True  True]]\n"
     ]
    }
   ],
   "source": [
    "# Answer 1.2) a boolean array\n",
    "\n",
    "\n",
    "arr1=np.ones((2,5),dtype=bool)\n",
    "# arr0=np.zeros((2,5),dtype=bool)\n",
    "print(arr1)\n",
    "# print(arr0)"
   ]
  },
  {
   "cell_type": "code",
   "execution_count": 4,
   "metadata": {},
   "outputs": [
    {
     "data": {
      "text/plain": [
       "array([0.  , 0.05, 0.1 , 0.15, 0.2 , 0.25, 0.3 , 0.35, 0.4 , 0.45, 0.5 ,\n",
       "       0.55, 0.6 , 0.65, 0.7 , 0.75, 0.8 , 0.85, 0.9 , 0.95, 1.  ])"
      ]
     },
     "execution_count": 4,
     "metadata": {},
     "output_type": "execute_result"
    }
   ],
   "source": [
    "# Answer 1.3) An array of values between 0 to 1 with 20 equal spacings.\n",
    "\n",
    "arr2=np.linspace(0,1,21)\n",
    "arr2"
   ]
  },
  {
   "cell_type": "code",
   "execution_count": 5,
   "metadata": {},
   "outputs": [
    {
     "name": "stdout",
     "output_type": "stream",
     "text": [
      "[[ 1  2  3  4  5]\n",
      " [ 6  7  8  9 10]\n",
      " [11 12 13 14 15]\n",
      " [16 17 18 19 20]\n",
      " [21 22 23 24 25]]\n"
     ]
    }
   ],
   "source": [
    "# Answer 1.4) a 5 x 5 matrics of values between 0 to 26\n",
    "\n",
    "\n",
    "arr3=np.arange(1,26).reshape(5,5)\n",
    "print(arr3)"
   ]
  },
  {
   "cell_type": "markdown",
   "metadata": {},
   "source": [
    "### <span style='color:Blue'> **Question - 2. Identify real and imaginary numbers from the given array.** </span>\n",
    "\n",
    "* x = np.sqrt([1+0j])\n",
    "* y = np.sqrt([0+1j])"
   ]
  },
  {
   "cell_type": "code",
   "execution_count": 6,
   "metadata": {},
   "outputs": [],
   "source": [
    "#write observation and code here"
   ]
  },
  {
   "cell_type": "markdown",
   "metadata": {},
   "source": [
    "### <span style='color:Blue'> **Question - 3. How can change the shape without changing the data in an array?** </span>\n",
    "\n",
    "NOTE:- \n",
    "•Take array as x = np.array([1, 2, 3, 4, 5, 6]).reshape(3,2)\n",
    "•Convert x in 2x3 from 3x2 shape\n"
   ]
  },
  {
   "cell_type": "code",
   "execution_count": 7,
   "metadata": {},
   "outputs": [
    {
     "name": "stdout",
     "output_type": "stream",
     "text": [
      "[[1 2 3]\n",
      " [4 5 6]]\n"
     ]
    }
   ],
   "source": [
    "x = np.array([1, 2, 3, 4, 5, 6]).reshape(2,3)\n",
    "print(x)"
   ]
  },
  {
   "cell_type": "markdown",
   "metadata": {},
   "source": [
    "### <span style='color:Blue'> **Question - 4. Write a progarm to create a 5 x 5 Array. and then exchage data of 1st column with 3rd column without changing the data in an array?** </span>"
   ]
  },
  {
   "cell_type": "code",
   "execution_count": 8,
   "metadata": {},
   "outputs": [],
   "source": [
    "#write observation and code here"
   ]
  },
  {
   "cell_type": "markdown",
   "metadata": {},
   "source": [
    "### <span style='color:Blue'> **Question - 5. Perform Arithmatic operation on given array?** </span>"
   ]
  },
  {
   "cell_type": "raw",
   "metadata": {},
   "source": [
    "Given array:\n",
    "    arr1=np.array([15,47,89,65,41])\n",
    "    arr2=np.array([86,72,48,68,91])"
   ]
  },
  {
   "cell_type": "code",
   "execution_count": 9,
   "metadata": {},
   "outputs": [],
   "source": [
    "#write observation and code here"
   ]
  },
  {
   "cell_type": "markdown",
   "metadata": {},
   "source": [
    "<a id=\"Function\"></a>\n",
    "## Numpy Function"
   ]
  },
  {
   "cell_type": "markdown",
   "metadata": {},
   "source": [
    "### <span style='color:Blue'> **Question - 6. Calculate:** </span>\n",
    "1. std\n",
    "2. mean\n",
    "3. median\n",
    "4. std\n",
    "5. sqrt\n",
    "6. cbrt\n",
    "7. sum\n",
    "**Note :** Use given array"
   ]
  },
  {
   "cell_type": "raw",
   "metadata": {},
   "source": [
    "Given Array :-[75,96,84,72,81]"
   ]
  },
  {
   "cell_type": "code",
   "execution_count": 10,
   "metadata": {},
   "outputs": [],
   "source": [
    "#write observation and code here"
   ]
  },
  {
   "cell_type": "markdown",
   "metadata": {},
   "source": [
    "### <span style='color:Blue'> **Question - 7. Create two 2D numpy array and concat it** </span>"
   ]
  },
  {
   "cell_type": "code",
   "execution_count": 11,
   "metadata": {},
   "outputs": [],
   "source": [
    "#write observation and code here"
   ]
  },
  {
   "cell_type": "markdown",
   "metadata": {},
   "source": [
    "### <span style='color:Blue'> **Question - 8.Create two 2D array and stack it column wise** </span>"
   ]
  },
  {
   "cell_type": "code",
   "execution_count": 12,
   "metadata": {},
   "outputs": [],
   "source": [
    "#write observation and code here"
   ]
  },
  {
   "cell_type": "markdown",
   "metadata": {},
   "source": [
    "### <span style='color:Blue'> **Question - 9. How to extract items that satisfy a given condition from 1D array?** </span>"
   ]
  },
  {
   "cell_type": "raw",
   "metadata": {},
   "source": [
    "Input:- [0, 1, 2, 3, 4, 5, 6, 7, 8, 9]\n",
    "    \n",
    "Desired Output:- [1, 3, 5, 7, 9]"
   ]
  },
  {
   "cell_type": "code",
   "execution_count": 13,
   "metadata": {},
   "outputs": [],
   "source": [
    "#write observation and code here"
   ]
  },
  {
   "cell_type": "markdown",
   "metadata": {},
   "source": [
    "### <span style='color:Blue'> **Question - 10. From the given array access the elements that match the desired output?** </span>"
   ]
  },
  {
   "cell_type": "raw",
   "metadata": {},
   "source": [
    "Given Array:\n",
    "    [[10,25,47,89,68],\n",
    "    [45,85,74,96,87],\n",
    "    [75,37,96,58,74],\n",
    "    [42,41,53,62,51]]\n",
    "Desired Output:- [47,74,96,53]"
   ]
  },
  {
   "cell_type": "markdown",
   "metadata": {},
   "source": [
    "<a id=\"Pandas\"></a>\n",
    "## Pandas Series & DataFrame"
   ]
  },
  {
   "cell_type": "markdown",
   "metadata": {},
   "source": [
    "### <span style='color:Blue'> **Question - 11.Create a Dataframe with columns name ID','Name','City','Sub1_mark','sub2_mark' after creating Dataframe add New column ('Total Mark') to a DataFrame where use sum of 'Sub1_mark' & 'Sub2_mark' as the element** </span>\n"
   ]
  },
  {
   "cell_type": "code",
   "execution_count": 14,
   "metadata": {},
   "outputs": [],
   "source": [
    "#write observation and code here"
   ]
  },
  {
   "cell_type": "markdown",
   "metadata": {},
   "source": [
    "### <span style='color:Blue'> **Question - 12. Write a progam to create a Series of 10 random numbers between 25 to 50, with index as A,B,C ... J.** </span>"
   ]
  },
  {
   "cell_type": "code",
   "execution_count": 15,
   "metadata": {},
   "outputs": [],
   "source": [
    "#write observation and code here"
   ]
  },
  {
   "cell_type": "markdown",
   "metadata": {},
   "source": [
    "### <span style='color:Blue'> **Question - 13. Write a program to create a DataFrame of consisting of 2 columns which column 1 of values 10 values between 25 to 50 and Column 2 of have 10 alphabets starting from A,B,C...J.** </span>"
   ]
  },
  {
   "cell_type": "markdown",
   "metadata": {},
   "source": [
    "**NOTE** Columns name is col1 and col2"
   ]
  },
  {
   "cell_type": "code",
   "execution_count": 16,
   "metadata": {},
   "outputs": [],
   "source": [
    "#write observation and code here"
   ]
  },
  {
   "cell_type": "markdown",
   "metadata": {},
   "source": [
    "### <span style='color:Blue'> **Question - 14. Write a program to create a Series of 35 numbers between 1 to 10 in a series and then convert it into a table format of 7 rows and 5 columns and display** </span>"
   ]
  },
  {
   "cell_type": "code",
   "execution_count": 17,
   "metadata": {},
   "outputs": [],
   "source": [
    "#write observation and code here"
   ]
  },
  {
   "cell_type": "markdown",
   "metadata": {},
   "source": [
    "### <span style='color:Blue'> **Question - 15. Create a Dataframe using the following data and solve the tasks** </span>\n",
    "\n",
    "* **'age' :**     [ 10, 22, 13, 21, 12, 11, 17],\n",
    "* **'section' :** [ 'A', 'B', 'C', 'B', 'B', 'A', 'A'],\n",
    "* **'city' :**    [ 'Gurgaon', 'Delhi', 'Mumbai', 'Delhi', 'Mumbai', 'Delhi', 'Mumbai'],\n",
    "* **'gender' :**  [ 'M', 'F', 'F', 'M', 'M', 'M', 'F'],\n",
    "* **'favourite_color' :** [ 'red', np.NAN, 'yellow', np.NAN, 'black', 'green', 'red']"
   ]
  },
  {
   "cell_type": "markdown",
   "metadata": {},
   "source": [
    "* **Task**\n",
    "\n",
    "Problem 1:- How many examples whose age is greater than equal to 15?\n",
    "\n",
    "Problem 2:- How many males whose age greater than equal to 12.\n",
    "    \n",
    "Problem 3:- Print top five example of section and gender.\n",
    "    \n",
    "Problem 4:- Print 0 and 2 number of example of section and gender."
   ]
  },
  {
   "cell_type": "code",
   "execution_count": 18,
   "metadata": {},
   "outputs": [],
   "source": [
    "#write observation and code here"
   ]
  },
  {
   "cell_type": "markdown",
   "metadata": {},
   "source": [
    "### <span style='color:Blue'> **Question - 16. Create a DataFrame with Hierarchy index.** </span>"
   ]
  },
  {
   "cell_type": "code",
   "execution_count": 19,
   "metadata": {},
   "outputs": [],
   "source": [
    "#write observation and code here"
   ]
  },
  {
   "cell_type": "markdown",
   "metadata": {},
   "source": [
    "### <span style='color:Blue'> **Question - 17. Create a DataFrame with random numbers and take a sum of two column i.e. W and Y, those output save in new column.** </span>"
   ]
  },
  {
   "cell_type": "code",
   "execution_count": 20,
   "metadata": {},
   "outputs": [],
   "source": [
    "#write observation and code here"
   ]
  },
  {
   "cell_type": "markdown",
   "metadata": {},
   "source": [
    " ### <span style='color:Blue'> **Question - 18. Using above dataframe add new column i.e. column name is States with values CA, NY, WY, OR, CO and set that column as an index.** </span>"
   ]
  },
  {
   "cell_type": "code",
   "execution_count": 21,
   "metadata": {},
   "outputs": [],
   "source": [
    "#write observation and code here"
   ]
  },
  {
   "cell_type": "markdown",
   "metadata": {},
   "source": [
    "### <span style='color:Blue'> **Question - 19.Combine the following dataframe using concatenate.** </span>"
   ]
  },
  {
   "cell_type": "raw",
   "metadata": {},
   "source": [
    "'A': ['1', '2', '3', '4'],\n",
    "'B': ['10', '11', '12', '13'],\n",
    "'C': ['30', '31', '32', '33'],\n",
    "'D': ['30', '31', '32', '33']"
   ]
  },
  {
   "cell_type": "raw",
   "metadata": {},
   "source": [
    "'A': ['a', 'b', 'c', 'd'],\n",
    "'B': ['a1', 'a2', 'a3', 'a4'],\n",
    "'C': ['c1', 'c2', 'c3', 'c4'],\n",
    "'D': ['d1', 'd2', 'd3', 'd4']"
   ]
  },
  {
   "cell_type": "code",
   "execution_count": 22,
   "metadata": {},
   "outputs": [],
   "source": [
    "#write observation and code here"
   ]
  },
  {
   "cell_type": "markdown",
   "metadata": {},
   "source": [
    "### <span style='color:Blue'> **Question - 20.After concatenate upper two DataFrame, Check any duplicate row present in the DataFrame.If any duplicate row present then drop it .** </span>"
   ]
  },
  {
   "cell_type": "code",
   "execution_count": 23,
   "metadata": {},
   "outputs": [],
   "source": [
    "### write observation and code here"
   ]
  },
  {
   "cell_type": "markdown",
   "metadata": {},
   "source": [
    "### <span style='color:Blue'> **Question - 21.Merge below two DataFrame by 'section column in the right DataFrame.** </span>\n",
    "**Note:** Perform operation:\n",
    "- Inner\n",
    "- Outer\n",
    "- Left\n",
    "- Right\n"
   ]
  },
  {
   "cell_type": "markdown",
   "metadata": {},
   "source": [
    "Right DataFrame\n",
    "* **'age' :**     [ 10, 22, 13, 21, 12, 11, 17],\n",
    "* **'section' :** [ 'A', 'B', 'C', 'B', 'B', 'A', 'A'],\n",
    "* **'city' :**    [ 'Gurgaon', 'Delhi', 'Mumbai', 'Delhi', 'Mumbai', 'Delhi', 'Mumbai'],\n",
    "* **'gender' :**  [ 'M', 'F', 'F', 'M', 'M', 'M', 'F'],\n",
    "* **'favourite_color' :** [ 'red', np.NAN, 'yellow', np.NAN, 'black', 'green', 'red']"
   ]
  },
  {
   "cell_type": "markdown",
   "metadata": {},
   "source": [
    "Left DataFrame\n",
    "* **'age' :**     [ 10, 22, 13, 21, 12, 11, 17],\n",
    "* **'section' :** [ 'B', 'B', 'A', 'B', 'C', 'A', 'C'],\n",
    "* **'city' :**    [ 'Gurgaon', 'Delhi', 'Mumbai', 'Delhi', 'Mumbai', 'Delhi', 'Mumbai'],\n",
    "* **'gender' :**  [ 'M', 'F', 'F', 'M', 'M', 'M', 'F'],\n",
    "* **'favourite_color' :** [ 'red', np.NAN, 'yellow', np.NAN, 'black', 'green', 'red']"
   ]
  },
  {
   "cell_type": "code",
   "execution_count": 24,
   "metadata": {},
   "outputs": [],
   "source": [
    "#write observation and code here"
   ]
  },
  {
   "cell_type": "markdown",
   "metadata": {},
   "source": [
    "### <span style='color:Blue'> **Question - 22.Create a DtataFrame using given key & value pair then create a group of A & C  and perform all aggregate function on it.**</span>"
   ]
  },
  {
   "cell_type": "raw",
   "metadata": {},
   "source": [
    "'A': [1, 2, 3, 4],\n",
    "'B': [10, 12, 12, 13],\n",
    "'C': [30, 31, 32, 33],\n",
    "'D': [30, 31, 32, 33]"
   ]
  },
  {
   "cell_type": "code",
   "execution_count": 25,
   "metadata": {},
   "outputs": [],
   "source": [
    "#write observation and code here"
   ]
  },
  {
   "cell_type": "markdown",
   "metadata": {},
   "source": [
    "<a id=\"Datetime\"></a>\n",
    "# Datetime Module"
   ]
  },
  {
   "cell_type": "markdown",
   "metadata": {},
   "source": [
    "### <span style='color:Blue'> **Question - 23.How to display a current date.** </span>\n",
    "**Note :** Use DateTime Module function"
   ]
  },
  {
   "cell_type": "code",
   "execution_count": 26,
   "metadata": {},
   "outputs": [],
   "source": [
    "#write observation and code here"
   ]
  },
  {
   "cell_type": "markdown",
   "metadata": {},
   "source": [
    "### <span style='color:Blue'> **Question - 24.How to print :.** </span>\n",
    "- Weekday with full version \n",
    "- Weekday with short version \n",
    "- Month name short version \n",
    "- Month name full version\n",
    "**Note :** Use DateTime Module function"
   ]
  },
  {
   "cell_type": "code",
   "execution_count": 27,
   "metadata": {},
   "outputs": [],
   "source": [
    "#write observation and code here"
   ]
  },
  {
   "cell_type": "markdown",
   "metadata": {},
   "source": [
    "### <span style='color:Blue'> **Question - 25.Print Current year & weekday** </span>\n",
    "**Note :** Use DateTime Module function"
   ]
  },
  {
   "cell_type": "code",
   "execution_count": 28,
   "metadata": {},
   "outputs": [],
   "source": [
    "#write observation and code here"
   ]
  },
  {
   "cell_type": "markdown",
   "metadata": {},
   "source": [
    "# End"
   ]
  }
 ],
 "metadata": {
  "kernelspec": {
   "display_name": "Python 3 (ipykernel)",
   "language": "python",
   "name": "python3"
  },
  "language_info": {
   "codemirror_mode": {
    "name": "ipython",
    "version": 3
   },
   "file_extension": ".py",
   "mimetype": "text/x-python",
   "name": "python",
   "nbconvert_exporter": "python",
   "pygments_lexer": "ipython3",
   "version": "3.9.12"
  }
 },
 "nbformat": 4,
 "nbformat_minor": 4
}

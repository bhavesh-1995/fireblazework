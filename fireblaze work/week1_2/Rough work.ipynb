{
 "cells": [
  {
   "cell_type": "code",
   "execution_count": 3,
   "id": "715a20c9",
   "metadata": {},
   "outputs": [],
   "source": [
    "import math\n",
    "import numpy as np\n",
    "import random\n",
    "import matplotlib \n",
    "import seaborn"
   ]
  },
  {
   "cell_type": "code",
   "execution_count": 8,
   "id": "287f8d28",
   "metadata": {},
   "outputs": [
    {
     "name": "stdout",
     "output_type": "stream",
     "text": [
      "number a : 45\n",
      "number b : 78\n"
     ]
    },
    {
     "ename": "TypeError",
     "evalue": "str() argument 2 must be str, not int",
     "output_type": "error",
     "traceback": [
      "\u001b[1;31m---------------------------------------------------------------------------\u001b[0m",
      "\u001b[1;31mTypeError\u001b[0m                                 Traceback (most recent call last)",
      "Input \u001b[1;32mIn [8]\u001b[0m, in \u001b[0;36m<cell line: 8>\u001b[1;34m()\u001b[0m\n\u001b[0;32m      6\u001b[0m     c\u001b[38;5;241m=\u001b[39mb\u001b[38;5;241m+\u001b[39ma\n\u001b[0;32m      7\u001b[0m     \u001b[38;5;28;01mreturn\u001b[39;00m c\n\u001b[1;32m----> 8\u001b[0m \u001b[43mcon\u001b[49m\u001b[43m(\u001b[49m\u001b[43ma\u001b[49m\u001b[43m,\u001b[49m\u001b[43mb\u001b[49m\u001b[43m)\u001b[49m\n",
      "Input \u001b[1;32mIn [8]\u001b[0m, in \u001b[0;36mcon\u001b[1;34m(a, b)\u001b[0m\n\u001b[0;32m      4\u001b[0m \u001b[38;5;28;01mdef\u001b[39;00m \u001b[38;5;21mcon\u001b[39m(a,b):\n\u001b[1;32m----> 5\u001b[0m     \u001b[38;5;28;43mstr\u001b[39;49m\u001b[43m(\u001b[49m\u001b[43ma\u001b[49m\u001b[43m,\u001b[49m\u001b[43mb\u001b[49m\u001b[43m)\u001b[49m\n\u001b[0;32m      6\u001b[0m     c\u001b[38;5;241m=\u001b[39mb\u001b[38;5;241m+\u001b[39ma\n\u001b[0;32m      7\u001b[0m     \u001b[38;5;28;01mreturn\u001b[39;00m c\n",
      "\u001b[1;31mTypeError\u001b[0m: str() argument 2 must be str, not int"
     ]
    }
   ],
   "source": [
    "a=int(input('number a : '))\n",
    "b=int(input('number b : '))\n",
    "\n",
    "def con(a,b):\n",
    "    str(a,b)\n",
    "    c=b+a\n",
    "    return c\n",
    "con(a,b)"
   ]
  },
  {
   "cell_type": "code",
   "execution_count": 15,
   "id": "18863449",
   "metadata": {},
   "outputs": [
    {
     "name": "stdout",
     "output_type": "stream",
     "text": [
      "number: 9\n",
      "9 The number is odd\n"
     ]
    }
   ],
   "source": [
    "num=int(input('number: '))\n",
    "def oe(num):\n",
    "    if num%2==0:\n",
    "        return print (num, 'The number is even')\n",
    "    else:\n",
    "        return print(num, 'The number is odd')\n",
    "oe(num)"
   ]
  },
  {
   "cell_type": "code",
   "execution_count": 17,
   "id": "811e0e63",
   "metadata": {},
   "outputs": [
    {
     "name": "stdout",
     "output_type": "stream",
     "text": [
      "number: -6\n",
      "-6 The number is negative\n"
     ]
    }
   ],
   "source": [
    "num=int(input('number: '))\n",
    "def oe(num):\n",
    "    if num>0:\n",
    "        return print (num, 'The number is Positive')\n",
    "    elif num<0:\n",
    "        return print(num, 'The number is negative')\n",
    "    else:\n",
    "        return  print(num, 'The number is zero')\n",
    "oe(num)"
   ]
  },
  {
   "cell_type": "code",
   "execution_count": 20,
   "id": "44310601",
   "metadata": {},
   "outputs": [
    {
     "name": "stdout",
     "output_type": "stream",
     "text": [
      "[('H', 1), ('E', 1), ('L', 1), ('L', 1), ('O', 1), (' ', 1), ('W', 1), ('O', 1), ('R', 1), ('L', 1), ('D', 1)]\n"
     ]
    }
   ],
   "source": [
    "ms=\"hello world\"\n",
    "k=[(i.upper(), len(i)) for i in ms]\n",
    "print(k)"
   ]
  },
  {
   "cell_type": "code",
   "execution_count": null,
   "id": "3fc606dc",
   "metadata": {},
   "outputs": [],
   "source": []
  },
  {
   "cell_type": "code",
   "execution_count": null,
   "id": "54ec8017",
   "metadata": {},
   "outputs": [],
   "source": []
  }
 ],
 "metadata": {
  "kernelspec": {
   "display_name": "Python 3 (ipykernel)",
   "language": "python",
   "name": "python3"
  },
  "language_info": {
   "codemirror_mode": {
    "name": "ipython",
    "version": 3
   },
   "file_extension": ".py",
   "mimetype": "text/x-python",
   "name": "python",
   "nbconvert_exporter": "python",
   "pygments_lexer": "ipython3",
   "version": "3.9.12"
  }
 },
 "nbformat": 4,
 "nbformat_minor": 5
}

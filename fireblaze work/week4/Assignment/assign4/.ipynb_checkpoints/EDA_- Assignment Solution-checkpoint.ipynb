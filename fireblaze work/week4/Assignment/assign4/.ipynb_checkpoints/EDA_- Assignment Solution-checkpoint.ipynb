{
 "cells": [
  {
   "cell_type": "markdown",
   "metadata": {},
   "source": [
    "<img src=\"fireblaze.jpg\" width=250 height=200 />"
   ]
  },
  {
   "cell_type": "markdown",
   "metadata": {},
   "source": [
    "## <p style=\"font-family: Arial; font-size:1.4em;color:red; style='background :yellow'\"> Assignment</p>\n"
   ]
  },
  {
   "cell_type": "markdown",
   "metadata": {},
   "source": [
    "<span style='color:Red'> **About The Dataset(Sales Dataset)** </span>"
   ]
  },
  {
   "cell_type": "markdown",
   "metadata": {},
   "source": [
    "Here are the definitions for a few of the columns:\n",
    "* **File_Type:** The value “Active” means that the particular product needs investigation\n",
    "\n",
    "* **SoldFlag:** The value 1 = sale, 0 = no sale in past six months\n",
    "\n",
    "* **SKU_number:** This is the unique identifier for each product.\n",
    "\n",
    "* **Order:** Just a sequential counter. Can be ignored.\n",
    "\n",
    "* **SoldFlag:** 1 = sold in past 6 mos. 0 = Not sold\n",
    "\n",
    "* **MarketingType:** Two categories of how we market the product.\n",
    "\n",
    "* **New_Release_Flag:** Any product that has had a future release (i.e., Release Number > 1)"
   ]
  },
  {
   "cell_type": "markdown",
   "metadata": {},
   "source": [
    "<span style='color:Blue'> **Import the Required Libraries** </span>"
   ]
  },
  {
   "cell_type": "code",
   "execution_count": 1,
   "metadata": {},
   "outputs": [],
   "source": [
    "#write observation and code here\n",
    "import pandas as pd\n",
    "import numpy as np\n",
    "import seaborn as sns\n",
    "import matplotlib.pyplot as plt\n"
   ]
  },
  {
   "cell_type": "markdown",
   "metadata": {},
   "source": [
    "### <span style='color:Blue'> **Question - 1.Read the Sales dataset and display the top five rows** </span>"
   ]
  },
  {
   "cell_type": "code",
   "execution_count": 2,
   "metadata": {},
   "outputs": [],
   "source": [
    "#write observation and code here\n",
    "df=pd.read_csv('Sales_data.csv')"
   ]
  },
  {
   "cell_type": "markdown",
   "metadata": {},
   "source": [
    "### <span style='color:Blue'> **Question - 2. Display the central tendency, Dispersion, and Shape of Dataset** </span>"
   ]
  },
  {
   "cell_type": "code",
   "execution_count": 3,
   "metadata": {},
   "outputs": [
    {
     "data": {
      "text/html": [
       "<div>\n",
       "<style scoped>\n",
       "    .dataframe tbody tr th:only-of-type {\n",
       "        vertical-align: middle;\n",
       "    }\n",
       "\n",
       "    .dataframe tbody tr th {\n",
       "        vertical-align: top;\n",
       "    }\n",
       "\n",
       "    .dataframe thead th {\n",
       "        text-align: right;\n",
       "    }\n",
       "</style>\n",
       "<table border=\"1\" class=\"dataframe\">\n",
       "  <thead>\n",
       "    <tr style=\"text-align: right;\">\n",
       "      <th></th>\n",
       "      <th>Order</th>\n",
       "      <th>SKU_number</th>\n",
       "      <th>SoldFlag</th>\n",
       "      <th>SoldCount</th>\n",
       "      <th>ReleaseNumber</th>\n",
       "      <th>New_Release_Flag</th>\n",
       "      <th>StrengthFactor</th>\n",
       "      <th>PriceReg</th>\n",
       "      <th>ReleaseYear</th>\n",
       "      <th>ItemCount</th>\n",
       "      <th>LowUserPrice</th>\n",
       "      <th>LowNetPrice</th>\n",
       "    </tr>\n",
       "  </thead>\n",
       "  <tbody>\n",
       "    <tr>\n",
       "      <th>count</th>\n",
       "      <td>198917.000000</td>\n",
       "      <td>1.989170e+05</td>\n",
       "      <td>75996.000000</td>\n",
       "      <td>75996.000000</td>\n",
       "      <td>198917.000000</td>\n",
       "      <td>198917.000000</td>\n",
       "      <td>1.989170e+05</td>\n",
       "      <td>198917.000000</td>\n",
       "      <td>198917.000000</td>\n",
       "      <td>198917.000000</td>\n",
       "      <td>198917.000000</td>\n",
       "      <td>198917.000000</td>\n",
       "    </tr>\n",
       "    <tr>\n",
       "      <th>mean</th>\n",
       "      <td>106483.543242</td>\n",
       "      <td>8.613626e+05</td>\n",
       "      <td>0.171009</td>\n",
       "      <td>0.322306</td>\n",
       "      <td>3.412202</td>\n",
       "      <td>0.642248</td>\n",
       "      <td>1.117115e+06</td>\n",
       "      <td>90.895243</td>\n",
       "      <td>2006.016414</td>\n",
       "      <td>41.426283</td>\n",
       "      <td>30.982487</td>\n",
       "      <td>46.832053</td>\n",
       "    </tr>\n",
       "    <tr>\n",
       "      <th>std</th>\n",
       "      <td>60136.716784</td>\n",
       "      <td>8.699794e+05</td>\n",
       "      <td>0.376519</td>\n",
       "      <td>1.168615</td>\n",
       "      <td>3.864243</td>\n",
       "      <td>0.479340</td>\n",
       "      <td>1.522090e+06</td>\n",
       "      <td>86.736367</td>\n",
       "      <td>9.158331</td>\n",
       "      <td>37.541215</td>\n",
       "      <td>69.066155</td>\n",
       "      <td>128.513236</td>\n",
       "    </tr>\n",
       "    <tr>\n",
       "      <th>min</th>\n",
       "      <td>2.000000</td>\n",
       "      <td>5.000100e+04</td>\n",
       "      <td>0.000000</td>\n",
       "      <td>0.000000</td>\n",
       "      <td>0.000000</td>\n",
       "      <td>0.000000</td>\n",
       "      <td>6.275000e+00</td>\n",
       "      <td>0.000000</td>\n",
       "      <td>0.000000</td>\n",
       "      <td>0.000000</td>\n",
       "      <td>0.000000</td>\n",
       "      <td>0.000000</td>\n",
       "    </tr>\n",
       "    <tr>\n",
       "      <th>25%</th>\n",
       "      <td>55665.000000</td>\n",
       "      <td>2.172520e+05</td>\n",
       "      <td>0.000000</td>\n",
       "      <td>0.000000</td>\n",
       "      <td>1.000000</td>\n",
       "      <td>0.000000</td>\n",
       "      <td>1.614188e+05</td>\n",
       "      <td>42.000000</td>\n",
       "      <td>2003.000000</td>\n",
       "      <td>21.000000</td>\n",
       "      <td>4.910000</td>\n",
       "      <td>17.950000</td>\n",
       "    </tr>\n",
       "    <tr>\n",
       "      <th>50%</th>\n",
       "      <td>108569.000000</td>\n",
       "      <td>6.122080e+05</td>\n",
       "      <td>0.000000</td>\n",
       "      <td>0.000000</td>\n",
       "      <td>2.000000</td>\n",
       "      <td>1.000000</td>\n",
       "      <td>5.822240e+05</td>\n",
       "      <td>69.950000</td>\n",
       "      <td>2007.000000</td>\n",
       "      <td>32.000000</td>\n",
       "      <td>16.080000</td>\n",
       "      <td>33.980000</td>\n",
       "    </tr>\n",
       "    <tr>\n",
       "      <th>75%</th>\n",
       "      <td>158298.000000</td>\n",
       "      <td>9.047510e+05</td>\n",
       "      <td>0.000000</td>\n",
       "      <td>0.000000</td>\n",
       "      <td>5.000000</td>\n",
       "      <td>1.000000</td>\n",
       "      <td>1.430083e+06</td>\n",
       "      <td>116.000000</td>\n",
       "      <td>2011.000000</td>\n",
       "      <td>50.000000</td>\n",
       "      <td>40.240000</td>\n",
       "      <td>55.490000</td>\n",
       "    </tr>\n",
       "    <tr>\n",
       "      <th>max</th>\n",
       "      <td>208027.000000</td>\n",
       "      <td>3.960788e+06</td>\n",
       "      <td>1.000000</td>\n",
       "      <td>73.000000</td>\n",
       "      <td>99.000000</td>\n",
       "      <td>1.000000</td>\n",
       "      <td>1.738445e+07</td>\n",
       "      <td>12671.480000</td>\n",
       "      <td>2018.000000</td>\n",
       "      <td>2542.000000</td>\n",
       "      <td>14140.210000</td>\n",
       "      <td>19138.790000</td>\n",
       "    </tr>\n",
       "  </tbody>\n",
       "</table>\n",
       "</div>"
      ],
      "text/plain": [
       "               Order    SKU_number      SoldFlag     SoldCount  ReleaseNumber  \\\n",
       "count  198917.000000  1.989170e+05  75996.000000  75996.000000  198917.000000   \n",
       "mean   106483.543242  8.613626e+05      0.171009      0.322306       3.412202   \n",
       "std     60136.716784  8.699794e+05      0.376519      1.168615       3.864243   \n",
       "min         2.000000  5.000100e+04      0.000000      0.000000       0.000000   \n",
       "25%     55665.000000  2.172520e+05      0.000000      0.000000       1.000000   \n",
       "50%    108569.000000  6.122080e+05      0.000000      0.000000       2.000000   \n",
       "75%    158298.000000  9.047510e+05      0.000000      0.000000       5.000000   \n",
       "max    208027.000000  3.960788e+06      1.000000     73.000000      99.000000   \n",
       "\n",
       "       New_Release_Flag  StrengthFactor       PriceReg    ReleaseYear  \\\n",
       "count     198917.000000    1.989170e+05  198917.000000  198917.000000   \n",
       "mean           0.642248    1.117115e+06      90.895243    2006.016414   \n",
       "std            0.479340    1.522090e+06      86.736367       9.158331   \n",
       "min            0.000000    6.275000e+00       0.000000       0.000000   \n",
       "25%            0.000000    1.614188e+05      42.000000    2003.000000   \n",
       "50%            1.000000    5.822240e+05      69.950000    2007.000000   \n",
       "75%            1.000000    1.430083e+06     116.000000    2011.000000   \n",
       "max            1.000000    1.738445e+07   12671.480000    2018.000000   \n",
       "\n",
       "           ItemCount   LowUserPrice    LowNetPrice  \n",
       "count  198917.000000  198917.000000  198917.000000  \n",
       "mean       41.426283      30.982487      46.832053  \n",
       "std        37.541215      69.066155     128.513236  \n",
       "min         0.000000       0.000000       0.000000  \n",
       "25%        21.000000       4.910000      17.950000  \n",
       "50%        32.000000      16.080000      33.980000  \n",
       "75%        50.000000      40.240000      55.490000  \n",
       "max      2542.000000   14140.210000   19138.790000  "
      ]
     },
     "execution_count": 3,
     "metadata": {},
     "output_type": "execute_result"
    }
   ],
   "source": [
    "#write observation and code here\n",
    "df.describe()"
   ]
  },
  {
   "cell_type": "code",
   "execution_count": 5,
   "metadata": {},
   "outputs": [
    {
     "data": {
      "text/plain": [
       "(198917, 14)"
      ]
     },
     "execution_count": 5,
     "metadata": {},
     "output_type": "execute_result"
    }
   ],
   "source": [
    "df.shape"
   ]
  },
  {
   "cell_type": "code",
   "execution_count": 6,
   "metadata": {},
   "outputs": [
    {
     "name": "stderr",
     "output_type": "stream",
     "text": [
      "C:\\Users\\Win10\\AppData\\Local\\Temp\\ipykernel_6644\\530051474.py:1: FutureWarning: Dropping of nuisance columns in DataFrame reductions (with 'numeric_only=None') is deprecated; in a future version this will raise TypeError.  Select only valid columns before calling the reduction.\n",
      "  df.median()\n"
     ]
    },
    {
     "data": {
      "text/plain": [
       "Order               108569.00\n",
       "SKU_number          612208.00\n",
       "SoldFlag                 0.00\n",
       "SoldCount                0.00\n",
       "ReleaseNumber            2.00\n",
       "New_Release_Flag         1.00\n",
       "StrengthFactor      582224.00\n",
       "PriceReg                69.95\n",
       "ReleaseYear           2007.00\n",
       "ItemCount               32.00\n",
       "LowUserPrice            16.08\n",
       "LowNetPrice             33.98\n",
       "dtype: float64"
      ]
     },
     "execution_count": 6,
     "metadata": {},
     "output_type": "execute_result"
    }
   ],
   "source": [
    "df.median()"
   ]
  },
  {
   "cell_type": "markdown",
   "metadata": {},
   "source": [
    "### 1. Missing Value Analysis"
   ]
  },
  {
   "cell_type": "markdown",
   "metadata": {},
   "source": [
    "### <span style='color:Blue'> **Question - 3. Our dataset any missing values? If Yes then how many and which feature has a missing value** </span>"
   ]
  },
  {
   "cell_type": "code",
   "execution_count": 11,
   "metadata": {},
   "outputs": [
    {
     "data": {
      "text/plain": [
       "Order                    0\n",
       "File_Type                0\n",
       "SKU_number               0\n",
       "SoldFlag            122921\n",
       "SoldCount           122921\n",
       "MarketingType            0\n",
       "ReleaseNumber            0\n",
       "New_Release_Flag         0\n",
       "StrengthFactor           0\n",
       "PriceReg                 0\n",
       "ReleaseYear              0\n",
       "ItemCount                0\n",
       "LowUserPrice             0\n",
       "LowNetPrice              0\n",
       "dtype: int64"
      ]
     },
     "execution_count": 11,
     "metadata": {},
     "output_type": "execute_result"
    }
   ],
   "source": [
    "#write observation and code here\n",
    "df.isnull().sum()"
   ]
  },
  {
   "cell_type": "markdown",
   "metadata": {},
   "source": [
    "### <span style='color:Blue'> **Question - 4. Find a list of all the columns which have more than 50% of their values missing** </span>"
   ]
  },
  {
   "cell_type": "code",
   "execution_count": 12,
   "metadata": {},
   "outputs": [
    {
     "data": {
      "text/plain": [
       "Order                0.000000\n",
       "File_Type            0.000000\n",
       "SKU_number           0.000000\n",
       "SoldFlag            61.795121\n",
       "SoldCount           61.795121\n",
       "MarketingType        0.000000\n",
       "ReleaseNumber        0.000000\n",
       "New_Release_Flag     0.000000\n",
       "StrengthFactor       0.000000\n",
       "PriceReg             0.000000\n",
       "ReleaseYear          0.000000\n",
       "ItemCount            0.000000\n",
       "LowUserPrice         0.000000\n",
       "LowNetPrice          0.000000\n",
       "dtype: float64"
      ]
     },
     "execution_count": 12,
     "metadata": {},
     "output_type": "execute_result"
    }
   ],
   "source": [
    "#write observation and code here\n",
    "df.isnull().sum()/len(df)*100\n"
   ]
  },
  {
   "cell_type": "raw",
   "metadata": {},
   "source": [
    "SoldFlag            61.795121\n",
    "SoldCount           61.795121"
   ]
  },
  {
   "cell_type": "markdown",
   "metadata": {},
   "source": [
    "### <span style='color:Blue'> **Question - 5. View the missing values within the data.** </span>\n",
    "<br> Hint : Heatmap"
   ]
  },
  {
   "cell_type": "code",
   "execution_count": 16,
   "metadata": {},
   "outputs": [
    {
     "data": {
      "text/plain": [
       "<AxesSubplot:>"
      ]
     },
     "execution_count": 16,
     "metadata": {},
     "output_type": "execute_result"
    },
    {
     "data": {
      "image/png": "[encoded data removed]",
      "text/plain": [
       "<Figure size 432x288 with 2 Axes>"
      ]
     },
     "metadata": {
      "needs_background": "light"
     },
     "output_type": "display_data"
    }
   ],
   "source": [
    "#write observation and code here\n",
    "sns.heatmap(df.isnull())"
   ]
  },
  {
   "cell_type": "markdown",
   "metadata": {},
   "source": [
    "### 2. Dealing with missing values."
   ]
  },
  {
   "cell_type": "markdown",
   "metadata": {},
   "source": [
    "### <span style='color:Blue'> **Question - 6. Remove all records if no more than 2 observations have been recorded.** </span>"
   ]
  },
  {
   "cell_type": "code",
   "execution_count": 20,
   "metadata": {},
   "outputs": [],
   "source": [
    "#write observation and code here\n",
    "df.dropna(thresh=2,inplace=True)\n"
   ]
  },
  {
   "cell_type": "code",
   "execution_count": 21,
   "metadata": {},
   "outputs": [
    {
     "data": {
      "text/plain": [
       "(198917, 14)"
      ]
     },
     "execution_count": 21,
     "metadata": {},
     "output_type": "execute_result"
    }
   ],
   "source": [
    "df.shape"
   ]
  },
  {
   "cell_type": "code",
   "execution_count": null,
   "metadata": {},
   "outputs": [],
   "source": []
  },
  {
   "cell_type": "markdown",
   "metadata": {},
   "source": [
    "### <span style='color:Blue'> **Question - 7. Discard unnecessary columns of data.** </span>"
   ]
  },
  {
   "cell_type": "code",
   "execution_count": 75,
   "metadata": {},
   "outputs": [],
   "source": [
    "#write observation and code here\n",
    "df.drop(['SoldFlag','SoldCount'],axis=1,inplace=True)"
   ]
  },
  {
   "cell_type": "markdown",
   "metadata": {},
   "source": [
    "### <span style='color:Blue'> **Question - 8.Is there any feature in the dataset that could be exempted from dealing with outliers?** </span>"
   ]
  },
  {
   "cell_type": "code",
   "execution_count": 25,
   "metadata": {},
   "outputs": [
    {
     "data": {
      "image/png": "[encoded data removed]",
      "text/plain": [
       "<Figure size 1080x360 with 2 Axes>"
      ]
     },
     "metadata": {
      "needs_background": "light"
     },
     "output_type": "display_data"
    },
    {
     "name": "stdout",
     "output_type": "stream",
     "text": [
      "Order,File_Type,MarketingType,ReleaseNumber,New_Release_Flag columns are exempted from dealing with outliers \n"
     ]
    }
   ],
   "source": [
    "#write observation and code here\n",
    "# Write code and Observation here.\n",
    "fif,ax = plt.subplots(1,2,figsize = (15,5))\n",
    "ax[0].boxplot(df[['PriceReg','ItemCount','LowUserPrice','LowNetPrice']],labels=['PriceReg','ItemCount','LowUserPrice','LowNetPrice'])\n",
    "ax[1].boxplot(df[['SKU_number','StrengthFactor']],labels=['SKU_number','StrengthFactor'])\n",
    "\n",
    "plt.show()\n",
    "\n",
    "print('Order,File_Type,MarketingType,ReleaseNumber,New_Release_Flag columns are exempted from dealing with outliers ')"
   ]
  },
  {
   "cell_type": "markdown",
   "metadata": {},
   "source": [
    "### <span style='color:Blue'> **Question - 9.How do I check the outliers for the feature showing the low net price?** </span>"
   ]
  },
  {
   "cell_type": "code",
   "execution_count": 26,
   "metadata": {},
   "outputs": [
    {
     "name": "stderr",
     "output_type": "stream",
     "text": [
      "E:\\Anacons\\lib\\site-packages\\seaborn\\_decorators.py:36: FutureWarning: Pass the following variable as a keyword arg: x. From version 0.12, the only valid positional argument will be `data`, and passing other arguments without an explicit keyword will result in an error or misinterpretation.\n",
      "  warnings.warn(\n"
     ]
    },
    {
     "data": {
      "image/png": "[encoded data removed]",
      "text/plain": [
       "<Figure size 1296x360 with 1 Axes>"
      ]
     },
     "metadata": {
      "needs_background": "light"
     },
     "output_type": "display_data"
    }
   ],
   "source": [
    "#write observation and code here\n",
    "# Write code and Observation here.\n",
    "plt.figure(figsize=(18,5))\n",
    "sns.boxplot(df['LowNetPrice'])\n",
    "\n",
    "plt.show()"
   ]
  },
  {
   "cell_type": "markdown",
   "metadata": {},
   "source": [
    "### <span style='color:Blue'> **Question - 10.Find out optimal value of K and minimize the outliers.?** </span>"
   ]
  },
  {
   "cell_type": "code",
   "execution_count": 30,
   "metadata": {},
   "outputs": [],
   "source": [
    "#write observation and code here\n",
    "# Write code and Observation here.\n",
    "df['log_value']=np.log(df['LowNetPrice'])\n",
    "Q1=df['log_value'].quantile(0.25)\n",
    "Q3=df['log_value'].quantile(0.75)\n",
    "iqr=Q3-Q1\n",
    "LL=Q1-3*iqr\n",
    "UL=Q3+3*iqr\n",
    "df1=df[(df['log_value']<UL)&(df['log_value']>LL)]"
   ]
  },
  {
   "cell_type": "code",
   "execution_count": 32,
   "metadata": {},
   "outputs": [
    {
     "name": "stdout",
     "output_type": "stream",
     "text": [
      "Mean 3.505639436860149 , Median 3.5564902660681907\n"
     ]
    },
    {
     "data": {
      "image/png": "[encoded data removed]",
      "text/plain": [
       "<Figure size 360x360 with 1 Axes>"
      ]
     },
     "metadata": {
      "needs_background": "light"
     },
     "output_type": "display_data"
    }
   ],
   "source": [
    "print('Mean',df1['log_value'].mean(),', Median',df1['log_value'].median())\n",
    "\n",
    "sns.displot(df1['log_value'],kde=True)\n",
    "plt.axvline(df1['log_value'].mean(),color='red')\n",
    "plt.axvline(df1['log_value'].median(),color='black')\n",
    "plt.show()"
   ]
  },
  {
   "cell_type": "markdown",
   "metadata": {},
   "source": [
    "### <span style='color:Blue'> **Question - 11.Suggest a method for finding outliers for the feature representing the number of sku number.?** </span>"
   ]
  },
  {
   "cell_type": "code",
   "execution_count": 36,
   "metadata": {},
   "outputs": [
    {
     "data": {
      "image/png": "[encoded data removed]",
      "text/plain": [
       "<Figure size 1296x360 with 1 Axes>"
      ]
     },
     "metadata": {
      "needs_background": "light"
     },
     "output_type": "display_data"
    }
   ],
   "source": [
    "#write observation and code here\n",
    "# Write code and Observation here.\n",
    "\n",
    "plt.figure(figsize=(18,5))\n",
    "sns.boxplot(data=df,x='SKU_number')\n",
    "\n",
    "plt.show()"
   ]
  },
  {
   "cell_type": "markdown",
   "metadata": {},
   "source": [
    "### <span style='color:Blue'> **Question - 12.Which method allows you to retrieve the corresponding record within the data.?** </span>"
   ]
  },
  {
   "cell_type": "raw",
   "metadata": {},
   "source": [
    "#write observation and code here\n",
    "Loc & iloc "
   ]
  },
  {
   "cell_type": "markdown",
   "metadata": {},
   "source": [
    "### <span style='color:Blue'> **Question - 13.Calculate the standard score of Release Number?** </span>"
   ]
  },
  {
   "cell_type": "code",
   "execution_count": 43,
   "metadata": {},
   "outputs": [
    {
     "name": "stderr",
     "output_type": "stream",
     "text": [
      "E:\\Anacons\\lib\\site-packages\\seaborn\\distributions.py:2619: FutureWarning: `distplot` is a deprecated function and will be removed in a future version. Please adapt your code to use either `displot` (a figure-level function with similar flexibility) or `histplot` (an axes-level function for histograms).\n",
      "  warnings.warn(msg, FutureWarning)\n"
     ]
    },
    {
     "data": {
      "image/png": "[encoded data removed]",
      "text/plain": [
       "<Figure size 432x288 with 1 Axes>"
      ]
     },
     "metadata": {
      "needs_background": "light"
     },
     "output_type": "display_data"
    }
   ],
   "source": [
    "# Write code and Observation here.\n",
    "\n",
    "from sklearn.preprocessing import StandardScaler\n",
    "\n",
    "ss=StandardScaler()\n",
    "\n",
    "df['SS_Rele_Num']=ss.fit_transform(df[['ReleaseNumber']])\n",
    "\n",
    "sns.distplot(df['SS_Rele_Num'],kde=True)\n",
    "plt.show()\n"
   ]
  },
  {
   "cell_type": "markdown",
   "metadata": {},
   "source": [
    "### <span style='color:Blue'> **Question - 14.In marketing type which items are more sellable.** </span>\n",
    "\n",
    "NOTE:- Show the output in visualization"
   ]
  },
  {
   "cell_type": "code",
   "execution_count": 44,
   "metadata": {},
   "outputs": [
    {
     "data": {
      "text/plain": [
       "<matplotlib.legend.Legend at 0x18ede2158b0>"
      ]
     },
     "execution_count": 44,
     "metadata": {},
     "output_type": "execute_result"
    },
    {
     "data": {
      "image/png": "[encoded data removed]",
      "text/plain": [
       "<Figure size 432x288 with 1 Axes>"
      ]
     },
     "metadata": {},
     "output_type": "display_data"
    }
   ],
   "source": [
    "#write observation and code here\n",
    "# Write code and Observation here.\n",
    "\n",
    "plt.pie(df.MarketingType.value_counts(),autopct='%.2f%%')\n",
    "\n",
    "plt.legend(['S','D'])"
   ]
  },
  {
   "cell_type": "markdown",
   "metadata": {},
   "source": [
    "### <span style='color:Blue'> **Question - 15.Find out bias of soldflag based on release number?** </span>\n",
    "\n",
    "NOTE:- Box Plot."
   ]
  },
  {
   "cell_type": "code",
   "execution_count": 46,
   "metadata": {},
   "outputs": [
    {
     "data": {
      "image/png": "[encoded data removed]",
      "text/plain": [
       "<Figure size 432x288 with 1 Axes>"
      ]
     },
     "metadata": {
      "needs_background": "light"
     },
     "output_type": "display_data"
    }
   ],
   "source": [
    "#write observation and code here\n",
    "sns.boxplot(data=df,x='SoldFlag',y='ReleaseNumber')\n",
    "plt.show()"
   ]
  },
  {
   "cell_type": "markdown",
   "metadata": {},
   "source": [
    "### <span style='color:Blue'> **Question - 16.Find out missing values and fill with zero?** </span>"
   ]
  },
  {
   "cell_type": "code",
   "execution_count": 48,
   "metadata": {},
   "outputs": [
    {
     "data": {
      "text/html": [
       "<div>\n",
       "<style scoped>\n",
       "    .dataframe tbody tr th:only-of-type {\n",
       "        vertical-align: middle;\n",
       "    }\n",
       "\n",
       "    .dataframe tbody tr th {\n",
       "        vertical-align: top;\n",
       "    }\n",
       "\n",
       "    .dataframe thead th {\n",
       "        text-align: right;\n",
       "    }\n",
       "</style>\n",
       "<table border=\"1\" class=\"dataframe\">\n",
       "  <thead>\n",
       "    <tr style=\"text-align: right;\">\n",
       "      <th></th>\n",
       "      <th>Order</th>\n",
       "      <th>File_Type</th>\n",
       "      <th>SKU_number</th>\n",
       "      <th>SoldFlag</th>\n",
       "      <th>SoldCount</th>\n",
       "      <th>MarketingType</th>\n",
       "      <th>ReleaseNumber</th>\n",
       "      <th>New_Release_Flag</th>\n",
       "      <th>StrengthFactor</th>\n",
       "      <th>PriceReg</th>\n",
       "      <th>ReleaseYear</th>\n",
       "      <th>ItemCount</th>\n",
       "      <th>LowUserPrice</th>\n",
       "      <th>LowNetPrice</th>\n",
       "      <th>log_value</th>\n",
       "      <th>SS_Rele_Num</th>\n",
       "    </tr>\n",
       "  </thead>\n",
       "  <tbody>\n",
       "    <tr>\n",
       "      <th>0</th>\n",
       "      <td>2</td>\n",
       "      <td>Historical</td>\n",
       "      <td>1737127</td>\n",
       "      <td>0.0</td>\n",
       "      <td>0.0</td>\n",
       "      <td>D</td>\n",
       "      <td>15</td>\n",
       "      <td>1</td>\n",
       "      <td>6.827430e+05</td>\n",
       "      <td>44.99</td>\n",
       "      <td>2015</td>\n",
       "      <td>8</td>\n",
       "      <td>28.97</td>\n",
       "      <td>31.84</td>\n",
       "      <td>3.460723</td>\n",
       "      <td>2.998732</td>\n",
       "    </tr>\n",
       "    <tr>\n",
       "      <th>1</th>\n",
       "      <td>3</td>\n",
       "      <td>Historical</td>\n",
       "      <td>3255963</td>\n",
       "      <td>0.0</td>\n",
       "      <td>0.0</td>\n",
       "      <td>D</td>\n",
       "      <td>7</td>\n",
       "      <td>1</td>\n",
       "      <td>1.016014e+06</td>\n",
       "      <td>24.81</td>\n",
       "      <td>2005</td>\n",
       "      <td>39</td>\n",
       "      <td>0.00</td>\n",
       "      <td>15.54</td>\n",
       "      <td>2.743417</td>\n",
       "      <td>0.928463</td>\n",
       "    </tr>\n",
       "    <tr>\n",
       "      <th>2</th>\n",
       "      <td>4</td>\n",
       "      <td>Historical</td>\n",
       "      <td>612701</td>\n",
       "      <td>0.0</td>\n",
       "      <td>0.0</td>\n",
       "      <td>D</td>\n",
       "      <td>0</td>\n",
       "      <td>0</td>\n",
       "      <td>3.404640e+05</td>\n",
       "      <td>46.00</td>\n",
       "      <td>2013</td>\n",
       "      <td>34</td>\n",
       "      <td>30.19</td>\n",
       "      <td>27.97</td>\n",
       "      <td>3.331133</td>\n",
       "      <td>-0.883022</td>\n",
       "    </tr>\n",
       "    <tr>\n",
       "      <th>3</th>\n",
       "      <td>6</td>\n",
       "      <td>Historical</td>\n",
       "      <td>115883</td>\n",
       "      <td>1.0</td>\n",
       "      <td>1.0</td>\n",
       "      <td>D</td>\n",
       "      <td>4</td>\n",
       "      <td>1</td>\n",
       "      <td>3.340110e+05</td>\n",
       "      <td>100.00</td>\n",
       "      <td>2006</td>\n",
       "      <td>20</td>\n",
       "      <td>133.93</td>\n",
       "      <td>83.15</td>\n",
       "      <td>4.420646</td>\n",
       "      <td>0.152112</td>\n",
       "    </tr>\n",
       "    <tr>\n",
       "      <th>4</th>\n",
       "      <td>7</td>\n",
       "      <td>Historical</td>\n",
       "      <td>863939</td>\n",
       "      <td>1.0</td>\n",
       "      <td>1.0</td>\n",
       "      <td>D</td>\n",
       "      <td>2</td>\n",
       "      <td>1</td>\n",
       "      <td>1.287938e+06</td>\n",
       "      <td>121.95</td>\n",
       "      <td>2010</td>\n",
       "      <td>28</td>\n",
       "      <td>4.00</td>\n",
       "      <td>23.99</td>\n",
       "      <td>3.177637</td>\n",
       "      <td>-0.365455</td>\n",
       "    </tr>\n",
       "    <tr>\n",
       "      <th>...</th>\n",
       "      <td>...</td>\n",
       "      <td>...</td>\n",
       "      <td>...</td>\n",
       "      <td>...</td>\n",
       "      <td>...</td>\n",
       "      <td>...</td>\n",
       "      <td>...</td>\n",
       "      <td>...</td>\n",
       "      <td>...</td>\n",
       "      <td>...</td>\n",
       "      <td>...</td>\n",
       "      <td>...</td>\n",
       "      <td>...</td>\n",
       "      <td>...</td>\n",
       "      <td>...</td>\n",
       "      <td>...</td>\n",
       "    </tr>\n",
       "    <tr>\n",
       "      <th>198912</th>\n",
       "      <td>208023</td>\n",
       "      <td>Active</td>\n",
       "      <td>109683</td>\n",
       "      <td>0.0</td>\n",
       "      <td>0.0</td>\n",
       "      <td>D</td>\n",
       "      <td>7</td>\n",
       "      <td>1</td>\n",
       "      <td>2.101869e+05</td>\n",
       "      <td>72.87</td>\n",
       "      <td>2006</td>\n",
       "      <td>54</td>\n",
       "      <td>8.46</td>\n",
       "      <td>60.59</td>\n",
       "      <td>4.104130</td>\n",
       "      <td>0.928463</td>\n",
       "    </tr>\n",
       "    <tr>\n",
       "      <th>198913</th>\n",
       "      <td>208024</td>\n",
       "      <td>Active</td>\n",
       "      <td>416462</td>\n",
       "      <td>0.0</td>\n",
       "      <td>0.0</td>\n",
       "      <td>D</td>\n",
       "      <td>8</td>\n",
       "      <td>1</td>\n",
       "      <td>4.555041e+05</td>\n",
       "      <td>247.00</td>\n",
       "      <td>2009</td>\n",
       "      <td>65</td>\n",
       "      <td>8.40</td>\n",
       "      <td>74.85</td>\n",
       "      <td>4.315486</td>\n",
       "      <td>1.187247</td>\n",
       "    </tr>\n",
       "    <tr>\n",
       "      <th>198914</th>\n",
       "      <td>208025</td>\n",
       "      <td>Active</td>\n",
       "      <td>658242</td>\n",
       "      <td>0.0</td>\n",
       "      <td>0.0</td>\n",
       "      <td>S</td>\n",
       "      <td>2</td>\n",
       "      <td>1</td>\n",
       "      <td>1.692746e+05</td>\n",
       "      <td>50.00</td>\n",
       "      <td>2012</td>\n",
       "      <td>23</td>\n",
       "      <td>23.98</td>\n",
       "      <td>32.62</td>\n",
       "      <td>3.484926</td>\n",
       "      <td>-0.365455</td>\n",
       "    </tr>\n",
       "    <tr>\n",
       "      <th>198915</th>\n",
       "      <td>208026</td>\n",
       "      <td>Active</td>\n",
       "      <td>2538340</td>\n",
       "      <td>0.0</td>\n",
       "      <td>0.0</td>\n",
       "      <td>S</td>\n",
       "      <td>2</td>\n",
       "      <td>1</td>\n",
       "      <td>3.775266e+05</td>\n",
       "      <td>46.95</td>\n",
       "      <td>2001</td>\n",
       "      <td>23</td>\n",
       "      <td>27.42</td>\n",
       "      <td>37.89</td>\n",
       "      <td>3.634687</td>\n",
       "      <td>-0.365455</td>\n",
       "    </tr>\n",
       "    <tr>\n",
       "      <th>198916</th>\n",
       "      <td>208027</td>\n",
       "      <td>Active</td>\n",
       "      <td>416662</td>\n",
       "      <td>0.0</td>\n",
       "      <td>0.0</td>\n",
       "      <td>D</td>\n",
       "      <td>15</td>\n",
       "      <td>1</td>\n",
       "      <td>1.183068e+05</td>\n",
       "      <td>120.00</td>\n",
       "      <td>2010</td>\n",
       "      <td>44</td>\n",
       "      <td>10.97</td>\n",
       "      <td>60.67</td>\n",
       "      <td>4.105449</td>\n",
       "      <td>2.998732</td>\n",
       "    </tr>\n",
       "  </tbody>\n",
       "</table>\n",
       "<p>198917 rows × 16 columns</p>\n",
       "</div>"
      ],
      "text/plain": [
       "         Order   File_Type  SKU_number  SoldFlag  SoldCount MarketingType  \\\n",
       "0            2  Historical     1737127       0.0        0.0             D   \n",
       "1            3  Historical     3255963       0.0        0.0             D   \n",
       "2            4  Historical      612701       0.0        0.0             D   \n",
       "3            6  Historical      115883       1.0        1.0             D   \n",
       "4            7  Historical      863939       1.0        1.0             D   \n",
       "...        ...         ...         ...       ...        ...           ...   \n",
       "198912  208023      Active      109683       0.0        0.0             D   \n",
       "198913  208024      Active      416462       0.0        0.0             D   \n",
       "198914  208025      Active      658242       0.0        0.0             S   \n",
       "198915  208026      Active     2538340       0.0        0.0             S   \n",
       "198916  208027      Active      416662       0.0        0.0             D   \n",
       "\n",
       "        ReleaseNumber  New_Release_Flag  StrengthFactor  PriceReg  \\\n",
       "0                  15                 1    6.827430e+05     44.99   \n",
       "1                   7                 1    1.016014e+06     24.81   \n",
       "2                   0                 0    3.404640e+05     46.00   \n",
       "3                   4                 1    3.340110e+05    100.00   \n",
       "4                   2                 1    1.287938e+06    121.95   \n",
       "...               ...               ...             ...       ...   \n",
       "198912              7                 1    2.101869e+05     72.87   \n",
       "198913              8                 1    4.555041e+05    247.00   \n",
       "198914              2                 1    1.692746e+05     50.00   \n",
       "198915              2                 1    3.775266e+05     46.95   \n",
       "198916             15                 1    1.183068e+05    120.00   \n",
       "\n",
       "        ReleaseYear  ItemCount  LowUserPrice  LowNetPrice  log_value  \\\n",
       "0              2015          8         28.97        31.84   3.460723   \n",
       "1              2005         39          0.00        15.54   2.743417   \n",
       "2              2013         34         30.19        27.97   3.331133   \n",
       "3              2006         20        133.93        83.15   4.420646   \n",
       "4              2010         28          4.00        23.99   3.177637   \n",
       "...             ...        ...           ...          ...        ...   \n",
       "198912         2006         54          8.46        60.59   4.104130   \n",
       "198913         2009         65          8.40        74.85   4.315486   \n",
       "198914         2012         23         23.98        32.62   3.484926   \n",
       "198915         2001         23         27.42        37.89   3.634687   \n",
       "198916         2010         44         10.97        60.67   4.105449   \n",
       "\n",
       "        SS_Rele_Num  \n",
       "0          2.998732  \n",
       "1          0.928463  \n",
       "2         -0.883022  \n",
       "3          0.152112  \n",
       "4         -0.365455  \n",
       "...             ...  \n",
       "198912     0.928463  \n",
       "198913     1.187247  \n",
       "198914    -0.365455  \n",
       "198915    -0.365455  \n",
       "198916     2.998732  \n",
       "\n",
       "[198917 rows x 16 columns]"
      ]
     },
     "execution_count": 48,
     "metadata": {},
     "output_type": "execute_result"
    }
   ],
   "source": [
    "#write observation and code here\n",
    "df.fillna(0)"
   ]
  },
  {
   "cell_type": "markdown",
   "metadata": {},
   "source": [
    "### <span style='color:Blue'> **Question - 17.How many value are active and historical in File_Type column ?** </span>\n",
    "\n",
    "NOTE:- Explain in brief from graph."
   ]
  },
  {
   "cell_type": "code",
   "execution_count": 51,
   "metadata": {},
   "outputs": [
    {
     "data": {
      "image/png": "[encoded data removed]",
      "text/plain": [
       "<Figure size 432x288 with 1 Axes>"
      ]
     },
     "metadata": {
      "needs_background": "light"
     },
     "output_type": "display_data"
    }
   ],
   "source": [
    "# Write code and Observation here.\n",
    "df.File_Type.value_counts().plot(kind='bar')\n",
    "plt.text(x=-0.1,y=df.File_Type.value_counts()[0]+1,s=df.File_Type.value_counts()[0])\n",
    "plt.text(x=0.9,y=df.File_Type.value_counts()[1]+2,s=df.File_Type.value_counts()[1])\n",
    "plt.title('Count of value active and historical in File_Type column')\n",
    "plt.xlabel('File_Type')\n",
    "plt.ylabel('frequency')\n",
    "plt.show()"
   ]
  },
  {
   "cell_type": "markdown",
   "metadata": {},
   "source": [
    "### <span style='color:Blue'> **Question - 18. How many features are positive and negatively correlated?** </span>\n",
    "\n",
    "NOTE:- Explain with values and plot the corrleation values."
   ]
  },
  {
   "cell_type": "code",
   "execution_count": 54,
   "metadata": {},
   "outputs": [
    {
     "name": "stdout",
     "output_type": "stream",
     "text": [
      "Positive Hight correlation from 0.5 to 1,Positive low correlation from 0.5 to 0\n",
      "Negative Hight correlation from -0.5 to -1,Negative low correlation from -0.5 to 0\n"
     ]
    },
    {
     "data": {
      "text/html": [
       "<div>\n",
       "<style scoped>\n",
       "    .dataframe tbody tr th:only-of-type {\n",
       "        vertical-align: middle;\n",
       "    }\n",
       "\n",
       "    .dataframe tbody tr th {\n",
       "        vertical-align: top;\n",
       "    }\n",
       "\n",
       "    .dataframe thead th {\n",
       "        text-align: right;\n",
       "    }\n",
       "</style>\n",
       "<table border=\"1\" class=\"dataframe\">\n",
       "  <thead>\n",
       "    <tr style=\"text-align: right;\">\n",
       "      <th></th>\n",
       "      <th>Order</th>\n",
       "      <th>SKU_number</th>\n",
       "      <th>SoldFlag</th>\n",
       "      <th>SoldCount</th>\n",
       "      <th>ReleaseNumber</th>\n",
       "      <th>New_Release_Flag</th>\n",
       "      <th>StrengthFactor</th>\n",
       "      <th>PriceReg</th>\n",
       "      <th>ReleaseYear</th>\n",
       "      <th>ItemCount</th>\n",
       "      <th>LowUserPrice</th>\n",
       "      <th>LowNetPrice</th>\n",
       "      <th>log_value</th>\n",
       "      <th>SS_Rele_Num</th>\n",
       "    </tr>\n",
       "  </thead>\n",
       "  <tbody>\n",
       "    <tr>\n",
       "      <th>Order</th>\n",
       "      <td>1.000000</td>\n",
       "      <td>0.042315</td>\n",
       "      <td>-0.173916</td>\n",
       "      <td>-0.120138</td>\n",
       "      <td>-0.051046</td>\n",
       "      <td>-0.047702</td>\n",
       "      <td>-0.148539</td>\n",
       "      <td>-0.050550</td>\n",
       "      <td>0.037010</td>\n",
       "      <td>0.025081</td>\n",
       "      <td>-0.292686</td>\n",
       "      <td>-0.022892</td>\n",
       "      <td>-0.031249</td>\n",
       "      <td>-0.051046</td>\n",
       "    </tr>\n",
       "    <tr>\n",
       "      <th>SKU_number</th>\n",
       "      <td>0.042315</td>\n",
       "      <td>1.000000</td>\n",
       "      <td>-0.108202</td>\n",
       "      <td>-0.072361</td>\n",
       "      <td>-0.210245</td>\n",
       "      <td>-0.296522</td>\n",
       "      <td>0.178424</td>\n",
       "      <td>-0.144848</td>\n",
       "      <td>-0.117989</td>\n",
       "      <td>-0.259904</td>\n",
       "      <td>-0.058901</td>\n",
       "      <td>0.035728</td>\n",
       "      <td>0.072729</td>\n",
       "      <td>-0.210245</td>\n",
       "    </tr>\n",
       "    <tr>\n",
       "      <th>SoldFlag</th>\n",
       "      <td>-0.173916</td>\n",
       "      <td>-0.108202</td>\n",
       "      <td>1.000000</td>\n",
       "      <td>0.607248</td>\n",
       "      <td>0.075940</td>\n",
       "      <td>0.006877</td>\n",
       "      <td>-0.144816</td>\n",
       "      <td>0.084213</td>\n",
       "      <td>0.071994</td>\n",
       "      <td>0.236860</td>\n",
       "      <td>0.058525</td>\n",
       "      <td>-0.013734</td>\n",
       "      <td>-0.016774</td>\n",
       "      <td>0.075940</td>\n",
       "    </tr>\n",
       "    <tr>\n",
       "      <th>SoldCount</th>\n",
       "      <td>-0.120138</td>\n",
       "      <td>-0.072361</td>\n",
       "      <td>0.607248</td>\n",
       "      <td>1.000000</td>\n",
       "      <td>0.055435</td>\n",
       "      <td>-0.005201</td>\n",
       "      <td>-0.109237</td>\n",
       "      <td>0.056702</td>\n",
       "      <td>0.070090</td>\n",
       "      <td>0.224002</td>\n",
       "      <td>0.042608</td>\n",
       "      <td>-0.011965</td>\n",
       "      <td>-0.017042</td>\n",
       "      <td>0.055435</td>\n",
       "    </tr>\n",
       "    <tr>\n",
       "      <th>ReleaseNumber</th>\n",
       "      <td>-0.051046</td>\n",
       "      <td>-0.210245</td>\n",
       "      <td>0.075940</td>\n",
       "      <td>0.055435</td>\n",
       "      <td>1.000000</td>\n",
       "      <td>0.561506</td>\n",
       "      <td>-0.066511</td>\n",
       "      <td>0.167343</td>\n",
       "      <td>0.115710</td>\n",
       "      <td>0.164814</td>\n",
       "      <td>0.086223</td>\n",
       "      <td>0.017594</td>\n",
       "      <td>0.045696</td>\n",
       "      <td>1.000000</td>\n",
       "    </tr>\n",
       "    <tr>\n",
       "      <th>New_Release_Flag</th>\n",
       "      <td>-0.047702</td>\n",
       "      <td>-0.296522</td>\n",
       "      <td>0.006877</td>\n",
       "      <td>-0.005201</td>\n",
       "      <td>0.561506</td>\n",
       "      <td>1.000000</td>\n",
       "      <td>-0.023783</td>\n",
       "      <td>0.161047</td>\n",
       "      <td>0.068657</td>\n",
       "      <td>0.147317</td>\n",
       "      <td>0.084557</td>\n",
       "      <td>0.016698</td>\n",
       "      <td>0.057877</td>\n",
       "      <td>0.561506</td>\n",
       "    </tr>\n",
       "    <tr>\n",
       "      <th>StrengthFactor</th>\n",
       "      <td>-0.148539</td>\n",
       "      <td>0.178424</td>\n",
       "      <td>-0.144816</td>\n",
       "      <td>-0.109237</td>\n",
       "      <td>-0.066511</td>\n",
       "      <td>-0.023783</td>\n",
       "      <td>1.000000</td>\n",
       "      <td>0.033239</td>\n",
       "      <td>-0.275417</td>\n",
       "      <td>-0.249535</td>\n",
       "      <td>0.022484</td>\n",
       "      <td>0.055824</td>\n",
       "      <td>0.066789</td>\n",
       "      <td>-0.066511</td>\n",
       "    </tr>\n",
       "    <tr>\n",
       "      <th>PriceReg</th>\n",
       "      <td>-0.050550</td>\n",
       "      <td>-0.144848</td>\n",
       "      <td>0.084213</td>\n",
       "      <td>0.056702</td>\n",
       "      <td>0.167343</td>\n",
       "      <td>0.161047</td>\n",
       "      <td>0.033239</td>\n",
       "      <td>1.000000</td>\n",
       "      <td>-0.010082</td>\n",
       "      <td>0.067112</td>\n",
       "      <td>0.135210</td>\n",
       "      <td>0.117767</td>\n",
       "      <td>0.311721</td>\n",
       "      <td>0.167343</td>\n",
       "    </tr>\n",
       "    <tr>\n",
       "      <th>ReleaseYear</th>\n",
       "      <td>0.037010</td>\n",
       "      <td>-0.117989</td>\n",
       "      <td>0.071994</td>\n",
       "      <td>0.070090</td>\n",
       "      <td>0.115710</td>\n",
       "      <td>0.068657</td>\n",
       "      <td>-0.275417</td>\n",
       "      <td>-0.010082</td>\n",
       "      <td>1.000000</td>\n",
       "      <td>0.033456</td>\n",
       "      <td>0.022759</td>\n",
       "      <td>-0.018850</td>\n",
       "      <td>-0.040449</td>\n",
       "      <td>0.115710</td>\n",
       "    </tr>\n",
       "    <tr>\n",
       "      <th>ItemCount</th>\n",
       "      <td>0.025081</td>\n",
       "      <td>-0.259904</td>\n",
       "      <td>0.236860</td>\n",
       "      <td>0.224002</td>\n",
       "      <td>0.164814</td>\n",
       "      <td>0.147317</td>\n",
       "      <td>-0.249535</td>\n",
       "      <td>0.067112</td>\n",
       "      <td>0.033456</td>\n",
       "      <td>1.000000</td>\n",
       "      <td>0.002236</td>\n",
       "      <td>-0.071282</td>\n",
       "      <td>-0.231750</td>\n",
       "      <td>0.164814</td>\n",
       "    </tr>\n",
       "    <tr>\n",
       "      <th>LowUserPrice</th>\n",
       "      <td>-0.292686</td>\n",
       "      <td>-0.058901</td>\n",
       "      <td>0.058525</td>\n",
       "      <td>0.042608</td>\n",
       "      <td>0.086223</td>\n",
       "      <td>0.084557</td>\n",
       "      <td>0.022484</td>\n",
       "      <td>0.135210</td>\n",
       "      <td>0.022759</td>\n",
       "      <td>0.002236</td>\n",
       "      <td>1.000000</td>\n",
       "      <td>0.045149</td>\n",
       "      <td>0.110396</td>\n",
       "      <td>0.086223</td>\n",
       "    </tr>\n",
       "    <tr>\n",
       "      <th>LowNetPrice</th>\n",
       "      <td>-0.022892</td>\n",
       "      <td>0.035728</td>\n",
       "      <td>-0.013734</td>\n",
       "      <td>-0.011965</td>\n",
       "      <td>0.017594</td>\n",
       "      <td>0.016698</td>\n",
       "      <td>0.055824</td>\n",
       "      <td>0.117767</td>\n",
       "      <td>-0.018850</td>\n",
       "      <td>-0.071282</td>\n",
       "      <td>0.045149</td>\n",
       "      <td>1.000000</td>\n",
       "      <td>0.404716</td>\n",
       "      <td>0.017594</td>\n",
       "    </tr>\n",
       "    <tr>\n",
       "      <th>log_value</th>\n",
       "      <td>-0.031249</td>\n",
       "      <td>0.072729</td>\n",
       "      <td>-0.016774</td>\n",
       "      <td>-0.017042</td>\n",
       "      <td>0.045696</td>\n",
       "      <td>0.057877</td>\n",
       "      <td>0.066789</td>\n",
       "      <td>0.311721</td>\n",
       "      <td>-0.040449</td>\n",
       "      <td>-0.231750</td>\n",
       "      <td>0.110396</td>\n",
       "      <td>0.404716</td>\n",
       "      <td>1.000000</td>\n",
       "      <td>0.045696</td>\n",
       "    </tr>\n",
       "    <tr>\n",
       "      <th>SS_Rele_Num</th>\n",
       "      <td>-0.051046</td>\n",
       "      <td>-0.210245</td>\n",
       "      <td>0.075940</td>\n",
       "      <td>0.055435</td>\n",
       "      <td>1.000000</td>\n",
       "      <td>0.561506</td>\n",
       "      <td>-0.066511</td>\n",
       "      <td>0.167343</td>\n",
       "      <td>0.115710</td>\n",
       "      <td>0.164814</td>\n",
       "      <td>0.086223</td>\n",
       "      <td>0.017594</td>\n",
       "      <td>0.045696</td>\n",
       "      <td>1.000000</td>\n",
       "    </tr>\n",
       "  </tbody>\n",
       "</table>\n",
       "</div>"
      ],
      "text/plain": [
       "                     Order  SKU_number  SoldFlag  SoldCount  ReleaseNumber  \\\n",
       "Order             1.000000    0.042315 -0.173916  -0.120138      -0.051046   \n",
       "SKU_number        0.042315    1.000000 -0.108202  -0.072361      -0.210245   \n",
       "SoldFlag         -0.173916   -0.108202  1.000000   0.607248       0.075940   \n",
       "SoldCount        -0.120138   -0.072361  0.607248   1.000000       0.055435   \n",
       "ReleaseNumber    -0.051046   -0.210245  0.075940   0.055435       1.000000   \n",
       "New_Release_Flag -0.047702   -0.296522  0.006877  -0.005201       0.561506   \n",
       "StrengthFactor   -0.148539    0.178424 -0.144816  -0.109237      -0.066511   \n",
       "PriceReg         -0.050550   -0.144848  0.084213   0.056702       0.167343   \n",
       "ReleaseYear       0.037010   -0.117989  0.071994   0.070090       0.115710   \n",
       "ItemCount         0.025081   -0.259904  0.236860   0.224002       0.164814   \n",
       "LowUserPrice     -0.292686   -0.058901  0.058525   0.042608       0.086223   \n",
       "LowNetPrice      -0.022892    0.035728 -0.013734  -0.011965       0.017594   \n",
       "log_value        -0.031249    0.072729 -0.016774  -0.017042       0.045696   \n",
       "SS_Rele_Num      -0.051046   -0.210245  0.075940   0.055435       1.000000   \n",
       "\n",
       "                  New_Release_Flag  StrengthFactor  PriceReg  ReleaseYear  \\\n",
       "Order                    -0.047702       -0.148539 -0.050550     0.037010   \n",
       "SKU_number               -0.296522        0.178424 -0.144848    -0.117989   \n",
       "SoldFlag                  0.006877       -0.144816  0.084213     0.071994   \n",
       "SoldCount                -0.005201       -0.109237  0.056702     0.070090   \n",
       "ReleaseNumber             0.561506       -0.066511  0.167343     0.115710   \n",
       "New_Release_Flag          1.000000       -0.023783  0.161047     0.068657   \n",
       "StrengthFactor           -0.023783        1.000000  0.033239    -0.275417   \n",
       "PriceReg                  0.161047        0.033239  1.000000    -0.010082   \n",
       "ReleaseYear               0.068657       -0.275417 -0.010082     1.000000   \n",
       "ItemCount                 0.147317       -0.249535  0.067112     0.033456   \n",
       "LowUserPrice              0.084557        0.022484  0.135210     0.022759   \n",
       "LowNetPrice               0.016698        0.055824  0.117767    -0.018850   \n",
       "log_value                 0.057877        0.066789  0.311721    -0.040449   \n",
       "SS_Rele_Num               0.561506       -0.066511  0.167343     0.115710   \n",
       "\n",
       "                  ItemCount  LowUserPrice  LowNetPrice  log_value  SS_Rele_Num  \n",
       "Order              0.025081     -0.292686    -0.022892  -0.031249    -0.051046  \n",
       "SKU_number        -0.259904     -0.058901     0.035728   0.072729    -0.210245  \n",
       "SoldFlag           0.236860      0.058525    -0.013734  -0.016774     0.075940  \n",
       "SoldCount          0.224002      0.042608    -0.011965  -0.017042     0.055435  \n",
       "ReleaseNumber      0.164814      0.086223     0.017594   0.045696     1.000000  \n",
       "New_Release_Flag   0.147317      0.084557     0.016698   0.057877     0.561506  \n",
       "StrengthFactor    -0.249535      0.022484     0.055824   0.066789    -0.066511  \n",
       "PriceReg           0.067112      0.135210     0.117767   0.311721     0.167343  \n",
       "ReleaseYear        0.033456      0.022759    -0.018850  -0.040449     0.115710  \n",
       "ItemCount          1.000000      0.002236    -0.071282  -0.231750     0.164814  \n",
       "LowUserPrice       0.002236      1.000000     0.045149   0.110396     0.086223  \n",
       "LowNetPrice       -0.071282      0.045149     1.000000   0.404716     0.017594  \n",
       "log_value         -0.231750      0.110396     0.404716   1.000000     0.045696  \n",
       "SS_Rele_Num        0.164814      0.086223     0.017594   0.045696     1.000000  "
      ]
     },
     "execution_count": 54,
     "metadata": {},
     "output_type": "execute_result"
    }
   ],
   "source": [
    "#write observation and code here\n",
    "# Write code and Observation here.\n",
    "print('Positive Hight correlation from 0.5 to 1,Positive low correlation from 0.5 to 0')\n",
    "print('Negative Hight correlation from -0.5 to -1,Negative low correlation from -0.5 to 0')\n",
    "corr=df.corr()\n",
    "corr"
   ]
  },
  {
   "cell_type": "markdown",
   "metadata": {},
   "source": [
    "### <span style='color:Blue'> **Question - 19. Show the corrleation between 0 and 1.** </span>"
   ]
  },
  {
   "cell_type": "code",
   "execution_count": 57,
   "metadata": {},
   "outputs": [
    {
     "data": {
      "image/png": "[encoded data removed]",
      "text/plain": [
       "<Figure size 720x576 with 2 Axes>"
      ]
     },
     "metadata": {
      "needs_background": "light"
     },
     "output_type": "display_data"
    }
   ],
   "source": [
    "# Write code and Observation here.\n",
    "plt.figure(figsize=(10,8))\n",
    "sns.heatmap(corr,annot=True)\n",
    "\n",
    "plt.show()"
   ]
  },
  {
   "cell_type": "markdown",
   "metadata": {},
   "source": [
    "### <span style='color:Blue'> **Question - 20. Summaries the data with categorical variable.** </span>"
   ]
  },
  {
   "cell_type": "code",
   "execution_count": 59,
   "metadata": {},
   "outputs": [
    {
     "data": {
      "text/html": [
       "<div>\n",
       "<style scoped>\n",
       "    .dataframe tbody tr th:only-of-type {\n",
       "        vertical-align: middle;\n",
       "    }\n",
       "\n",
       "    .dataframe tbody tr th {\n",
       "        vertical-align: top;\n",
       "    }\n",
       "\n",
       "    .dataframe thead th {\n",
       "        text-align: right;\n",
       "    }\n",
       "</style>\n",
       "<table border=\"1\" class=\"dataframe\">\n",
       "  <thead>\n",
       "    <tr style=\"text-align: right;\">\n",
       "      <th></th>\n",
       "      <th>File_Type</th>\n",
       "      <th>MarketingType</th>\n",
       "    </tr>\n",
       "  </thead>\n",
       "  <tbody>\n",
       "    <tr>\n",
       "      <th>count</th>\n",
       "      <td>198917</td>\n",
       "      <td>198917</td>\n",
       "    </tr>\n",
       "    <tr>\n",
       "      <th>unique</th>\n",
       "      <td>2</td>\n",
       "      <td>2</td>\n",
       "    </tr>\n",
       "    <tr>\n",
       "      <th>top</th>\n",
       "      <td>Active</td>\n",
       "      <td>S</td>\n",
       "    </tr>\n",
       "    <tr>\n",
       "      <th>freq</th>\n",
       "      <td>122921</td>\n",
       "      <td>100946</td>\n",
       "    </tr>\n",
       "  </tbody>\n",
       "</table>\n",
       "</div>"
      ],
      "text/plain": [
       "       File_Type MarketingType\n",
       "count     198917        198917\n",
       "unique         2             2\n",
       "top       Active             S\n",
       "freq      122921        100946"
      ]
     },
     "execution_count": 59,
     "metadata": {},
     "output_type": "execute_result"
    }
   ],
   "source": [
    "#write observation and code here\n",
    "df.describe(include='object')\n",
    "##print(sales['File_Type'].unique())"
   ]
  },
  {
   "cell_type": "markdown",
   "metadata": {},
   "source": [
    "### <span style='color:Blue'> **Question - 21. Calculate the mean and median of SKU_number.** </span>"
   ]
  },
  {
   "cell_type": "code",
   "execution_count": 60,
   "metadata": {},
   "outputs": [
    {
     "name": "stdout",
     "output_type": "stream",
     "text": [
      "Mean and median of SKU_number are respectvly 861362.6264220756 and 612208.0\n",
      "Data is right skewed\n"
     ]
    }
   ],
   "source": [
    "#write observation and code here\n",
    "# Write code and Observation here.\n",
    "Mean=df.SKU_number.mean()\n",
    "Median=df.SKU_number.median()\n",
    "print('Mean and median of SKU_number are respectvly', Mean ,'and',Median)\n",
    "print('Data is right skewed')"
   ]
  },
  {
   "cell_type": "markdown",
   "metadata": {},
   "source": [
    "### <span style='color:Blue'> **Question - 22. Calculate the mean and median of PriceCount.** </span>"
   ]
  },
  {
   "cell_type": "code",
   "execution_count": 61,
   "metadata": {},
   "outputs": [
    {
     "name": "stdout",
     "output_type": "stream",
     "text": [
      "Mean and median of PriceReg are respectvly 90.89524344312792 and 69.95\n",
      "Data is left skewed\n"
     ]
    }
   ],
   "source": [
    "#write observation and code here\n",
    "# Write code and Observation here.\n",
    "Mean=df.PriceReg.mean()\n",
    "Median=df.PriceReg.median()\n",
    "print('Mean and median of PriceReg are respectvly', Mean ,'and',Median)\n",
    "print('Data is left skewed')"
   ]
  },
  {
   "cell_type": "markdown",
   "metadata": {},
   "source": [
    "### <span style='color:Blue'> **Question - 23.Convert the File_Type columns to numerical.** </span>"
   ]
  },
  {
   "cell_type": "code",
   "execution_count": 65,
   "metadata": {},
   "outputs": [
    {
     "data": {
      "text/html": [
       "<div>\n",
       "<style scoped>\n",
       "    .dataframe tbody tr th:only-of-type {\n",
       "        vertical-align: middle;\n",
       "    }\n",
       "\n",
       "    .dataframe tbody tr th {\n",
       "        vertical-align: top;\n",
       "    }\n",
       "\n",
       "    .dataframe thead th {\n",
       "        text-align: right;\n",
       "    }\n",
       "</style>\n",
       "<table border=\"1\" class=\"dataframe\">\n",
       "  <thead>\n",
       "    <tr style=\"text-align: right;\">\n",
       "      <th></th>\n",
       "      <th>Order</th>\n",
       "      <th>File_Type</th>\n",
       "      <th>SKU_number</th>\n",
       "      <th>SoldFlag</th>\n",
       "      <th>SoldCount</th>\n",
       "      <th>MarketingType</th>\n",
       "      <th>ReleaseNumber</th>\n",
       "      <th>New_Release_Flag</th>\n",
       "      <th>StrengthFactor</th>\n",
       "      <th>PriceReg</th>\n",
       "      <th>ReleaseYear</th>\n",
       "      <th>ItemCount</th>\n",
       "      <th>LowUserPrice</th>\n",
       "      <th>LowNetPrice</th>\n",
       "      <th>log_value</th>\n",
       "      <th>SS_Rele_Num</th>\n",
       "      <th>File_type</th>\n",
       "    </tr>\n",
       "  </thead>\n",
       "  <tbody>\n",
       "    <tr>\n",
       "      <th>0</th>\n",
       "      <td>2</td>\n",
       "      <td>1</td>\n",
       "      <td>1737127</td>\n",
       "      <td>0.0</td>\n",
       "      <td>0.0</td>\n",
       "      <td>D</td>\n",
       "      <td>15</td>\n",
       "      <td>1</td>\n",
       "      <td>682743.0</td>\n",
       "      <td>44.99</td>\n",
       "      <td>2015</td>\n",
       "      <td>8</td>\n",
       "      <td>28.97</td>\n",
       "      <td>31.84</td>\n",
       "      <td>3.460723</td>\n",
       "      <td>2.998732</td>\n",
       "      <td>1</td>\n",
       "    </tr>\n",
       "    <tr>\n",
       "      <th>1</th>\n",
       "      <td>3</td>\n",
       "      <td>1</td>\n",
       "      <td>3255963</td>\n",
       "      <td>0.0</td>\n",
       "      <td>0.0</td>\n",
       "      <td>D</td>\n",
       "      <td>7</td>\n",
       "      <td>1</td>\n",
       "      <td>1016014.0</td>\n",
       "      <td>24.81</td>\n",
       "      <td>2005</td>\n",
       "      <td>39</td>\n",
       "      <td>0.00</td>\n",
       "      <td>15.54</td>\n",
       "      <td>2.743417</td>\n",
       "      <td>0.928463</td>\n",
       "      <td>1</td>\n",
       "    </tr>\n",
       "    <tr>\n",
       "      <th>2</th>\n",
       "      <td>4</td>\n",
       "      <td>1</td>\n",
       "      <td>612701</td>\n",
       "      <td>0.0</td>\n",
       "      <td>0.0</td>\n",
       "      <td>D</td>\n",
       "      <td>0</td>\n",
       "      <td>0</td>\n",
       "      <td>340464.0</td>\n",
       "      <td>46.00</td>\n",
       "      <td>2013</td>\n",
       "      <td>34</td>\n",
       "      <td>30.19</td>\n",
       "      <td>27.97</td>\n",
       "      <td>3.331133</td>\n",
       "      <td>-0.883022</td>\n",
       "      <td>1</td>\n",
       "    </tr>\n",
       "    <tr>\n",
       "      <th>3</th>\n",
       "      <td>6</td>\n",
       "      <td>1</td>\n",
       "      <td>115883</td>\n",
       "      <td>1.0</td>\n",
       "      <td>1.0</td>\n",
       "      <td>D</td>\n",
       "      <td>4</td>\n",
       "      <td>1</td>\n",
       "      <td>334011.0</td>\n",
       "      <td>100.00</td>\n",
       "      <td>2006</td>\n",
       "      <td>20</td>\n",
       "      <td>133.93</td>\n",
       "      <td>83.15</td>\n",
       "      <td>4.420646</td>\n",
       "      <td>0.152112</td>\n",
       "      <td>1</td>\n",
       "    </tr>\n",
       "    <tr>\n",
       "      <th>4</th>\n",
       "      <td>7</td>\n",
       "      <td>1</td>\n",
       "      <td>863939</td>\n",
       "      <td>1.0</td>\n",
       "      <td>1.0</td>\n",
       "      <td>D</td>\n",
       "      <td>2</td>\n",
       "      <td>1</td>\n",
       "      <td>1287938.0</td>\n",
       "      <td>121.95</td>\n",
       "      <td>2010</td>\n",
       "      <td>28</td>\n",
       "      <td>4.00</td>\n",
       "      <td>23.99</td>\n",
       "      <td>3.177637</td>\n",
       "      <td>-0.365455</td>\n",
       "      <td>1</td>\n",
       "    </tr>\n",
       "  </tbody>\n",
       "</table>\n",
       "</div>"
      ],
      "text/plain": [
       "   Order  File_Type  SKU_number  SoldFlag  SoldCount MarketingType  \\\n",
       "0      2          1     1737127       0.0        0.0             D   \n",
       "1      3          1     3255963       0.0        0.0             D   \n",
       "2      4          1      612701       0.0        0.0             D   \n",
       "3      6          1      115883       1.0        1.0             D   \n",
       "4      7          1      863939       1.0        1.0             D   \n",
       "\n",
       "   ReleaseNumber  New_Release_Flag  StrengthFactor  PriceReg  ReleaseYear  \\\n",
       "0             15                 1        682743.0     44.99         2015   \n",
       "1              7                 1       1016014.0     24.81         2005   \n",
       "2              0                 0        340464.0     46.00         2013   \n",
       "3              4                 1        334011.0    100.00         2006   \n",
       "4              2                 1       1287938.0    121.95         2010   \n",
       "\n",
       "   ItemCount  LowUserPrice  LowNetPrice  log_value  SS_Rele_Num  File_type  \n",
       "0          8         28.97        31.84   3.460723     2.998732          1  \n",
       "1         39          0.00        15.54   2.743417     0.928463          1  \n",
       "2         34         30.19        27.97   3.331133    -0.883022          1  \n",
       "3         20        133.93        83.15   4.420646     0.152112          1  \n",
       "4         28          4.00        23.99   3.177637    -0.365455          1  "
      ]
     },
     "execution_count": 65,
     "metadata": {},
     "output_type": "execute_result"
    }
   ],
   "source": [
    "#write observation and code here\n",
    "from sklearn.preprocessing import LabelEncoder\n",
    "LE=LabelEncoder()\n",
    "df['File_Type']=LE.fit_transform(df['File_Type'])\n",
    "df.head()"
   ]
  },
  {
   "cell_type": "markdown",
   "metadata": {},
   "source": [
    "### <span style='color:Blue'> **Question - 24.Handel the remaining categorical data.** </span>"
   ]
  },
  {
   "cell_type": "code",
   "execution_count": 67,
   "metadata": {},
   "outputs": [
    {
     "data": {
      "text/html": [
       "<div>\n",
       "<style scoped>\n",
       "    .dataframe tbody tr th:only-of-type {\n",
       "        vertical-align: middle;\n",
       "    }\n",
       "\n",
       "    .dataframe tbody tr th {\n",
       "        vertical-align: top;\n",
       "    }\n",
       "\n",
       "    .dataframe thead th {\n",
       "        text-align: right;\n",
       "    }\n",
       "</style>\n",
       "<table border=\"1\" class=\"dataframe\">\n",
       "  <thead>\n",
       "    <tr style=\"text-align: right;\">\n",
       "      <th></th>\n",
       "      <th>Order</th>\n",
       "      <th>File_Type</th>\n",
       "      <th>SKU_number</th>\n",
       "      <th>SoldFlag</th>\n",
       "      <th>SoldCount</th>\n",
       "      <th>MarketingType</th>\n",
       "      <th>ReleaseNumber</th>\n",
       "      <th>New_Release_Flag</th>\n",
       "      <th>StrengthFactor</th>\n",
       "      <th>PriceReg</th>\n",
       "      <th>ReleaseYear</th>\n",
       "      <th>ItemCount</th>\n",
       "      <th>LowUserPrice</th>\n",
       "      <th>LowNetPrice</th>\n",
       "      <th>log_value</th>\n",
       "      <th>SS_Rele_Num</th>\n",
       "      <th>File_type</th>\n",
       "    </tr>\n",
       "  </thead>\n",
       "  <tbody>\n",
       "    <tr>\n",
       "      <th>0</th>\n",
       "      <td>2</td>\n",
       "      <td>1</td>\n",
       "      <td>1737127</td>\n",
       "      <td>0.0</td>\n",
       "      <td>0.0</td>\n",
       "      <td>0</td>\n",
       "      <td>15</td>\n",
       "      <td>1</td>\n",
       "      <td>682743.0</td>\n",
       "      <td>44.99</td>\n",
       "      <td>2015</td>\n",
       "      <td>8</td>\n",
       "      <td>28.97</td>\n",
       "      <td>31.84</td>\n",
       "      <td>3.460723</td>\n",
       "      <td>2.998732</td>\n",
       "      <td>1</td>\n",
       "    </tr>\n",
       "    <tr>\n",
       "      <th>1</th>\n",
       "      <td>3</td>\n",
       "      <td>1</td>\n",
       "      <td>3255963</td>\n",
       "      <td>0.0</td>\n",
       "      <td>0.0</td>\n",
       "      <td>0</td>\n",
       "      <td>7</td>\n",
       "      <td>1</td>\n",
       "      <td>1016014.0</td>\n",
       "      <td>24.81</td>\n",
       "      <td>2005</td>\n",
       "      <td>39</td>\n",
       "      <td>0.00</td>\n",
       "      <td>15.54</td>\n",
       "      <td>2.743417</td>\n",
       "      <td>0.928463</td>\n",
       "      <td>1</td>\n",
       "    </tr>\n",
       "    <tr>\n",
       "      <th>2</th>\n",
       "      <td>4</td>\n",
       "      <td>1</td>\n",
       "      <td>612701</td>\n",
       "      <td>0.0</td>\n",
       "      <td>0.0</td>\n",
       "      <td>0</td>\n",
       "      <td>0</td>\n",
       "      <td>0</td>\n",
       "      <td>340464.0</td>\n",
       "      <td>46.00</td>\n",
       "      <td>2013</td>\n",
       "      <td>34</td>\n",
       "      <td>30.19</td>\n",
       "      <td>27.97</td>\n",
       "      <td>3.331133</td>\n",
       "      <td>-0.883022</td>\n",
       "      <td>1</td>\n",
       "    </tr>\n",
       "    <tr>\n",
       "      <th>3</th>\n",
       "      <td>6</td>\n",
       "      <td>1</td>\n",
       "      <td>115883</td>\n",
       "      <td>1.0</td>\n",
       "      <td>1.0</td>\n",
       "      <td>0</td>\n",
       "      <td>4</td>\n",
       "      <td>1</td>\n",
       "      <td>334011.0</td>\n",
       "      <td>100.00</td>\n",
       "      <td>2006</td>\n",
       "      <td>20</td>\n",
       "      <td>133.93</td>\n",
       "      <td>83.15</td>\n",
       "      <td>4.420646</td>\n",
       "      <td>0.152112</td>\n",
       "      <td>1</td>\n",
       "    </tr>\n",
       "    <tr>\n",
       "      <th>4</th>\n",
       "      <td>7</td>\n",
       "      <td>1</td>\n",
       "      <td>863939</td>\n",
       "      <td>1.0</td>\n",
       "      <td>1.0</td>\n",
       "      <td>0</td>\n",
       "      <td>2</td>\n",
       "      <td>1</td>\n",
       "      <td>1287938.0</td>\n",
       "      <td>121.95</td>\n",
       "      <td>2010</td>\n",
       "      <td>28</td>\n",
       "      <td>4.00</td>\n",
       "      <td>23.99</td>\n",
       "      <td>3.177637</td>\n",
       "      <td>-0.365455</td>\n",
       "      <td>1</td>\n",
       "    </tr>\n",
       "  </tbody>\n",
       "</table>\n",
       "</div>"
      ],
      "text/plain": [
       "   Order  File_Type  SKU_number  SoldFlag  SoldCount  MarketingType  \\\n",
       "0      2          1     1737127       0.0        0.0              0   \n",
       "1      3          1     3255963       0.0        0.0              0   \n",
       "2      4          1      612701       0.0        0.0              0   \n",
       "3      6          1      115883       1.0        1.0              0   \n",
       "4      7          1      863939       1.0        1.0              0   \n",
       "\n",
       "   ReleaseNumber  New_Release_Flag  StrengthFactor  PriceReg  ReleaseYear  \\\n",
       "0             15                 1        682743.0     44.99         2015   \n",
       "1              7                 1       1016014.0     24.81         2005   \n",
       "2              0                 0        340464.0     46.00         2013   \n",
       "3              4                 1        334011.0    100.00         2006   \n",
       "4              2                 1       1287938.0    121.95         2010   \n",
       "\n",
       "   ItemCount  LowUserPrice  LowNetPrice  log_value  SS_Rele_Num  File_type  \n",
       "0          8         28.97        31.84   3.460723     2.998732          1  \n",
       "1         39          0.00        15.54   2.743417     0.928463          1  \n",
       "2         34         30.19        27.97   3.331133    -0.883022          1  \n",
       "3         20        133.93        83.15   4.420646     0.152112          1  \n",
       "4         28          4.00        23.99   3.177637    -0.365455          1  "
      ]
     },
     "execution_count": 67,
     "metadata": {},
     "output_type": "execute_result"
    }
   ],
   "source": [
    "#write observation and code here\n",
    "df['MarketingType']=LE.fit_transform(df['MarketingType'])\n",
    "df.head()"
   ]
  },
  {
   "cell_type": "markdown",
   "metadata": {},
   "source": [
    "### <span style='color:Blue'> **Question - 25.Normalize the data in sku number.** </span>"
   ]
  },
  {
   "cell_type": "code",
   "execution_count": 69,
   "metadata": {},
   "outputs": [],
   "source": [
    "#write observation and code here\n",
    "from sklearn.preprocessing import StandardScaler"
   ]
  },
  {
   "cell_type": "code",
   "execution_count": 71,
   "metadata": {},
   "outputs": [],
   "source": [
    "SS=StandardScaler()"
   ]
  },
  {
   "cell_type": "code",
   "execution_count": 79,
   "metadata": {},
   "outputs": [],
   "source": [
    "df['SKU_number']=SS.fit_transform(df['SKU_number'].array.reshape(-1, 1))"
   ]
  },
  {
   "cell_type": "code",
   "execution_count": 80,
   "metadata": {},
   "outputs": [
    {
     "data": {
      "text/html": [
       "<div>\n",
       "<style scoped>\n",
       "    .dataframe tbody tr th:only-of-type {\n",
       "        vertical-align: middle;\n",
       "    }\n",
       "\n",
       "    .dataframe tbody tr th {\n",
       "        vertical-align: top;\n",
       "    }\n",
       "\n",
       "    .dataframe thead th {\n",
       "        text-align: right;\n",
       "    }\n",
       "</style>\n",
       "<table border=\"1\" class=\"dataframe\">\n",
       "  <thead>\n",
       "    <tr style=\"text-align: right;\">\n",
       "      <th></th>\n",
       "      <th>Order</th>\n",
       "      <th>File_Type</th>\n",
       "      <th>SKU_number</th>\n",
       "      <th>MarketingType</th>\n",
       "      <th>ReleaseNumber</th>\n",
       "      <th>New_Release_Flag</th>\n",
       "      <th>StrengthFactor</th>\n",
       "      <th>PriceReg</th>\n",
       "      <th>ReleaseYear</th>\n",
       "      <th>ItemCount</th>\n",
       "      <th>LowUserPrice</th>\n",
       "      <th>LowNetPrice</th>\n",
       "      <th>log_value</th>\n",
       "      <th>SS_Rele_Num</th>\n",
       "      <th>File_type</th>\n",
       "    </tr>\n",
       "  </thead>\n",
       "  <tbody>\n",
       "    <tr>\n",
       "      <th>0</th>\n",
       "      <td>2</td>\n",
       "      <td>1</td>\n",
       "      <td>1.006652</td>\n",
       "      <td>0</td>\n",
       "      <td>15</td>\n",
       "      <td>1</td>\n",
       "      <td>682743.0</td>\n",
       "      <td>44.99</td>\n",
       "      <td>2015</td>\n",
       "      <td>8</td>\n",
       "      <td>28.97</td>\n",
       "      <td>31.84</td>\n",
       "      <td>3.460723</td>\n",
       "      <td>2.998732</td>\n",
       "      <td>1</td>\n",
       "    </tr>\n",
       "    <tr>\n",
       "      <th>1</th>\n",
       "      <td>3</td>\n",
       "      <td>1</td>\n",
       "      <td>2.752486</td>\n",
       "      <td>0</td>\n",
       "      <td>7</td>\n",
       "      <td>1</td>\n",
       "      <td>1016014.0</td>\n",
       "      <td>24.81</td>\n",
       "      <td>2005</td>\n",
       "      <td>39</td>\n",
       "      <td>0.00</td>\n",
       "      <td>15.54</td>\n",
       "      <td>2.743417</td>\n",
       "      <td>0.928463</td>\n",
       "      <td>1</td>\n",
       "    </tr>\n",
       "    <tr>\n",
       "      <th>2</th>\n",
       "      <td>4</td>\n",
       "      <td>1</td>\n",
       "      <td>-0.285825</td>\n",
       "      <td>0</td>\n",
       "      <td>0</td>\n",
       "      <td>0</td>\n",
       "      <td>340464.0</td>\n",
       "      <td>46.00</td>\n",
       "      <td>2013</td>\n",
       "      <td>34</td>\n",
       "      <td>30.19</td>\n",
       "      <td>27.97</td>\n",
       "      <td>3.331133</td>\n",
       "      <td>-0.883022</td>\n",
       "      <td>1</td>\n",
       "    </tr>\n",
       "    <tr>\n",
       "      <th>3</th>\n",
       "      <td>6</td>\n",
       "      <td>1</td>\n",
       "      <td>-0.856896</td>\n",
       "      <td>0</td>\n",
       "      <td>4</td>\n",
       "      <td>1</td>\n",
       "      <td>334011.0</td>\n",
       "      <td>100.00</td>\n",
       "      <td>2006</td>\n",
       "      <td>20</td>\n",
       "      <td>133.93</td>\n",
       "      <td>83.15</td>\n",
       "      <td>4.420646</td>\n",
       "      <td>0.152112</td>\n",
       "      <td>1</td>\n",
       "    </tr>\n",
       "    <tr>\n",
       "      <th>4</th>\n",
       "      <td>7</td>\n",
       "      <td>1</td>\n",
       "      <td>0.002961</td>\n",
       "      <td>0</td>\n",
       "      <td>2</td>\n",
       "      <td>1</td>\n",
       "      <td>1287938.0</td>\n",
       "      <td>121.95</td>\n",
       "      <td>2010</td>\n",
       "      <td>28</td>\n",
       "      <td>4.00</td>\n",
       "      <td>23.99</td>\n",
       "      <td>3.177637</td>\n",
       "      <td>-0.365455</td>\n",
       "      <td>1</td>\n",
       "    </tr>\n",
       "  </tbody>\n",
       "</table>\n",
       "</div>"
      ],
      "text/plain": [
       "   Order  File_Type  SKU_number  MarketingType  ReleaseNumber  \\\n",
       "0      2          1    1.006652              0             15   \n",
       "1      3          1    2.752486              0              7   \n",
       "2      4          1   -0.285825              0              0   \n",
       "3      6          1   -0.856896              0              4   \n",
       "4      7          1    0.002961              0              2   \n",
       "\n",
       "   New_Release_Flag  StrengthFactor  PriceReg  ReleaseYear  ItemCount  \\\n",
       "0                 1        682743.0     44.99         2015          8   \n",
       "1                 1       1016014.0     24.81         2005         39   \n",
       "2                 0        340464.0     46.00         2013         34   \n",
       "3                 1        334011.0    100.00         2006         20   \n",
       "4                 1       1287938.0    121.95         2010         28   \n",
       "\n",
       "   LowUserPrice  LowNetPrice  log_value  SS_Rele_Num  File_type  \n",
       "0         28.97        31.84   3.460723     2.998732          1  \n",
       "1          0.00        15.54   2.743417     0.928463          1  \n",
       "2         30.19        27.97   3.331133    -0.883022          1  \n",
       "3        133.93        83.15   4.420646     0.152112          1  \n",
       "4          4.00        23.99   3.177637    -0.365455          1  "
      ]
     },
     "execution_count": 80,
     "metadata": {},
     "output_type": "execute_result"
    }
   ],
   "source": [
    "df.head()"
   ]
  },
  {
   "cell_type": "code",
   "execution_count": null,
   "metadata": {},
   "outputs": [],
   "source": []
  }
 ],
 "metadata": {
  "kernelspec": {
   "display_name": "Python 3 (ipykernel)",
   "language": "python",
   "name": "python3"
  },
  "language_info": {
   "codemirror_mode": {
    "name": "ipython",
    "version": 3
   },
   "file_extension": ".py",
   "mimetype": "text/x-python",
   "name": "python",
   "nbconvert_exporter": "python",
   "pygments_lexer": "ipython3",
   "version": "3.9.12"
  }
 },
 "nbformat": 4,
 "nbformat_minor": 4
}

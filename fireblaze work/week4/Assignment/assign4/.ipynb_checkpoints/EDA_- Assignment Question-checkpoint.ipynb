{
 "cells": [
  {
   "cell_type": "markdown",
   "metadata": {},
   "source": [
    "<img src=\"fireblaze.jpg\" width=250 height=200 />"
   ]
  },
  {
   "cell_type": "markdown",
   "metadata": {},
   "source": [
    "## <p style=\"font-family: Arial; font-size:1.4em;color:red; style='background :yellow'\"> Assignment</p>\n"
   ]
  },
  {
   "cell_type": "markdown",
   "metadata": {},
   "source": [
    "<span style='color:Red'> **About The Dataset(Sales Dataset)** </span>"
   ]
  },
  {
   "cell_type": "markdown",
   "metadata": {},
   "source": [
    "Here are the definitions for a few of the columns:\n",
    "* **File_Type:** The value “Active” means that the particular product needs investigation\n",
    "\n",
    "* **SoldFlag:** The value 1 = sale, 0 = no sale in past six months\n",
    "\n",
    "* **SKU_number:** This is the unique identifier for each product.\n",
    "\n",
    "* **Order:** Just a sequential counter. Can be ignored.\n",
    "\n",
    "* **SoldFlag:** 1 = sold in past 6 mos. 0 = Not sold\n",
    "\n",
    "* **MarketingType:** Two categories of how we market the product.\n",
    "\n",
    "* **New_Release_Flag:** Any product that has had a future release (i.e., Release Number > 1)"
   ]
  },
  {
   "cell_type": "markdown",
   "metadata": {},
   "source": [
    "<span style='color:Blue'> **Import the Required Libraries** </span>"
   ]
  },
  {
   "cell_type": "code",
   "execution_count": 1,
   "metadata": {},
   "outputs": [],
   "source": [
    "import matplotlib.pyplot as plt\n",
    "import pandas as pd\n",
    "import seaborn as sns\n",
    "import numpy as np"
   ]
  },
  {
   "cell_type": "markdown",
   "metadata": {},
   "source": [
    "### <span style='color:Blue'> **Question - 1.Read the Sales dataset and display the top five rows** </span>"
   ]
  },
  {
   "cell_type": "code",
   "execution_count": 2,
   "metadata": {},
   "outputs": [
    {
     "data": {
      "text/html": [
       "<div>\n",
       "<style scoped>\n",
       "    .dataframe tbody tr th:only-of-type {\n",
       "        vertical-align: middle;\n",
       "    }\n",
       "\n",
       "    .dataframe tbody tr th {\n",
       "        vertical-align: top;\n",
       "    }\n",
       "\n",
       "    .dataframe thead th {\n",
       "        text-align: right;\n",
       "    }\n",
       "</style>\n",
       "<table border=\"1\" class=\"dataframe\">\n",
       "  <thead>\n",
       "    <tr style=\"text-align: right;\">\n",
       "      <th></th>\n",
       "      <th>Order</th>\n",
       "      <th>File_Type</th>\n",
       "      <th>SKU_number</th>\n",
       "      <th>SoldFlag</th>\n",
       "      <th>SoldCount</th>\n",
       "      <th>MarketingType</th>\n",
       "      <th>ReleaseNumber</th>\n",
       "      <th>New_Release_Flag</th>\n",
       "      <th>StrengthFactor</th>\n",
       "      <th>PriceReg</th>\n",
       "      <th>ReleaseYear</th>\n",
       "      <th>ItemCount</th>\n",
       "      <th>LowUserPrice</th>\n",
       "      <th>LowNetPrice</th>\n",
       "    </tr>\n",
       "  </thead>\n",
       "  <tbody>\n",
       "    <tr>\n",
       "      <th>0</th>\n",
       "      <td>2</td>\n",
       "      <td>Historical</td>\n",
       "      <td>1737127</td>\n",
       "      <td>0.0</td>\n",
       "      <td>0.0</td>\n",
       "      <td>D</td>\n",
       "      <td>15</td>\n",
       "      <td>1</td>\n",
       "      <td>682743.0</td>\n",
       "      <td>44.99</td>\n",
       "      <td>2015</td>\n",
       "      <td>8</td>\n",
       "      <td>28.97</td>\n",
       "      <td>31.84</td>\n",
       "    </tr>\n",
       "    <tr>\n",
       "      <th>1</th>\n",
       "      <td>3</td>\n",
       "      <td>Historical</td>\n",
       "      <td>3255963</td>\n",
       "      <td>0.0</td>\n",
       "      <td>0.0</td>\n",
       "      <td>D</td>\n",
       "      <td>7</td>\n",
       "      <td>1</td>\n",
       "      <td>1016014.0</td>\n",
       "      <td>24.81</td>\n",
       "      <td>2005</td>\n",
       "      <td>39</td>\n",
       "      <td>0.00</td>\n",
       "      <td>15.54</td>\n",
       "    </tr>\n",
       "    <tr>\n",
       "      <th>2</th>\n",
       "      <td>4</td>\n",
       "      <td>Historical</td>\n",
       "      <td>612701</td>\n",
       "      <td>0.0</td>\n",
       "      <td>0.0</td>\n",
       "      <td>D</td>\n",
       "      <td>0</td>\n",
       "      <td>0</td>\n",
       "      <td>340464.0</td>\n",
       "      <td>46.00</td>\n",
       "      <td>2013</td>\n",
       "      <td>34</td>\n",
       "      <td>30.19</td>\n",
       "      <td>27.97</td>\n",
       "    </tr>\n",
       "    <tr>\n",
       "      <th>3</th>\n",
       "      <td>6</td>\n",
       "      <td>Historical</td>\n",
       "      <td>115883</td>\n",
       "      <td>1.0</td>\n",
       "      <td>1.0</td>\n",
       "      <td>D</td>\n",
       "      <td>4</td>\n",
       "      <td>1</td>\n",
       "      <td>334011.0</td>\n",
       "      <td>100.00</td>\n",
       "      <td>2006</td>\n",
       "      <td>20</td>\n",
       "      <td>133.93</td>\n",
       "      <td>83.15</td>\n",
       "    </tr>\n",
       "    <tr>\n",
       "      <th>4</th>\n",
       "      <td>7</td>\n",
       "      <td>Historical</td>\n",
       "      <td>863939</td>\n",
       "      <td>1.0</td>\n",
       "      <td>1.0</td>\n",
       "      <td>D</td>\n",
       "      <td>2</td>\n",
       "      <td>1</td>\n",
       "      <td>1287938.0</td>\n",
       "      <td>121.95</td>\n",
       "      <td>2010</td>\n",
       "      <td>28</td>\n",
       "      <td>4.00</td>\n",
       "      <td>23.99</td>\n",
       "    </tr>\n",
       "  </tbody>\n",
       "</table>\n",
       "</div>"
      ],
      "text/plain": [
       "   Order   File_Type  SKU_number  SoldFlag  SoldCount MarketingType  \\\n",
       "0      2  Historical     1737127       0.0        0.0             D   \n",
       "1      3  Historical     3255963       0.0        0.0             D   \n",
       "2      4  Historical      612701       0.0        0.0             D   \n",
       "3      6  Historical      115883       1.0        1.0             D   \n",
       "4      7  Historical      863939       1.0        1.0             D   \n",
       "\n",
       "   ReleaseNumber  New_Release_Flag  StrengthFactor  PriceReg  ReleaseYear  \\\n",
       "0             15                 1        682743.0     44.99         2015   \n",
       "1              7                 1       1016014.0     24.81         2005   \n",
       "2              0                 0        340464.0     46.00         2013   \n",
       "3              4                 1        334011.0    100.00         2006   \n",
       "4              2                 1       1287938.0    121.95         2010   \n",
       "\n",
       "   ItemCount  LowUserPrice  LowNetPrice  \n",
       "0          8         28.97        31.84  \n",
       "1         39          0.00        15.54  \n",
       "2         34         30.19        27.97  \n",
       "3         20        133.93        83.15  \n",
       "4         28          4.00        23.99  "
      ]
     },
     "execution_count": 2,
     "metadata": {},
     "output_type": "execute_result"
    }
   ],
   "source": [
    "df=pd.read_csv('Sales_data.csv')\n",
    "df.head()"
   ]
  },
  {
   "cell_type": "markdown",
   "metadata": {},
   "source": [
    "### <span style='color:Blue'> **Question - 2. Display the central tendency, Dispersion, and Shape of Dataset** </span>"
   ]
  },
  {
   "cell_type": "code",
   "execution_count": 3,
   "metadata": {},
   "outputs": [
    {
     "data": {
      "text/html": [
       "<div>\n",
       "<style scoped>\n",
       "    .dataframe tbody tr th:only-of-type {\n",
       "        vertical-align: middle;\n",
       "    }\n",
       "\n",
       "    .dataframe tbody tr th {\n",
       "        vertical-align: top;\n",
       "    }\n",
       "\n",
       "    .dataframe thead th {\n",
       "        text-align: right;\n",
       "    }\n",
       "</style>\n",
       "<table border=\"1\" class=\"dataframe\">\n",
       "  <thead>\n",
       "    <tr style=\"text-align: right;\">\n",
       "      <th></th>\n",
       "      <th>Order</th>\n",
       "      <th>SKU_number</th>\n",
       "      <th>SoldFlag</th>\n",
       "      <th>SoldCount</th>\n",
       "      <th>ReleaseNumber</th>\n",
       "      <th>New_Release_Flag</th>\n",
       "      <th>StrengthFactor</th>\n",
       "      <th>PriceReg</th>\n",
       "      <th>ReleaseYear</th>\n",
       "      <th>ItemCount</th>\n",
       "      <th>LowUserPrice</th>\n",
       "      <th>LowNetPrice</th>\n",
       "    </tr>\n",
       "  </thead>\n",
       "  <tbody>\n",
       "    <tr>\n",
       "      <th>count</th>\n",
       "      <td>198917.000000</td>\n",
       "      <td>1.989170e+05</td>\n",
       "      <td>75996.000000</td>\n",
       "      <td>75996.000000</td>\n",
       "      <td>198917.000000</td>\n",
       "      <td>198917.000000</td>\n",
       "      <td>1.989170e+05</td>\n",
       "      <td>198917.000000</td>\n",
       "      <td>198917.000000</td>\n",
       "      <td>198917.000000</td>\n",
       "      <td>198917.000000</td>\n",
       "      <td>198917.000000</td>\n",
       "    </tr>\n",
       "    <tr>\n",
       "      <th>mean</th>\n",
       "      <td>106483.543242</td>\n",
       "      <td>8.613626e+05</td>\n",
       "      <td>0.171009</td>\n",
       "      <td>0.322306</td>\n",
       "      <td>3.412202</td>\n",
       "      <td>0.642248</td>\n",
       "      <td>1.117115e+06</td>\n",
       "      <td>90.895243</td>\n",
       "      <td>2006.016414</td>\n",
       "      <td>41.426283</td>\n",
       "      <td>30.982487</td>\n",
       "      <td>46.832053</td>\n",
       "    </tr>\n",
       "    <tr>\n",
       "      <th>std</th>\n",
       "      <td>60136.716784</td>\n",
       "      <td>8.699794e+05</td>\n",
       "      <td>0.376519</td>\n",
       "      <td>1.168615</td>\n",
       "      <td>3.864243</td>\n",
       "      <td>0.479340</td>\n",
       "      <td>1.522090e+06</td>\n",
       "      <td>86.736367</td>\n",
       "      <td>9.158331</td>\n",
       "      <td>37.541215</td>\n",
       "      <td>69.066155</td>\n",
       "      <td>128.513236</td>\n",
       "    </tr>\n",
       "    <tr>\n",
       "      <th>min</th>\n",
       "      <td>2.000000</td>\n",
       "      <td>5.000100e+04</td>\n",
       "      <td>0.000000</td>\n",
       "      <td>0.000000</td>\n",
       "      <td>0.000000</td>\n",
       "      <td>0.000000</td>\n",
       "      <td>6.275000e+00</td>\n",
       "      <td>0.000000</td>\n",
       "      <td>0.000000</td>\n",
       "      <td>0.000000</td>\n",
       "      <td>0.000000</td>\n",
       "      <td>0.000000</td>\n",
       "    </tr>\n",
       "    <tr>\n",
       "      <th>25%</th>\n",
       "      <td>55665.000000</td>\n",
       "      <td>2.172520e+05</td>\n",
       "      <td>0.000000</td>\n",
       "      <td>0.000000</td>\n",
       "      <td>1.000000</td>\n",
       "      <td>0.000000</td>\n",
       "      <td>1.614188e+05</td>\n",
       "      <td>42.000000</td>\n",
       "      <td>2003.000000</td>\n",
       "      <td>21.000000</td>\n",
       "      <td>4.910000</td>\n",
       "      <td>17.950000</td>\n",
       "    </tr>\n",
       "    <tr>\n",
       "      <th>50%</th>\n",
       "      <td>108569.000000</td>\n",
       "      <td>6.122080e+05</td>\n",
       "      <td>0.000000</td>\n",
       "      <td>0.000000</td>\n",
       "      <td>2.000000</td>\n",
       "      <td>1.000000</td>\n",
       "      <td>5.822240e+05</td>\n",
       "      <td>69.950000</td>\n",
       "      <td>2007.000000</td>\n",
       "      <td>32.000000</td>\n",
       "      <td>16.080000</td>\n",
       "      <td>33.980000</td>\n",
       "    </tr>\n",
       "    <tr>\n",
       "      <th>75%</th>\n",
       "      <td>158298.000000</td>\n",
       "      <td>9.047510e+05</td>\n",
       "      <td>0.000000</td>\n",
       "      <td>0.000000</td>\n",
       "      <td>5.000000</td>\n",
       "      <td>1.000000</td>\n",
       "      <td>1.430083e+06</td>\n",
       "      <td>116.000000</td>\n",
       "      <td>2011.000000</td>\n",
       "      <td>50.000000</td>\n",
       "      <td>40.240000</td>\n",
       "      <td>55.490000</td>\n",
       "    </tr>\n",
       "    <tr>\n",
       "      <th>max</th>\n",
       "      <td>208027.000000</td>\n",
       "      <td>3.960788e+06</td>\n",
       "      <td>1.000000</td>\n",
       "      <td>73.000000</td>\n",
       "      <td>99.000000</td>\n",
       "      <td>1.000000</td>\n",
       "      <td>1.738445e+07</td>\n",
       "      <td>12671.480000</td>\n",
       "      <td>2018.000000</td>\n",
       "      <td>2542.000000</td>\n",
       "      <td>14140.210000</td>\n",
       "      <td>19138.790000</td>\n",
       "    </tr>\n",
       "  </tbody>\n",
       "</table>\n",
       "</div>"
      ],
      "text/plain": [
       "               Order    SKU_number      SoldFlag     SoldCount  ReleaseNumber  \\\n",
       "count  198917.000000  1.989170e+05  75996.000000  75996.000000  198917.000000   \n",
       "mean   106483.543242  8.613626e+05      0.171009      0.322306       3.412202   \n",
       "std     60136.716784  8.699794e+05      0.376519      1.168615       3.864243   \n",
       "min         2.000000  5.000100e+04      0.000000      0.000000       0.000000   \n",
       "25%     55665.000000  2.172520e+05      0.000000      0.000000       1.000000   \n",
       "50%    108569.000000  6.122080e+05      0.000000      0.000000       2.000000   \n",
       "75%    158298.000000  9.047510e+05      0.000000      0.000000       5.000000   \n",
       "max    208027.000000  3.960788e+06      1.000000     73.000000      99.000000   \n",
       "\n",
       "       New_Release_Flag  StrengthFactor       PriceReg    ReleaseYear  \\\n",
       "count     198917.000000    1.989170e+05  198917.000000  198917.000000   \n",
       "mean           0.642248    1.117115e+06      90.895243    2006.016414   \n",
       "std            0.479340    1.522090e+06      86.736367       9.158331   \n",
       "min            0.000000    6.275000e+00       0.000000       0.000000   \n",
       "25%            0.000000    1.614188e+05      42.000000    2003.000000   \n",
       "50%            1.000000    5.822240e+05      69.950000    2007.000000   \n",
       "75%            1.000000    1.430083e+06     116.000000    2011.000000   \n",
       "max            1.000000    1.738445e+07   12671.480000    2018.000000   \n",
       "\n",
       "           ItemCount   LowUserPrice    LowNetPrice  \n",
       "count  198917.000000  198917.000000  198917.000000  \n",
       "mean       41.426283      30.982487      46.832053  \n",
       "std        37.541215      69.066155     128.513236  \n",
       "min         0.000000       0.000000       0.000000  \n",
       "25%        21.000000       4.910000      17.950000  \n",
       "50%        32.000000      16.080000      33.980000  \n",
       "75%        50.000000      40.240000      55.490000  \n",
       "max      2542.000000   14140.210000   19138.790000  "
      ]
     },
     "execution_count": 3,
     "metadata": {},
     "output_type": "execute_result"
    }
   ],
   "source": [
    "# 'df.describe()' gives us a quick statistical summary of the dataset\n",
    "\n",
    "df.describe()"
   ]
  },
  {
   "cell_type": "code",
   "execution_count": 4,
   "metadata": {},
   "outputs": [],
   "source": [
    "# Measures of central tendency are -\n",
    "# Mean\n",
    "# Median\n",
    "# Mode"
   ]
  },
  {
   "cell_type": "code",
   "execution_count": 5,
   "metadata": {},
   "outputs": [
    {
     "data": {
      "text/plain": [
       "PriceReg          90.895243\n",
       "ReleaseYear     2006.016414\n",
       "ItemCount         41.426283\n",
       "LowUserPrice      30.982487\n",
       "LowNetPrice       46.832053\n",
       "dtype: float64"
      ]
     },
     "execution_count": 5,
     "metadata": {},
     "output_type": "execute_result"
    }
   ],
   "source": [
    "# Mean of the Dataset\n",
    "numcol=df[['PriceReg','ReleaseYear','ItemCount','LowUserPrice','LowNetPrice']]\n",
    "numcol.mean()"
   ]
  },
  {
   "cell_type": "code",
   "execution_count": 6,
   "metadata": {},
   "outputs": [
    {
     "data": {
      "text/plain": [
       "PriceReg          69.95\n",
       "ReleaseYear     2007.00\n",
       "ItemCount         32.00\n",
       "LowUserPrice      16.08\n",
       "LowNetPrice       33.98\n",
       "dtype: float64"
      ]
     },
     "execution_count": 6,
     "metadata": {},
     "output_type": "execute_result"
    }
   ],
   "source": [
    "# Median of the Dataset\n",
    "numcol.median()"
   ]
  },
  {
   "cell_type": "code",
   "execution_count": 7,
   "metadata": {},
   "outputs": [
    {
     "data": {
      "text/html": [
       "<div>\n",
       "<style scoped>\n",
       "    .dataframe tbody tr th:only-of-type {\n",
       "        vertical-align: middle;\n",
       "    }\n",
       "\n",
       "    .dataframe tbody tr th {\n",
       "        vertical-align: top;\n",
       "    }\n",
       "\n",
       "    .dataframe thead th {\n",
       "        text-align: right;\n",
       "    }\n",
       "</style>\n",
       "<table border=\"1\" class=\"dataframe\">\n",
       "  <thead>\n",
       "    <tr style=\"text-align: right;\">\n",
       "      <th></th>\n",
       "      <th>PriceReg</th>\n",
       "      <th>ReleaseYear</th>\n",
       "      <th>ItemCount</th>\n",
       "      <th>LowUserPrice</th>\n",
       "      <th>LowNetPrice</th>\n",
       "    </tr>\n",
       "  </thead>\n",
       "  <tbody>\n",
       "    <tr>\n",
       "      <th>0</th>\n",
       "      <td>49.95</td>\n",
       "      <td>2010</td>\n",
       "      <td>21</td>\n",
       "      <td>4.0</td>\n",
       "      <td>0.0</td>\n",
       "    </tr>\n",
       "  </tbody>\n",
       "</table>\n",
       "</div>"
      ],
      "text/plain": [
       "   PriceReg  ReleaseYear  ItemCount  LowUserPrice  LowNetPrice\n",
       "0     49.95         2010         21           4.0          0.0"
      ]
     },
     "execution_count": 7,
     "metadata": {},
     "output_type": "execute_result"
    }
   ],
   "source": [
    "# Mode of the Dataset\n",
    "numcol.mode()"
   ]
  },
  {
   "cell_type": "code",
   "execution_count": 8,
   "metadata": {},
   "outputs": [],
   "source": [
    "# Dispersion measures\n",
    "# Standard deviation\n",
    "# Variance"
   ]
  },
  {
   "cell_type": "code",
   "execution_count": 9,
   "metadata": {},
   "outputs": [
    {
     "data": {
      "text/plain": [
       "PriceReg         86.736367\n",
       "ReleaseYear       9.158331\n",
       "ItemCount        37.541215\n",
       "LowUserPrice     69.066155\n",
       "LowNetPrice     128.513236\n",
       "dtype: float64"
      ]
     },
     "execution_count": 9,
     "metadata": {},
     "output_type": "execute_result"
    }
   ],
   "source": [
    "# Standard deviation\n",
    "numcol.std()"
   ]
  },
  {
   "cell_type": "code",
   "execution_count": 10,
   "metadata": {},
   "outputs": [
    {
     "data": {
      "text/plain": [
       "PriceReg         7523.197307\n",
       "ReleaseYear        83.875030\n",
       "ItemCount        1409.342820\n",
       "LowUserPrice     4770.133814\n",
       "LowNetPrice     16515.651882\n",
       "dtype: float64"
      ]
     },
     "execution_count": 10,
     "metadata": {},
     "output_type": "execute_result"
    }
   ],
   "source": [
    "# Variance\n",
    "numcol.var()"
   ]
  },
  {
   "cell_type": "code",
   "execution_count": 11,
   "metadata": {},
   "outputs": [
    {
     "data": {
      "text/plain": [
       "(198917, 14)"
      ]
     },
     "execution_count": 11,
     "metadata": {},
     "output_type": "execute_result"
    }
   ],
   "source": [
    "# Shape of the Dataset\n",
    "\n",
    "df.shape"
   ]
  },
  {
   "cell_type": "markdown",
   "metadata": {},
   "source": [
    "### 1. Missing Value Analysis"
   ]
  },
  {
   "cell_type": "markdown",
   "metadata": {},
   "source": [
    "### <span style='color:Blue'> **Question - 3. Our dataset any missing values? If Yes then how many and which feature has a missing value** </span>"
   ]
  },
  {
   "cell_type": "code",
   "execution_count": 12,
   "metadata": {},
   "outputs": [
    {
     "data": {
      "text/plain": [
       "Order                    0\n",
       "File_Type                0\n",
       "SKU_number               0\n",
       "SoldFlag            122921\n",
       "SoldCount           122921\n",
       "MarketingType            0\n",
       "ReleaseNumber            0\n",
       "New_Release_Flag         0\n",
       "StrengthFactor           0\n",
       "PriceReg                 0\n",
       "ReleaseYear              0\n",
       "ItemCount                0\n",
       "LowUserPrice             0\n",
       "LowNetPrice              0\n",
       "dtype: int64"
      ]
     },
     "execution_count": 12,
     "metadata": {},
     "output_type": "execute_result"
    }
   ],
   "source": [
    "df.isnull().sum()"
   ]
  },
  {
   "cell_type": "code",
   "execution_count": 13,
   "metadata": {},
   "outputs": [],
   "source": [
    "# we can see that \"SoldFlag\" and \"SoldCount\" columns both have 122921 missing or null values"
   ]
  },
  {
   "cell_type": "markdown",
   "metadata": {},
   "source": [
    "### <span style='color:Blue'> **Question - 4. Find a list of all the columns which have more than 50% of their values missing** </span>"
   ]
  },
  {
   "cell_type": "code",
   "execution_count": 14,
   "metadata": {},
   "outputs": [
    {
     "data": {
      "text/plain": [
       "Order                0.000000\n",
       "File_Type            0.000000\n",
       "SKU_number           0.000000\n",
       "SoldFlag            61.795121\n",
       "SoldCount           61.795121\n",
       "MarketingType        0.000000\n",
       "ReleaseNumber        0.000000\n",
       "New_Release_Flag     0.000000\n",
       "StrengthFactor       0.000000\n",
       "PriceReg             0.000000\n",
       "ReleaseYear          0.000000\n",
       "ItemCount            0.000000\n",
       "LowUserPrice         0.000000\n",
       "LowNetPrice          0.000000\n",
       "dtype: float64"
      ]
     },
     "execution_count": 14,
     "metadata": {},
     "output_type": "execute_result"
    }
   ],
   "source": [
    "df.isnull().sum()/len(df)*100"
   ]
  },
  {
   "cell_type": "code",
   "execution_count": 15,
   "metadata": {},
   "outputs": [],
   "source": [
    "# we can see that \"SoldFlag\" and \"SoldCount\" columns both have 61.79% missing or null values  \n",
    "# which implies that these two columns have more than 50% values missing"
   ]
  },
  {
   "cell_type": "markdown",
   "metadata": {},
   "source": [
    "### <span style='color:Blue'> **Question - 5. View the missing values within the data.** </span>\n",
    "<br> Hint : Heatmap"
   ]
  },
  {
   "cell_type": "code",
   "execution_count": 16,
   "metadata": {},
   "outputs": [
    {
     "data": {
      "image/png": "[encoded data removed]",
      "text/plain": [
       "<Figure size 432x288 with 2 Axes>"
      ]
     },
     "metadata": {
      "needs_background": "light"
     },
     "output_type": "display_data"
    }
   ],
   "source": [
    "sns.heatmap(df.isnull());"
   ]
  },
  {
   "cell_type": "markdown",
   "metadata": {},
   "source": [
    "### 2. Dealing with missing values."
   ]
  },
  {
   "cell_type": "markdown",
   "metadata": {},
   "source": [
    "### <span style='color:Blue'> **Question - 6. Remove all records if no more than 2 observations have been recorded.** </span>"
   ]
  },
  {
   "cell_type": "code",
   "execution_count": 17,
   "metadata": {},
   "outputs": [],
   "source": [
    "#write observation and code here"
   ]
  },
  {
   "cell_type": "markdown",
   "metadata": {},
   "source": [
    "### <span style='color:Blue'> **Question - 7. Discard unnecessary columns of data.** </span>"
   ]
  },
  {
   "cell_type": "code",
   "execution_count": 18,
   "metadata": {},
   "outputs": [],
   "source": [
    "#write observation and code here"
   ]
  },
  {
   "cell_type": "markdown",
   "metadata": {},
   "source": [
    "### <span style='color:Blue'> **Question - 8.Is there any feature in the dataset that could be exempted from dealing with outliers?** </span>"
   ]
  },
  {
   "cell_type": "code",
   "execution_count": 19,
   "metadata": {},
   "outputs": [],
   "source": [
    "#write observation and code here"
   ]
  },
  {
   "cell_type": "markdown",
   "metadata": {},
   "source": [
    "### <span style='color:Blue'> **Question - 9.How do I check the outliers for the feature showing the low net price?** </span>"
   ]
  },
  {
   "cell_type": "code",
   "execution_count": 20,
   "metadata": {},
   "outputs": [],
   "source": [
    "#write observation and code here"
   ]
  },
  {
   "cell_type": "markdown",
   "metadata": {},
   "source": [
    "### <span style='color:Blue'> **Question - 10.Find out optimal value of K and minimize the outliers.?** </span>"
   ]
  },
  {
   "cell_type": "code",
   "execution_count": 21,
   "metadata": {},
   "outputs": [],
   "source": [
    "#write observation and code here"
   ]
  },
  {
   "cell_type": "markdown",
   "metadata": {},
   "source": [
    "### <span style='color:Blue'> **Question - 11.Suggest a method for finding outliers for the feature representing the number of sku number.?** </span>"
   ]
  },
  {
   "cell_type": "code",
   "execution_count": 22,
   "metadata": {},
   "outputs": [],
   "source": [
    "#write observation and code here"
   ]
  },
  {
   "cell_type": "markdown",
   "metadata": {},
   "source": [
    "### <span style='color:Blue'> **Question - 12.Which method allows you to retrieve the corresponding record within the data.?** </span>"
   ]
  },
  {
   "cell_type": "code",
   "execution_count": 23,
   "metadata": {},
   "outputs": [],
   "source": [
    "# We can use loc[] or iloc[] method to retrieve the corresponding record within the data."
   ]
  },
  {
   "cell_type": "markdown",
   "metadata": {},
   "source": [
    "### <span style='color:Blue'> **Question - 13.Calculate the standard score of Release Number?** </span>"
   ]
  },
  {
   "cell_type": "code",
   "execution_count": 48,
   "metadata": {},
   "outputs": [
    {
     "data": {
      "text/html": [
       "<div>\n",
       "<style scoped>\n",
       "    .dataframe tbody tr th:only-of-type {\n",
       "        vertical-align: middle;\n",
       "    }\n",
       "\n",
       "    .dataframe tbody tr th {\n",
       "        vertical-align: top;\n",
       "    }\n",
       "\n",
       "    .dataframe thead th {\n",
       "        text-align: right;\n",
       "    }\n",
       "</style>\n",
       "<table border=\"1\" class=\"dataframe\">\n",
       "  <thead>\n",
       "    <tr style=\"text-align: right;\">\n",
       "      <th></th>\n",
       "      <th>Order</th>\n",
       "      <th>File_Type</th>\n",
       "      <th>SKU_number</th>\n",
       "      <th>SoldFlag</th>\n",
       "      <th>SoldCount</th>\n",
       "      <th>MarketingType</th>\n",
       "      <th>ReleaseNumber</th>\n",
       "      <th>New_Release_Flag</th>\n",
       "      <th>StrengthFactor</th>\n",
       "      <th>PriceReg</th>\n",
       "      <th>ReleaseYear</th>\n",
       "      <th>ItemCount</th>\n",
       "      <th>LowUserPrice</th>\n",
       "      <th>LowNetPrice</th>\n",
       "      <th>zscore</th>\n",
       "    </tr>\n",
       "  </thead>\n",
       "  <tbody>\n",
       "    <tr>\n",
       "      <th>24288</th>\n",
       "      <td>24825</td>\n",
       "      <td>Historical</td>\n",
       "      <td>299279</td>\n",
       "      <td>0.0</td>\n",
       "      <td>0.0</td>\n",
       "      <td>D</td>\n",
       "      <td>9</td>\n",
       "      <td>1</td>\n",
       "      <td>1.294877e+06</td>\n",
       "      <td>54.95</td>\n",
       "      <td>2003</td>\n",
       "      <td>38</td>\n",
       "      <td>74.95</td>\n",
       "      <td>11.49</td>\n",
       "      <td>1.446030</td>\n",
       "    </tr>\n",
       "    <tr>\n",
       "      <th>56499</th>\n",
       "      <td>62944</td>\n",
       "      <td>Historical</td>\n",
       "      <td>243863</td>\n",
       "      <td>0.0</td>\n",
       "      <td>0.0</td>\n",
       "      <td>S</td>\n",
       "      <td>2</td>\n",
       "      <td>1</td>\n",
       "      <td>8.917920e+05</td>\n",
       "      <td>88.95</td>\n",
       "      <td>2011</td>\n",
       "      <td>25</td>\n",
       "      <td>51.24</td>\n",
       "      <td>72.27</td>\n",
       "      <td>-0.365455</td>\n",
       "    </tr>\n",
       "    <tr>\n",
       "      <th>11322</th>\n",
       "      <td>11644</td>\n",
       "      <td>Historical</td>\n",
       "      <td>265635</td>\n",
       "      <td>0.0</td>\n",
       "      <td>0.0</td>\n",
       "      <td>D</td>\n",
       "      <td>2</td>\n",
       "      <td>1</td>\n",
       "      <td>1.222272e+06</td>\n",
       "      <td>68.00</td>\n",
       "      <td>2007</td>\n",
       "      <td>34</td>\n",
       "      <td>43.10</td>\n",
       "      <td>43.07</td>\n",
       "      <td>-0.365455</td>\n",
       "    </tr>\n",
       "    <tr>\n",
       "      <th>19149</th>\n",
       "      <td>19593</td>\n",
       "      <td>Historical</td>\n",
       "      <td>254547</td>\n",
       "      <td>1.0</td>\n",
       "      <td>1.0</td>\n",
       "      <td>D</td>\n",
       "      <td>4</td>\n",
       "      <td>1</td>\n",
       "      <td>2.845600e+05</td>\n",
       "      <td>101.95</td>\n",
       "      <td>2011</td>\n",
       "      <td>124</td>\n",
       "      <td>41.99</td>\n",
       "      <td>11.94</td>\n",
       "      <td>0.152112</td>\n",
       "    </tr>\n",
       "    <tr>\n",
       "      <th>63210</th>\n",
       "      <td>70510</td>\n",
       "      <td>Historical</td>\n",
       "      <td>243804</td>\n",
       "      <td>0.0</td>\n",
       "      <td>0.0</td>\n",
       "      <td>S</td>\n",
       "      <td>2</td>\n",
       "      <td>1</td>\n",
       "      <td>6.017540e+05</td>\n",
       "      <td>74.99</td>\n",
       "      <td>2011</td>\n",
       "      <td>38</td>\n",
       "      <td>56.57</td>\n",
       "      <td>52.10</td>\n",
       "      <td>-0.365455</td>\n",
       "    </tr>\n",
       "    <tr>\n",
       "      <th>181746</th>\n",
       "      <td>190857</td>\n",
       "      <td>Active</td>\n",
       "      <td>878830</td>\n",
       "      <td>NaN</td>\n",
       "      <td>NaN</td>\n",
       "      <td>S</td>\n",
       "      <td>11</td>\n",
       "      <td>1</td>\n",
       "      <td>1.102868e+06</td>\n",
       "      <td>176.83</td>\n",
       "      <td>2012</td>\n",
       "      <td>14</td>\n",
       "      <td>40.50</td>\n",
       "      <td>160.67</td>\n",
       "      <td>1.963597</td>\n",
       "    </tr>\n",
       "    <tr>\n",
       "      <th>114174</th>\n",
       "      <td>123285</td>\n",
       "      <td>Active</td>\n",
       "      <td>564870</td>\n",
       "      <td>NaN</td>\n",
       "      <td>NaN</td>\n",
       "      <td>S</td>\n",
       "      <td>2</td>\n",
       "      <td>1</td>\n",
       "      <td>2.926571e+05</td>\n",
       "      <td>88.95</td>\n",
       "      <td>2013</td>\n",
       "      <td>22</td>\n",
       "      <td>18.54</td>\n",
       "      <td>80.22</td>\n",
       "      <td>-0.365455</td>\n",
       "    </tr>\n",
       "    <tr>\n",
       "      <th>117941</th>\n",
       "      <td>127052</td>\n",
       "      <td>Active</td>\n",
       "      <td>631634</td>\n",
       "      <td>NaN</td>\n",
       "      <td>NaN</td>\n",
       "      <td>S</td>\n",
       "      <td>0</td>\n",
       "      <td>0</td>\n",
       "      <td>5.356165e+04</td>\n",
       "      <td>49.99</td>\n",
       "      <td>2009</td>\n",
       "      <td>26</td>\n",
       "      <td>23.69</td>\n",
       "      <td>39.85</td>\n",
       "      <td>-0.883022</td>\n",
       "    </tr>\n",
       "    <tr>\n",
       "      <th>23859</th>\n",
       "      <td>24391</td>\n",
       "      <td>Historical</td>\n",
       "      <td>163895</td>\n",
       "      <td>0.0</td>\n",
       "      <td>0.0</td>\n",
       "      <td>D</td>\n",
       "      <td>1</td>\n",
       "      <td>0</td>\n",
       "      <td>3.857459e+06</td>\n",
       "      <td>165.00</td>\n",
       "      <td>1996</td>\n",
       "      <td>16</td>\n",
       "      <td>83.94</td>\n",
       "      <td>68.63</td>\n",
       "      <td>-0.624238</td>\n",
       "    </tr>\n",
       "    <tr>\n",
       "      <th>39349</th>\n",
       "      <td>44024</td>\n",
       "      <td>Historical</td>\n",
       "      <td>693257</td>\n",
       "      <td>0.0</td>\n",
       "      <td>0.0</td>\n",
       "      <td>S</td>\n",
       "      <td>3</td>\n",
       "      <td>1</td>\n",
       "      <td>1.410945e+06</td>\n",
       "      <td>104.87</td>\n",
       "      <td>1998</td>\n",
       "      <td>43</td>\n",
       "      <td>4.99</td>\n",
       "      <td>23.94</td>\n",
       "      <td>-0.106671</td>\n",
       "    </tr>\n",
       "    <tr>\n",
       "      <th>42385</th>\n",
       "      <td>48195</td>\n",
       "      <td>Historical</td>\n",
       "      <td>111523</td>\n",
       "      <td>1.0</td>\n",
       "      <td>1.0</td>\n",
       "      <td>S</td>\n",
       "      <td>8</td>\n",
       "      <td>1</td>\n",
       "      <td>1.532320e+05</td>\n",
       "      <td>108.00</td>\n",
       "      <td>2011</td>\n",
       "      <td>45</td>\n",
       "      <td>0.00</td>\n",
       "      <td>18.99</td>\n",
       "      <td>1.187247</td>\n",
       "    </tr>\n",
       "    <tr>\n",
       "      <th>85488</th>\n",
       "      <td>94599</td>\n",
       "      <td>Active</td>\n",
       "      <td>1533888</td>\n",
       "      <td>NaN</td>\n",
       "      <td>NaN</td>\n",
       "      <td>D</td>\n",
       "      <td>0</td>\n",
       "      <td>0</td>\n",
       "      <td>1.627858e+06</td>\n",
       "      <td>209.00</td>\n",
       "      <td>2007</td>\n",
       "      <td>21</td>\n",
       "      <td>102.99</td>\n",
       "      <td>153.43</td>\n",
       "      <td>-0.883022</td>\n",
       "    </tr>\n",
       "    <tr>\n",
       "      <th>6316</th>\n",
       "      <td>6549</td>\n",
       "      <td>Historical</td>\n",
       "      <td>52947</td>\n",
       "      <td>0.0</td>\n",
       "      <td>0.0</td>\n",
       "      <td>D</td>\n",
       "      <td>7</td>\n",
       "      <td>1</td>\n",
       "      <td>7.663900e+04</td>\n",
       "      <td>47.10</td>\n",
       "      <td>2009</td>\n",
       "      <td>196</td>\n",
       "      <td>77.87</td>\n",
       "      <td>40.51</td>\n",
       "      <td>0.928463</td>\n",
       "    </tr>\n",
       "    <tr>\n",
       "      <th>129887</th>\n",
       "      <td>138998</td>\n",
       "      <td>Active</td>\n",
       "      <td>290174</td>\n",
       "      <td>NaN</td>\n",
       "      <td>NaN</td>\n",
       "      <td>D</td>\n",
       "      <td>2</td>\n",
       "      <td>1</td>\n",
       "      <td>2.842901e+06</td>\n",
       "      <td>32.98</td>\n",
       "      <td>2008</td>\n",
       "      <td>42</td>\n",
       "      <td>5.52</td>\n",
       "      <td>29.84</td>\n",
       "      <td>-0.365455</td>\n",
       "    </tr>\n",
       "    <tr>\n",
       "      <th>89473</th>\n",
       "      <td>98584</td>\n",
       "      <td>Active</td>\n",
       "      <td>2422901</td>\n",
       "      <td>NaN</td>\n",
       "      <td>NaN</td>\n",
       "      <td>D</td>\n",
       "      <td>1</td>\n",
       "      <td>0</td>\n",
       "      <td>8.140803e+05</td>\n",
       "      <td>147.64</td>\n",
       "      <td>1967</td>\n",
       "      <td>18</td>\n",
       "      <td>14.35</td>\n",
       "      <td>139.35</td>\n",
       "      <td>-0.624238</td>\n",
       "    </tr>\n",
       "    <tr>\n",
       "      <th>145339</th>\n",
       "      <td>154450</td>\n",
       "      <td>Active</td>\n",
       "      <td>60021</td>\n",
       "      <td>NaN</td>\n",
       "      <td>NaN</td>\n",
       "      <td>D</td>\n",
       "      <td>1</td>\n",
       "      <td>0</td>\n",
       "      <td>1.147561e+06</td>\n",
       "      <td>108.36</td>\n",
       "      <td>1995</td>\n",
       "      <td>47</td>\n",
       "      <td>4.00</td>\n",
       "      <td>34.38</td>\n",
       "      <td>-0.624238</td>\n",
       "    </tr>\n",
       "    <tr>\n",
       "      <th>16467</th>\n",
       "      <td>16867</td>\n",
       "      <td>Historical</td>\n",
       "      <td>141826</td>\n",
       "      <td>0.0</td>\n",
       "      <td>0.0</td>\n",
       "      <td>D</td>\n",
       "      <td>4</td>\n",
       "      <td>1</td>\n",
       "      <td>2.373710e+05</td>\n",
       "      <td>39.95</td>\n",
       "      <td>2006</td>\n",
       "      <td>122</td>\n",
       "      <td>27.76</td>\n",
       "      <td>7.82</td>\n",
       "      <td>0.152112</td>\n",
       "    </tr>\n",
       "    <tr>\n",
       "      <th>27070</th>\n",
       "      <td>27662</td>\n",
       "      <td>Historical</td>\n",
       "      <td>658289</td>\n",
       "      <td>0.0</td>\n",
       "      <td>0.0</td>\n",
       "      <td>D</td>\n",
       "      <td>13</td>\n",
       "      <td>1</td>\n",
       "      <td>4.261530e+05</td>\n",
       "      <td>116.00</td>\n",
       "      <td>2012</td>\n",
       "      <td>25</td>\n",
       "      <td>78.99</td>\n",
       "      <td>148.33</td>\n",
       "      <td>2.481164</td>\n",
       "    </tr>\n",
       "    <tr>\n",
       "      <th>74919</th>\n",
       "      <td>83892</td>\n",
       "      <td>Historical</td>\n",
       "      <td>132283</td>\n",
       "      <td>0.0</td>\n",
       "      <td>0.0</td>\n",
       "      <td>S</td>\n",
       "      <td>7</td>\n",
       "      <td>1</td>\n",
       "      <td>6.067730e+05</td>\n",
       "      <td>145.20</td>\n",
       "      <td>2007</td>\n",
       "      <td>44</td>\n",
       "      <td>4.49</td>\n",
       "      <td>35.99</td>\n",
       "      <td>0.928463</td>\n",
       "    </tr>\n",
       "    <tr>\n",
       "      <th>103680</th>\n",
       "      <td>112791</td>\n",
       "      <td>Active</td>\n",
       "      <td>2258011</td>\n",
       "      <td>NaN</td>\n",
       "      <td>NaN</td>\n",
       "      <td>S</td>\n",
       "      <td>0</td>\n",
       "      <td>0</td>\n",
       "      <td>1.738196e+05</td>\n",
       "      <td>62.57</td>\n",
       "      <td>2007</td>\n",
       "      <td>40</td>\n",
       "      <td>7.26</td>\n",
       "      <td>63.41</td>\n",
       "      <td>-0.883022</td>\n",
       "    </tr>\n",
       "  </tbody>\n",
       "</table>\n",
       "</div>"
      ],
      "text/plain": [
       "         Order   File_Type  SKU_number  SoldFlag  SoldCount MarketingType  \\\n",
       "24288    24825  Historical      299279       0.0        0.0             D   \n",
       "56499    62944  Historical      243863       0.0        0.0             S   \n",
       "11322    11644  Historical      265635       0.0        0.0             D   \n",
       "19149    19593  Historical      254547       1.0        1.0             D   \n",
       "63210    70510  Historical      243804       0.0        0.0             S   \n",
       "181746  190857      Active      878830       NaN        NaN             S   \n",
       "114174  123285      Active      564870       NaN        NaN             S   \n",
       "117941  127052      Active      631634       NaN        NaN             S   \n",
       "23859    24391  Historical      163895       0.0        0.0             D   \n",
       "39349    44024  Historical      693257       0.0        0.0             S   \n",
       "42385    48195  Historical      111523       1.0        1.0             S   \n",
       "85488    94599      Active     1533888       NaN        NaN             D   \n",
       "6316      6549  Historical       52947       0.0        0.0             D   \n",
       "129887  138998      Active      290174       NaN        NaN             D   \n",
       "89473    98584      Active     2422901       NaN        NaN             D   \n",
       "145339  154450      Active       60021       NaN        NaN             D   \n",
       "16467    16867  Historical      141826       0.0        0.0             D   \n",
       "27070    27662  Historical      658289       0.0        0.0             D   \n",
       "74919    83892  Historical      132283       0.0        0.0             S   \n",
       "103680  112791      Active     2258011       NaN        NaN             S   \n",
       "\n",
       "        ReleaseNumber  New_Release_Flag  StrengthFactor  PriceReg  \\\n",
       "24288               9                 1    1.294877e+06     54.95   \n",
       "56499               2                 1    8.917920e+05     88.95   \n",
       "11322               2                 1    1.222272e+06     68.00   \n",
       "19149               4                 1    2.845600e+05    101.95   \n",
       "63210               2                 1    6.017540e+05     74.99   \n",
       "181746             11                 1    1.102868e+06    176.83   \n",
       "114174              2                 1    2.926571e+05     88.95   \n",
       "117941              0                 0    5.356165e+04     49.99   \n",
       "23859               1                 0    3.857459e+06    165.00   \n",
       "39349               3                 1    1.410945e+06    104.87   \n",
       "42385               8                 1    1.532320e+05    108.00   \n",
       "85488               0                 0    1.627858e+06    209.00   \n",
       "6316                7                 1    7.663900e+04     47.10   \n",
       "129887              2                 1    2.842901e+06     32.98   \n",
       "89473               1                 0    8.140803e+05    147.64   \n",
       "145339              1                 0    1.147561e+06    108.36   \n",
       "16467               4                 1    2.373710e+05     39.95   \n",
       "27070              13                 1    4.261530e+05    116.00   \n",
       "74919               7                 1    6.067730e+05    145.20   \n",
       "103680              0                 0    1.738196e+05     62.57   \n",
       "\n",
       "        ReleaseYear  ItemCount  LowUserPrice  LowNetPrice    zscore  \n",
       "24288          2003         38         74.95        11.49  1.446030  \n",
       "56499          2011         25         51.24        72.27 -0.365455  \n",
       "11322          2007         34         43.10        43.07 -0.365455  \n",
       "19149          2011        124         41.99        11.94  0.152112  \n",
       "63210          2011         38         56.57        52.10 -0.365455  \n",
       "181746         2012         14         40.50       160.67  1.963597  \n",
       "114174         2013         22         18.54        80.22 -0.365455  \n",
       "117941         2009         26         23.69        39.85 -0.883022  \n",
       "23859          1996         16         83.94        68.63 -0.624238  \n",
       "39349          1998         43          4.99        23.94 -0.106671  \n",
       "42385          2011         45          0.00        18.99  1.187247  \n",
       "85488          2007         21        102.99       153.43 -0.883022  \n",
       "6316           2009        196         77.87        40.51  0.928463  \n",
       "129887         2008         42          5.52        29.84 -0.365455  \n",
       "89473          1967         18         14.35       139.35 -0.624238  \n",
       "145339         1995         47          4.00        34.38 -0.624238  \n",
       "16467          2006        122         27.76         7.82  0.152112  \n",
       "27070          2012         25         78.99       148.33  2.481164  \n",
       "74919          2007         44          4.49        35.99  0.928463  \n",
       "103680         2007         40          7.26        63.41 -0.883022  "
      ]
     },
     "execution_count": 48,
     "metadata": {},
     "output_type": "execute_result"
    }
   ],
   "source": [
    "from scipy.stats import zscore\n",
    "df1=df\n",
    "df1['zscore']= zscore(df1['ReleaseNumber'])\n",
    "df1.sample(20)"
   ]
  },
  {
   "cell_type": "markdown",
   "metadata": {},
   "source": [
    "### <span style='color:Blue'> **Question - 14.In marketing type which items are more sellable.** </span>\n",
    "\n",
    "NOTE:- Show the output in visualization"
   ]
  },
  {
   "cell_type": "code",
   "execution_count": 47,
   "metadata": {
    "scrolled": true
   },
   "outputs": [
    {
     "data": {
      "image/png": "[encoded data removed]",
      "text/plain": [
       "<Figure size 360x360 with 1 Axes>"
      ]
     },
     "metadata": {
      "needs_background": "light"
     },
     "output_type": "display_data"
    }
   ],
   "source": [
    "sns.displot(x='MarketingType', data=df1);"
   ]
  },
  {
   "cell_type": "code",
   "execution_count": null,
   "metadata": {},
   "outputs": [],
   "source": [
    "# Items with marketing type S are more sellable "
   ]
  },
  {
   "cell_type": "markdown",
   "metadata": {},
   "source": [
    "### <span style='color:Blue'> **Question - 15.Find out bias of soldflag based on release number?** </span>\n",
    "\n",
    "NOTE:- Box Plot."
   ]
  },
  {
   "cell_type": "code",
   "execution_count": null,
   "metadata": {},
   "outputs": [],
   "source": [
    "#write observation and code here"
   ]
  },
  {
   "cell_type": "markdown",
   "metadata": {},
   "source": [
    "### <span style='color:Blue'> **Question - 16.Find out missing values and fill with zero?** </span>"
   ]
  },
  {
   "cell_type": "code",
   "execution_count": null,
   "metadata": {},
   "outputs": [],
   "source": [
    "#write observation and code here"
   ]
  },
  {
   "cell_type": "markdown",
   "metadata": {},
   "source": [
    "### <span style='color:Blue'> **Question - 17.How many value are active and historical in File_Type column ?** </span>\n",
    "\n",
    "NOTE:- Explain in brief from graph."
   ]
  },
  {
   "cell_type": "code",
   "execution_count": null,
   "metadata": {},
   "outputs": [],
   "source": [
    "#write observation and code here"
   ]
  },
  {
   "cell_type": "markdown",
   "metadata": {},
   "source": [
    "### <span style='color:Blue'> **Question - 18. How many features are positive and negatively correlated?** </span>\n",
    "\n",
    "NOTE:- Explain with values and plot the corrleation values."
   ]
  },
  {
   "cell_type": "code",
   "execution_count": 42,
   "metadata": {},
   "outputs": [
    {
     "data": {
      "image/png": "[encoded data removed]",
      "text/plain": [
       "<Figure size 792x504 with 2 Axes>"
      ]
     },
     "metadata": {
      "needs_background": "light"
     },
     "output_type": "display_data"
    }
   ],
   "source": [
    "plt.figure(figsize=(11,7))\n",
    "sns.heatmap(df1.corr(),annot=True);\n"
   ]
  },
  {
   "cell_type": "markdown",
   "metadata": {},
   "source": [
    "### <span style='color:Blue'> **Question - 19. Show the corrleation between 0 and 1.** </span>"
   ]
  },
  {
   "cell_type": "code",
   "execution_count": 37,
   "metadata": {},
   "outputs": [
    {
     "data": {
      "text/html": [
       "<div>\n",
       "<style scoped>\n",
       "    .dataframe tbody tr th:only-of-type {\n",
       "        vertical-align: middle;\n",
       "    }\n",
       "\n",
       "    .dataframe tbody tr th {\n",
       "        vertical-align: top;\n",
       "    }\n",
       "\n",
       "    .dataframe thead th {\n",
       "        text-align: right;\n",
       "    }\n",
       "</style>\n",
       "<table border=\"1\" class=\"dataframe\">\n",
       "  <thead>\n",
       "    <tr style=\"text-align: right;\">\n",
       "      <th></th>\n",
       "      <th>Order</th>\n",
       "      <th>SKU_number</th>\n",
       "      <th>SoldFlag</th>\n",
       "      <th>SoldCount</th>\n",
       "      <th>ReleaseNumber</th>\n",
       "      <th>New_Release_Flag</th>\n",
       "      <th>StrengthFactor</th>\n",
       "      <th>PriceReg</th>\n",
       "      <th>ReleaseYear</th>\n",
       "      <th>ItemCount</th>\n",
       "      <th>LowUserPrice</th>\n",
       "      <th>LowNetPrice</th>\n",
       "      <th>zscore</th>\n",
       "    </tr>\n",
       "  </thead>\n",
       "  <tbody>\n",
       "    <tr>\n",
       "      <th>Order</th>\n",
       "      <td>1.000000</td>\n",
       "      <td>0.042315</td>\n",
       "      <td>-0.173916</td>\n",
       "      <td>-0.120138</td>\n",
       "      <td>-0.051046</td>\n",
       "      <td>-0.047702</td>\n",
       "      <td>-0.148539</td>\n",
       "      <td>-0.050550</td>\n",
       "      <td>0.037010</td>\n",
       "      <td>0.025081</td>\n",
       "      <td>-0.292686</td>\n",
       "      <td>-0.022892</td>\n",
       "      <td>-0.051046</td>\n",
       "    </tr>\n",
       "    <tr>\n",
       "      <th>SKU_number</th>\n",
       "      <td>0.042315</td>\n",
       "      <td>1.000000</td>\n",
       "      <td>-0.108202</td>\n",
       "      <td>-0.072361</td>\n",
       "      <td>-0.210245</td>\n",
       "      <td>-0.296522</td>\n",
       "      <td>0.178424</td>\n",
       "      <td>-0.144848</td>\n",
       "      <td>-0.117989</td>\n",
       "      <td>-0.259904</td>\n",
       "      <td>-0.058901</td>\n",
       "      <td>0.035728</td>\n",
       "      <td>-0.210245</td>\n",
       "    </tr>\n",
       "    <tr>\n",
       "      <th>SoldFlag</th>\n",
       "      <td>-0.173916</td>\n",
       "      <td>-0.108202</td>\n",
       "      <td>1.000000</td>\n",
       "      <td>0.607248</td>\n",
       "      <td>0.075940</td>\n",
       "      <td>0.006877</td>\n",
       "      <td>-0.144816</td>\n",
       "      <td>0.084213</td>\n",
       "      <td>0.071994</td>\n",
       "      <td>0.236860</td>\n",
       "      <td>0.058525</td>\n",
       "      <td>-0.013734</td>\n",
       "      <td>0.075940</td>\n",
       "    </tr>\n",
       "    <tr>\n",
       "      <th>SoldCount</th>\n",
       "      <td>-0.120138</td>\n",
       "      <td>-0.072361</td>\n",
       "      <td>0.607248</td>\n",
       "      <td>1.000000</td>\n",
       "      <td>0.055435</td>\n",
       "      <td>-0.005201</td>\n",
       "      <td>-0.109237</td>\n",
       "      <td>0.056702</td>\n",
       "      <td>0.070090</td>\n",
       "      <td>0.224002</td>\n",
       "      <td>0.042608</td>\n",
       "      <td>-0.011965</td>\n",
       "      <td>0.055435</td>\n",
       "    </tr>\n",
       "    <tr>\n",
       "      <th>ReleaseNumber</th>\n",
       "      <td>-0.051046</td>\n",
       "      <td>-0.210245</td>\n",
       "      <td>0.075940</td>\n",
       "      <td>0.055435</td>\n",
       "      <td>1.000000</td>\n",
       "      <td>0.561506</td>\n",
       "      <td>-0.066511</td>\n",
       "      <td>0.167343</td>\n",
       "      <td>0.115710</td>\n",
       "      <td>0.164814</td>\n",
       "      <td>0.086223</td>\n",
       "      <td>0.017594</td>\n",
       "      <td>1.000000</td>\n",
       "    </tr>\n",
       "    <tr>\n",
       "      <th>New_Release_Flag</th>\n",
       "      <td>-0.047702</td>\n",
       "      <td>-0.296522</td>\n",
       "      <td>0.006877</td>\n",
       "      <td>-0.005201</td>\n",
       "      <td>0.561506</td>\n",
       "      <td>1.000000</td>\n",
       "      <td>-0.023783</td>\n",
       "      <td>0.161047</td>\n",
       "      <td>0.068657</td>\n",
       "      <td>0.147317</td>\n",
       "      <td>0.084557</td>\n",
       "      <td>0.016698</td>\n",
       "      <td>0.561506</td>\n",
       "    </tr>\n",
       "    <tr>\n",
       "      <th>StrengthFactor</th>\n",
       "      <td>-0.148539</td>\n",
       "      <td>0.178424</td>\n",
       "      <td>-0.144816</td>\n",
       "      <td>-0.109237</td>\n",
       "      <td>-0.066511</td>\n",
       "      <td>-0.023783</td>\n",
       "      <td>1.000000</td>\n",
       "      <td>0.033239</td>\n",
       "      <td>-0.275417</td>\n",
       "      <td>-0.249535</td>\n",
       "      <td>0.022484</td>\n",
       "      <td>0.055824</td>\n",
       "      <td>-0.066511</td>\n",
       "    </tr>\n",
       "    <tr>\n",
       "      <th>PriceReg</th>\n",
       "      <td>-0.050550</td>\n",
       "      <td>-0.144848</td>\n",
       "      <td>0.084213</td>\n",
       "      <td>0.056702</td>\n",
       "      <td>0.167343</td>\n",
       "      <td>0.161047</td>\n",
       "      <td>0.033239</td>\n",
       "      <td>1.000000</td>\n",
       "      <td>-0.010082</td>\n",
       "      <td>0.067112</td>\n",
       "      <td>0.135210</td>\n",
       "      <td>0.117767</td>\n",
       "      <td>0.167343</td>\n",
       "    </tr>\n",
       "    <tr>\n",
       "      <th>ReleaseYear</th>\n",
       "      <td>0.037010</td>\n",
       "      <td>-0.117989</td>\n",
       "      <td>0.071994</td>\n",
       "      <td>0.070090</td>\n",
       "      <td>0.115710</td>\n",
       "      <td>0.068657</td>\n",
       "      <td>-0.275417</td>\n",
       "      <td>-0.010082</td>\n",
       "      <td>1.000000</td>\n",
       "      <td>0.033456</td>\n",
       "      <td>0.022759</td>\n",
       "      <td>-0.018850</td>\n",
       "      <td>0.115710</td>\n",
       "    </tr>\n",
       "    <tr>\n",
       "      <th>ItemCount</th>\n",
       "      <td>0.025081</td>\n",
       "      <td>-0.259904</td>\n",
       "      <td>0.236860</td>\n",
       "      <td>0.224002</td>\n",
       "      <td>0.164814</td>\n",
       "      <td>0.147317</td>\n",
       "      <td>-0.249535</td>\n",
       "      <td>0.067112</td>\n",
       "      <td>0.033456</td>\n",
       "      <td>1.000000</td>\n",
       "      <td>0.002236</td>\n",
       "      <td>-0.071282</td>\n",
       "      <td>0.164814</td>\n",
       "    </tr>\n",
       "    <tr>\n",
       "      <th>LowUserPrice</th>\n",
       "      <td>-0.292686</td>\n",
       "      <td>-0.058901</td>\n",
       "      <td>0.058525</td>\n",
       "      <td>0.042608</td>\n",
       "      <td>0.086223</td>\n",
       "      <td>0.084557</td>\n",
       "      <td>0.022484</td>\n",
       "      <td>0.135210</td>\n",
       "      <td>0.022759</td>\n",
       "      <td>0.002236</td>\n",
       "      <td>1.000000</td>\n",
       "      <td>0.045149</td>\n",
       "      <td>0.086223</td>\n",
       "    </tr>\n",
       "    <tr>\n",
       "      <th>LowNetPrice</th>\n",
       "      <td>-0.022892</td>\n",
       "      <td>0.035728</td>\n",
       "      <td>-0.013734</td>\n",
       "      <td>-0.011965</td>\n",
       "      <td>0.017594</td>\n",
       "      <td>0.016698</td>\n",
       "      <td>0.055824</td>\n",
       "      <td>0.117767</td>\n",
       "      <td>-0.018850</td>\n",
       "      <td>-0.071282</td>\n",
       "      <td>0.045149</td>\n",
       "      <td>1.000000</td>\n",
       "      <td>0.017594</td>\n",
       "    </tr>\n",
       "    <tr>\n",
       "      <th>zscore</th>\n",
       "      <td>-0.051046</td>\n",
       "      <td>-0.210245</td>\n",
       "      <td>0.075940</td>\n",
       "      <td>0.055435</td>\n",
       "      <td>1.000000</td>\n",
       "      <td>0.561506</td>\n",
       "      <td>-0.066511</td>\n",
       "      <td>0.167343</td>\n",
       "      <td>0.115710</td>\n",
       "      <td>0.164814</td>\n",
       "      <td>0.086223</td>\n",
       "      <td>0.017594</td>\n",
       "      <td>1.000000</td>\n",
       "    </tr>\n",
       "  </tbody>\n",
       "</table>\n",
       "</div>"
      ],
      "text/plain": [
       "                     Order  SKU_number  SoldFlag  SoldCount  ReleaseNumber  \\\n",
       "Order             1.000000    0.042315 -0.173916  -0.120138      -0.051046   \n",
       "SKU_number        0.042315    1.000000 -0.108202  -0.072361      -0.210245   \n",
       "SoldFlag         -0.173916   -0.108202  1.000000   0.607248       0.075940   \n",
       "SoldCount        -0.120138   -0.072361  0.607248   1.000000       0.055435   \n",
       "ReleaseNumber    -0.051046   -0.210245  0.075940   0.055435       1.000000   \n",
       "New_Release_Flag -0.047702   -0.296522  0.006877  -0.005201       0.561506   \n",
       "StrengthFactor   -0.148539    0.178424 -0.144816  -0.109237      -0.066511   \n",
       "PriceReg         -0.050550   -0.144848  0.084213   0.056702       0.167343   \n",
       "ReleaseYear       0.037010   -0.117989  0.071994   0.070090       0.115710   \n",
       "ItemCount         0.025081   -0.259904  0.236860   0.224002       0.164814   \n",
       "LowUserPrice     -0.292686   -0.058901  0.058525   0.042608       0.086223   \n",
       "LowNetPrice      -0.022892    0.035728 -0.013734  -0.011965       0.017594   \n",
       "zscore           -0.051046   -0.210245  0.075940   0.055435       1.000000   \n",
       "\n",
       "                  New_Release_Flag  StrengthFactor  PriceReg  ReleaseYear  \\\n",
       "Order                    -0.047702       -0.148539 -0.050550     0.037010   \n",
       "SKU_number               -0.296522        0.178424 -0.144848    -0.117989   \n",
       "SoldFlag                  0.006877       -0.144816  0.084213     0.071994   \n",
       "SoldCount                -0.005201       -0.109237  0.056702     0.070090   \n",
       "ReleaseNumber             0.561506       -0.066511  0.167343     0.115710   \n",
       "New_Release_Flag          1.000000       -0.023783  0.161047     0.068657   \n",
       "StrengthFactor           -0.023783        1.000000  0.033239    -0.275417   \n",
       "PriceReg                  0.161047        0.033239  1.000000    -0.010082   \n",
       "ReleaseYear               0.068657       -0.275417 -0.010082     1.000000   \n",
       "ItemCount                 0.147317       -0.249535  0.067112     0.033456   \n",
       "LowUserPrice              0.084557        0.022484  0.135210     0.022759   \n",
       "LowNetPrice               0.016698        0.055824  0.117767    -0.018850   \n",
       "zscore                    0.561506       -0.066511  0.167343     0.115710   \n",
       "\n",
       "                  ItemCount  LowUserPrice  LowNetPrice    zscore  \n",
       "Order              0.025081     -0.292686    -0.022892 -0.051046  \n",
       "SKU_number        -0.259904     -0.058901     0.035728 -0.210245  \n",
       "SoldFlag           0.236860      0.058525    -0.013734  0.075940  \n",
       "SoldCount          0.224002      0.042608    -0.011965  0.055435  \n",
       "ReleaseNumber      0.164814      0.086223     0.017594  1.000000  \n",
       "New_Release_Flag   0.147317      0.084557     0.016698  0.561506  \n",
       "StrengthFactor    -0.249535      0.022484     0.055824 -0.066511  \n",
       "PriceReg           0.067112      0.135210     0.117767  0.167343  \n",
       "ReleaseYear        0.033456      0.022759    -0.018850  0.115710  \n",
       "ItemCount          1.000000      0.002236    -0.071282  0.164814  \n",
       "LowUserPrice       0.002236      1.000000     0.045149  0.086223  \n",
       "LowNetPrice       -0.071282      0.045149     1.000000  0.017594  \n",
       "zscore             0.164814      0.086223     0.017594  1.000000  "
      ]
     },
     "execution_count": 37,
     "metadata": {},
     "output_type": "execute_result"
    }
   ],
   "source": [
    "df1.corr()"
   ]
  },
  {
   "cell_type": "markdown",
   "metadata": {},
   "source": [
    "### <span style='color:Blue'> **Question - 20. Summaries the data with categorical variable.** </span>"
   ]
  },
  {
   "cell_type": "code",
   "execution_count": null,
   "metadata": {},
   "outputs": [],
   "source": [
    "df1.describe(include='all')"
   ]
  },
  {
   "cell_type": "markdown",
   "metadata": {},
   "source": [
    "### <span style='color:Blue'> **Question - 21. Calculate the mean and median of SKU_number.** </span>"
   ]
  },
  {
   "cell_type": "code",
   "execution_count": null,
   "metadata": {
    "scrolled": true
   },
   "outputs": [],
   "source": [
    "# Mean\n",
    "print('The mean of SKU_number is',df1['SKU_number'].mean())"
   ]
  },
  {
   "cell_type": "code",
   "execution_count": null,
   "metadata": {},
   "outputs": [],
   "source": [
    "# Median\n",
    "print('The median of SKU_number is',df1['SKU_number'].median())"
   ]
  },
  {
   "cell_type": "markdown",
   "metadata": {},
   "source": [
    "### <span style='color:Blue'> **Question - 22. Calculate the mean and median of PriceCount.** </span>"
   ]
  },
  {
   "cell_type": "code",
   "execution_count": 33,
   "metadata": {},
   "outputs": [
    {
     "name": "stdout",
     "output_type": "stream",
     "text": [
      "The mean of PriceReg is 90.89524344312792\n"
     ]
    }
   ],
   "source": [
    "# Mean\n",
    "print('The mean of PriceReg is',df1['PriceReg'].mean())"
   ]
  },
  {
   "cell_type": "code",
   "execution_count": 34,
   "metadata": {},
   "outputs": [
    {
     "name": "stdout",
     "output_type": "stream",
     "text": [
      "The median of PriceReg is 69.95\n"
     ]
    }
   ],
   "source": [
    "# Median\n",
    "print('The median of PriceReg is',df1['PriceReg'].median())"
   ]
  },
  {
   "cell_type": "markdown",
   "metadata": {},
   "source": [
    "### <span style='color:Blue'> **Question - 23.Convert the File_Type columns to numerical.** </span>"
   ]
  },
  {
   "cell_type": "code",
   "execution_count": 50,
   "metadata": {},
   "outputs": [],
   "source": [
    "from sklearn.preprocessing import LabelEncoder\n",
    "LE=LabelEncoder()"
   ]
  },
  {
   "cell_type": "code",
   "execution_count": 55,
   "metadata": {},
   "outputs": [
    {
     "data": {
      "text/html": [
       "<div>\n",
       "<style scoped>\n",
       "    .dataframe tbody tr th:only-of-type {\n",
       "        vertical-align: middle;\n",
       "    }\n",
       "\n",
       "    .dataframe tbody tr th {\n",
       "        vertical-align: top;\n",
       "    }\n",
       "\n",
       "    .dataframe thead th {\n",
       "        text-align: right;\n",
       "    }\n",
       "</style>\n",
       "<table border=\"1\" class=\"dataframe\">\n",
       "  <thead>\n",
       "    <tr style=\"text-align: right;\">\n",
       "      <th></th>\n",
       "      <th>Order</th>\n",
       "      <th>File_Type</th>\n",
       "      <th>SKU_number</th>\n",
       "      <th>SoldFlag</th>\n",
       "      <th>SoldCount</th>\n",
       "      <th>MarketingType</th>\n",
       "      <th>ReleaseNumber</th>\n",
       "      <th>New_Release_Flag</th>\n",
       "      <th>StrengthFactor</th>\n",
       "      <th>PriceReg</th>\n",
       "      <th>ReleaseYear</th>\n",
       "      <th>ItemCount</th>\n",
       "      <th>LowUserPrice</th>\n",
       "      <th>LowNetPrice</th>\n",
       "      <th>zscore</th>\n",
       "      <th>FileType_LE</th>\n",
       "    </tr>\n",
       "  </thead>\n",
       "  <tbody>\n",
       "    <tr>\n",
       "      <th>0</th>\n",
       "      <td>2</td>\n",
       "      <td>Historical</td>\n",
       "      <td>1737127</td>\n",
       "      <td>0.0</td>\n",
       "      <td>0.0</td>\n",
       "      <td>D</td>\n",
       "      <td>15</td>\n",
       "      <td>1</td>\n",
       "      <td>682743.0</td>\n",
       "      <td>44.99</td>\n",
       "      <td>2015</td>\n",
       "      <td>8</td>\n",
       "      <td>28.97</td>\n",
       "      <td>31.84</td>\n",
       "      <td>2.998732</td>\n",
       "      <td>1</td>\n",
       "    </tr>\n",
       "    <tr>\n",
       "      <th>1</th>\n",
       "      <td>3</td>\n",
       "      <td>Historical</td>\n",
       "      <td>3255963</td>\n",
       "      <td>0.0</td>\n",
       "      <td>0.0</td>\n",
       "      <td>D</td>\n",
       "      <td>7</td>\n",
       "      <td>1</td>\n",
       "      <td>1016014.0</td>\n",
       "      <td>24.81</td>\n",
       "      <td>2005</td>\n",
       "      <td>39</td>\n",
       "      <td>0.00</td>\n",
       "      <td>15.54</td>\n",
       "      <td>0.928463</td>\n",
       "      <td>1</td>\n",
       "    </tr>\n",
       "    <tr>\n",
       "      <th>2</th>\n",
       "      <td>4</td>\n",
       "      <td>Historical</td>\n",
       "      <td>612701</td>\n",
       "      <td>0.0</td>\n",
       "      <td>0.0</td>\n",
       "      <td>D</td>\n",
       "      <td>0</td>\n",
       "      <td>0</td>\n",
       "      <td>340464.0</td>\n",
       "      <td>46.00</td>\n",
       "      <td>2013</td>\n",
       "      <td>34</td>\n",
       "      <td>30.19</td>\n",
       "      <td>27.97</td>\n",
       "      <td>-0.883022</td>\n",
       "      <td>1</td>\n",
       "    </tr>\n",
       "    <tr>\n",
       "      <th>3</th>\n",
       "      <td>6</td>\n",
       "      <td>Historical</td>\n",
       "      <td>115883</td>\n",
       "      <td>1.0</td>\n",
       "      <td>1.0</td>\n",
       "      <td>D</td>\n",
       "      <td>4</td>\n",
       "      <td>1</td>\n",
       "      <td>334011.0</td>\n",
       "      <td>100.00</td>\n",
       "      <td>2006</td>\n",
       "      <td>20</td>\n",
       "      <td>133.93</td>\n",
       "      <td>83.15</td>\n",
       "      <td>0.152112</td>\n",
       "      <td>1</td>\n",
       "    </tr>\n",
       "    <tr>\n",
       "      <th>4</th>\n",
       "      <td>7</td>\n",
       "      <td>Historical</td>\n",
       "      <td>863939</td>\n",
       "      <td>1.0</td>\n",
       "      <td>1.0</td>\n",
       "      <td>D</td>\n",
       "      <td>2</td>\n",
       "      <td>1</td>\n",
       "      <td>1287938.0</td>\n",
       "      <td>121.95</td>\n",
       "      <td>2010</td>\n",
       "      <td>28</td>\n",
       "      <td>4.00</td>\n",
       "      <td>23.99</td>\n",
       "      <td>-0.365455</td>\n",
       "      <td>1</td>\n",
       "    </tr>\n",
       "  </tbody>\n",
       "</table>\n",
       "</div>"
      ],
      "text/plain": [
       "   Order   File_Type  SKU_number  SoldFlag  SoldCount MarketingType  \\\n",
       "0      2  Historical     1737127       0.0        0.0             D   \n",
       "1      3  Historical     3255963       0.0        0.0             D   \n",
       "2      4  Historical      612701       0.0        0.0             D   \n",
       "3      6  Historical      115883       1.0        1.0             D   \n",
       "4      7  Historical      863939       1.0        1.0             D   \n",
       "\n",
       "   ReleaseNumber  New_Release_Flag  StrengthFactor  PriceReg  ReleaseYear  \\\n",
       "0             15                 1        682743.0     44.99         2015   \n",
       "1              7                 1       1016014.0     24.81         2005   \n",
       "2              0                 0        340464.0     46.00         2013   \n",
       "3              4                 1        334011.0    100.00         2006   \n",
       "4              2                 1       1287938.0    121.95         2010   \n",
       "\n",
       "   ItemCount  LowUserPrice  LowNetPrice    zscore  FileType_LE  \n",
       "0          8         28.97        31.84  2.998732            1  \n",
       "1         39          0.00        15.54  0.928463            1  \n",
       "2         34         30.19        27.97 -0.883022            1  \n",
       "3         20        133.93        83.15  0.152112            1  \n",
       "4         28          4.00        23.99 -0.365455            1  "
      ]
     },
     "execution_count": 55,
     "metadata": {},
     "output_type": "execute_result"
    }
   ],
   "source": [
    "df1['FileType_LE']=LE.fit_transform(df1['File_Type'])\n",
    "df1.head()"
   ]
  },
  {
   "cell_type": "code",
   "execution_count": 56,
   "metadata": {},
   "outputs": [
    {
     "data": {
      "text/plain": [
       "array(['Historical', 'Active'], dtype=object)"
      ]
     },
     "execution_count": 56,
     "metadata": {},
     "output_type": "execute_result"
    }
   ],
   "source": [
    "df['File_Type'].unique()"
   ]
  },
  {
   "cell_type": "code",
   "execution_count": 57,
   "metadata": {},
   "outputs": [
    {
     "data": {
      "text/plain": [
       "array([1, 0])"
      ]
     },
     "execution_count": 57,
     "metadata": {},
     "output_type": "execute_result"
    }
   ],
   "source": [
    "df['FileType_LE'].unique()"
   ]
  },
  {
   "cell_type": "markdown",
   "metadata": {},
   "source": [
    "### <span style='color:Blue'> **Question - 24.Handle the remaining categorical data.** </span>"
   ]
  },
  {
   "cell_type": "code",
   "execution_count": null,
   "metadata": {},
   "outputs": [],
   "source": [
    "#write observation and code here"
   ]
  },
  {
   "cell_type": "markdown",
   "metadata": {},
   "source": [
    "### <span style='color:Blue'> **Question - 25.Normalize the data.** </span>"
   ]
  },
  {
   "cell_type": "code",
   "execution_count": null,
   "metadata": {},
   "outputs": [],
   "source": [
    "#write observation and code here"
   ]
  }
 ],
 "metadata": {
  "kernelspec": {
   "display_name": "Python 3 (ipykernel)",
   "language": "python",
   "name": "python3"
  },
  "language_info": {
   "codemirror_mode": {
    "name": "ipython",
    "version": 3
   },
   "file_extension": ".py",
   "mimetype": "text/x-python",
   "name": "python",
   "nbconvert_exporter": "python",
   "pygments_lexer": "ipython3",
   "version": "3.9.12"
  }
 },
 "nbformat": 4,
 "nbformat_minor": 4
}

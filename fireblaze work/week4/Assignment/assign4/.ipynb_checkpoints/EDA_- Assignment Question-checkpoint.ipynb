{
 "cells": [
  {
   "cell_type": "markdown",
   "metadata": {},
   "source": [
    "<img src=\"fireblaze.jpg\" width=250 height=200 />"
   ]
  },
  {
   "cell_type": "markdown",
   "metadata": {},
   "source": [
    "## <p style=\"font-family: Arial; font-size:1.4em;color:red; style='background :yellow'\"> Assignment</p>\n"
   ]
  },
  {
   "cell_type": "markdown",
   "metadata": {},
   "source": [
    "<span style='color:Red'> **About The Dataset(Sales Dataset)** </span>"
   ]
  },
  {
   "cell_type": "markdown",
   "metadata": {},
   "source": [
    "Here are the definitions for a few of the columns:\n",
    "* **File_Type:** The value “Active” means that the particular product needs investigation\n",
    "\n",
    "* **SoldFlag:** The value 1 = sale, 0 = no sale in past six months\n",
    "\n",
    "* **SKU_number:** This is the unique identifier for each product.\n",
    "\n",
    "* **Order:** Just a sequential counter. Can be ignored.\n",
    "\n",
    "* **SoldFlag:** 1 = sold in past 6 mos. 0 = Not sold\n",
    "\n",
    "* **MarketingType:** Two categories of how we market the product.\n",
    "\n",
    "* **New_Release_Flag:** Any product that has had a future release (i.e., Release Number > 1)"
   ]
  },
  {
   "cell_type": "markdown",
   "metadata": {},
   "source": [
    "<span style='color:Blue'> **Import the Required Libraries** </span>"
   ]
  },
  {
   "cell_type": "code",
   "execution_count": 1,
   "metadata": {},
   "outputs": [],
   "source": [
    "import matplotlib.pyplot as plt\n",
    "import pandas as pd\n",
    "import seaborn as sns\n",
    "import numpy as np"
   ]
  },
  {
   "cell_type": "markdown",
   "metadata": {},
   "source": [
    "### <span style='color:Blue'> **Question - 1.Read the Sales dataset and display the top five rows** </span>"
   ]
  },
  {
   "cell_type": "code",
   "execution_count": 2,
   "metadata": {},
   "outputs": [
    {
     "data": {
      "text/html": [
       "<div>\n",
       "<style scoped>\n",
       "    .dataframe tbody tr th:only-of-type {\n",
       "        vertical-align: middle;\n",
       "    }\n",
       "\n",
       "    .dataframe tbody tr th {\n",
       "        vertical-align: top;\n",
       "    }\n",
       "\n",
       "    .dataframe thead th {\n",
       "        text-align: right;\n",
       "    }\n",
       "</style>\n",
       "<table border=\"1\" class=\"dataframe\">\n",
       "  <thead>\n",
       "    <tr style=\"text-align: right;\">\n",
       "      <th></th>\n",
       "      <th>Order</th>\n",
       "      <th>File_Type</th>\n",
       "      <th>SKU_number</th>\n",
       "      <th>SoldFlag</th>\n",
       "      <th>SoldCount</th>\n",
       "      <th>MarketingType</th>\n",
       "      <th>ReleaseNumber</th>\n",
       "      <th>New_Release_Flag</th>\n",
       "      <th>StrengthFactor</th>\n",
       "      <th>PriceReg</th>\n",
       "      <th>ReleaseYear</th>\n",
       "      <th>ItemCount</th>\n",
       "      <th>LowUserPrice</th>\n",
       "      <th>LowNetPrice</th>\n",
       "    </tr>\n",
       "  </thead>\n",
       "  <tbody>\n",
       "    <tr>\n",
       "      <th>0</th>\n",
       "      <td>2</td>\n",
       "      <td>Historical</td>\n",
       "      <td>1737127</td>\n",
       "      <td>0.0</td>\n",
       "      <td>0.0</td>\n",
       "      <td>D</td>\n",
       "      <td>15</td>\n",
       "      <td>1</td>\n",
       "      <td>682743.0</td>\n",
       "      <td>44.99</td>\n",
       "      <td>2015</td>\n",
       "      <td>8</td>\n",
       "      <td>28.97</td>\n",
       "      <td>31.84</td>\n",
       "    </tr>\n",
       "    <tr>\n",
       "      <th>1</th>\n",
       "      <td>3</td>\n",
       "      <td>Historical</td>\n",
       "      <td>3255963</td>\n",
       "      <td>0.0</td>\n",
       "      <td>0.0</td>\n",
       "      <td>D</td>\n",
       "      <td>7</td>\n",
       "      <td>1</td>\n",
       "      <td>1016014.0</td>\n",
       "      <td>24.81</td>\n",
       "      <td>2005</td>\n",
       "      <td>39</td>\n",
       "      <td>0.00</td>\n",
       "      <td>15.54</td>\n",
       "    </tr>\n",
       "    <tr>\n",
       "      <th>2</th>\n",
       "      <td>4</td>\n",
       "      <td>Historical</td>\n",
       "      <td>612701</td>\n",
       "      <td>0.0</td>\n",
       "      <td>0.0</td>\n",
       "      <td>D</td>\n",
       "      <td>0</td>\n",
       "      <td>0</td>\n",
       "      <td>340464.0</td>\n",
       "      <td>46.00</td>\n",
       "      <td>2013</td>\n",
       "      <td>34</td>\n",
       "      <td>30.19</td>\n",
       "      <td>27.97</td>\n",
       "    </tr>\n",
       "    <tr>\n",
       "      <th>3</th>\n",
       "      <td>6</td>\n",
       "      <td>Historical</td>\n",
       "      <td>115883</td>\n",
       "      <td>1.0</td>\n",
       "      <td>1.0</td>\n",
       "      <td>D</td>\n",
       "      <td>4</td>\n",
       "      <td>1</td>\n",
       "      <td>334011.0</td>\n",
       "      <td>100.00</td>\n",
       "      <td>2006</td>\n",
       "      <td>20</td>\n",
       "      <td>133.93</td>\n",
       "      <td>83.15</td>\n",
       "    </tr>\n",
       "    <tr>\n",
       "      <th>4</th>\n",
       "      <td>7</td>\n",
       "      <td>Historical</td>\n",
       "      <td>863939</td>\n",
       "      <td>1.0</td>\n",
       "      <td>1.0</td>\n",
       "      <td>D</td>\n",
       "      <td>2</td>\n",
       "      <td>1</td>\n",
       "      <td>1287938.0</td>\n",
       "      <td>121.95</td>\n",
       "      <td>2010</td>\n",
       "      <td>28</td>\n",
       "      <td>4.00</td>\n",
       "      <td>23.99</td>\n",
       "    </tr>\n",
       "    <tr>\n",
       "      <th>5</th>\n",
       "      <td>8</td>\n",
       "      <td>Historical</td>\n",
       "      <td>214948</td>\n",
       "      <td>0.0</td>\n",
       "      <td>0.0</td>\n",
       "      <td>D</td>\n",
       "      <td>0</td>\n",
       "      <td>0</td>\n",
       "      <td>1783153.0</td>\n",
       "      <td>132.00</td>\n",
       "      <td>2011</td>\n",
       "      <td>33</td>\n",
       "      <td>138.98</td>\n",
       "      <td>13.64</td>\n",
       "    </tr>\n",
       "    <tr>\n",
       "      <th>6</th>\n",
       "      <td>9</td>\n",
       "      <td>Historical</td>\n",
       "      <td>484059</td>\n",
       "      <td>0.0</td>\n",
       "      <td>0.0</td>\n",
       "      <td>D</td>\n",
       "      <td>13</td>\n",
       "      <td>1</td>\n",
       "      <td>2314801.0</td>\n",
       "      <td>95.95</td>\n",
       "      <td>2010</td>\n",
       "      <td>33</td>\n",
       "      <td>90.77</td>\n",
       "      <td>46.49</td>\n",
       "    </tr>\n",
       "    <tr>\n",
       "      <th>7</th>\n",
       "      <td>10</td>\n",
       "      <td>Historical</td>\n",
       "      <td>146401</td>\n",
       "      <td>0.0</td>\n",
       "      <td>0.0</td>\n",
       "      <td>D</td>\n",
       "      <td>4</td>\n",
       "      <td>1</td>\n",
       "      <td>721111.0</td>\n",
       "      <td>207.80</td>\n",
       "      <td>2011</td>\n",
       "      <td>57</td>\n",
       "      <td>187.90</td>\n",
       "      <td>30.56</td>\n",
       "    </tr>\n",
       "    <tr>\n",
       "      <th>8</th>\n",
       "      <td>11</td>\n",
       "      <td>Historical</td>\n",
       "      <td>110568</td>\n",
       "      <td>0.0</td>\n",
       "      <td>0.0</td>\n",
       "      <td>D</td>\n",
       "      <td>11</td>\n",
       "      <td>1</td>\n",
       "      <td>436667.0</td>\n",
       "      <td>119.81</td>\n",
       "      <td>2008</td>\n",
       "      <td>36</td>\n",
       "      <td>63.99</td>\n",
       "      <td>96.92</td>\n",
       "    </tr>\n",
       "    <tr>\n",
       "      <th>9</th>\n",
       "      <td>12</td>\n",
       "      <td>Historical</td>\n",
       "      <td>764270</td>\n",
       "      <td>0.0</td>\n",
       "      <td>0.0</td>\n",
       "      <td>D</td>\n",
       "      <td>5</td>\n",
       "      <td>1</td>\n",
       "      <td>6652211.0</td>\n",
       "      <td>49.95</td>\n",
       "      <td>2004</td>\n",
       "      <td>19</td>\n",
       "      <td>53.99</td>\n",
       "      <td>28.99</td>\n",
       "    </tr>\n",
       "    <tr>\n",
       "      <th>10</th>\n",
       "      <td>13</td>\n",
       "      <td>Historical</td>\n",
       "      <td>1597828</td>\n",
       "      <td>0.0</td>\n",
       "      <td>0.0</td>\n",
       "      <td>D</td>\n",
       "      <td>9</td>\n",
       "      <td>1</td>\n",
       "      <td>161348.0</td>\n",
       "      <td>36.95</td>\n",
       "      <td>2008</td>\n",
       "      <td>21</td>\n",
       "      <td>0.00</td>\n",
       "      <td>27.98</td>\n",
       "    </tr>\n",
       "    <tr>\n",
       "      <th>11</th>\n",
       "      <td>14</td>\n",
       "      <td>Historical</td>\n",
       "      <td>178736</td>\n",
       "      <td>0.0</td>\n",
       "      <td>0.0</td>\n",
       "      <td>D</td>\n",
       "      <td>4</td>\n",
       "      <td>1</td>\n",
       "      <td>3005118.0</td>\n",
       "      <td>55.95</td>\n",
       "      <td>2010</td>\n",
       "      <td>16</td>\n",
       "      <td>34.51</td>\n",
       "      <td>11.52</td>\n",
       "    </tr>\n",
       "    <tr>\n",
       "      <th>12</th>\n",
       "      <td>15</td>\n",
       "      <td>Historical</td>\n",
       "      <td>525904</td>\n",
       "      <td>0.0</td>\n",
       "      <td>0.0</td>\n",
       "      <td>D</td>\n",
       "      <td>10</td>\n",
       "      <td>1</td>\n",
       "      <td>1785056.0</td>\n",
       "      <td>104.99</td>\n",
       "      <td>2010</td>\n",
       "      <td>15</td>\n",
       "      <td>4.39</td>\n",
       "      <td>73.89</td>\n",
       "    </tr>\n",
       "    <tr>\n",
       "      <th>13</th>\n",
       "      <td>16</td>\n",
       "      <td>Historical</td>\n",
       "      <td>3016759</td>\n",
       "      <td>0.0</td>\n",
       "      <td>0.0</td>\n",
       "      <td>D</td>\n",
       "      <td>2</td>\n",
       "      <td>1</td>\n",
       "      <td>4323581.0</td>\n",
       "      <td>0.00</td>\n",
       "      <td>1994</td>\n",
       "      <td>26</td>\n",
       "      <td>0.00</td>\n",
       "      <td>61.85</td>\n",
       "    </tr>\n",
       "    <tr>\n",
       "      <th>14</th>\n",
       "      <td>17</td>\n",
       "      <td>Historical</td>\n",
       "      <td>169222</td>\n",
       "      <td>0.0</td>\n",
       "      <td>0.0</td>\n",
       "      <td>D</td>\n",
       "      <td>8</td>\n",
       "      <td>1</td>\n",
       "      <td>2352021.0</td>\n",
       "      <td>129.95</td>\n",
       "      <td>2006</td>\n",
       "      <td>22</td>\n",
       "      <td>75.84</td>\n",
       "      <td>8.97</td>\n",
       "    </tr>\n",
       "    <tr>\n",
       "      <th>15</th>\n",
       "      <td>18</td>\n",
       "      <td>Historical</td>\n",
       "      <td>3071053</td>\n",
       "      <td>0.0</td>\n",
       "      <td>0.0</td>\n",
       "      <td>D</td>\n",
       "      <td>5</td>\n",
       "      <td>1</td>\n",
       "      <td>7693526.0</td>\n",
       "      <td>64.95</td>\n",
       "      <td>2005</td>\n",
       "      <td>12</td>\n",
       "      <td>128.99</td>\n",
       "      <td>37.39</td>\n",
       "    </tr>\n",
       "    <tr>\n",
       "      <th>16</th>\n",
       "      <td>19</td>\n",
       "      <td>Historical</td>\n",
       "      <td>110699</td>\n",
       "      <td>1.0</td>\n",
       "      <td>1.0</td>\n",
       "      <td>D</td>\n",
       "      <td>6</td>\n",
       "      <td>1</td>\n",
       "      <td>383129.0</td>\n",
       "      <td>120.39</td>\n",
       "      <td>2007</td>\n",
       "      <td>69</td>\n",
       "      <td>170.45</td>\n",
       "      <td>78.99</td>\n",
       "    </tr>\n",
       "    <tr>\n",
       "      <th>17</th>\n",
       "      <td>20</td>\n",
       "      <td>Historical</td>\n",
       "      <td>115159</td>\n",
       "      <td>0.0</td>\n",
       "      <td>0.0</td>\n",
       "      <td>D</td>\n",
       "      <td>1</td>\n",
       "      <td>0</td>\n",
       "      <td>909831.0</td>\n",
       "      <td>126.20</td>\n",
       "      <td>2001</td>\n",
       "      <td>33</td>\n",
       "      <td>38.92</td>\n",
       "      <td>44.46</td>\n",
       "    </tr>\n",
       "    <tr>\n",
       "      <th>18</th>\n",
       "      <td>21</td>\n",
       "      <td>Historical</td>\n",
       "      <td>143125</td>\n",
       "      <td>0.0</td>\n",
       "      <td>0.0</td>\n",
       "      <td>D</td>\n",
       "      <td>9</td>\n",
       "      <td>1</td>\n",
       "      <td>2798929.0</td>\n",
       "      <td>167.75</td>\n",
       "      <td>2006</td>\n",
       "      <td>20</td>\n",
       "      <td>6.97</td>\n",
       "      <td>28.49</td>\n",
       "    </tr>\n",
       "    <tr>\n",
       "      <th>19</th>\n",
       "      <td>22</td>\n",
       "      <td>Historical</td>\n",
       "      <td>144296</td>\n",
       "      <td>0.0</td>\n",
       "      <td>0.0</td>\n",
       "      <td>D</td>\n",
       "      <td>2</td>\n",
       "      <td>1</td>\n",
       "      <td>2491442.0</td>\n",
       "      <td>94.60</td>\n",
       "      <td>2001</td>\n",
       "      <td>33</td>\n",
       "      <td>11.23</td>\n",
       "      <td>4.99</td>\n",
       "    </tr>\n",
       "  </tbody>\n",
       "</table>\n",
       "</div>"
      ],
      "text/plain": [
       "    Order   File_Type  SKU_number  SoldFlag  SoldCount MarketingType  \\\n",
       "0       2  Historical     1737127       0.0        0.0             D   \n",
       "1       3  Historical     3255963       0.0        0.0             D   \n",
       "2       4  Historical      612701       0.0        0.0             D   \n",
       "3       6  Historical      115883       1.0        1.0             D   \n",
       "4       7  Historical      863939       1.0        1.0             D   \n",
       "5       8  Historical      214948       0.0        0.0             D   \n",
       "6       9  Historical      484059       0.0        0.0             D   \n",
       "7      10  Historical      146401       0.0        0.0             D   \n",
       "8      11  Historical      110568       0.0        0.0             D   \n",
       "9      12  Historical      764270       0.0        0.0             D   \n",
       "10     13  Historical     1597828       0.0        0.0             D   \n",
       "11     14  Historical      178736       0.0        0.0             D   \n",
       "12     15  Historical      525904       0.0        0.0             D   \n",
       "13     16  Historical     3016759       0.0        0.0             D   \n",
       "14     17  Historical      169222       0.0        0.0             D   \n",
       "15     18  Historical     3071053       0.0        0.0             D   \n",
       "16     19  Historical      110699       1.0        1.0             D   \n",
       "17     20  Historical      115159       0.0        0.0             D   \n",
       "18     21  Historical      143125       0.0        0.0             D   \n",
       "19     22  Historical      144296       0.0        0.0             D   \n",
       "\n",
       "    ReleaseNumber  New_Release_Flag  StrengthFactor  PriceReg  ReleaseYear  \\\n",
       "0              15                 1        682743.0     44.99         2015   \n",
       "1               7                 1       1016014.0     24.81         2005   \n",
       "2               0                 0        340464.0     46.00         2013   \n",
       "3               4                 1        334011.0    100.00         2006   \n",
       "4               2                 1       1287938.0    121.95         2010   \n",
       "5               0                 0       1783153.0    132.00         2011   \n",
       "6              13                 1       2314801.0     95.95         2010   \n",
       "7               4                 1        721111.0    207.80         2011   \n",
       "8              11                 1        436667.0    119.81         2008   \n",
       "9               5                 1       6652211.0     49.95         2004   \n",
       "10              9                 1        161348.0     36.95         2008   \n",
       "11              4                 1       3005118.0     55.95         2010   \n",
       "12             10                 1       1785056.0    104.99         2010   \n",
       "13              2                 1       4323581.0      0.00         1994   \n",
       "14              8                 1       2352021.0    129.95         2006   \n",
       "15              5                 1       7693526.0     64.95         2005   \n",
       "16              6                 1        383129.0    120.39         2007   \n",
       "17              1                 0        909831.0    126.20         2001   \n",
       "18              9                 1       2798929.0    167.75         2006   \n",
       "19              2                 1       2491442.0     94.60         2001   \n",
       "\n",
       "    ItemCount  LowUserPrice  LowNetPrice  \n",
       "0           8         28.97        31.84  \n",
       "1          39          0.00        15.54  \n",
       "2          34         30.19        27.97  \n",
       "3          20        133.93        83.15  \n",
       "4          28          4.00        23.99  \n",
       "5          33        138.98        13.64  \n",
       "6          33         90.77        46.49  \n",
       "7          57        187.90        30.56  \n",
       "8          36         63.99        96.92  \n",
       "9          19         53.99        28.99  \n",
       "10         21          0.00        27.98  \n",
       "11         16         34.51        11.52  \n",
       "12         15          4.39        73.89  \n",
       "13         26          0.00        61.85  \n",
       "14         22         75.84         8.97  \n",
       "15         12        128.99        37.39  \n",
       "16         69        170.45        78.99  \n",
       "17         33         38.92        44.46  \n",
       "18         20          6.97        28.49  \n",
       "19         33         11.23         4.99  "
      ]
     },
     "execution_count": 2,
     "metadata": {},
     "output_type": "execute_result"
    }
   ],
   "source": [
    "df=pd.read_csv('Sales_data.csv')\n",
    "df.head(20)"
   ]
  },
  {
   "cell_type": "markdown",
   "metadata": {},
   "source": [
    "### <span style='color:Blue'> **Question - 2. Display the central tendency, Dispersion, and Shape of Dataset** </span>"
   ]
  },
  {
   "cell_type": "code",
   "execution_count": 3,
   "metadata": {},
   "outputs": [
    {
     "data": {
      "text/html": [
       "<div>\n",
       "<style scoped>\n",
       "    .dataframe tbody tr th:only-of-type {\n",
       "        vertical-align: middle;\n",
       "    }\n",
       "\n",
       "    .dataframe tbody tr th {\n",
       "        vertical-align: top;\n",
       "    }\n",
       "\n",
       "    .dataframe thead th {\n",
       "        text-align: right;\n",
       "    }\n",
       "</style>\n",
       "<table border=\"1\" class=\"dataframe\">\n",
       "  <thead>\n",
       "    <tr style=\"text-align: right;\">\n",
       "      <th></th>\n",
       "      <th>Order</th>\n",
       "      <th>SKU_number</th>\n",
       "      <th>SoldFlag</th>\n",
       "      <th>SoldCount</th>\n",
       "      <th>ReleaseNumber</th>\n",
       "      <th>New_Release_Flag</th>\n",
       "      <th>StrengthFactor</th>\n",
       "      <th>PriceReg</th>\n",
       "      <th>ReleaseYear</th>\n",
       "      <th>ItemCount</th>\n",
       "      <th>LowUserPrice</th>\n",
       "      <th>LowNetPrice</th>\n",
       "    </tr>\n",
       "  </thead>\n",
       "  <tbody>\n",
       "    <tr>\n",
       "      <th>count</th>\n",
       "      <td>198917.000000</td>\n",
       "      <td>1.989170e+05</td>\n",
       "      <td>75996.000000</td>\n",
       "      <td>75996.000000</td>\n",
       "      <td>198917.000000</td>\n",
       "      <td>198917.000000</td>\n",
       "      <td>1.989170e+05</td>\n",
       "      <td>198917.000000</td>\n",
       "      <td>198917.000000</td>\n",
       "      <td>198917.000000</td>\n",
       "      <td>198917.000000</td>\n",
       "      <td>198917.000000</td>\n",
       "    </tr>\n",
       "    <tr>\n",
       "      <th>mean</th>\n",
       "      <td>106483.543242</td>\n",
       "      <td>8.613626e+05</td>\n",
       "      <td>0.171009</td>\n",
       "      <td>0.322306</td>\n",
       "      <td>3.412202</td>\n",
       "      <td>0.642248</td>\n",
       "      <td>1.117115e+06</td>\n",
       "      <td>90.895243</td>\n",
       "      <td>2006.016414</td>\n",
       "      <td>41.426283</td>\n",
       "      <td>30.982487</td>\n",
       "      <td>46.832053</td>\n",
       "    </tr>\n",
       "    <tr>\n",
       "      <th>std</th>\n",
       "      <td>60136.716784</td>\n",
       "      <td>8.699794e+05</td>\n",
       "      <td>0.376519</td>\n",
       "      <td>1.168615</td>\n",
       "      <td>3.864243</td>\n",
       "      <td>0.479340</td>\n",
       "      <td>1.522090e+06</td>\n",
       "      <td>86.736367</td>\n",
       "      <td>9.158331</td>\n",
       "      <td>37.541215</td>\n",
       "      <td>69.066155</td>\n",
       "      <td>128.513236</td>\n",
       "    </tr>\n",
       "    <tr>\n",
       "      <th>min</th>\n",
       "      <td>2.000000</td>\n",
       "      <td>5.000100e+04</td>\n",
       "      <td>0.000000</td>\n",
       "      <td>0.000000</td>\n",
       "      <td>0.000000</td>\n",
       "      <td>0.000000</td>\n",
       "      <td>6.275000e+00</td>\n",
       "      <td>0.000000</td>\n",
       "      <td>0.000000</td>\n",
       "      <td>0.000000</td>\n",
       "      <td>0.000000</td>\n",
       "      <td>0.000000</td>\n",
       "    </tr>\n",
       "    <tr>\n",
       "      <th>25%</th>\n",
       "      <td>55665.000000</td>\n",
       "      <td>2.172520e+05</td>\n",
       "      <td>0.000000</td>\n",
       "      <td>0.000000</td>\n",
       "      <td>1.000000</td>\n",
       "      <td>0.000000</td>\n",
       "      <td>1.614188e+05</td>\n",
       "      <td>42.000000</td>\n",
       "      <td>2003.000000</td>\n",
       "      <td>21.000000</td>\n",
       "      <td>4.910000</td>\n",
       "      <td>17.950000</td>\n",
       "    </tr>\n",
       "    <tr>\n",
       "      <th>50%</th>\n",
       "      <td>108569.000000</td>\n",
       "      <td>6.122080e+05</td>\n",
       "      <td>0.000000</td>\n",
       "      <td>0.000000</td>\n",
       "      <td>2.000000</td>\n",
       "      <td>1.000000</td>\n",
       "      <td>5.822240e+05</td>\n",
       "      <td>69.950000</td>\n",
       "      <td>2007.000000</td>\n",
       "      <td>32.000000</td>\n",
       "      <td>16.080000</td>\n",
       "      <td>33.980000</td>\n",
       "    </tr>\n",
       "    <tr>\n",
       "      <th>75%</th>\n",
       "      <td>158298.000000</td>\n",
       "      <td>9.047510e+05</td>\n",
       "      <td>0.000000</td>\n",
       "      <td>0.000000</td>\n",
       "      <td>5.000000</td>\n",
       "      <td>1.000000</td>\n",
       "      <td>1.430083e+06</td>\n",
       "      <td>116.000000</td>\n",
       "      <td>2011.000000</td>\n",
       "      <td>50.000000</td>\n",
       "      <td>40.240000</td>\n",
       "      <td>55.490000</td>\n",
       "    </tr>\n",
       "    <tr>\n",
       "      <th>max</th>\n",
       "      <td>208027.000000</td>\n",
       "      <td>3.960788e+06</td>\n",
       "      <td>1.000000</td>\n",
       "      <td>73.000000</td>\n",
       "      <td>99.000000</td>\n",
       "      <td>1.000000</td>\n",
       "      <td>1.738445e+07</td>\n",
       "      <td>12671.480000</td>\n",
       "      <td>2018.000000</td>\n",
       "      <td>2542.000000</td>\n",
       "      <td>14140.210000</td>\n",
       "      <td>19138.790000</td>\n",
       "    </tr>\n",
       "  </tbody>\n",
       "</table>\n",
       "</div>"
      ],
      "text/plain": [
       "               Order    SKU_number      SoldFlag     SoldCount  ReleaseNumber  \\\n",
       "count  198917.000000  1.989170e+05  75996.000000  75996.000000  198917.000000   \n",
       "mean   106483.543242  8.613626e+05      0.171009      0.322306       3.412202   \n",
       "std     60136.716784  8.699794e+05      0.376519      1.168615       3.864243   \n",
       "min         2.000000  5.000100e+04      0.000000      0.000000       0.000000   \n",
       "25%     55665.000000  2.172520e+05      0.000000      0.000000       1.000000   \n",
       "50%    108569.000000  6.122080e+05      0.000000      0.000000       2.000000   \n",
       "75%    158298.000000  9.047510e+05      0.000000      0.000000       5.000000   \n",
       "max    208027.000000  3.960788e+06      1.000000     73.000000      99.000000   \n",
       "\n",
       "       New_Release_Flag  StrengthFactor       PriceReg    ReleaseYear  \\\n",
       "count     198917.000000    1.989170e+05  198917.000000  198917.000000   \n",
       "mean           0.642248    1.117115e+06      90.895243    2006.016414   \n",
       "std            0.479340    1.522090e+06      86.736367       9.158331   \n",
       "min            0.000000    6.275000e+00       0.000000       0.000000   \n",
       "25%            0.000000    1.614188e+05      42.000000    2003.000000   \n",
       "50%            1.000000    5.822240e+05      69.950000    2007.000000   \n",
       "75%            1.000000    1.430083e+06     116.000000    2011.000000   \n",
       "max            1.000000    1.738445e+07   12671.480000    2018.000000   \n",
       "\n",
       "           ItemCount   LowUserPrice    LowNetPrice  \n",
       "count  198917.000000  198917.000000  198917.000000  \n",
       "mean       41.426283      30.982487      46.832053  \n",
       "std        37.541215      69.066155     128.513236  \n",
       "min         0.000000       0.000000       0.000000  \n",
       "25%        21.000000       4.910000      17.950000  \n",
       "50%        32.000000      16.080000      33.980000  \n",
       "75%        50.000000      40.240000      55.490000  \n",
       "max      2542.000000   14140.210000   19138.790000  "
      ]
     },
     "execution_count": 3,
     "metadata": {},
     "output_type": "execute_result"
    }
   ],
   "source": [
    "df.describe()"
   ]
  },
  {
   "cell_type": "code",
   "execution_count": 4,
   "metadata": {},
   "outputs": [
    {
     "data": {
      "text/plain": [
       "(198917, 14)"
      ]
     },
     "execution_count": 4,
     "metadata": {},
     "output_type": "execute_result"
    }
   ],
   "source": [
    "df.shape"
   ]
  },
  {
   "cell_type": "markdown",
   "metadata": {},
   "source": [
    "### 1. Missing Value Analysis"
   ]
  },
  {
   "cell_type": "markdown",
   "metadata": {},
   "source": [
    "### <span style='color:Blue'> **Question - 3. Our dataset any missing values? If Yes then how many and which feature has a missing value** </span>"
   ]
  },
  {
   "cell_type": "code",
   "execution_count": 5,
   "metadata": {},
   "outputs": [
    {
     "data": {
      "text/plain": [
       "Order                    0\n",
       "File_Type                0\n",
       "SKU_number               0\n",
       "SoldFlag            122921\n",
       "SoldCount           122921\n",
       "MarketingType            0\n",
       "ReleaseNumber            0\n",
       "New_Release_Flag         0\n",
       "StrengthFactor           0\n",
       "PriceReg                 0\n",
       "ReleaseYear              0\n",
       "ItemCount                0\n",
       "LowUserPrice             0\n",
       "LowNetPrice              0\n",
       "dtype: int64"
      ]
     },
     "execution_count": 5,
     "metadata": {},
     "output_type": "execute_result"
    }
   ],
   "source": [
    "df.isnull().sum()"
   ]
  },
  {
   "cell_type": "code",
   "execution_count": null,
   "metadata": {},
   "outputs": [],
   "source": [
    "# we can see that \"SoldFlag\" and \"SoldCount\" columns both have 122921 missing or null values"
   ]
  },
  {
   "cell_type": "markdown",
   "metadata": {},
   "source": [
    "### <span style='color:Blue'> **Question - 4. Find a list of all the columns which have more than 50% of their values missing** </span>"
   ]
  },
  {
   "cell_type": "code",
   "execution_count": 6,
   "metadata": {},
   "outputs": [
    {
     "name": "stdout",
     "output_type": "stream",
     "text": [
      "<class 'pandas.core.frame.DataFrame'>\n",
      "RangeIndex: 198917 entries, 0 to 198916\n",
      "Data columns (total 14 columns):\n",
      " #   Column            Non-Null Count   Dtype  \n",
      "---  ------            --------------   -----  \n",
      " 0   Order             198917 non-null  int64  \n",
      " 1   File_Type         198917 non-null  object \n",
      " 2   SKU_number        198917 non-null  int64  \n",
      " 3   SoldFlag          75996 non-null   float64\n",
      " 4   SoldCount         75996 non-null   float64\n",
      " 5   MarketingType     198917 non-null  object \n",
      " 6   ReleaseNumber     198917 non-null  int64  \n",
      " 7   New_Release_Flag  198917 non-null  int64  \n",
      " 8   StrengthFactor    198917 non-null  float64\n",
      " 9   PriceReg          198917 non-null  float64\n",
      " 10  ReleaseYear       198917 non-null  int64  \n",
      " 11  ItemCount         198917 non-null  int64  \n",
      " 12  LowUserPrice      198917 non-null  float64\n",
      " 13  LowNetPrice       198917 non-null  float64\n",
      "dtypes: float64(6), int64(6), object(2)\n",
      "memory usage: 21.2+ MB\n"
     ]
    }
   ],
   "source": [
    "df.info()"
   ]
  },
  {
   "cell_type": "code",
   "execution_count": null,
   "metadata": {},
   "outputs": [],
   "source": [
    "# we can see that \"SoldFlag\" and \"SoldCount\" columns both have 122921 missing or null values and 75996 actual values \n",
    "# which implies that these two columns have more than 50% values missing"
   ]
  },
  {
   "cell_type": "markdown",
   "metadata": {},
   "source": [
    "### <span style='color:Blue'> **Question - 5. View the missing values within the data.** </span>\n",
    "<br> Hint : Heatmap"
   ]
  },
  {
   "cell_type": "code",
   "execution_count": 30,
   "metadata": {},
   "outputs": [
    {
     "data": {
      "image/png": "[encoded data removed]",
      "text/plain": [
       "<Figure size 432x288 with 2 Axes>"
      ]
     },
     "metadata": {
      "needs_background": "light"
     },
     "output_type": "display_data"
    }
   ],
   "source": [
    "sns.heatmap(df.isnull());"
   ]
  },
  {
   "cell_type": "markdown",
   "metadata": {},
   "source": [
    "### 2. Dealing with missing values."
   ]
  },
  {
   "cell_type": "markdown",
   "metadata": {},
   "source": [
    "### <span style='color:Blue'> **Question - 6. Remove all records if no more than 2 observations have been recorded.** </span>"
   ]
  },
  {
   "cell_type": "code",
   "execution_count": 8,
   "metadata": {},
   "outputs": [],
   "source": [
    "#write observation and code here"
   ]
  },
  {
   "cell_type": "markdown",
   "metadata": {},
   "source": [
    "### <span style='color:Blue'> **Question - 7. Discard unnecessary columns of data.** </span>"
   ]
  },
  {
   "cell_type": "code",
   "execution_count": 9,
   "metadata": {},
   "outputs": [],
   "source": [
    "#write observation and code here"
   ]
  },
  {
   "cell_type": "markdown",
   "metadata": {},
   "source": [
    "### <span style='color:Blue'> **Question - 8.Is there any feature in the dataset that could be exempted from dealing with outliers?** </span>"
   ]
  },
  {
   "cell_type": "code",
   "execution_count": 10,
   "metadata": {},
   "outputs": [],
   "source": [
    "#write observation and code here"
   ]
  },
  {
   "cell_type": "markdown",
   "metadata": {},
   "source": [
    "### <span style='color:Blue'> **Question - 9.How do I check the outliers for the feature showing the low net price?** </span>"
   ]
  },
  {
   "cell_type": "code",
   "execution_count": 11,
   "metadata": {},
   "outputs": [],
   "source": [
    "#write observation and code here"
   ]
  },
  {
   "cell_type": "markdown",
   "metadata": {},
   "source": [
    "### <span style='color:Blue'> **Question - 10.Find out optimal value of K and minimize the outliers.?** </span>"
   ]
  },
  {
   "cell_type": "code",
   "execution_count": 12,
   "metadata": {},
   "outputs": [],
   "source": [
    "#write observation and code here"
   ]
  },
  {
   "cell_type": "markdown",
   "metadata": {},
   "source": [
    "### <span style='color:Blue'> **Question - 11.Suggest a method for finding outliers for the feature representing the number of sku number.?** </span>"
   ]
  },
  {
   "cell_type": "code",
   "execution_count": 13,
   "metadata": {},
   "outputs": [],
   "source": [
    "#write observation and code here"
   ]
  },
  {
   "cell_type": "markdown",
   "metadata": {},
   "source": [
    "### <span style='color:Blue'> **Question - 12.Which method allows you to retrieve the corresponding record within the data.?** </span>"
   ]
  },
  {
   "cell_type": "code",
   "execution_count": 14,
   "metadata": {},
   "outputs": [],
   "source": [
    "#write observation and code here"
   ]
  },
  {
   "cell_type": "markdown",
   "metadata": {},
   "source": [
    "### <span style='color:Blue'> **Question - 13.Calculate the standard score of Release Number?** </span>"
   ]
  },
  {
   "cell_type": "code",
   "execution_count": 15,
   "metadata": {},
   "outputs": [],
   "source": [
    "#write observation and code here"
   ]
  },
  {
   "cell_type": "markdown",
   "metadata": {},
   "source": [
    "### <span style='color:Blue'> **Question - 14.In marketing type which items are more sellable.** </span>\n",
    "\n",
    "NOTE:- Show the output in visualization"
   ]
  },
  {
   "cell_type": "code",
   "execution_count": 16,
   "metadata": {},
   "outputs": [],
   "source": [
    "#write observation and code here"
   ]
  },
  {
   "cell_type": "markdown",
   "metadata": {},
   "source": [
    "### <span style='color:Blue'> **Question - 15.Find out bias of soldflag based on release number?** </span>\n",
    "\n",
    "NOTE:- Box Plot."
   ]
  },
  {
   "cell_type": "code",
   "execution_count": 17,
   "metadata": {},
   "outputs": [],
   "source": [
    "#write observation and code here"
   ]
  },
  {
   "cell_type": "markdown",
   "metadata": {},
   "source": [
    "### <span style='color:Blue'> **Question - 16.Find out missing values and fill with zero?** </span>"
   ]
  },
  {
   "cell_type": "code",
   "execution_count": 18,
   "metadata": {},
   "outputs": [],
   "source": [
    "#write observation and code here"
   ]
  },
  {
   "cell_type": "markdown",
   "metadata": {},
   "source": [
    "### <span style='color:Blue'> **Question - 17.How many value are active and historical in File_Type column ?** </span>\n",
    "\n",
    "NOTE:- Explain in brief from graph."
   ]
  },
  {
   "cell_type": "code",
   "execution_count": 19,
   "metadata": {},
   "outputs": [],
   "source": [
    "#write observation and code here"
   ]
  },
  {
   "cell_type": "markdown",
   "metadata": {},
   "source": [
    "### <span style='color:Blue'> **Question - 18. How many features are positive and negatively correlated?** </span>\n",
    "\n",
    "NOTE:- Explain with values and plot the corrleation values."
   ]
  },
  {
   "cell_type": "code",
   "execution_count": 20,
   "metadata": {},
   "outputs": [],
   "source": [
    "#write observation and code here"
   ]
  },
  {
   "cell_type": "markdown",
   "metadata": {},
   "source": [
    "### <span style='color:Blue'> **Question - 19. Show the corrleation between 0 and 1.** </span>"
   ]
  },
  {
   "cell_type": "code",
   "execution_count": 21,
   "metadata": {},
   "outputs": [],
   "source": [
    "#write observation and code here"
   ]
  },
  {
   "cell_type": "markdown",
   "metadata": {},
   "source": [
    "### <span style='color:Blue'> **Question - 20. Summaries the data with categorical variable.** </span>"
   ]
  },
  {
   "cell_type": "code",
   "execution_count": 22,
   "metadata": {},
   "outputs": [],
   "source": [
    "#write observation and code here"
   ]
  },
  {
   "cell_type": "markdown",
   "metadata": {},
   "source": [
    "### <span style='color:Blue'> **Question - 21. Calculate the mean and median of SKU_number.** </span>"
   ]
  },
  {
   "cell_type": "code",
   "execution_count": 23,
   "metadata": {},
   "outputs": [],
   "source": [
    "#write observation and code here"
   ]
  },
  {
   "cell_type": "markdown",
   "metadata": {},
   "source": [
    "### <span style='color:Blue'> **Question - 22. Calculate the mean and median of PriceCount.** </span>"
   ]
  },
  {
   "cell_type": "code",
   "execution_count": 24,
   "metadata": {},
   "outputs": [],
   "source": [
    "#write observation and code here"
   ]
  },
  {
   "cell_type": "markdown",
   "metadata": {},
   "source": [
    "### <span style='color:Blue'> **Question - 23.Convert the File_Type columns to numerical.** </span>"
   ]
  },
  {
   "cell_type": "code",
   "execution_count": 25,
   "metadata": {},
   "outputs": [],
   "source": [
    "#write observation and code here"
   ]
  },
  {
   "cell_type": "markdown",
   "metadata": {},
   "source": [
    "### <span style='color:Blue'> **Question - 24.Handle the remaining categorical data.** </span>"
   ]
  },
  {
   "cell_type": "code",
   "execution_count": 26,
   "metadata": {},
   "outputs": [],
   "source": [
    "#write observation and code here"
   ]
  },
  {
   "cell_type": "markdown",
   "metadata": {},
   "source": [
    "### <span style='color:Blue'> **Question - 25.Normalize the data.** </span>"
   ]
  },
  {
   "cell_type": "code",
   "execution_count": 27,
   "metadata": {},
   "outputs": [],
   "source": [
    "#write observation and code here"
   ]
  }
 ],
 "metadata": {
  "kernelspec": {
   "display_name": "Python 3 (ipykernel)",
   "language": "python",
   "name": "python3"
  },
  "language_info": {
   "codemirror_mode": {
    "name": "ipython",
    "version": 3
   },
   "file_extension": ".py",
   "mimetype": "text/x-python",
   "name": "python",
   "nbconvert_exporter": "python",
   "pygments_lexer": "ipython3",
   "version": "3.9.12"
  }
 },
 "nbformat": 4,
 "nbformat_minor": 4
}

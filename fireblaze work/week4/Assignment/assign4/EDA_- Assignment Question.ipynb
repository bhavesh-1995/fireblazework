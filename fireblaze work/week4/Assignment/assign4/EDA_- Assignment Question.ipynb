{
 "cells": [
  {
   "cell_type": "markdown",
   "metadata": {},
   "source": [
    "<img src=\"fireblaze.jpg\" width=250 height=200 />"
   ]
  },
  {
   "cell_type": "markdown",
   "metadata": {},
   "source": [
    "## <p style=\"font-family: Arial; font-size:1.4em;color:red; style='background :yellow'\"> Assignment</p>\n"
   ]
  },
  {
   "cell_type": "markdown",
   "metadata": {},
   "source": [
    "<span style='color:Red'> **About The Dataset(Sales Dataset)** </span>"
   ]
  },
  {
   "cell_type": "markdown",
   "metadata": {},
   "source": [
    "Here are the definitions for a few of the columns:\n",
    "* **File_Type:** The value “Active” means that the particular product needs investigation\n",
    "\n",
    "* **SoldFlag:** The value 1 = sale, 0 = no sale in past six months\n",
    "\n",
    "* **SKU_number:** This is the unique identifier for each product.\n",
    "\n",
    "* **Order:** Just a sequential counter. Can be ignored.\n",
    "\n",
    "* **SoldFlag:** 1 = sold in past 6 mos. 0 = Not sold\n",
    "\n",
    "* **MarketingType:** Two categories of how we market the product.\n",
    "\n",
    "* **New_Release_Flag:** Any product that has had a future release (i.e., Release Number > 1)"
   ]
  },
  {
   "cell_type": "markdown",
   "metadata": {},
   "source": [
    "<span style='color:Blue'> **Import the Required Libraries** </span>"
   ]
  },
  {
   "cell_type": "code",
   "execution_count": 1,
   "metadata": {},
   "outputs": [],
   "source": [
    "import matplotlib.pyplot as plt\n",
    "import pandas as pd\n",
    "import seaborn as sns\n",
    "import numpy as np\n",
    "import datetime\n"
   ]
  },
  {
   "cell_type": "markdown",
   "metadata": {},
   "source": [
    "### <span style='color:Blue'> **Question - 1.Read the Sales dataset and display the top five rows** </span>"
   ]
  },
  {
   "cell_type": "code",
   "execution_count": 5,
   "metadata": {},
   "outputs": [
    {
     "data": {
      "text/html": [
       "<div>\n",
       "<style scoped>\n",
       "    .dataframe tbody tr th:only-of-type {\n",
       "        vertical-align: middle;\n",
       "    }\n",
       "\n",
       "    .dataframe tbody tr th {\n",
       "        vertical-align: top;\n",
       "    }\n",
       "\n",
       "    .dataframe thead th {\n",
       "        text-align: right;\n",
       "    }\n",
       "</style>\n",
       "<table border=\"1\" class=\"dataframe\">\n",
       "  <thead>\n",
       "    <tr style=\"text-align: right;\">\n",
       "      <th></th>\n",
       "      <th>Order</th>\n",
       "      <th>File_Type</th>\n",
       "      <th>SKU_number</th>\n",
       "      <th>SoldFlag</th>\n",
       "      <th>SoldCount</th>\n",
       "      <th>MarketingType</th>\n",
       "      <th>ReleaseNumber</th>\n",
       "      <th>New_Release_Flag</th>\n",
       "      <th>StrengthFactor</th>\n",
       "      <th>PriceReg</th>\n",
       "      <th>ReleaseYear</th>\n",
       "      <th>ItemCount</th>\n",
       "      <th>LowUserPrice</th>\n",
       "      <th>LowNetPrice</th>\n",
       "    </tr>\n",
       "  </thead>\n",
       "  <tbody>\n",
       "    <tr>\n",
       "      <th>10015</th>\n",
       "      <td>10304</td>\n",
       "      <td>Historical</td>\n",
       "      <td>560537</td>\n",
       "      <td>1.0</td>\n",
       "      <td>3.0</td>\n",
       "      <td>D</td>\n",
       "      <td>13</td>\n",
       "      <td>1</td>\n",
       "      <td>2.564980e+05</td>\n",
       "      <td>185.00</td>\n",
       "      <td>2012</td>\n",
       "      <td>78</td>\n",
       "      <td>480.11</td>\n",
       "      <td>54.99</td>\n",
       "    </tr>\n",
       "    <tr>\n",
       "      <th>22255</th>\n",
       "      <td>22760</td>\n",
       "      <td>Historical</td>\n",
       "      <td>792787</td>\n",
       "      <td>0.0</td>\n",
       "      <td>0.0</td>\n",
       "      <td>D</td>\n",
       "      <td>0</td>\n",
       "      <td>0</td>\n",
       "      <td>5.372473e+06</td>\n",
       "      <td>155.00</td>\n",
       "      <td>1998</td>\n",
       "      <td>11</td>\n",
       "      <td>40.42</td>\n",
       "      <td>72.69</td>\n",
       "    </tr>\n",
       "    <tr>\n",
       "      <th>100678</th>\n",
       "      <td>109789</td>\n",
       "      <td>Active</td>\n",
       "      <td>1496157</td>\n",
       "      <td>NaN</td>\n",
       "      <td>NaN</td>\n",
       "      <td>S</td>\n",
       "      <td>0</td>\n",
       "      <td>0</td>\n",
       "      <td>4.265697e+04</td>\n",
       "      <td>23.00</td>\n",
       "      <td>2014</td>\n",
       "      <td>16</td>\n",
       "      <td>16.57</td>\n",
       "      <td>16.27</td>\n",
       "    </tr>\n",
       "    <tr>\n",
       "      <th>106438</th>\n",
       "      <td>115549</td>\n",
       "      <td>Active</td>\n",
       "      <td>1861115</td>\n",
       "      <td>NaN</td>\n",
       "      <td>NaN</td>\n",
       "      <td>S</td>\n",
       "      <td>0</td>\n",
       "      <td>0</td>\n",
       "      <td>7.048025e+03</td>\n",
       "      <td>26.95</td>\n",
       "      <td>2013</td>\n",
       "      <td>16</td>\n",
       "      <td>21.99</td>\n",
       "      <td>17.84</td>\n",
       "    </tr>\n",
       "    <tr>\n",
       "      <th>179135</th>\n",
       "      <td>188246</td>\n",
       "      <td>Active</td>\n",
       "      <td>538543</td>\n",
       "      <td>NaN</td>\n",
       "      <td>NaN</td>\n",
       "      <td>D</td>\n",
       "      <td>3</td>\n",
       "      <td>1</td>\n",
       "      <td>7.849115e+03</td>\n",
       "      <td>286.50</td>\n",
       "      <td>2012</td>\n",
       "      <td>76</td>\n",
       "      <td>45.47</td>\n",
       "      <td>95.99</td>\n",
       "    </tr>\n",
       "    <tr>\n",
       "      <th>135458</th>\n",
       "      <td>144569</td>\n",
       "      <td>Active</td>\n",
       "      <td>880075</td>\n",
       "      <td>NaN</td>\n",
       "      <td>NaN</td>\n",
       "      <td>D</td>\n",
       "      <td>2</td>\n",
       "      <td>1</td>\n",
       "      <td>1.967559e+06</td>\n",
       "      <td>61.51</td>\n",
       "      <td>2010</td>\n",
       "      <td>56</td>\n",
       "      <td>10.00</td>\n",
       "      <td>52.61</td>\n",
       "    </tr>\n",
       "    <tr>\n",
       "      <th>89071</th>\n",
       "      <td>98182</td>\n",
       "      <td>Active</td>\n",
       "      <td>1453341</td>\n",
       "      <td>NaN</td>\n",
       "      <td>NaN</td>\n",
       "      <td>D</td>\n",
       "      <td>1</td>\n",
       "      <td>0</td>\n",
       "      <td>1.664370e+05</td>\n",
       "      <td>175.20</td>\n",
       "      <td>2014</td>\n",
       "      <td>50</td>\n",
       "      <td>9.69</td>\n",
       "      <td>25.09</td>\n",
       "    </tr>\n",
       "    <tr>\n",
       "      <th>152738</th>\n",
       "      <td>161849</td>\n",
       "      <td>Active</td>\n",
       "      <td>132426</td>\n",
       "      <td>NaN</td>\n",
       "      <td>NaN</td>\n",
       "      <td>S</td>\n",
       "      <td>7</td>\n",
       "      <td>1</td>\n",
       "      <td>1.761032e+05</td>\n",
       "      <td>223.60</td>\n",
       "      <td>2007</td>\n",
       "      <td>66</td>\n",
       "      <td>5.75</td>\n",
       "      <td>42.74</td>\n",
       "    </tr>\n",
       "    <tr>\n",
       "      <th>34429</th>\n",
       "      <td>35207</td>\n",
       "      <td>Historical</td>\n",
       "      <td>533579</td>\n",
       "      <td>0.0</td>\n",
       "      <td>0.0</td>\n",
       "      <td>D</td>\n",
       "      <td>10</td>\n",
       "      <td>1</td>\n",
       "      <td>2.590410e+05</td>\n",
       "      <td>250.95</td>\n",
       "      <td>2012</td>\n",
       "      <td>48</td>\n",
       "      <td>18.94</td>\n",
       "      <td>73.25</td>\n",
       "    </tr>\n",
       "    <tr>\n",
       "      <th>152229</th>\n",
       "      <td>161340</td>\n",
       "      <td>Active</td>\n",
       "      <td>52808</td>\n",
       "      <td>NaN</td>\n",
       "      <td>NaN</td>\n",
       "      <td>D</td>\n",
       "      <td>6</td>\n",
       "      <td>1</td>\n",
       "      <td>7.567681e+05</td>\n",
       "      <td>232.95</td>\n",
       "      <td>2010</td>\n",
       "      <td>51</td>\n",
       "      <td>5.23</td>\n",
       "      <td>51.35</td>\n",
       "    </tr>\n",
       "    <tr>\n",
       "      <th>148595</th>\n",
       "      <td>157706</td>\n",
       "      <td>Active</td>\n",
       "      <td>263792</td>\n",
       "      <td>NaN</td>\n",
       "      <td>NaN</td>\n",
       "      <td>S</td>\n",
       "      <td>7</td>\n",
       "      <td>1</td>\n",
       "      <td>9.250295e+04</td>\n",
       "      <td>35.00</td>\n",
       "      <td>2008</td>\n",
       "      <td>96</td>\n",
       "      <td>5.53</td>\n",
       "      <td>19.38</td>\n",
       "    </tr>\n",
       "    <tr>\n",
       "      <th>164051</th>\n",
       "      <td>173162</td>\n",
       "      <td>Active</td>\n",
       "      <td>1826310</td>\n",
       "      <td>NaN</td>\n",
       "      <td>NaN</td>\n",
       "      <td>S</td>\n",
       "      <td>2</td>\n",
       "      <td>1</td>\n",
       "      <td>9.085872e+04</td>\n",
       "      <td>111.95</td>\n",
       "      <td>2013</td>\n",
       "      <td>27</td>\n",
       "      <td>39.09</td>\n",
       "      <td>62.46</td>\n",
       "    </tr>\n",
       "    <tr>\n",
       "      <th>195370</th>\n",
       "      <td>204481</td>\n",
       "      <td>Active</td>\n",
       "      <td>252013</td>\n",
       "      <td>NaN</td>\n",
       "      <td>NaN</td>\n",
       "      <td>D</td>\n",
       "      <td>4</td>\n",
       "      <td>1</td>\n",
       "      <td>6.384249e+05</td>\n",
       "      <td>240.95</td>\n",
       "      <td>2008</td>\n",
       "      <td>66</td>\n",
       "      <td>10.49</td>\n",
       "      <td>28.32</td>\n",
       "    </tr>\n",
       "    <tr>\n",
       "      <th>137472</th>\n",
       "      <td>146583</td>\n",
       "      <td>Active</td>\n",
       "      <td>809138</td>\n",
       "      <td>NaN</td>\n",
       "      <td>NaN</td>\n",
       "      <td>D</td>\n",
       "      <td>10</td>\n",
       "      <td>1</td>\n",
       "      <td>2.858317e+05</td>\n",
       "      <td>96.50</td>\n",
       "      <td>2011</td>\n",
       "      <td>35</td>\n",
       "      <td>29.05</td>\n",
       "      <td>0.00</td>\n",
       "    </tr>\n",
       "    <tr>\n",
       "      <th>24535</th>\n",
       "      <td>25077</td>\n",
       "      <td>Historical</td>\n",
       "      <td>622564</td>\n",
       "      <td>1.0</td>\n",
       "      <td>1.0</td>\n",
       "      <td>D</td>\n",
       "      <td>0</td>\n",
       "      <td>0</td>\n",
       "      <td>2.030273e+06</td>\n",
       "      <td>56.00</td>\n",
       "      <td>2006</td>\n",
       "      <td>53</td>\n",
       "      <td>74.77</td>\n",
       "      <td>70.29</td>\n",
       "    </tr>\n",
       "    <tr>\n",
       "      <th>174456</th>\n",
       "      <td>183567</td>\n",
       "      <td>Active</td>\n",
       "      <td>632933</td>\n",
       "      <td>NaN</td>\n",
       "      <td>NaN</td>\n",
       "      <td>D</td>\n",
       "      <td>4</td>\n",
       "      <td>1</td>\n",
       "      <td>4.497973e+05</td>\n",
       "      <td>130.00</td>\n",
       "      <td>2007</td>\n",
       "      <td>21</td>\n",
       "      <td>60.84</td>\n",
       "      <td>96.14</td>\n",
       "    </tr>\n",
       "    <tr>\n",
       "      <th>162383</th>\n",
       "      <td>171494</td>\n",
       "      <td>Active</td>\n",
       "      <td>1469784</td>\n",
       "      <td>NaN</td>\n",
       "      <td>NaN</td>\n",
       "      <td>D</td>\n",
       "      <td>2</td>\n",
       "      <td>1</td>\n",
       "      <td>2.496847e+06</td>\n",
       "      <td>577.50</td>\n",
       "      <td>2007</td>\n",
       "      <td>10</td>\n",
       "      <td>15.93</td>\n",
       "      <td>169.26</td>\n",
       "    </tr>\n",
       "    <tr>\n",
       "      <th>143375</th>\n",
       "      <td>152486</td>\n",
       "      <td>Active</td>\n",
       "      <td>717936</td>\n",
       "      <td>NaN</td>\n",
       "      <td>NaN</td>\n",
       "      <td>D</td>\n",
       "      <td>1</td>\n",
       "      <td>0</td>\n",
       "      <td>1.545518e+05</td>\n",
       "      <td>55.00</td>\n",
       "      <td>1999</td>\n",
       "      <td>49</td>\n",
       "      <td>9.02</td>\n",
       "      <td>17.79</td>\n",
       "    </tr>\n",
       "    <tr>\n",
       "      <th>107057</th>\n",
       "      <td>116168</td>\n",
       "      <td>Active</td>\n",
       "      <td>688012</td>\n",
       "      <td>NaN</td>\n",
       "      <td>NaN</td>\n",
       "      <td>S</td>\n",
       "      <td>1</td>\n",
       "      <td>0</td>\n",
       "      <td>3.537980e+04</td>\n",
       "      <td>29.99</td>\n",
       "      <td>2012</td>\n",
       "      <td>20</td>\n",
       "      <td>21.63</td>\n",
       "      <td>22.89</td>\n",
       "    </tr>\n",
       "    <tr>\n",
       "      <th>136878</th>\n",
       "      <td>145989</td>\n",
       "      <td>Active</td>\n",
       "      <td>516526</td>\n",
       "      <td>NaN</td>\n",
       "      <td>NaN</td>\n",
       "      <td>D</td>\n",
       "      <td>6</td>\n",
       "      <td>1</td>\n",
       "      <td>1.687136e+04</td>\n",
       "      <td>184.80</td>\n",
       "      <td>2012</td>\n",
       "      <td>131</td>\n",
       "      <td>6.86</td>\n",
       "      <td>73.96</td>\n",
       "    </tr>\n",
       "  </tbody>\n",
       "</table>\n",
       "</div>"
      ],
      "text/plain": [
       "         Order   File_Type  SKU_number  SoldFlag  SoldCount MarketingType  \\\n",
       "10015    10304  Historical      560537       1.0        3.0             D   \n",
       "22255    22760  Historical      792787       0.0        0.0             D   \n",
       "100678  109789      Active     1496157       NaN        NaN             S   \n",
       "106438  115549      Active     1861115       NaN        NaN             S   \n",
       "179135  188246      Active      538543       NaN        NaN             D   \n",
       "135458  144569      Active      880075       NaN        NaN             D   \n",
       "89071    98182      Active     1453341       NaN        NaN             D   \n",
       "152738  161849      Active      132426       NaN        NaN             S   \n",
       "34429    35207  Historical      533579       0.0        0.0             D   \n",
       "152229  161340      Active       52808       NaN        NaN             D   \n",
       "148595  157706      Active      263792       NaN        NaN             S   \n",
       "164051  173162      Active     1826310       NaN        NaN             S   \n",
       "195370  204481      Active      252013       NaN        NaN             D   \n",
       "137472  146583      Active      809138       NaN        NaN             D   \n",
       "24535    25077  Historical      622564       1.0        1.0             D   \n",
       "174456  183567      Active      632933       NaN        NaN             D   \n",
       "162383  171494      Active     1469784       NaN        NaN             D   \n",
       "143375  152486      Active      717936       NaN        NaN             D   \n",
       "107057  116168      Active      688012       NaN        NaN             S   \n",
       "136878  145989      Active      516526       NaN        NaN             D   \n",
       "\n",
       "        ReleaseNumber  New_Release_Flag  StrengthFactor  PriceReg  \\\n",
       "10015              13                 1    2.564980e+05    185.00   \n",
       "22255               0                 0    5.372473e+06    155.00   \n",
       "100678              0                 0    4.265697e+04     23.00   \n",
       "106438              0                 0    7.048025e+03     26.95   \n",
       "179135              3                 1    7.849115e+03    286.50   \n",
       "135458              2                 1    1.967559e+06     61.51   \n",
       "89071               1                 0    1.664370e+05    175.20   \n",
       "152738              7                 1    1.761032e+05    223.60   \n",
       "34429              10                 1    2.590410e+05    250.95   \n",
       "152229              6                 1    7.567681e+05    232.95   \n",
       "148595              7                 1    9.250295e+04     35.00   \n",
       "164051              2                 1    9.085872e+04    111.95   \n",
       "195370              4                 1    6.384249e+05    240.95   \n",
       "137472             10                 1    2.858317e+05     96.50   \n",
       "24535               0                 0    2.030273e+06     56.00   \n",
       "174456              4                 1    4.497973e+05    130.00   \n",
       "162383              2                 1    2.496847e+06    577.50   \n",
       "143375              1                 0    1.545518e+05     55.00   \n",
       "107057              1                 0    3.537980e+04     29.99   \n",
       "136878              6                 1    1.687136e+04    184.80   \n",
       "\n",
       "        ReleaseYear  ItemCount  LowUserPrice  LowNetPrice  \n",
       "10015          2012         78        480.11        54.99  \n",
       "22255          1998         11         40.42        72.69  \n",
       "100678         2014         16         16.57        16.27  \n",
       "106438         2013         16         21.99        17.84  \n",
       "179135         2012         76         45.47        95.99  \n",
       "135458         2010         56         10.00        52.61  \n",
       "89071          2014         50          9.69        25.09  \n",
       "152738         2007         66          5.75        42.74  \n",
       "34429          2012         48         18.94        73.25  \n",
       "152229         2010         51          5.23        51.35  \n",
       "148595         2008         96          5.53        19.38  \n",
       "164051         2013         27         39.09        62.46  \n",
       "195370         2008         66         10.49        28.32  \n",
       "137472         2011         35         29.05         0.00  \n",
       "24535          2006         53         74.77        70.29  \n",
       "174456         2007         21         60.84        96.14  \n",
       "162383         2007         10         15.93       169.26  \n",
       "143375         1999         49          9.02        17.79  \n",
       "107057         2012         20         21.63        22.89  \n",
       "136878         2012        131          6.86        73.96  "
      ]
     },
     "execution_count": 5,
     "metadata": {},
     "output_type": "execute_result"
    }
   ],
   "source": [
    "df=pd.read_csv('Sales_data.csv')\n",
    "df.sample(20)"
   ]
  },
  {
   "cell_type": "markdown",
   "metadata": {},
   "source": [
    "### <span style='color:Blue'> **Question - 2. Display the central tendency, Dispersion, and Shape of Dataset** </span>"
   ]
  },
  {
   "cell_type": "code",
   "execution_count": 3,
   "metadata": {},
   "outputs": [
    {
     "name": "stdout",
     "output_type": "stream",
     "text": [
      "<class 'pandas.core.frame.DataFrame'>\n",
      "RangeIndex: 198917 entries, 0 to 198916\n",
      "Data columns (total 14 columns):\n",
      " #   Column            Non-Null Count   Dtype  \n",
      "---  ------            --------------   -----  \n",
      " 0   Order             198917 non-null  int64  \n",
      " 1   File_Type         198917 non-null  object \n",
      " 2   SKU_number        198917 non-null  int64  \n",
      " 3   SoldFlag          75996 non-null   float64\n",
      " 4   SoldCount         75996 non-null   float64\n",
      " 5   MarketingType     198917 non-null  object \n",
      " 6   ReleaseNumber     198917 non-null  int64  \n",
      " 7   New_Release_Flag  198917 non-null  int64  \n",
      " 8   StrengthFactor    198917 non-null  float64\n",
      " 9   PriceReg          198917 non-null  float64\n",
      " 10  ReleaseYear       198917 non-null  int64  \n",
      " 11  ItemCount         198917 non-null  int64  \n",
      " 12  LowUserPrice      198917 non-null  float64\n",
      " 13  LowNetPrice       198917 non-null  float64\n",
      "dtypes: float64(6), int64(6), object(2)\n",
      "memory usage: 21.2+ MB\n"
     ]
    }
   ],
   "source": [
    "df.info()"
   ]
  },
  {
   "cell_type": "markdown",
   "metadata": {},
   "source": [
    "### 1. Missing Value Analysis"
   ]
  },
  {
   "cell_type": "markdown",
   "metadata": {},
   "source": [
    "### <span style='color:Blue'> **Question - 3. Our dataset any missing values? If Yes then how many and which feature has a missing value** </span>"
   ]
  },
  {
   "cell_type": "code",
   "execution_count": 4,
   "metadata": {},
   "outputs": [],
   "source": [
    "#write observation and code here"
   ]
  },
  {
   "cell_type": "markdown",
   "metadata": {},
   "source": [
    "### <span style='color:Blue'> **Question - 4. Find a list of all the columns which have more than 50% of their values missing** </span>"
   ]
  },
  {
   "cell_type": "code",
   "execution_count": 5,
   "metadata": {},
   "outputs": [],
   "source": [
    "#write observation and code here\n"
   ]
  },
  {
   "cell_type": "markdown",
   "metadata": {},
   "source": [
    "### <span style='color:Blue'> **Question - 5. View the missing values within the data.** </span>\n",
    "<br> Hint : Heatmap"
   ]
  },
  {
   "cell_type": "code",
   "execution_count": 6,
   "metadata": {},
   "outputs": [],
   "source": [
    "#write observation and code here"
   ]
  },
  {
   "cell_type": "markdown",
   "metadata": {},
   "source": [
    "### 2. Dealing with missing values."
   ]
  },
  {
   "cell_type": "markdown",
   "metadata": {},
   "source": [
    "### <span style='color:Blue'> **Question - 6. Remove all records if no more than 2 observations have been recorded.** </span>"
   ]
  },
  {
   "cell_type": "code",
   "execution_count": 7,
   "metadata": {},
   "outputs": [],
   "source": [
    "#write observation and code here"
   ]
  },
  {
   "cell_type": "markdown",
   "metadata": {},
   "source": [
    "### <span style='color:Blue'> **Question - 7. Discard unnecessary columns of data.** </span>"
   ]
  },
  {
   "cell_type": "code",
   "execution_count": 8,
   "metadata": {},
   "outputs": [],
   "source": [
    "#write observation and code here"
   ]
  },
  {
   "cell_type": "markdown",
   "metadata": {},
   "source": [
    "### <span style='color:Blue'> **Question - 8.Is there any feature in the dataset that could be exempted from dealing with outliers?** </span>"
   ]
  },
  {
   "cell_type": "code",
   "execution_count": 9,
   "metadata": {},
   "outputs": [],
   "source": [
    "#write observation and code here"
   ]
  },
  {
   "cell_type": "markdown",
   "metadata": {},
   "source": [
    "### <span style='color:Blue'> **Question - 9.How do I check the outliers for the feature showing the low net price?** </span>"
   ]
  },
  {
   "cell_type": "code",
   "execution_count": 10,
   "metadata": {},
   "outputs": [],
   "source": [
    "#write observation and code here"
   ]
  },
  {
   "cell_type": "markdown",
   "metadata": {},
   "source": [
    "### <span style='color:Blue'> **Question - 10.Find out optimal value of K and minimize the outliers.?** </span>"
   ]
  },
  {
   "cell_type": "code",
   "execution_count": 11,
   "metadata": {},
   "outputs": [],
   "source": [
    "#write observation and code here"
   ]
  },
  {
   "cell_type": "markdown",
   "metadata": {},
   "source": [
    "### <span style='color:Blue'> **Question - 11.Suggest a method for finding outliers for the feature representing the number of sku number.?** </span>"
   ]
  },
  {
   "cell_type": "code",
   "execution_count": 12,
   "metadata": {},
   "outputs": [],
   "source": [
    "#write observation and code here"
   ]
  },
  {
   "cell_type": "markdown",
   "metadata": {},
   "source": [
    "### <span style='color:Blue'> **Question - 12.Which method allows you to retrieve the corresponding record within the data.?** </span>"
   ]
  },
  {
   "cell_type": "code",
   "execution_count": 13,
   "metadata": {},
   "outputs": [],
   "source": [
    "#write observation and code here"
   ]
  },
  {
   "cell_type": "markdown",
   "metadata": {},
   "source": [
    "### <span style='color:Blue'> **Question - 13.Calculate the standard score of Release Number?** </span>"
   ]
  },
  {
   "cell_type": "code",
   "execution_count": 14,
   "metadata": {},
   "outputs": [],
   "source": [
    "#write observation and code here"
   ]
  },
  {
   "cell_type": "markdown",
   "metadata": {},
   "source": [
    "### <span style='color:Blue'> **Question - 14.In marketing type which items are more sellable.** </span>\n",
    "\n",
    "NOTE:- Show the output in visualization"
   ]
  },
  {
   "cell_type": "code",
   "execution_count": 15,
   "metadata": {},
   "outputs": [],
   "source": [
    "#write observation and code here"
   ]
  },
  {
   "cell_type": "markdown",
   "metadata": {},
   "source": [
    "### <span style='color:Blue'> **Question - 15.Find out bias of soldflag based on release number?** </span>\n",
    "\n",
    "NOTE:- Box Plot."
   ]
  },
  {
   "cell_type": "code",
   "execution_count": 16,
   "metadata": {},
   "outputs": [],
   "source": [
    "#write observation and code here"
   ]
  },
  {
   "cell_type": "markdown",
   "metadata": {},
   "source": [
    "### <span style='color:Blue'> **Question - 16.Find out missing values and fill with zero?** </span>"
   ]
  },
  {
   "cell_type": "code",
   "execution_count": null,
   "metadata": {},
   "outputs": [],
   "source": [
    "#write observation and code here"
   ]
  },
  {
   "cell_type": "markdown",
   "metadata": {},
   "source": [
    "### <span style='color:Blue'> **Question - 17.How many value are active and historical in File_Type column ?** </span>\n",
    "\n",
    "NOTE:- Explain in brief from graph."
   ]
  },
  {
   "cell_type": "code",
   "execution_count": null,
   "metadata": {},
   "outputs": [],
   "source": [
    "#write observation and code here"
   ]
  },
  {
   "cell_type": "markdown",
   "metadata": {},
   "source": [
    "### <span style='color:Blue'> **Question - 18. How many features are positive and negatively correlated?** </span>\n",
    "\n",
    "NOTE:- Explain with values and plot the corrleation values."
   ]
  },
  {
   "cell_type": "code",
   "execution_count": null,
   "metadata": {},
   "outputs": [],
   "source": [
    "#write observation and code here"
   ]
  },
  {
   "cell_type": "markdown",
   "metadata": {},
   "source": [
    "### <span style='color:Blue'> **Question - 19. Show the corrleation between 0 and 1.** </span>"
   ]
  },
  {
   "cell_type": "code",
   "execution_count": null,
   "metadata": {},
   "outputs": [],
   "source": [
    "#write observation and code here"
   ]
  },
  {
   "cell_type": "markdown",
   "metadata": {},
   "source": [
    "### <span style='color:Blue'> **Question - 20. Summaries the data with categorical variable.** </span>"
   ]
  },
  {
   "cell_type": "code",
   "execution_count": null,
   "metadata": {},
   "outputs": [],
   "source": [
    "#write observation and code here"
   ]
  },
  {
   "cell_type": "markdown",
   "metadata": {},
   "source": [
    "### <span style='color:Blue'> **Question - 21. Calculate the mean and median of SKU_number.** </span>"
   ]
  },
  {
   "cell_type": "code",
   "execution_count": null,
   "metadata": {},
   "outputs": [],
   "source": [
    "#write observation and code here"
   ]
  },
  {
   "cell_type": "markdown",
   "metadata": {},
   "source": [
    "### <span style='color:Blue'> **Question - 22. Calculate the mean and median of PriceCount.** </span>"
   ]
  },
  {
   "cell_type": "code",
   "execution_count": null,
   "metadata": {},
   "outputs": [],
   "source": [
    "#write observation and code here"
   ]
  },
  {
   "cell_type": "markdown",
   "metadata": {},
   "source": [
    "### <span style='color:Blue'> **Question - 23.Convert the File_Type columns to numerical.** </span>"
   ]
  },
  {
   "cell_type": "code",
   "execution_count": null,
   "metadata": {},
   "outputs": [],
   "source": [
    "#write observation and code here"
   ]
  },
  {
   "cell_type": "markdown",
   "metadata": {},
   "source": [
    "### <span style='color:Blue'> **Question - 24.Handel the remaining categorical data.** </span>"
   ]
  },
  {
   "cell_type": "code",
   "execution_count": null,
   "metadata": {},
   "outputs": [],
   "source": [
    "#write observation and code here"
   ]
  },
  {
   "cell_type": "markdown",
   "metadata": {},
   "source": [
    "### <span style='color:Blue'> **Question - 25.Normalize the data.** </span>"
   ]
  },
  {
   "cell_type": "code",
   "execution_count": null,
   "metadata": {},
   "outputs": [],
   "source": [
    "#write observation and code here"
   ]
  }
 ],
 "metadata": {
  "kernelspec": {
   "display_name": "Python 3 (ipykernel)",
   "language": "python",
   "name": "python3"
  },
  "language_info": {
   "codemirror_mode": {
    "name": "ipython",
    "version": 3
   },
   "file_extension": ".py",
   "mimetype": "text/x-python",
   "name": "python",
   "nbconvert_exporter": "python",
   "pygments_lexer": "ipython3",
   "version": "3.9.12"
  }
 },
 "nbformat": 4,
 "nbformat_minor": 4
}

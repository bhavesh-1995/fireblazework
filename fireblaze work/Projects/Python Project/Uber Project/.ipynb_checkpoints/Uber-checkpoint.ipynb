{
 "cells": [
  {
   "cell_type": "code",
   "execution_count": null,
   "id": "db1b697a",
   "metadata": {},
   "outputs": [],
   "source": [
    "import matplotlib.pyplot as plt\n",
    "import pandas as pd\n",
    "import seaborn as sns\n",
    "import numpy as np\n",
    "import datetime\n",
    "sns.set_style('whitegrid')"
   ]
  },
  {
   "cell_type": "code",
   "execution_count": null,
   "id": "fc9e5462",
   "metadata": {},
   "outputs": [],
   "source": [
    "# importing the data set\n",
    "df=pd.read_csv('Uber Request Data.csv')\n",
    "df.head()"
   ]
  },
  {
   "cell_type": "code",
   "execution_count": null,
   "id": "2bd470d6",
   "metadata": {},
   "outputs": [],
   "source": [
    "df.shape"
   ]
  },
  {
   "cell_type": "code",
   "execution_count": null,
   "id": "d2d609de",
   "metadata": {},
   "outputs": [],
   "source": [
    "df.isnull().sum()"
   ]
  },
  {
   "cell_type": "code",
   "execution_count": null,
   "id": "4d68de7a",
   "metadata": {},
   "outputs": [],
   "source": [
    "df['Status'].value_counts()"
   ]
  },
  {
   "cell_type": "code",
   "execution_count": null,
   "id": "b15f12a6",
   "metadata": {},
   "outputs": [],
   "source": [
    "df['Drop timestamp']= pd.to_datetime(df['Drop timestamp'])\n",
    "df['Request timestamp']= pd.to_datetime(df['Request timestamp'])\n",
    "df.info()"
   ]
  },
  {
   "cell_type": "code",
   "execution_count": null,
   "id": "0f4a1f29",
   "metadata": {},
   "outputs": [],
   "source": [
    "df.head(20)"
   ]
  },
  {
   "cell_type": "code",
   "execution_count": null,
   "id": "2a16a69e",
   "metadata": {},
   "outputs": [],
   "source": [
    "df['Month']=df['Request timestamp'].dt.month_name()\n",
    "df['Dayname']=df['Request timestamp'].dt.day_name()\n",
    "df['Day']=df['Request timestamp'].dt.day\n",
    "df['Hour']=df['Request timestamp'].dt.hour\n",
    "df['Time']=df['Request timestamp'].dt.time\n",
    "nn=df.dropna()\n",
    "drt=nn['Drop timestamp']\n",
    "pct=nn['Request timestamp']\n",
    "trd=(drt-pct)\n",
    "df['Trip Duration']=trd"
   ]
  },
  {
   "cell_type": "code",
   "execution_count": null,
   "id": "99e0c11b",
   "metadata": {},
   "outputs": [],
   "source": [
    "df.info()"
   ]
  },
  {
   "cell_type": "code",
   "execution_count": null,
   "id": "dc02f6d5",
   "metadata": {
    "scrolled": true
   },
   "outputs": [],
   "source": [
    "# remove outliers from Trip duration column\n",
    "rot=df.drop(df[(df['Trip Duration'] < '0 days')].index,)\n",
    "rot=rot.drop(rot[(rot['Trip Duration'] > '3 days')].index,)\n",
    "df=rot\n",
    "df.info()"
   ]
  },
  {
   "cell_type": "code",
   "execution_count": null,
   "id": "801ccad8",
   "metadata": {},
   "outputs": [],
   "source": [
    "# Cab requests From Airport vs City\n",
    "\n",
    "pp=df['Pickup point'].value_counts()\n",
    "pp.plot(kind='pie', autopct='%1.2f%%',explode=[0.05,0]);"
   ]
  },
  {
   "cell_type": "code",
   "execution_count": null,
   "id": "dd9a954a",
   "metadata": {},
   "outputs": [],
   "source": [
    "#number of people who completed a trip\n",
    "\n",
    "sns.displot(data=df, x='Status');"
   ]
  },
  {
   "cell_type": "code",
   "execution_count": null,
   "id": "f5128103",
   "metadata": {},
   "outputs": [],
   "source": [
    "# most busiest time of the day\n",
    "\n",
    "plt.figure(figsize=(10,6))\n",
    "sns.countplot(x='Hour', data=df);"
   ]
  },
  {
   "cell_type": "code",
   "execution_count": null,
   "id": "1b390e68",
   "metadata": {
    "scrolled": true
   },
   "outputs": [],
   "source": [
    "# most busiest day of the week\n",
    "\n",
    "plt.figure(figsize=(8,5))\n",
    "sns.countplot(x='Dayname', data=df);"
   ]
  },
  {
   "cell_type": "code",
   "execution_count": null,
   "id": "79570911",
   "metadata": {},
   "outputs": [],
   "source": [
    "# Most rides on wich day of the month\n",
    "plt.figure(figsize=(10,6))\n",
    "sns.countplot(x='Day', data=df);"
   ]
  },
  {
   "cell_type": "code",
   "execution_count": null,
   "id": "d8174d05",
   "metadata": {},
   "outputs": [],
   "source": [
    "# most rides in wich month\n",
    "\n",
    "plt.figure(figsize=(10,6))\n",
    "sns.countplot(x='Month', data=df);"
   ]
  },
  {
   "cell_type": "code",
   "execution_count": null,
   "id": "4108c6c2",
   "metadata": {},
   "outputs": [],
   "source": [
    "# what time are the most rides cancelled\n",
    "\n",
    "cn=df.loc[(df.Status)!='Trip Completed']\n",
    "plt.figure(figsize=(10,6))\n",
    "sns.countplot(x='Hour', data=cn);"
   ]
  },
  {
   "cell_type": "code",
   "execution_count": null,
   "id": "f5949643",
   "metadata": {},
   "outputs": [],
   "source": [
    "# what time are the rides cancelled due to no cars available\n",
    "\n",
    "nc=df.loc[(df.Status)=='No Cars Available']\n",
    "plt.figure(figsize=(10,6))\n",
    "sns.countplot(x='Hour', data=nc);"
   ]
  },
  {
   "cell_type": "code",
   "execution_count": null,
   "id": "769936ca",
   "metadata": {},
   "outputs": [],
   "source": [
    "#Average trip duration\n",
    "# sns.hist(data=df,x='Trip Duration');"
   ]
  },
  {
   "cell_type": "code",
   "execution_count": null,
   "id": "fb3059cd",
   "metadata": {},
   "outputs": [],
   "source": []
  },
  {
   "cell_type": "code",
   "execution_count": null,
   "id": "e3ae2149",
   "metadata": {},
   "outputs": [],
   "source": []
  },
  {
   "cell_type": "code",
   "execution_count": null,
   "id": "87cd9a73",
   "metadata": {},
   "outputs": [],
   "source": []
  },
  {
   "cell_type": "code",
   "execution_count": null,
   "id": "311bbeec",
   "metadata": {},
   "outputs": [],
   "source": []
  },
  {
   "cell_type": "code",
   "execution_count": null,
   "id": "6ff0a2a9",
   "metadata": {},
   "outputs": [],
   "source": []
  },
  {
   "cell_type": "code",
   "execution_count": null,
   "id": "6bb2d030",
   "metadata": {},
   "outputs": [],
   "source": []
  },
  {
   "cell_type": "code",
   "execution_count": null,
   "id": "51984e82",
   "metadata": {},
   "outputs": [],
   "source": []
  }
 ],
 "metadata": {
  "kernelspec": {
   "display_name": "Python 3 (ipykernel)",
   "language": "python",
   "name": "python3"
  },
  "language_info": {
   "codemirror_mode": {
    "name": "ipython",
    "version": 3
   },
   "file_extension": ".py",
   "mimetype": "text/x-python",
   "name": "python",
   "nbconvert_exporter": "python",
   "pygments_lexer": "ipython3",
   "version": "3.9.12"
  }
 },
 "nbformat": 4,
 "nbformat_minor": 5
}

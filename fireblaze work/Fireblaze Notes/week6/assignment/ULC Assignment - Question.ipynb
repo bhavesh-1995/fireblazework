{
 "cells": [
  {
   "cell_type": "markdown",
   "metadata": {},
   "source": [
    "<img src=\"fireblaze.jpg\" width=250 height=200 />"
   ]
  },
  {
   "cell_type": "markdown",
   "metadata": {},
   "source": [
    "## <p style=\"font-family: Arial; font-size:1.4em;color:red; style='background :yellow'\"> Assignment</p>\n"
   ]
  },
  {
   "cell_type": "markdown",
   "metadata": {},
   "source": [
    "### The problem statement"
   ]
  },
  {
   "cell_type": "markdown",
   "metadata": {},
   "source": [
    "* **Classify the private and public universities by using K-Means clustering**"
   ]
  },
  {
   "cell_type": "markdown",
   "metadata": {},
   "source": [
    "<span style='color:Red'> **About The Dataset** </span>"
   ]
  },
  {
   "cell_type": "markdown",
   "metadata": {},
   "source": [
    "* **private:** A factor with levels No and Yes indicating private or public university.\n",
    "\n",
    "* **apps:** Number of applications received.\n",
    "\n",
    "* **accept:** Number of applications accepted. \n",
    "\n",
    "* **enroll:** Number of new students enrolled.  \n",
    "\n",
    "* **top10perc:** Pct. new students from top 10% of H.S. class.\n",
    "\n",
    "* **top25perc:** Pct. new students from top 25% of H.S. class.\n",
    "\n",
    "* **f_undergrad:** Number of full-time undergraduates.\n",
    "\n",
    "* **p_undergrad:** Number of part time undergraduates. \n",
    "\n",
    "* **outstate:** Out-of-state tuition.\n",
    "\n",
    "* **room_board:** Room and board costs\n",
    "\n",
    "* **Books:** Estimated book costs\n",
    "\n",
    "* **Personal:**\tEstimated personal spending\n",
    "\n",
    "* **PhD:** Pct. of faculty with Ph.D.’s\n",
    "\n",
    "* **Terminal:**\tPct. of faculty with terminal degree\n",
    "\n",
    "* **S.F.Ratio:** Student/faculty ratio\n",
    "\n",
    "* **perc.alumni:**\tPct. alumni who donate\n",
    "\n",
    "* **Expend:** Instructional expenditure per student\n",
    "\n",
    "* **Grad.Rate:** Graduation rate"
   ]
  },
  {
   "cell_type": "markdown",
   "metadata": {},
   "source": [
    "<span style='color:Blue'> **Import required libraries** </span>"
   ]
  },
  {
   "cell_type": "code",
   "execution_count": 1,
   "metadata": {},
   "outputs": [],
   "source": [
    "import pandas as pd\n",
    "import numpy as np\n",
    "import matplotlib.pyplot as plt\n",
    "import seaborn as sns"
   ]
  },
  {
   "cell_type": "markdown",
   "metadata": {},
   "source": [
    "<span style='color:Blue'> **Question - 1.Load the Dataset & display the upper some records .** </span>"
   ]
  },
  {
   "cell_type": "code",
   "execution_count": 2,
   "metadata": {},
   "outputs": [],
   "source": [
    "df=pd.read_csv('college_data.csv')"
   ]
  },
  {
   "cell_type": "code",
   "execution_count": 3,
   "metadata": {},
   "outputs": [
    {
     "data": {
      "text/html": [
       "<div>\n",
       "<style scoped>\n",
       "    .dataframe tbody tr th:only-of-type {\n",
       "        vertical-align: middle;\n",
       "    }\n",
       "\n",
       "    .dataframe tbody tr th {\n",
       "        vertical-align: top;\n",
       "    }\n",
       "\n",
       "    .dataframe thead th {\n",
       "        text-align: right;\n",
       "    }\n",
       "</style>\n",
       "<table border=\"1\" class=\"dataframe\">\n",
       "  <thead>\n",
       "    <tr style=\"text-align: right;\">\n",
       "      <th></th>\n",
       "      <th>private</th>\n",
       "      <th>apps</th>\n",
       "      <th>accept</th>\n",
       "      <th>enroll</th>\n",
       "      <th>top10perc</th>\n",
       "      <th>top25perc</th>\n",
       "      <th>f_undergrad</th>\n",
       "      <th>p_undergrad</th>\n",
       "      <th>outstate</th>\n",
       "      <th>room_board</th>\n",
       "      <th>books</th>\n",
       "      <th>personal</th>\n",
       "      <th>phd</th>\n",
       "      <th>terminal</th>\n",
       "      <th>s_f_ratio</th>\n",
       "      <th>perc_alumni</th>\n",
       "      <th>expend</th>\n",
       "      <th>grad_rate</th>\n",
       "    </tr>\n",
       "  </thead>\n",
       "  <tbody>\n",
       "    <tr>\n",
       "      <th>0</th>\n",
       "      <td>Yes</td>\n",
       "      <td>1660</td>\n",
       "      <td>1232</td>\n",
       "      <td>721</td>\n",
       "      <td>23</td>\n",
       "      <td>52</td>\n",
       "      <td>2885</td>\n",
       "      <td>537</td>\n",
       "      <td>7440</td>\n",
       "      <td>3300</td>\n",
       "      <td>450</td>\n",
       "      <td>2200</td>\n",
       "      <td>70</td>\n",
       "      <td>78</td>\n",
       "      <td>18.1</td>\n",
       "      <td>12</td>\n",
       "      <td>7041</td>\n",
       "      <td>60</td>\n",
       "    </tr>\n",
       "    <tr>\n",
       "      <th>1</th>\n",
       "      <td>Yes</td>\n",
       "      <td>2186</td>\n",
       "      <td>1924</td>\n",
       "      <td>512</td>\n",
       "      <td>16</td>\n",
       "      <td>29</td>\n",
       "      <td>2683</td>\n",
       "      <td>1227</td>\n",
       "      <td>12280</td>\n",
       "      <td>6450</td>\n",
       "      <td>750</td>\n",
       "      <td>1500</td>\n",
       "      <td>29</td>\n",
       "      <td>30</td>\n",
       "      <td>12.2</td>\n",
       "      <td>16</td>\n",
       "      <td>10527</td>\n",
       "      <td>56</td>\n",
       "    </tr>\n",
       "    <tr>\n",
       "      <th>2</th>\n",
       "      <td>Yes</td>\n",
       "      <td>1428</td>\n",
       "      <td>1097</td>\n",
       "      <td>336</td>\n",
       "      <td>22</td>\n",
       "      <td>50</td>\n",
       "      <td>1036</td>\n",
       "      <td>99</td>\n",
       "      <td>11250</td>\n",
       "      <td>3750</td>\n",
       "      <td>400</td>\n",
       "      <td>1165</td>\n",
       "      <td>53</td>\n",
       "      <td>66</td>\n",
       "      <td>12.9</td>\n",
       "      <td>30</td>\n",
       "      <td>8735</td>\n",
       "      <td>54</td>\n",
       "    </tr>\n",
       "    <tr>\n",
       "      <th>3</th>\n",
       "      <td>Yes</td>\n",
       "      <td>417</td>\n",
       "      <td>349</td>\n",
       "      <td>137</td>\n",
       "      <td>60</td>\n",
       "      <td>89</td>\n",
       "      <td>510</td>\n",
       "      <td>63</td>\n",
       "      <td>12960</td>\n",
       "      <td>5450</td>\n",
       "      <td>450</td>\n",
       "      <td>875</td>\n",
       "      <td>92</td>\n",
       "      <td>97</td>\n",
       "      <td>7.7</td>\n",
       "      <td>37</td>\n",
       "      <td>19016</td>\n",
       "      <td>59</td>\n",
       "    </tr>\n",
       "    <tr>\n",
       "      <th>4</th>\n",
       "      <td>Yes</td>\n",
       "      <td>193</td>\n",
       "      <td>146</td>\n",
       "      <td>55</td>\n",
       "      <td>16</td>\n",
       "      <td>44</td>\n",
       "      <td>249</td>\n",
       "      <td>869</td>\n",
       "      <td>7560</td>\n",
       "      <td>4120</td>\n",
       "      <td>800</td>\n",
       "      <td>1500</td>\n",
       "      <td>76</td>\n",
       "      <td>72</td>\n",
       "      <td>11.9</td>\n",
       "      <td>2</td>\n",
       "      <td>10922</td>\n",
       "      <td>15</td>\n",
       "    </tr>\n",
       "  </tbody>\n",
       "</table>\n",
       "</div>"
      ],
      "text/plain": [
       "  private  apps  accept  enroll  top10perc  top25perc  f_undergrad  \\\n",
       "0     Yes  1660    1232     721         23         52         2885   \n",
       "1     Yes  2186    1924     512         16         29         2683   \n",
       "2     Yes  1428    1097     336         22         50         1036   \n",
       "3     Yes   417     349     137         60         89          510   \n",
       "4     Yes   193     146      55         16         44          249   \n",
       "\n",
       "   p_undergrad  outstate  room_board  books  personal  phd  terminal  \\\n",
       "0          537      7440        3300    450      2200   70        78   \n",
       "1         1227     12280        6450    750      1500   29        30   \n",
       "2           99     11250        3750    400      1165   53        66   \n",
       "3           63     12960        5450    450       875   92        97   \n",
       "4          869      7560        4120    800      1500   76        72   \n",
       "\n",
       "   s_f_ratio  perc_alumni  expend  grad_rate  \n",
       "0       18.1           12    7041         60  \n",
       "1       12.2           16   10527         56  \n",
       "2       12.9           30    8735         54  \n",
       "3        7.7           37   19016         59  \n",
       "4       11.9            2   10922         15  "
      ]
     },
     "execution_count": 3,
     "metadata": {},
     "output_type": "execute_result"
    }
   ],
   "source": [
    "df.head()"
   ]
  },
  {
   "cell_type": "markdown",
   "metadata": {},
   "source": [
    "# 1. Exploratory data analysis"
   ]
  },
  {
   "cell_type": "markdown",
   "metadata": {},
   "source": [
    "<span style='color:Blue'> **Question - 2. Explore the data to gain the insights from it.** </span>\n"
   ]
  },
  {
   "cell_type": "code",
   "execution_count": 4,
   "metadata": {},
   "outputs": [
    {
     "name": "stdout",
     "output_type": "stream",
     "text": [
      "<class 'pandas.core.frame.DataFrame'>\n",
      "RangeIndex: 777 entries, 0 to 776\n",
      "Data columns (total 18 columns):\n",
      " #   Column       Non-Null Count  Dtype  \n",
      "---  ------       --------------  -----  \n",
      " 0   private      777 non-null    object \n",
      " 1   apps         777 non-null    int64  \n",
      " 2   accept       777 non-null    int64  \n",
      " 3   enroll       777 non-null    int64  \n",
      " 4   top10perc    777 non-null    int64  \n",
      " 5   top25perc    777 non-null    int64  \n",
      " 6   f_undergrad  777 non-null    int64  \n",
      " 7   p_undergrad  777 non-null    int64  \n",
      " 8   outstate     777 non-null    int64  \n",
      " 9   room_board   777 non-null    int64  \n",
      " 10  books        777 non-null    int64  \n",
      " 11  personal     777 non-null    int64  \n",
      " 12  phd          777 non-null    int64  \n",
      " 13  terminal     777 non-null    int64  \n",
      " 14  s_f_ratio    777 non-null    float64\n",
      " 15  perc_alumni  777 non-null    int64  \n",
      " 16  expend       777 non-null    int64  \n",
      " 17  grad_rate    777 non-null    int64  \n",
      "dtypes: float64(1), int64(16), object(1)\n",
      "memory usage: 109.4+ KB\n"
     ]
    }
   ],
   "source": [
    "df.info()"
   ]
  },
  {
   "cell_type": "markdown",
   "metadata": {},
   "source": [
    "#### <span style='color:Blue'> **Question - 3. Retrive some random sample records from the dataframe.** </span>"
   ]
  },
  {
   "cell_type": "code",
   "execution_count": 17,
   "metadata": {},
   "outputs": [
    {
     "data": {
      "text/html": [
       "<div>\n",
       "<style scoped>\n",
       "    .dataframe tbody tr th:only-of-type {\n",
       "        vertical-align: middle;\n",
       "    }\n",
       "\n",
       "    .dataframe tbody tr th {\n",
       "        vertical-align: top;\n",
       "    }\n",
       "\n",
       "    .dataframe thead th {\n",
       "        text-align: right;\n",
       "    }\n",
       "</style>\n",
       "<table border=\"1\" class=\"dataframe\">\n",
       "  <thead>\n",
       "    <tr style=\"text-align: right;\">\n",
       "      <th></th>\n",
       "      <th>private</th>\n",
       "      <th>apps</th>\n",
       "      <th>accept</th>\n",
       "      <th>enroll</th>\n",
       "      <th>top10perc</th>\n",
       "      <th>top25perc</th>\n",
       "      <th>f_undergrad</th>\n",
       "      <th>p_undergrad</th>\n",
       "      <th>outstate</th>\n",
       "      <th>room_board</th>\n",
       "      <th>books</th>\n",
       "      <th>personal</th>\n",
       "      <th>phd</th>\n",
       "      <th>terminal</th>\n",
       "      <th>s_f_ratio</th>\n",
       "      <th>perc_alumni</th>\n",
       "      <th>expend</th>\n",
       "      <th>grad_rate</th>\n",
       "    </tr>\n",
       "  </thead>\n",
       "  <tbody>\n",
       "    <tr>\n",
       "      <th>767</th>\n",
       "      <td>No</td>\n",
       "      <td>2320</td>\n",
       "      <td>1805</td>\n",
       "      <td>769</td>\n",
       "      <td>24</td>\n",
       "      <td>61</td>\n",
       "      <td>3395</td>\n",
       "      <td>670</td>\n",
       "      <td>6400</td>\n",
       "      <td>3392</td>\n",
       "      <td>580</td>\n",
       "      <td>2150</td>\n",
       "      <td>71</td>\n",
       "      <td>80</td>\n",
       "      <td>12.8</td>\n",
       "      <td>26</td>\n",
       "      <td>6729</td>\n",
       "      <td>59</td>\n",
       "    </tr>\n",
       "    <tr>\n",
       "      <th>387</th>\n",
       "      <td>Yes</td>\n",
       "      <td>3708</td>\n",
       "      <td>1678</td>\n",
       "      <td>722</td>\n",
       "      <td>41</td>\n",
       "      <td>66</td>\n",
       "      <td>2852</td>\n",
       "      <td>153</td>\n",
       "      <td>7050</td>\n",
       "      <td>5490</td>\n",
       "      <td>250</td>\n",
       "      <td>600</td>\n",
       "      <td>71</td>\n",
       "      <td>74</td>\n",
       "      <td>17.8</td>\n",
       "      <td>10</td>\n",
       "      <td>8122</td>\n",
       "      <td>83</td>\n",
       "    </tr>\n",
       "    <tr>\n",
       "      <th>728</th>\n",
       "      <td>Yes</td>\n",
       "      <td>7654</td>\n",
       "      <td>5259</td>\n",
       "      <td>1254</td>\n",
       "      <td>62</td>\n",
       "      <td>93</td>\n",
       "      <td>4879</td>\n",
       "      <td>1274</td>\n",
       "      <td>18350</td>\n",
       "      <td>5775</td>\n",
       "      <td>768</td>\n",
       "      <td>1512</td>\n",
       "      <td>91</td>\n",
       "      <td>98</td>\n",
       "      <td>3.9</td>\n",
       "      <td>31</td>\n",
       "      <td>45702</td>\n",
       "      <td>90</td>\n",
       "    </tr>\n",
       "    <tr>\n",
       "      <th>650</th>\n",
       "      <td>No</td>\n",
       "      <td>1757</td>\n",
       "      <td>979</td>\n",
       "      <td>394</td>\n",
       "      <td>32</td>\n",
       "      <td>74</td>\n",
       "      <td>2033</td>\n",
       "      <td>1078</td>\n",
       "      <td>5972</td>\n",
       "      <td>3420</td>\n",
       "      <td>600</td>\n",
       "      <td>750</td>\n",
       "      <td>77</td>\n",
       "      <td>83</td>\n",
       "      <td>13.0</td>\n",
       "      <td>11</td>\n",
       "      <td>7011</td>\n",
       "      <td>37</td>\n",
       "    </tr>\n",
       "    <tr>\n",
       "      <th>587</th>\n",
       "      <td>No</td>\n",
       "      <td>1500</td>\n",
       "      <td>1242</td>\n",
       "      <td>611</td>\n",
       "      <td>12</td>\n",
       "      <td>36</td>\n",
       "      <td>2024</td>\n",
       "      <td>292</td>\n",
       "      <td>7070</td>\n",
       "      <td>2439</td>\n",
       "      <td>400</td>\n",
       "      <td>779</td>\n",
       "      <td>95</td>\n",
       "      <td>94</td>\n",
       "      <td>17.1</td>\n",
       "      <td>17</td>\n",
       "      <td>7744</td>\n",
       "      <td>84</td>\n",
       "    </tr>\n",
       "  </tbody>\n",
       "</table>\n",
       "</div>"
      ],
      "text/plain": [
       "    private  apps  accept  enroll  top10perc  top25perc  f_undergrad  \\\n",
       "767      No  2320    1805     769         24         61         3395   \n",
       "387     Yes  3708    1678     722         41         66         2852   \n",
       "728     Yes  7654    5259    1254         62         93         4879   \n",
       "650      No  1757     979     394         32         74         2033   \n",
       "587      No  1500    1242     611         12         36         2024   \n",
       "\n",
       "     p_undergrad  outstate  room_board  books  personal  phd  terminal  \\\n",
       "767          670      6400        3392    580      2150   71        80   \n",
       "387          153      7050        5490    250       600   71        74   \n",
       "728         1274     18350        5775    768      1512   91        98   \n",
       "650         1078      5972        3420    600       750   77        83   \n",
       "587          292      7070        2439    400       779   95        94   \n",
       "\n",
       "     s_f_ratio  perc_alumni  expend  grad_rate  \n",
       "767       12.8           26    6729         59  \n",
       "387       17.8           10    8122         83  \n",
       "728        3.9           31   45702         90  \n",
       "650       13.0           11    7011         37  \n",
       "587       17.1           17    7744         84  "
      ]
     },
     "execution_count": 17,
     "metadata": {},
     "output_type": "execute_result"
    }
   ],
   "source": [
    "df.sample(5)"
   ]
  },
  {
   "cell_type": "markdown",
   "metadata": {},
   "source": [
    "#### <span style='color:Blue'> **Question - 4.Retrive 11 sample records from the dataframe.** </span>"
   ]
  },
  {
   "cell_type": "code",
   "execution_count": 18,
   "metadata": {},
   "outputs": [
    {
     "data": {
      "text/html": [
       "<div>\n",
       "<style scoped>\n",
       "    .dataframe tbody tr th:only-of-type {\n",
       "        vertical-align: middle;\n",
       "    }\n",
       "\n",
       "    .dataframe tbody tr th {\n",
       "        vertical-align: top;\n",
       "    }\n",
       "\n",
       "    .dataframe thead th {\n",
       "        text-align: right;\n",
       "    }\n",
       "</style>\n",
       "<table border=\"1\" class=\"dataframe\">\n",
       "  <thead>\n",
       "    <tr style=\"text-align: right;\">\n",
       "      <th></th>\n",
       "      <th>private</th>\n",
       "      <th>apps</th>\n",
       "      <th>accept</th>\n",
       "      <th>enroll</th>\n",
       "      <th>top10perc</th>\n",
       "      <th>top25perc</th>\n",
       "      <th>f_undergrad</th>\n",
       "      <th>p_undergrad</th>\n",
       "      <th>outstate</th>\n",
       "      <th>room_board</th>\n",
       "      <th>books</th>\n",
       "      <th>personal</th>\n",
       "      <th>phd</th>\n",
       "      <th>terminal</th>\n",
       "      <th>s_f_ratio</th>\n",
       "      <th>perc_alumni</th>\n",
       "      <th>expend</th>\n",
       "      <th>grad_rate</th>\n",
       "    </tr>\n",
       "  </thead>\n",
       "  <tbody>\n",
       "    <tr>\n",
       "      <th>542</th>\n",
       "      <td>Yes</td>\n",
       "      <td>3713</td>\n",
       "      <td>1237</td>\n",
       "      <td>443</td>\n",
       "      <td>47</td>\n",
       "      <td>83</td>\n",
       "      <td>1971</td>\n",
       "      <td>107</td>\n",
       "      <td>7000</td>\n",
       "      <td>5565</td>\n",
       "      <td>660</td>\n",
       "      <td>2400</td>\n",
       "      <td>73</td>\n",
       "      <td>80</td>\n",
       "      <td>12.5</td>\n",
       "      <td>18</td>\n",
       "      <td>9988</td>\n",
       "      <td>65</td>\n",
       "    </tr>\n",
       "    <tr>\n",
       "      <th>528</th>\n",
       "      <td>Yes</td>\n",
       "      <td>2925</td>\n",
       "      <td>1598</td>\n",
       "      <td>632</td>\n",
       "      <td>51</td>\n",
       "      <td>88</td>\n",
       "      <td>2479</td>\n",
       "      <td>95</td>\n",
       "      <td>18820</td>\n",
       "      <td>6390</td>\n",
       "      <td>500</td>\n",
       "      <td>1050</td>\n",
       "      <td>85</td>\n",
       "      <td>97</td>\n",
       "      <td>10.3</td>\n",
       "      <td>44</td>\n",
       "      <td>21199</td>\n",
       "      <td>90</td>\n",
       "    </tr>\n",
       "    <tr>\n",
       "      <th>435</th>\n",
       "      <td>Yes</td>\n",
       "      <td>776</td>\n",
       "      <td>765</td>\n",
       "      <td>351</td>\n",
       "      <td>22</td>\n",
       "      <td>44</td>\n",
       "      <td>1419</td>\n",
       "      <td>228</td>\n",
       "      <td>6400</td>\n",
       "      <td>3150</td>\n",
       "      <td>500</td>\n",
       "      <td>1900</td>\n",
       "      <td>58</td>\n",
       "      <td>64</td>\n",
       "      <td>16.2</td>\n",
       "      <td>8</td>\n",
       "      <td>6578</td>\n",
       "      <td>45</td>\n",
       "    </tr>\n",
       "    <tr>\n",
       "      <th>120</th>\n",
       "      <td>Yes</td>\n",
       "      <td>1006</td>\n",
       "      <td>742</td>\n",
       "      <td>275</td>\n",
       "      <td>29</td>\n",
       "      <td>60</td>\n",
       "      <td>1127</td>\n",
       "      <td>205</td>\n",
       "      <td>13925</td>\n",
       "      <td>4390</td>\n",
       "      <td>500</td>\n",
       "      <td>2200</td>\n",
       "      <td>73</td>\n",
       "      <td>86</td>\n",
       "      <td>12.7</td>\n",
       "      <td>32</td>\n",
       "      <td>10141</td>\n",
       "      <td>67</td>\n",
       "    </tr>\n",
       "    <tr>\n",
       "      <th>331</th>\n",
       "      <td>Yes</td>\n",
       "      <td>1286</td>\n",
       "      <td>1005</td>\n",
       "      <td>363</td>\n",
       "      <td>16</td>\n",
       "      <td>37</td>\n",
       "      <td>1363</td>\n",
       "      <td>74</td>\n",
       "      <td>13900</td>\n",
       "      <td>4300</td>\n",
       "      <td>500</td>\n",
       "      <td>900</td>\n",
       "      <td>75</td>\n",
       "      <td>81</td>\n",
       "      <td>14.0</td>\n",
       "      <td>32</td>\n",
       "      <td>8024</td>\n",
       "      <td>72</td>\n",
       "    </tr>\n",
       "    <tr>\n",
       "      <th>414</th>\n",
       "      <td>Yes</td>\n",
       "      <td>1127</td>\n",
       "      <td>884</td>\n",
       "      <td>308</td>\n",
       "      <td>30</td>\n",
       "      <td>64</td>\n",
       "      <td>1310</td>\n",
       "      <td>766</td>\n",
       "      <td>11718</td>\n",
       "      <td>7398</td>\n",
       "      <td>450</td>\n",
       "      <td>1800</td>\n",
       "      <td>73</td>\n",
       "      <td>87</td>\n",
       "      <td>16.4</td>\n",
       "      <td>33</td>\n",
       "      <td>8871</td>\n",
       "      <td>76</td>\n",
       "    </tr>\n",
       "    <tr>\n",
       "      <th>203</th>\n",
       "      <td>No</td>\n",
       "      <td>11651</td>\n",
       "      <td>8683</td>\n",
       "      <td>3023</td>\n",
       "      <td>50</td>\n",
       "      <td>90</td>\n",
       "      <td>18906</td>\n",
       "      <td>3242</td>\n",
       "      <td>6680</td>\n",
       "      <td>4060</td>\n",
       "      <td>600</td>\n",
       "      <td>1020</td>\n",
       "      <td>80</td>\n",
       "      <td>89</td>\n",
       "      <td>23.1</td>\n",
       "      <td>15</td>\n",
       "      <td>7250</td>\n",
       "      <td>58</td>\n",
       "    </tr>\n",
       "    <tr>\n",
       "      <th>478</th>\n",
       "      <td>Yes</td>\n",
       "      <td>560</td>\n",
       "      <td>392</td>\n",
       "      <td>270</td>\n",
       "      <td>11</td>\n",
       "      <td>31</td>\n",
       "      <td>743</td>\n",
       "      <td>118</td>\n",
       "      <td>8734</td>\n",
       "      <td>3362</td>\n",
       "      <td>600</td>\n",
       "      <td>625</td>\n",
       "      <td>56</td>\n",
       "      <td>78</td>\n",
       "      <td>11.3</td>\n",
       "      <td>27</td>\n",
       "      <td>6422</td>\n",
       "      <td>68</td>\n",
       "    </tr>\n",
       "    <tr>\n",
       "      <th>88</th>\n",
       "      <td>Yes</td>\n",
       "      <td>1160</td>\n",
       "      <td>991</td>\n",
       "      <td>352</td>\n",
       "      <td>19</td>\n",
       "      <td>55</td>\n",
       "      <td>1357</td>\n",
       "      <td>737</td>\n",
       "      <td>12200</td>\n",
       "      <td>3880</td>\n",
       "      <td>480</td>\n",
       "      <td>930</td>\n",
       "      <td>74</td>\n",
       "      <td>81</td>\n",
       "      <td>17.8</td>\n",
       "      <td>25</td>\n",
       "      <td>7666</td>\n",
       "      <td>79</td>\n",
       "    </tr>\n",
       "    <tr>\n",
       "      <th>419</th>\n",
       "      <td>No</td>\n",
       "      <td>5891</td>\n",
       "      <td>4931</td>\n",
       "      <td>1973</td>\n",
       "      <td>23</td>\n",
       "      <td>48</td>\n",
       "      <td>11249</td>\n",
       "      <td>2682</td>\n",
       "      <td>6746</td>\n",
       "      <td>3728</td>\n",
       "      <td>620</td>\n",
       "      <td>2342</td>\n",
       "      <td>78</td>\n",
       "      <td>83</td>\n",
       "      <td>21.7</td>\n",
       "      <td>7</td>\n",
       "      <td>6157</td>\n",
       "      <td>41</td>\n",
       "    </tr>\n",
       "    <tr>\n",
       "      <th>445</th>\n",
       "      <td>No</td>\n",
       "      <td>19315</td>\n",
       "      <td>10344</td>\n",
       "      <td>3450</td>\n",
       "      <td>48</td>\n",
       "      <td>93</td>\n",
       "      <td>28938</td>\n",
       "      <td>2025</td>\n",
       "      <td>10645</td>\n",
       "      <td>4060</td>\n",
       "      <td>512</td>\n",
       "      <td>2394</td>\n",
       "      <td>77</td>\n",
       "      <td>96</td>\n",
       "      <td>18.1</td>\n",
       "      <td>19</td>\n",
       "      <td>8992</td>\n",
       "      <td>63</td>\n",
       "    </tr>\n",
       "  </tbody>\n",
       "</table>\n",
       "</div>"
      ],
      "text/plain": [
       "    private   apps  accept  enroll  top10perc  top25perc  f_undergrad  \\\n",
       "542     Yes   3713    1237     443         47         83         1971   \n",
       "528     Yes   2925    1598     632         51         88         2479   \n",
       "435     Yes    776     765     351         22         44         1419   \n",
       "120     Yes   1006     742     275         29         60         1127   \n",
       "331     Yes   1286    1005     363         16         37         1363   \n",
       "414     Yes   1127     884     308         30         64         1310   \n",
       "203      No  11651    8683    3023         50         90        18906   \n",
       "478     Yes    560     392     270         11         31          743   \n",
       "88      Yes   1160     991     352         19         55         1357   \n",
       "419      No   5891    4931    1973         23         48        11249   \n",
       "445      No  19315   10344    3450         48         93        28938   \n",
       "\n",
       "     p_undergrad  outstate  room_board  books  personal  phd  terminal  \\\n",
       "542          107      7000        5565    660      2400   73        80   \n",
       "528           95     18820        6390    500      1050   85        97   \n",
       "435          228      6400        3150    500      1900   58        64   \n",
       "120          205     13925        4390    500      2200   73        86   \n",
       "331           74     13900        4300    500       900   75        81   \n",
       "414          766     11718        7398    450      1800   73        87   \n",
       "203         3242      6680        4060    600      1020   80        89   \n",
       "478          118      8734        3362    600       625   56        78   \n",
       "88           737     12200        3880    480       930   74        81   \n",
       "419         2682      6746        3728    620      2342   78        83   \n",
       "445         2025     10645        4060    512      2394   77        96   \n",
       "\n",
       "     s_f_ratio  perc_alumni  expend  grad_rate  \n",
       "542       12.5           18    9988         65  \n",
       "528       10.3           44   21199         90  \n",
       "435       16.2            8    6578         45  \n",
       "120       12.7           32   10141         67  \n",
       "331       14.0           32    8024         72  \n",
       "414       16.4           33    8871         76  \n",
       "203       23.1           15    7250         58  \n",
       "478       11.3           27    6422         68  \n",
       "88        17.8           25    7666         79  \n",
       "419       21.7            7    6157         41  \n",
       "445       18.1           19    8992         63  "
      ]
     },
     "execution_count": 18,
     "metadata": {},
     "output_type": "execute_result"
    }
   ],
   "source": [
    "df.sample(11)"
   ]
  },
  {
   "cell_type": "markdown",
   "metadata": {},
   "source": [
    "<span style='color:Blue'> **Question - 5.How to verify missing values present in the variables.**</span>"
   ]
  },
  {
   "cell_type": "code",
   "execution_count": 7,
   "metadata": {},
   "outputs": [
    {
     "data": {
      "text/plain": [
       "private        0\n",
       "apps           0\n",
       "accept         0\n",
       "enroll         0\n",
       "top10perc      0\n",
       "top25perc      0\n",
       "f_undergrad    0\n",
       "p_undergrad    0\n",
       "outstate       0\n",
       "room_board     0\n",
       "books          0\n",
       "personal       0\n",
       "phd            0\n",
       "terminal       0\n",
       "s_f_ratio      0\n",
       "perc_alumni    0\n",
       "expend         0\n",
       "grad_rate      0\n",
       "dtype: int64"
      ]
     },
     "execution_count": 7,
     "metadata": {},
     "output_type": "execute_result"
    }
   ],
   "source": [
    "df.isnull().sum()"
   ]
  },
  {
   "cell_type": "markdown",
   "metadata": {},
   "source": [
    "# 2. Exploratory Data Analysis (EDA)"
   ]
  },
  {
   "cell_type": "markdown",
   "metadata": {},
   "source": [
    "<span style='color:Blue'> **Question - 6. How many students give the room based on grade. Plot the scatter plot and classify based on universities.**</span>"
   ]
  },
  {
   "cell_type": "code",
   "execution_count": 8,
   "metadata": {},
   "outputs": [
    {
     "data": {
      "image/png": "[encoded data removed]",
      "text/plain": [
       "<Figure size 720x432 with 1 Axes>"
      ]
     },
     "metadata": {
      "needs_background": "light"
     },
     "output_type": "display_data"
    }
   ],
   "source": [
    "plt.figure(figsize=(10, 6))\n",
    "sns.scatterplot(x='room_board', y='grad_rate', data=df, hue='private')\n",
    "plt.show()"
   ]
  },
  {
   "cell_type": "markdown",
   "metadata": {},
   "source": [
    "<span style='color:Blue'> **Question - 7. How many students out side station join the full time undergraduates,plot the scatter plot based on unversities.**</span>"
   ]
  },
  {
   "cell_type": "code",
   "execution_count": 9,
   "metadata": {},
   "outputs": [
    {
     "data": {
      "image/png": "[encoded data removed]",
      "text/plain": [
       "<Figure size 720x504 with 1 Axes>"
      ]
     },
     "metadata": {
      "needs_background": "light"
     },
     "output_type": "display_data"
    }
   ],
   "source": [
    "#write observation and code here\n",
    "plt.figure(figsize=(10,7))\n",
    "sns.scatterplot(data=df,x='outstate',y='f_undergrad',hue='private')\n",
    "plt.title('Outstate vs Private')\n",
    "plt.show()"
   ]
  },
  {
   "cell_type": "markdown",
   "metadata": {},
   "source": [
    "<span style='color:Blue'> **Question - 8. Plot the scatter plot of private vs non private universities based on outstate students.**</span>"
   ]
  },
  {
   "cell_type": "code",
   "execution_count": 10,
   "metadata": {},
   "outputs": [
    {
     "data": {
      "image/png": "[encoded data removed]",
      "text/plain": [
       "<Figure size 720x504 with 1 Axes>"
      ]
     },
     "metadata": {
      "needs_background": "light"
     },
     "output_type": "display_data"
    }
   ],
   "source": [
    "plt.figure(figsize=(10,7))\n",
    "sns.scatterplot(x='outstate',y='private',data=df)\n",
    "plt.show()"
   ]
  },
  {
   "cell_type": "markdown",
   "metadata": {},
   "source": [
    "<span style='color:Blue'> **Question - 9. Plot the scatter plot based on grid rate vs private and non-private college.**</span>"
   ]
  },
  {
   "cell_type": "code",
   "execution_count": 11,
   "metadata": {},
   "outputs": [
    {
     "data": {
      "image/png": "[encoded data removed]",
      "text/plain": [
       "<Figure size 720x504 with 1 Axes>"
      ]
     },
     "metadata": {
      "needs_background": "light"
     },
     "output_type": "display_data"
    }
   ],
   "source": [
    "plt.figure(figsize=(10,7))\n",
    "sns.scatterplot(x='grad_rate',y='private',data=df)\n",
    "plt.show()"
   ]
  },
  {
   "cell_type": "markdown",
   "metadata": {},
   "source": [
    "<span style='color:Blue'> **Question - 10. What is the name of that school, who seems to be a private school with graduation rate higher than 100%..**</span>"
   ]
  },
  {
   "cell_type": "code",
   "execution_count": 12,
   "metadata": {},
   "outputs": [
    {
     "data": {
      "text/html": [
       "<div>\n",
       "<style scoped>\n",
       "    .dataframe tbody tr th:only-of-type {\n",
       "        vertical-align: middle;\n",
       "    }\n",
       "\n",
       "    .dataframe tbody tr th {\n",
       "        vertical-align: top;\n",
       "    }\n",
       "\n",
       "    .dataframe thead th {\n",
       "        text-align: right;\n",
       "    }\n",
       "</style>\n",
       "<table border=\"1\" class=\"dataframe\">\n",
       "  <thead>\n",
       "    <tr style=\"text-align: right;\">\n",
       "      <th></th>\n",
       "      <th>private</th>\n",
       "      <th>apps</th>\n",
       "      <th>accept</th>\n",
       "      <th>enroll</th>\n",
       "      <th>top10perc</th>\n",
       "      <th>top25perc</th>\n",
       "      <th>f_undergrad</th>\n",
       "      <th>p_undergrad</th>\n",
       "      <th>outstate</th>\n",
       "      <th>room_board</th>\n",
       "      <th>books</th>\n",
       "      <th>personal</th>\n",
       "      <th>phd</th>\n",
       "      <th>terminal</th>\n",
       "      <th>s_f_ratio</th>\n",
       "      <th>perc_alumni</th>\n",
       "      <th>expend</th>\n",
       "      <th>grad_rate</th>\n",
       "    </tr>\n",
       "  </thead>\n",
       "  <tbody>\n",
       "    <tr>\n",
       "      <th>95</th>\n",
       "      <td>Yes</td>\n",
       "      <td>3847</td>\n",
       "      <td>3433</td>\n",
       "      <td>527</td>\n",
       "      <td>9</td>\n",
       "      <td>35</td>\n",
       "      <td>1010</td>\n",
       "      <td>12</td>\n",
       "      <td>9384</td>\n",
       "      <td>4840</td>\n",
       "      <td>600</td>\n",
       "      <td>500</td>\n",
       "      <td>22</td>\n",
       "      <td>47</td>\n",
       "      <td>14.3</td>\n",
       "      <td>20</td>\n",
       "      <td>7697</td>\n",
       "      <td>118</td>\n",
       "    </tr>\n",
       "  </tbody>\n",
       "</table>\n",
       "</div>"
      ],
      "text/plain": [
       "   private  apps  accept  enroll  top10perc  top25perc  f_undergrad  \\\n",
       "95     Yes  3847    3433     527          9         35         1010   \n",
       "\n",
       "    p_undergrad  outstate  room_board  books  personal  phd  terminal  \\\n",
       "95           12      9384        4840    600       500   22        47   \n",
       "\n",
       "    s_f_ratio  perc_alumni  expend  grad_rate  \n",
       "95       14.3           20    7697        118  "
      ]
     },
     "execution_count": 12,
     "metadata": {},
     "output_type": "execute_result"
    }
   ],
   "source": [
    "df[df['grad_rate']>100]"
   ]
  },
  {
   "cell_type": "markdown",
   "metadata": {},
   "source": [
    "<span style='color:Blue'> **Question - 11.How to handel the data if the dataset is not in the same range?.**</span>"
   ]
  },
  {
   "cell_type": "code",
   "execution_count": 13,
   "metadata": {},
   "outputs": [],
   "source": [
    "from sklearn.preprocessing import StandardScaler"
   ]
  },
  {
   "cell_type": "code",
   "execution_count": 44,
   "metadata": {},
   "outputs": [],
   "source": [
    "SS = StandardScaler()"
   ]
  },
  {
   "cell_type": "code",
   "execution_count": 45,
   "metadata": {},
   "outputs": [],
   "source": [
    "df = SS.fit_transform(df)"
   ]
  },
  {
   "cell_type": "code",
   "execution_count": 46,
   "metadata": {},
   "outputs": [
    {
     "data": {
      "text/plain": [
       "array([[ 6.12553050e-01, -3.46881819e-01, -3.21205453e-01, ...,\n",
       "        -8.67574189e-01, -5.01910084e-01, -3.18251941e-01],\n",
       "       [ 6.12553050e-01, -2.10884040e-01, -3.87029908e-02, ...,\n",
       "        -5.44572203e-01,  1.66109850e-01, -5.51261842e-01],\n",
       "       [ 6.12553050e-01, -4.06865631e-01, -3.76317928e-01, ...,\n",
       "         5.85934748e-01, -1.77289956e-01, -6.67766793e-01],\n",
       "       ...,\n",
       "       [ 6.12553050e-01, -2.33895071e-01, -4.23771558e-02, ...,\n",
       "        -2.21570217e-01, -2.56241250e-01, -9.59029170e-01],\n",
       "       [ 6.12553050e-01,  1.99171118e+00,  1.77256262e-01, ...,\n",
       "         2.12019418e+00,  5.88797079e+00,  1.95359460e+00],\n",
       "       [ 6.12553050e-01, -3.26765760e-03, -6.68715889e-02, ...,\n",
       "         4.24433755e-01, -9.87115613e-01,  1.95359460e+00]])"
      ]
     },
     "execution_count": 46,
     "metadata": {},
     "output_type": "execute_result"
    }
   ],
   "source": [
    "df"
   ]
  },
  {
   "cell_type": "markdown",
   "metadata": {},
   "source": [
    "#### <span style='color:Blue'> **Question - 12. Use the histogram for visualization, grade rate vs private and non-private college**</span>"
   ]
  },
  {
   "cell_type": "code",
   "execution_count": 19,
   "metadata": {},
   "outputs": [
    {
     "data": {
      "image/png": "[encoded data removed]",
      "text/plain": [
       "<Figure size 720x432 with 1 Axes>"
      ]
     },
     "metadata": {
      "needs_background": "light"
     },
     "output_type": "display_data"
    }
   ],
   "source": [
    "plt.figure(figsize=(10,6))\n",
    "sns.histplot(data=df,x='grad_rate',hue='private',edgecolor='k')\n",
    "plt.title('Grad Rate VS Private')\n",
    "plt.show()"
   ]
  },
  {
   "cell_type": "markdown",
   "metadata": {},
   "source": [
    "#### <span style='color:Blue'> **Question - 13. Check the relation between the number of application recieved vs number of application accepted**</span>"
   ]
  },
  {
   "cell_type": "code",
   "execution_count": 20,
   "metadata": {},
   "outputs": [
    {
     "data": {
      "image/png": "[encoded data removed]",
      "text/plain": [
       "<Figure size 720x432 with 1 Axes>"
      ]
     },
     "metadata": {
      "needs_background": "light"
     },
     "output_type": "display_data"
    }
   ],
   "source": [
    "plt.figure(figsize=(10,6))\n",
    "sns.scatterplot(data=df,y='apps',x='accept',hue='private')\n",
    "plt.xlabel('Number of Application Recieved')\n",
    "plt.ylabel('Number Of Application Accepted')\n",
    "plt.show()"
   ]
  },
  {
   "cell_type": "markdown",
   "metadata": {},
   "source": [
    "#### <span style='color:Blue'> **Question - 14.Manage the categorical data**</span>"
   ]
  },
  {
   "cell_type": "code",
   "execution_count": 21,
   "metadata": {},
   "outputs": [],
   "source": [
    "from sklearn.preprocessing import LabelEncoder"
   ]
  },
  {
   "cell_type": "code",
   "execution_count": 22,
   "metadata": {},
   "outputs": [],
   "source": [
    "LE= LabelEncoder()"
   ]
  },
  {
   "cell_type": "code",
   "execution_count": 23,
   "metadata": {},
   "outputs": [
    {
     "data": {
      "text/html": [
       "<div>\n",
       "<style scoped>\n",
       "    .dataframe tbody tr th:only-of-type {\n",
       "        vertical-align: middle;\n",
       "    }\n",
       "\n",
       "    .dataframe tbody tr th {\n",
       "        vertical-align: top;\n",
       "    }\n",
       "\n",
       "    .dataframe thead th {\n",
       "        text-align: right;\n",
       "    }\n",
       "</style>\n",
       "<table border=\"1\" class=\"dataframe\">\n",
       "  <thead>\n",
       "    <tr style=\"text-align: right;\">\n",
       "      <th></th>\n",
       "      <th>private</th>\n",
       "      <th>apps</th>\n",
       "      <th>accept</th>\n",
       "      <th>enroll</th>\n",
       "      <th>top10perc</th>\n",
       "      <th>top25perc</th>\n",
       "      <th>f_undergrad</th>\n",
       "      <th>p_undergrad</th>\n",
       "      <th>outstate</th>\n",
       "      <th>room_board</th>\n",
       "      <th>books</th>\n",
       "      <th>personal</th>\n",
       "      <th>phd</th>\n",
       "      <th>terminal</th>\n",
       "      <th>s_f_ratio</th>\n",
       "      <th>perc_alumni</th>\n",
       "      <th>expend</th>\n",
       "      <th>grad_rate</th>\n",
       "    </tr>\n",
       "  </thead>\n",
       "  <tbody>\n",
       "    <tr>\n",
       "      <th>0</th>\n",
       "      <td>1</td>\n",
       "      <td>1660</td>\n",
       "      <td>1232</td>\n",
       "      <td>721</td>\n",
       "      <td>23</td>\n",
       "      <td>52</td>\n",
       "      <td>2885</td>\n",
       "      <td>537</td>\n",
       "      <td>7440</td>\n",
       "      <td>3300</td>\n",
       "      <td>450</td>\n",
       "      <td>2200</td>\n",
       "      <td>70</td>\n",
       "      <td>78</td>\n",
       "      <td>18.1</td>\n",
       "      <td>12</td>\n",
       "      <td>7041</td>\n",
       "      <td>60</td>\n",
       "    </tr>\n",
       "    <tr>\n",
       "      <th>1</th>\n",
       "      <td>1</td>\n",
       "      <td>2186</td>\n",
       "      <td>1924</td>\n",
       "      <td>512</td>\n",
       "      <td>16</td>\n",
       "      <td>29</td>\n",
       "      <td>2683</td>\n",
       "      <td>1227</td>\n",
       "      <td>12280</td>\n",
       "      <td>6450</td>\n",
       "      <td>750</td>\n",
       "      <td>1500</td>\n",
       "      <td>29</td>\n",
       "      <td>30</td>\n",
       "      <td>12.2</td>\n",
       "      <td>16</td>\n",
       "      <td>10527</td>\n",
       "      <td>56</td>\n",
       "    </tr>\n",
       "    <tr>\n",
       "      <th>2</th>\n",
       "      <td>1</td>\n",
       "      <td>1428</td>\n",
       "      <td>1097</td>\n",
       "      <td>336</td>\n",
       "      <td>22</td>\n",
       "      <td>50</td>\n",
       "      <td>1036</td>\n",
       "      <td>99</td>\n",
       "      <td>11250</td>\n",
       "      <td>3750</td>\n",
       "      <td>400</td>\n",
       "      <td>1165</td>\n",
       "      <td>53</td>\n",
       "      <td>66</td>\n",
       "      <td>12.9</td>\n",
       "      <td>30</td>\n",
       "      <td>8735</td>\n",
       "      <td>54</td>\n",
       "    </tr>\n",
       "    <tr>\n",
       "      <th>3</th>\n",
       "      <td>1</td>\n",
       "      <td>417</td>\n",
       "      <td>349</td>\n",
       "      <td>137</td>\n",
       "      <td>60</td>\n",
       "      <td>89</td>\n",
       "      <td>510</td>\n",
       "      <td>63</td>\n",
       "      <td>12960</td>\n",
       "      <td>5450</td>\n",
       "      <td>450</td>\n",
       "      <td>875</td>\n",
       "      <td>92</td>\n",
       "      <td>97</td>\n",
       "      <td>7.7</td>\n",
       "      <td>37</td>\n",
       "      <td>19016</td>\n",
       "      <td>59</td>\n",
       "    </tr>\n",
       "    <tr>\n",
       "      <th>4</th>\n",
       "      <td>1</td>\n",
       "      <td>193</td>\n",
       "      <td>146</td>\n",
       "      <td>55</td>\n",
       "      <td>16</td>\n",
       "      <td>44</td>\n",
       "      <td>249</td>\n",
       "      <td>869</td>\n",
       "      <td>7560</td>\n",
       "      <td>4120</td>\n",
       "      <td>800</td>\n",
       "      <td>1500</td>\n",
       "      <td>76</td>\n",
       "      <td>72</td>\n",
       "      <td>11.9</td>\n",
       "      <td>2</td>\n",
       "      <td>10922</td>\n",
       "      <td>15</td>\n",
       "    </tr>\n",
       "    <tr>\n",
       "      <th>...</th>\n",
       "      <td>...</td>\n",
       "      <td>...</td>\n",
       "      <td>...</td>\n",
       "      <td>...</td>\n",
       "      <td>...</td>\n",
       "      <td>...</td>\n",
       "      <td>...</td>\n",
       "      <td>...</td>\n",
       "      <td>...</td>\n",
       "      <td>...</td>\n",
       "      <td>...</td>\n",
       "      <td>...</td>\n",
       "      <td>...</td>\n",
       "      <td>...</td>\n",
       "      <td>...</td>\n",
       "      <td>...</td>\n",
       "      <td>...</td>\n",
       "      <td>...</td>\n",
       "    </tr>\n",
       "    <tr>\n",
       "      <th>772</th>\n",
       "      <td>0</td>\n",
       "      <td>2197</td>\n",
       "      <td>1515</td>\n",
       "      <td>543</td>\n",
       "      <td>4</td>\n",
       "      <td>26</td>\n",
       "      <td>3089</td>\n",
       "      <td>2029</td>\n",
       "      <td>6797</td>\n",
       "      <td>3900</td>\n",
       "      <td>500</td>\n",
       "      <td>1200</td>\n",
       "      <td>60</td>\n",
       "      <td>60</td>\n",
       "      <td>21.0</td>\n",
       "      <td>14</td>\n",
       "      <td>4469</td>\n",
       "      <td>40</td>\n",
       "    </tr>\n",
       "    <tr>\n",
       "      <th>773</th>\n",
       "      <td>1</td>\n",
       "      <td>1959</td>\n",
       "      <td>1805</td>\n",
       "      <td>695</td>\n",
       "      <td>24</td>\n",
       "      <td>47</td>\n",
       "      <td>2849</td>\n",
       "      <td>1107</td>\n",
       "      <td>11520</td>\n",
       "      <td>4960</td>\n",
       "      <td>600</td>\n",
       "      <td>1250</td>\n",
       "      <td>73</td>\n",
       "      <td>75</td>\n",
       "      <td>13.3</td>\n",
       "      <td>31</td>\n",
       "      <td>9189</td>\n",
       "      <td>83</td>\n",
       "    </tr>\n",
       "    <tr>\n",
       "      <th>774</th>\n",
       "      <td>1</td>\n",
       "      <td>2097</td>\n",
       "      <td>1915</td>\n",
       "      <td>695</td>\n",
       "      <td>34</td>\n",
       "      <td>61</td>\n",
       "      <td>2793</td>\n",
       "      <td>166</td>\n",
       "      <td>6900</td>\n",
       "      <td>4200</td>\n",
       "      <td>617</td>\n",
       "      <td>781</td>\n",
       "      <td>67</td>\n",
       "      <td>75</td>\n",
       "      <td>14.4</td>\n",
       "      <td>20</td>\n",
       "      <td>8323</td>\n",
       "      <td>49</td>\n",
       "    </tr>\n",
       "    <tr>\n",
       "      <th>775</th>\n",
       "      <td>1</td>\n",
       "      <td>10705</td>\n",
       "      <td>2453</td>\n",
       "      <td>1317</td>\n",
       "      <td>95</td>\n",
       "      <td>99</td>\n",
       "      <td>5217</td>\n",
       "      <td>83</td>\n",
       "      <td>19840</td>\n",
       "      <td>6510</td>\n",
       "      <td>630</td>\n",
       "      <td>2115</td>\n",
       "      <td>96</td>\n",
       "      <td>96</td>\n",
       "      <td>5.8</td>\n",
       "      <td>49</td>\n",
       "      <td>40386</td>\n",
       "      <td>99</td>\n",
       "    </tr>\n",
       "    <tr>\n",
       "      <th>776</th>\n",
       "      <td>1</td>\n",
       "      <td>2989</td>\n",
       "      <td>1855</td>\n",
       "      <td>691</td>\n",
       "      <td>28</td>\n",
       "      <td>63</td>\n",
       "      <td>2988</td>\n",
       "      <td>1726</td>\n",
       "      <td>4990</td>\n",
       "      <td>3560</td>\n",
       "      <td>500</td>\n",
       "      <td>1250</td>\n",
       "      <td>75</td>\n",
       "      <td>75</td>\n",
       "      <td>18.1</td>\n",
       "      <td>28</td>\n",
       "      <td>4509</td>\n",
       "      <td>99</td>\n",
       "    </tr>\n",
       "  </tbody>\n",
       "</table>\n",
       "<p>777 rows × 18 columns</p>\n",
       "</div>"
      ],
      "text/plain": [
       "     private   apps  accept  enroll  top10perc  top25perc  f_undergrad  \\\n",
       "0          1   1660    1232     721         23         52         2885   \n",
       "1          1   2186    1924     512         16         29         2683   \n",
       "2          1   1428    1097     336         22         50         1036   \n",
       "3          1    417     349     137         60         89          510   \n",
       "4          1    193     146      55         16         44          249   \n",
       "..       ...    ...     ...     ...        ...        ...          ...   \n",
       "772        0   2197    1515     543          4         26         3089   \n",
       "773        1   1959    1805     695         24         47         2849   \n",
       "774        1   2097    1915     695         34         61         2793   \n",
       "775        1  10705    2453    1317         95         99         5217   \n",
       "776        1   2989    1855     691         28         63         2988   \n",
       "\n",
       "     p_undergrad  outstate  room_board  books  personal  phd  terminal  \\\n",
       "0            537      7440        3300    450      2200   70        78   \n",
       "1           1227     12280        6450    750      1500   29        30   \n",
       "2             99     11250        3750    400      1165   53        66   \n",
       "3             63     12960        5450    450       875   92        97   \n",
       "4            869      7560        4120    800      1500   76        72   \n",
       "..           ...       ...         ...    ...       ...  ...       ...   \n",
       "772         2029      6797        3900    500      1200   60        60   \n",
       "773         1107     11520        4960    600      1250   73        75   \n",
       "774          166      6900        4200    617       781   67        75   \n",
       "775           83     19840        6510    630      2115   96        96   \n",
       "776         1726      4990        3560    500      1250   75        75   \n",
       "\n",
       "     s_f_ratio  perc_alumni  expend  grad_rate  \n",
       "0         18.1           12    7041         60  \n",
       "1         12.2           16   10527         56  \n",
       "2         12.9           30    8735         54  \n",
       "3          7.7           37   19016         59  \n",
       "4         11.9            2   10922         15  \n",
       "..         ...          ...     ...        ...  \n",
       "772       21.0           14    4469         40  \n",
       "773       13.3           31    9189         83  \n",
       "774       14.4           20    8323         49  \n",
       "775        5.8           49   40386         99  \n",
       "776       18.1           28    4509         99  \n",
       "\n",
       "[777 rows x 18 columns]"
      ]
     },
     "execution_count": 23,
     "metadata": {},
     "output_type": "execute_result"
    }
   ],
   "source": [
    "df['private']=LE.fit_transform(df['private'])\n",
    "df"
   ]
  },
  {
   "cell_type": "markdown",
   "metadata": {},
   "source": [
    "#### <span style='color:Blue'> **Question - 15.Which is the highest grade rate**</span>"
   ]
  },
  {
   "cell_type": "code",
   "execution_count": 24,
   "metadata": {},
   "outputs": [
    {
     "data": {
      "text/plain": [
       "118"
      ]
     },
     "execution_count": 24,
     "metadata": {},
     "output_type": "execute_result"
    }
   ],
   "source": [
    "df.grad_rate.max()"
   ]
  },
  {
   "cell_type": "markdown",
   "metadata": {},
   "source": [
    "#### <span style='color:Blue'> **Question - 16.Transorm your data with any transformation technique**</span>"
   ]
  },
  {
   "cell_type": "code",
   "execution_count": 25,
   "metadata": {},
   "outputs": [],
   "source": [
    "import warnings\n",
    "warnings.filterwarnings('ignore')"
   ]
  },
  {
   "cell_type": "code",
   "execution_count": 26,
   "metadata": {},
   "outputs": [],
   "source": [
    "df1 = np.log(df)"
   ]
  },
  {
   "cell_type": "code",
   "execution_count": 27,
   "metadata": {},
   "outputs": [
    {
     "data": {
      "text/html": [
       "<div>\n",
       "<style scoped>\n",
       "    .dataframe tbody tr th:only-of-type {\n",
       "        vertical-align: middle;\n",
       "    }\n",
       "\n",
       "    .dataframe tbody tr th {\n",
       "        vertical-align: top;\n",
       "    }\n",
       "\n",
       "    .dataframe thead th {\n",
       "        text-align: right;\n",
       "    }\n",
       "</style>\n",
       "<table border=\"1\" class=\"dataframe\">\n",
       "  <thead>\n",
       "    <tr style=\"text-align: right;\">\n",
       "      <th></th>\n",
       "      <th>private</th>\n",
       "      <th>apps</th>\n",
       "      <th>accept</th>\n",
       "      <th>enroll</th>\n",
       "      <th>top10perc</th>\n",
       "      <th>top25perc</th>\n",
       "      <th>f_undergrad</th>\n",
       "      <th>p_undergrad</th>\n",
       "      <th>outstate</th>\n",
       "      <th>room_board</th>\n",
       "      <th>books</th>\n",
       "      <th>personal</th>\n",
       "      <th>phd</th>\n",
       "      <th>terminal</th>\n",
       "      <th>s_f_ratio</th>\n",
       "      <th>perc_alumni</th>\n",
       "      <th>expend</th>\n",
       "      <th>grad_rate</th>\n",
       "    </tr>\n",
       "  </thead>\n",
       "  <tbody>\n",
       "    <tr>\n",
       "      <th>0</th>\n",
       "      <td>0.0</td>\n",
       "      <td>7.414573</td>\n",
       "      <td>7.116394</td>\n",
       "      <td>6.580639</td>\n",
       "      <td>3.135494</td>\n",
       "      <td>3.951244</td>\n",
       "      <td>7.967280</td>\n",
       "      <td>6.285998</td>\n",
       "      <td>8.914626</td>\n",
       "      <td>8.101678</td>\n",
       "      <td>6.109248</td>\n",
       "      <td>7.696213</td>\n",
       "      <td>4.248495</td>\n",
       "      <td>4.356709</td>\n",
       "      <td>2.895912</td>\n",
       "      <td>2.484907</td>\n",
       "      <td>8.859505</td>\n",
       "      <td>4.094345</td>\n",
       "    </tr>\n",
       "    <tr>\n",
       "      <th>1</th>\n",
       "      <td>0.0</td>\n",
       "      <td>7.689829</td>\n",
       "      <td>7.562162</td>\n",
       "      <td>6.238325</td>\n",
       "      <td>2.772589</td>\n",
       "      <td>3.367296</td>\n",
       "      <td>7.894691</td>\n",
       "      <td>7.112327</td>\n",
       "      <td>9.415727</td>\n",
       "      <td>8.771835</td>\n",
       "      <td>6.620073</td>\n",
       "      <td>7.313220</td>\n",
       "      <td>3.367296</td>\n",
       "      <td>3.401197</td>\n",
       "      <td>2.501436</td>\n",
       "      <td>2.772589</td>\n",
       "      <td>9.261699</td>\n",
       "      <td>4.025352</td>\n",
       "    </tr>\n",
       "    <tr>\n",
       "      <th>2</th>\n",
       "      <td>0.0</td>\n",
       "      <td>7.264030</td>\n",
       "      <td>7.000334</td>\n",
       "      <td>5.817111</td>\n",
       "      <td>3.091042</td>\n",
       "      <td>3.912023</td>\n",
       "      <td>6.943122</td>\n",
       "      <td>4.595120</td>\n",
       "      <td>9.328123</td>\n",
       "      <td>8.229511</td>\n",
       "      <td>5.991465</td>\n",
       "      <td>7.060476</td>\n",
       "      <td>3.970292</td>\n",
       "      <td>4.189655</td>\n",
       "      <td>2.557227</td>\n",
       "      <td>3.401197</td>\n",
       "      <td>9.075093</td>\n",
       "      <td>3.988984</td>\n",
       "    </tr>\n",
       "    <tr>\n",
       "      <th>3</th>\n",
       "      <td>0.0</td>\n",
       "      <td>6.033086</td>\n",
       "      <td>5.855072</td>\n",
       "      <td>4.919981</td>\n",
       "      <td>4.094345</td>\n",
       "      <td>4.488636</td>\n",
       "      <td>6.234411</td>\n",
       "      <td>4.143135</td>\n",
       "      <td>9.469623</td>\n",
       "      <td>8.603371</td>\n",
       "      <td>6.109248</td>\n",
       "      <td>6.774224</td>\n",
       "      <td>4.521789</td>\n",
       "      <td>4.574711</td>\n",
       "      <td>2.041220</td>\n",
       "      <td>3.610918</td>\n",
       "      <td>9.853036</td>\n",
       "      <td>4.077537</td>\n",
       "    </tr>\n",
       "    <tr>\n",
       "      <th>4</th>\n",
       "      <td>0.0</td>\n",
       "      <td>5.262690</td>\n",
       "      <td>4.983607</td>\n",
       "      <td>4.007333</td>\n",
       "      <td>2.772589</td>\n",
       "      <td>3.784190</td>\n",
       "      <td>5.517453</td>\n",
       "      <td>6.767343</td>\n",
       "      <td>8.930626</td>\n",
       "      <td>8.323608</td>\n",
       "      <td>6.684612</td>\n",
       "      <td>7.313220</td>\n",
       "      <td>4.330733</td>\n",
       "      <td>4.276666</td>\n",
       "      <td>2.476538</td>\n",
       "      <td>0.693147</td>\n",
       "      <td>9.298534</td>\n",
       "      <td>2.708050</td>\n",
       "    </tr>\n",
       "    <tr>\n",
       "      <th>...</th>\n",
       "      <td>...</td>\n",
       "      <td>...</td>\n",
       "      <td>...</td>\n",
       "      <td>...</td>\n",
       "      <td>...</td>\n",
       "      <td>...</td>\n",
       "      <td>...</td>\n",
       "      <td>...</td>\n",
       "      <td>...</td>\n",
       "      <td>...</td>\n",
       "      <td>...</td>\n",
       "      <td>...</td>\n",
       "      <td>...</td>\n",
       "      <td>...</td>\n",
       "      <td>...</td>\n",
       "      <td>...</td>\n",
       "      <td>...</td>\n",
       "      <td>...</td>\n",
       "    </tr>\n",
       "    <tr>\n",
       "      <th>772</th>\n",
       "      <td>-inf</td>\n",
       "      <td>7.694848</td>\n",
       "      <td>7.323171</td>\n",
       "      <td>6.297109</td>\n",
       "      <td>1.386294</td>\n",
       "      <td>3.258097</td>\n",
       "      <td>8.035603</td>\n",
       "      <td>7.615298</td>\n",
       "      <td>8.824237</td>\n",
       "      <td>8.268732</td>\n",
       "      <td>6.214608</td>\n",
       "      <td>7.090077</td>\n",
       "      <td>4.094345</td>\n",
       "      <td>4.094345</td>\n",
       "      <td>3.044522</td>\n",
       "      <td>2.639057</td>\n",
       "      <td>8.404920</td>\n",
       "      <td>3.688879</td>\n",
       "    </tr>\n",
       "    <tr>\n",
       "      <th>773</th>\n",
       "      <td>0.0</td>\n",
       "      <td>7.580189</td>\n",
       "      <td>7.498316</td>\n",
       "      <td>6.543912</td>\n",
       "      <td>3.178054</td>\n",
       "      <td>3.850148</td>\n",
       "      <td>7.954723</td>\n",
       "      <td>7.009409</td>\n",
       "      <td>9.351840</td>\n",
       "      <td>8.509161</td>\n",
       "      <td>6.396930</td>\n",
       "      <td>7.130899</td>\n",
       "      <td>4.290459</td>\n",
       "      <td>4.317488</td>\n",
       "      <td>2.587764</td>\n",
       "      <td>3.433987</td>\n",
       "      <td>9.125762</td>\n",
       "      <td>4.418841</td>\n",
       "    </tr>\n",
       "    <tr>\n",
       "      <th>774</th>\n",
       "      <td>0.0</td>\n",
       "      <td>7.648263</td>\n",
       "      <td>7.557473</td>\n",
       "      <td>6.543912</td>\n",
       "      <td>3.526361</td>\n",
       "      <td>4.110874</td>\n",
       "      <td>7.934872</td>\n",
       "      <td>5.111988</td>\n",
       "      <td>8.839277</td>\n",
       "      <td>8.342840</td>\n",
       "      <td>6.424869</td>\n",
       "      <td>6.660575</td>\n",
       "      <td>4.204693</td>\n",
       "      <td>4.317488</td>\n",
       "      <td>2.667228</td>\n",
       "      <td>2.995732</td>\n",
       "      <td>9.026778</td>\n",
       "      <td>3.891820</td>\n",
       "    </tr>\n",
       "    <tr>\n",
       "      <th>775</th>\n",
       "      <td>0.0</td>\n",
       "      <td>9.278466</td>\n",
       "      <td>7.805067</td>\n",
       "      <td>7.183112</td>\n",
       "      <td>4.553877</td>\n",
       "      <td>4.595120</td>\n",
       "      <td>8.559678</td>\n",
       "      <td>4.418841</td>\n",
       "      <td>9.895455</td>\n",
       "      <td>8.781095</td>\n",
       "      <td>6.445720</td>\n",
       "      <td>7.656810</td>\n",
       "      <td>4.564348</td>\n",
       "      <td>4.564348</td>\n",
       "      <td>1.757858</td>\n",
       "      <td>3.891820</td>\n",
       "      <td>10.606238</td>\n",
       "      <td>4.595120</td>\n",
       "    </tr>\n",
       "    <tr>\n",
       "      <th>776</th>\n",
       "      <td>0.0</td>\n",
       "      <td>8.002694</td>\n",
       "      <td>7.525640</td>\n",
       "      <td>6.538140</td>\n",
       "      <td>3.332205</td>\n",
       "      <td>4.143135</td>\n",
       "      <td>8.002360</td>\n",
       "      <td>7.453562</td>\n",
       "      <td>8.515191</td>\n",
       "      <td>8.177516</td>\n",
       "      <td>6.214608</td>\n",
       "      <td>7.130899</td>\n",
       "      <td>4.317488</td>\n",
       "      <td>4.317488</td>\n",
       "      <td>2.895912</td>\n",
       "      <td>3.332205</td>\n",
       "      <td>8.413831</td>\n",
       "      <td>4.595120</td>\n",
       "    </tr>\n",
       "  </tbody>\n",
       "</table>\n",
       "<p>777 rows × 18 columns</p>\n",
       "</div>"
      ],
      "text/plain": [
       "     private      apps    accept    enroll  top10perc  top25perc  f_undergrad  \\\n",
       "0        0.0  7.414573  7.116394  6.580639   3.135494   3.951244     7.967280   \n",
       "1        0.0  7.689829  7.562162  6.238325   2.772589   3.367296     7.894691   \n",
       "2        0.0  7.264030  7.000334  5.817111   3.091042   3.912023     6.943122   \n",
       "3        0.0  6.033086  5.855072  4.919981   4.094345   4.488636     6.234411   \n",
       "4        0.0  5.262690  4.983607  4.007333   2.772589   3.784190     5.517453   \n",
       "..       ...       ...       ...       ...        ...        ...          ...   \n",
       "772     -inf  7.694848  7.323171  6.297109   1.386294   3.258097     8.035603   \n",
       "773      0.0  7.580189  7.498316  6.543912   3.178054   3.850148     7.954723   \n",
       "774      0.0  7.648263  7.557473  6.543912   3.526361   4.110874     7.934872   \n",
       "775      0.0  9.278466  7.805067  7.183112   4.553877   4.595120     8.559678   \n",
       "776      0.0  8.002694  7.525640  6.538140   3.332205   4.143135     8.002360   \n",
       "\n",
       "     p_undergrad  outstate  room_board     books  personal       phd  \\\n",
       "0       6.285998  8.914626    8.101678  6.109248  7.696213  4.248495   \n",
       "1       7.112327  9.415727    8.771835  6.620073  7.313220  3.367296   \n",
       "2       4.595120  9.328123    8.229511  5.991465  7.060476  3.970292   \n",
       "3       4.143135  9.469623    8.603371  6.109248  6.774224  4.521789   \n",
       "4       6.767343  8.930626    8.323608  6.684612  7.313220  4.330733   \n",
       "..           ...       ...         ...       ...       ...       ...   \n",
       "772     7.615298  8.824237    8.268732  6.214608  7.090077  4.094345   \n",
       "773     7.009409  9.351840    8.509161  6.396930  7.130899  4.290459   \n",
       "774     5.111988  8.839277    8.342840  6.424869  6.660575  4.204693   \n",
       "775     4.418841  9.895455    8.781095  6.445720  7.656810  4.564348   \n",
       "776     7.453562  8.515191    8.177516  6.214608  7.130899  4.317488   \n",
       "\n",
       "     terminal  s_f_ratio  perc_alumni     expend  grad_rate  \n",
       "0    4.356709   2.895912     2.484907   8.859505   4.094345  \n",
       "1    3.401197   2.501436     2.772589   9.261699   4.025352  \n",
       "2    4.189655   2.557227     3.401197   9.075093   3.988984  \n",
       "3    4.574711   2.041220     3.610918   9.853036   4.077537  \n",
       "4    4.276666   2.476538     0.693147   9.298534   2.708050  \n",
       "..        ...        ...          ...        ...        ...  \n",
       "772  4.094345   3.044522     2.639057   8.404920   3.688879  \n",
       "773  4.317488   2.587764     3.433987   9.125762   4.418841  \n",
       "774  4.317488   2.667228     2.995732   9.026778   3.891820  \n",
       "775  4.564348   1.757858     3.891820  10.606238   4.595120  \n",
       "776  4.317488   2.895912     3.332205   8.413831   4.595120  \n",
       "\n",
       "[777 rows x 18 columns]"
      ]
     },
     "execution_count": 27,
     "metadata": {},
     "output_type": "execute_result"
    }
   ],
   "source": [
    "df1"
   ]
  },
  {
   "cell_type": "markdown",
   "metadata": {},
   "source": [
    "#### <span style='color:Blue'> **Question - 17.Highest number of room / board class**</span>"
   ]
  },
  {
   "cell_type": "code",
   "execution_count": 28,
   "metadata": {},
   "outputs": [
    {
     "data": {
      "text/plain": [
       "8124"
      ]
     },
     "execution_count": 28,
     "metadata": {},
     "output_type": "execute_result"
    }
   ],
   "source": [
    "df.room_board.max()"
   ]
  },
  {
   "cell_type": "markdown",
   "metadata": {},
   "source": [
    "# 3. Clustering Model"
   ]
  },
  {
   "cell_type": "markdown",
   "metadata": {},
   "source": [
    "<span style='color:Blue'> **Import the clustering libraries** </span>"
   ]
  },
  {
   "cell_type": "code",
   "execution_count": 29,
   "metadata": {},
   "outputs": [],
   "source": [
    "from sklearn.cluster import KMeans"
   ]
  },
  {
   "cell_type": "markdown",
   "metadata": {},
   "source": [
    "<span style='color:Blue'> **Question - 18. Train your clustering model using all the data except the Private label.**</span>"
   ]
  },
  {
   "cell_type": "code",
   "execution_count": 30,
   "metadata": {},
   "outputs": [],
   "source": [
    "X= df"
   ]
  },
  {
   "cell_type": "code",
   "execution_count": 31,
   "metadata": {},
   "outputs": [
    {
     "data": {
      "text/html": [
       "<div>\n",
       "<style scoped>\n",
       "    .dataframe tbody tr th:only-of-type {\n",
       "        vertical-align: middle;\n",
       "    }\n",
       "\n",
       "    .dataframe tbody tr th {\n",
       "        vertical-align: top;\n",
       "    }\n",
       "\n",
       "    .dataframe thead th {\n",
       "        text-align: right;\n",
       "    }\n",
       "</style>\n",
       "<table border=\"1\" class=\"dataframe\">\n",
       "  <thead>\n",
       "    <tr style=\"text-align: right;\">\n",
       "      <th></th>\n",
       "      <th>private</th>\n",
       "      <th>apps</th>\n",
       "      <th>accept</th>\n",
       "      <th>enroll</th>\n",
       "      <th>top10perc</th>\n",
       "      <th>top25perc</th>\n",
       "      <th>f_undergrad</th>\n",
       "      <th>p_undergrad</th>\n",
       "      <th>outstate</th>\n",
       "      <th>room_board</th>\n",
       "      <th>books</th>\n",
       "      <th>personal</th>\n",
       "      <th>phd</th>\n",
       "      <th>terminal</th>\n",
       "      <th>s_f_ratio</th>\n",
       "      <th>perc_alumni</th>\n",
       "      <th>expend</th>\n",
       "      <th>grad_rate</th>\n",
       "    </tr>\n",
       "  </thead>\n",
       "  <tbody>\n",
       "    <tr>\n",
       "      <th>0</th>\n",
       "      <td>1</td>\n",
       "      <td>1660</td>\n",
       "      <td>1232</td>\n",
       "      <td>721</td>\n",
       "      <td>23</td>\n",
       "      <td>52</td>\n",
       "      <td>2885</td>\n",
       "      <td>537</td>\n",
       "      <td>7440</td>\n",
       "      <td>3300</td>\n",
       "      <td>450</td>\n",
       "      <td>2200</td>\n",
       "      <td>70</td>\n",
       "      <td>78</td>\n",
       "      <td>18.1</td>\n",
       "      <td>12</td>\n",
       "      <td>7041</td>\n",
       "      <td>60</td>\n",
       "    </tr>\n",
       "    <tr>\n",
       "      <th>1</th>\n",
       "      <td>1</td>\n",
       "      <td>2186</td>\n",
       "      <td>1924</td>\n",
       "      <td>512</td>\n",
       "      <td>16</td>\n",
       "      <td>29</td>\n",
       "      <td>2683</td>\n",
       "      <td>1227</td>\n",
       "      <td>12280</td>\n",
       "      <td>6450</td>\n",
       "      <td>750</td>\n",
       "      <td>1500</td>\n",
       "      <td>29</td>\n",
       "      <td>30</td>\n",
       "      <td>12.2</td>\n",
       "      <td>16</td>\n",
       "      <td>10527</td>\n",
       "      <td>56</td>\n",
       "    </tr>\n",
       "    <tr>\n",
       "      <th>2</th>\n",
       "      <td>1</td>\n",
       "      <td>1428</td>\n",
       "      <td>1097</td>\n",
       "      <td>336</td>\n",
       "      <td>22</td>\n",
       "      <td>50</td>\n",
       "      <td>1036</td>\n",
       "      <td>99</td>\n",
       "      <td>11250</td>\n",
       "      <td>3750</td>\n",
       "      <td>400</td>\n",
       "      <td>1165</td>\n",
       "      <td>53</td>\n",
       "      <td>66</td>\n",
       "      <td>12.9</td>\n",
       "      <td>30</td>\n",
       "      <td>8735</td>\n",
       "      <td>54</td>\n",
       "    </tr>\n",
       "    <tr>\n",
       "      <th>3</th>\n",
       "      <td>1</td>\n",
       "      <td>417</td>\n",
       "      <td>349</td>\n",
       "      <td>137</td>\n",
       "      <td>60</td>\n",
       "      <td>89</td>\n",
       "      <td>510</td>\n",
       "      <td>63</td>\n",
       "      <td>12960</td>\n",
       "      <td>5450</td>\n",
       "      <td>450</td>\n",
       "      <td>875</td>\n",
       "      <td>92</td>\n",
       "      <td>97</td>\n",
       "      <td>7.7</td>\n",
       "      <td>37</td>\n",
       "      <td>19016</td>\n",
       "      <td>59</td>\n",
       "    </tr>\n",
       "    <tr>\n",
       "      <th>4</th>\n",
       "      <td>1</td>\n",
       "      <td>193</td>\n",
       "      <td>146</td>\n",
       "      <td>55</td>\n",
       "      <td>16</td>\n",
       "      <td>44</td>\n",
       "      <td>249</td>\n",
       "      <td>869</td>\n",
       "      <td>7560</td>\n",
       "      <td>4120</td>\n",
       "      <td>800</td>\n",
       "      <td>1500</td>\n",
       "      <td>76</td>\n",
       "      <td>72</td>\n",
       "      <td>11.9</td>\n",
       "      <td>2</td>\n",
       "      <td>10922</td>\n",
       "      <td>15</td>\n",
       "    </tr>\n",
       "    <tr>\n",
       "      <th>...</th>\n",
       "      <td>...</td>\n",
       "      <td>...</td>\n",
       "      <td>...</td>\n",
       "      <td>...</td>\n",
       "      <td>...</td>\n",
       "      <td>...</td>\n",
       "      <td>...</td>\n",
       "      <td>...</td>\n",
       "      <td>...</td>\n",
       "      <td>...</td>\n",
       "      <td>...</td>\n",
       "      <td>...</td>\n",
       "      <td>...</td>\n",
       "      <td>...</td>\n",
       "      <td>...</td>\n",
       "      <td>...</td>\n",
       "      <td>...</td>\n",
       "      <td>...</td>\n",
       "    </tr>\n",
       "    <tr>\n",
       "      <th>772</th>\n",
       "      <td>0</td>\n",
       "      <td>2197</td>\n",
       "      <td>1515</td>\n",
       "      <td>543</td>\n",
       "      <td>4</td>\n",
       "      <td>26</td>\n",
       "      <td>3089</td>\n",
       "      <td>2029</td>\n",
       "      <td>6797</td>\n",
       "      <td>3900</td>\n",
       "      <td>500</td>\n",
       "      <td>1200</td>\n",
       "      <td>60</td>\n",
       "      <td>60</td>\n",
       "      <td>21.0</td>\n",
       "      <td>14</td>\n",
       "      <td>4469</td>\n",
       "      <td>40</td>\n",
       "    </tr>\n",
       "    <tr>\n",
       "      <th>773</th>\n",
       "      <td>1</td>\n",
       "      <td>1959</td>\n",
       "      <td>1805</td>\n",
       "      <td>695</td>\n",
       "      <td>24</td>\n",
       "      <td>47</td>\n",
       "      <td>2849</td>\n",
       "      <td>1107</td>\n",
       "      <td>11520</td>\n",
       "      <td>4960</td>\n",
       "      <td>600</td>\n",
       "      <td>1250</td>\n",
       "      <td>73</td>\n",
       "      <td>75</td>\n",
       "      <td>13.3</td>\n",
       "      <td>31</td>\n",
       "      <td>9189</td>\n",
       "      <td>83</td>\n",
       "    </tr>\n",
       "    <tr>\n",
       "      <th>774</th>\n",
       "      <td>1</td>\n",
       "      <td>2097</td>\n",
       "      <td>1915</td>\n",
       "      <td>695</td>\n",
       "      <td>34</td>\n",
       "      <td>61</td>\n",
       "      <td>2793</td>\n",
       "      <td>166</td>\n",
       "      <td>6900</td>\n",
       "      <td>4200</td>\n",
       "      <td>617</td>\n",
       "      <td>781</td>\n",
       "      <td>67</td>\n",
       "      <td>75</td>\n",
       "      <td>14.4</td>\n",
       "      <td>20</td>\n",
       "      <td>8323</td>\n",
       "      <td>49</td>\n",
       "    </tr>\n",
       "    <tr>\n",
       "      <th>775</th>\n",
       "      <td>1</td>\n",
       "      <td>10705</td>\n",
       "      <td>2453</td>\n",
       "      <td>1317</td>\n",
       "      <td>95</td>\n",
       "      <td>99</td>\n",
       "      <td>5217</td>\n",
       "      <td>83</td>\n",
       "      <td>19840</td>\n",
       "      <td>6510</td>\n",
       "      <td>630</td>\n",
       "      <td>2115</td>\n",
       "      <td>96</td>\n",
       "      <td>96</td>\n",
       "      <td>5.8</td>\n",
       "      <td>49</td>\n",
       "      <td>40386</td>\n",
       "      <td>99</td>\n",
       "    </tr>\n",
       "    <tr>\n",
       "      <th>776</th>\n",
       "      <td>1</td>\n",
       "      <td>2989</td>\n",
       "      <td>1855</td>\n",
       "      <td>691</td>\n",
       "      <td>28</td>\n",
       "      <td>63</td>\n",
       "      <td>2988</td>\n",
       "      <td>1726</td>\n",
       "      <td>4990</td>\n",
       "      <td>3560</td>\n",
       "      <td>500</td>\n",
       "      <td>1250</td>\n",
       "      <td>75</td>\n",
       "      <td>75</td>\n",
       "      <td>18.1</td>\n",
       "      <td>28</td>\n",
       "      <td>4509</td>\n",
       "      <td>99</td>\n",
       "    </tr>\n",
       "  </tbody>\n",
       "</table>\n",
       "<p>777 rows × 18 columns</p>\n",
       "</div>"
      ],
      "text/plain": [
       "     private   apps  accept  enroll  top10perc  top25perc  f_undergrad  \\\n",
       "0          1   1660    1232     721         23         52         2885   \n",
       "1          1   2186    1924     512         16         29         2683   \n",
       "2          1   1428    1097     336         22         50         1036   \n",
       "3          1    417     349     137         60         89          510   \n",
       "4          1    193     146      55         16         44          249   \n",
       "..       ...    ...     ...     ...        ...        ...          ...   \n",
       "772        0   2197    1515     543          4         26         3089   \n",
       "773        1   1959    1805     695         24         47         2849   \n",
       "774        1   2097    1915     695         34         61         2793   \n",
       "775        1  10705    2453    1317         95         99         5217   \n",
       "776        1   2989    1855     691         28         63         2988   \n",
       "\n",
       "     p_undergrad  outstate  room_board  books  personal  phd  terminal  \\\n",
       "0            537      7440        3300    450      2200   70        78   \n",
       "1           1227     12280        6450    750      1500   29        30   \n",
       "2             99     11250        3750    400      1165   53        66   \n",
       "3             63     12960        5450    450       875   92        97   \n",
       "4            869      7560        4120    800      1500   76        72   \n",
       "..           ...       ...         ...    ...       ...  ...       ...   \n",
       "772         2029      6797        3900    500      1200   60        60   \n",
       "773         1107     11520        4960    600      1250   73        75   \n",
       "774          166      6900        4200    617       781   67        75   \n",
       "775           83     19840        6510    630      2115   96        96   \n",
       "776         1726      4990        3560    500      1250   75        75   \n",
       "\n",
       "     s_f_ratio  perc_alumni  expend  grad_rate  \n",
       "0         18.1           12    7041         60  \n",
       "1         12.2           16   10527         56  \n",
       "2         12.9           30    8735         54  \n",
       "3          7.7           37   19016         59  \n",
       "4         11.9            2   10922         15  \n",
       "..         ...          ...     ...        ...  \n",
       "772       21.0           14    4469         40  \n",
       "773       13.3           31    9189         83  \n",
       "774       14.4           20    8323         49  \n",
       "775        5.8           49   40386         99  \n",
       "776       18.1           28    4509         99  \n",
       "\n",
       "[777 rows x 18 columns]"
      ]
     },
     "execution_count": 31,
     "metadata": {},
     "output_type": "execute_result"
    }
   ],
   "source": [
    "X"
   ]
  },
  {
   "cell_type": "code",
   "execution_count": 32,
   "metadata": {},
   "outputs": [
    {
     "name": "stdout",
     "output_type": "stream",
     "text": [
      "[72040559768.0981]\n",
      "[72040559768.0981, 48356202397.32207]\n",
      "[72040559768.0981, 48356202397.32207, 32365874710.06131]\n",
      "[72040559768.0981, 48356202397.32207, 32365874710.06131, 25519276404.943684]\n",
      "[72040559768.0981, 48356202397.32207, 32365874710.06131, 25519276404.943684, 20748753404.476215]\n",
      "[72040559768.0981, 48356202397.32207, 32365874710.06131, 25519276404.943684, 20748753404.476215, 17759717951.860027]\n",
      "[72040559768.0981, 48356202397.32207, 32365874710.06131, 25519276404.943684, 20748753404.476215, 17759717951.860027, 15716350161.941622]\n",
      "[72040559768.0981, 48356202397.32207, 32365874710.06131, 25519276404.943684, 20748753404.476215, 17759717951.860027, 15716350161.941622, 14371926795.810024]\n",
      "[72040559768.0981, 48356202397.32207, 32365874710.06131, 25519276404.943684, 20748753404.476215, 17759717951.860027, 15716350161.941622, 14371926795.810024, 13235642980.579409]\n",
      "[72040559768.0981, 48356202397.32207, 32365874710.06131, 25519276404.943684, 20748753404.476215, 17759717951.860027, 15716350161.941622, 14371926795.810024, 13235642980.579409, 12167755570.571293]\n"
     ]
    }
   ],
   "source": [
    "WCSS=[]\n",
    "\n",
    "for i in range(1,11):\n",
    "    kmeans = KMeans(n_clusters=i, init = 'k-means++',random_state=42)\n",
    "    kmeans.fit(X)\n",
    "    WCSS.append(kmeans.inertia_)\n",
    "    print(WCSS)"
   ]
  },
  {
   "cell_type": "markdown",
   "metadata": {},
   "source": [
    "<span style='color:Blue'> **Question - 19. Find out best value of K by using graph**</span>"
   ]
  },
  {
   "cell_type": "code",
   "execution_count": 33,
   "metadata": {},
   "outputs": [
    {
     "data": {
      "image/png": "[encoded data removed]",
      "text/plain": [
       "<Figure size 720x432 with 1 Axes>"
      ]
     },
     "metadata": {
      "needs_background": "light"
     },
     "output_type": "display_data"
    }
   ],
   "source": [
    "plt.figure(figsize=(10,6))\n",
    "sns.lineplot(range(1,11),WCSS, marker='o', color='red')\n",
    "plt.title('The Elbow Method')\n",
    "plt.show()"
   ]
  },
  {
   "cell_type": "markdown",
   "metadata": {},
   "source": [
    "# 4. Evaluation"
   ]
  },
  {
   "cell_type": "markdown",
   "metadata": {},
   "source": [
    "<span style='color:Blue'> **Question - 20. Model is perfectly classified? If yes how to evaluate? Which method used?**</span>"
   ]
  },
  {
   "cell_type": "code",
   "execution_count": 34,
   "metadata": {},
   "outputs": [],
   "source": [
    "from sklearn.metrics import silhouette_score"
   ]
  },
  {
   "cell_type": "code",
   "execution_count": 43,
   "metadata": {},
   "outputs": [
    {
     "data": {
      "text/plain": [
       "0.4759356715031701"
      ]
     },
     "execution_count": 43,
     "metadata": {},
     "output_type": "execute_result"
    }
   ],
   "source": [
    "silhouette_score(X,y_means,metric ='euclidean')"
   ]
  },
  {
   "cell_type": "markdown",
   "metadata": {},
   "source": [
    "<span style='color:Blue'> **Question - 21. What is f1-score?**</span>"
   ]
  },
  {
   "cell_type": "raw",
   "metadata": {},
   "source": [
    "This is a part of Logistic regression (Supervised ML). Primarily used to compare the performance of two classifiers."
   ]
  },
  {
   "cell_type": "raw",
   "metadata": {},
   "source": [
    "f1-Score is used Class imbalance.(value Count)"
   ]
  },
  {
   "cell_type": "markdown",
   "metadata": {},
   "source": [
    "# 5. Improve the Accuracy"
   ]
  },
  {
   "cell_type": "markdown",
   "metadata": {},
   "source": [
    "<span style='color:Blue'> **Question - 22. What was the best 'K' value? Use these values and train the model?**</span>"
   ]
  },
  {
   "cell_type": "code",
   "execution_count": 35,
   "metadata": {},
   "outputs": [],
   "source": [
    "kmeans=KMeans(n_clusters = 3,init='k-means++',random_state=42)\n",
    "y_means = kmeans.fit_predict(X)"
   ]
  },
  {
   "cell_type": "code",
   "execution_count": 36,
   "metadata": {},
   "outputs": [
    {
     "data": {
      "text/plain": [
       "array([0, 0, 0, 2, 0, 0, 0, 0, 2, 0, 2, 2, 0, 0, 0, 0, 2, 0, 0, 0, 2, 1,\n",
       "       0, 1, 0, 0, 0, 1, 0, 0, 0, 0, 0, 0, 0, 0, 2, 2, 0, 1, 0, 0, 0, 0,\n",
       "       2, 0, 0, 2, 0, 0, 0, 0, 0, 0, 0, 0, 0, 0, 0, 1, 2, 1, 2, 0, 2, 0,\n",
       "       0, 0, 0, 1, 2, 2, 2, 0, 0, 0, 0, 0, 1, 1, 0, 0, 0, 0, 0, 0, 2, 2,\n",
       "       0, 0, 0, 2, 0, 0, 2, 0, 0, 0, 0, 0, 0, 0, 0, 0, 0, 0, 0, 2, 2, 0,\n",
       "       0, 0, 0, 0, 2, 2, 0, 2, 1, 0, 0, 0, 2, 2, 0, 0, 0, 0, 0, 0, 0, 0,\n",
       "       0, 0, 0, 0, 0, 2, 0, 2, 2, 1, 0, 0, 2, 0, 0, 0, 0, 2, 0, 0, 2, 0,\n",
       "       0, 0, 0, 0, 2, 2, 0, 0, 2, 0, 2, 0, 0, 0, 0, 0, 0, 0, 2, 0, 2, 2,\n",
       "       1, 0, 0, 0, 0, 0, 0, 0, 2, 0, 0, 0, 0, 0, 0, 2, 0, 0, 0, 0, 2, 0,\n",
       "       0, 0, 0, 0, 0, 1, 0, 0, 0, 0, 0, 0, 0, 0, 0, 2, 0, 0, 0, 0, 1, 2,\n",
       "       0, 2, 1, 0, 0, 2, 0, 0, 0, 0, 2, 0, 0, 0, 0, 0, 0, 2, 0, 0, 0, 0,\n",
       "       2, 0, 0, 0, 0, 0, 0, 2, 2, 2, 0, 0, 0, 0, 2, 0, 2, 0, 0, 0, 0, 0,\n",
       "       0, 0, 0, 0, 2, 1, 0, 0, 0, 0, 1, 0, 0, 1, 0, 1, 0, 0, 0, 0, 2, 0,\n",
       "       0, 2, 1, 0, 0, 0, 2, 0, 0, 0, 2, 0, 0, 2, 0, 2, 0, 0, 0, 0, 2, 0,\n",
       "       0, 2, 0, 0, 0, 2, 0, 0, 0, 0, 0, 0, 0, 0, 0, 0, 1, 0, 0, 0, 0, 0,\n",
       "       0, 0, 0, 0, 2, 0, 0, 0, 0, 0, 0, 0, 0, 0, 0, 0, 0, 0, 0, 0, 0, 0,\n",
       "       0, 0, 2, 0, 0, 0, 0, 0, 0, 0, 0, 0, 0, 1, 1, 0, 0, 0, 0, 0, 0, 0,\n",
       "       0, 0, 0, 0, 0, 0, 0, 0, 0, 0, 0, 0, 0, 0, 0, 0, 2, 0, 0, 0, 0, 0,\n",
       "       0, 0, 0, 0, 2, 0, 0, 0, 0, 0, 0, 2, 0, 0, 0, 0, 1, 0, 0, 0, 0, 0,\n",
       "       1, 1, 1, 0, 0, 0, 2, 0, 0, 0, 2, 2, 0, 0, 1, 2, 0, 0, 1, 0, 0, 0,\n",
       "       0, 0, 0, 0, 0, 1, 2, 0, 0, 0, 0, 0, 0, 2, 0, 0, 2, 0, 0, 2, 0, 1,\n",
       "       0, 0, 0, 0, 0, 0, 2, 2, 0, 2, 2, 0, 2, 0, 0, 0, 0, 0, 2, 0, 0, 1,\n",
       "       0, 0, 0, 0, 0, 1, 0, 0, 0, 0, 0, 0, 0, 2, 0, 0, 0, 0, 2, 0, 0, 0,\n",
       "       0, 0, 0, 0, 1, 0, 2, 0, 0, 2, 0, 0, 0, 0, 0, 0, 0, 0, 2, 0, 0, 2,\n",
       "       2, 0, 0, 0, 0, 0, 2, 0, 1, 0, 0, 0, 0, 0, 0, 0, 0, 2, 0, 2, 0, 0,\n",
       "       0, 0, 0, 0, 0, 0, 0, 2, 0, 0, 1, 1, 1, 1, 0, 0, 0, 0, 0, 0, 0, 0,\n",
       "       0, 0, 0, 2, 1, 0, 0, 0, 0, 1, 0, 0, 0, 0, 0, 0, 0, 0, 0, 0, 0, 2,\n",
       "       0, 0, 2, 2, 0, 0, 0, 2, 0, 0, 0, 1, 1, 1, 0, 2, 1, 1, 0, 0, 1, 2,\n",
       "       0, 0, 0, 1, 1, 0, 1, 1, 1, 0, 1, 0, 1, 0, 0, 0, 0, 1, 1, 0, 2, 1,\n",
       "       0, 0, 1, 0, 1, 0, 0, 0, 0, 1, 0, 1, 0, 1, 1, 0, 0, 0, 0, 1, 0, 0,\n",
       "       2, 1, 1, 2, 1, 0, 2, 1, 2, 2, 0, 0, 0, 0, 0, 1, 1, 1, 0, 0, 0, 0,\n",
       "       0, 1, 1, 1, 0, 0, 2, 2, 0, 1, 2, 1, 1, 0, 0, 0, 0, 0, 1, 1, 0, 0,\n",
       "       2, 0, 0, 0, 2, 2, 2, 1, 0, 1, 0, 0, 0, 0, 2, 0, 2, 0, 0, 0, 0, 2,\n",
       "       0, 1, 2, 0, 0, 0, 0, 2, 2, 2, 0, 2, 0, 0, 0, 0, 0, 1, 0, 0, 0, 0,\n",
       "       0, 0, 0, 0, 0, 2, 0, 2, 2, 0, 0, 0, 0, 0, 0, 2, 0, 0, 0, 0, 0, 0,\n",
       "       0, 2, 0, 0, 0, 2, 0])"
      ]
     },
     "execution_count": 36,
     "metadata": {},
     "output_type": "execute_result"
    }
   ],
   "source": [
    "y_means"
   ]
  },
  {
   "cell_type": "markdown",
   "metadata": {},
   "source": [
    "<span style='color:Blue'> **Question - 23. What are the cluster center vectors?**</span>"
   ]
  },
  {
   "cell_type": "code",
   "execution_count": 37,
   "metadata": {},
   "outputs": [
    {
     "data": {
      "text/plain": [
       "array([[7.61061947e-01, 1.70182301e+03, 1.23653451e+03, 4.91520354e+02,\n",
       "        2.18194690e+01, 4.97769912e+01, 2.22618053e+03, 6.56030088e+02,\n",
       "        9.28193982e+03, 4.14370619e+03, 5.37015929e+02, 1.32979646e+03,\n",
       "        6.75787611e+01, 7.51433628e+01, 1.46362832e+01, 2.09274336e+01,\n",
       "        7.83074690e+03, 6.28070796e+01],\n",
       "       [8.43373494e-02, 1.06216145e+04, 7.30063855e+03, 2.93942169e+03,\n",
       "        3.20000000e+01, 6.34698795e+01, 1.54825060e+04, 3.17455422e+03,\n",
       "        8.23585542e+03, 4.13487952e+03, 5.94349398e+02, 1.88833735e+03,\n",
       "        8.41566265e+01, 8.95542169e+01, 1.64072289e+01, 1.58072289e+01,\n",
       "        9.44095181e+03, 6.05060241e+01],\n",
       "       [9.92248062e-01, 3.79185271e+03, 2.04663566e+03, 6.53937984e+02,\n",
       "        4.98372093e+01, 7.72248062e+01, 2.57355039e+03, 2.35829457e+02,\n",
       "        1.69343256e+04, 5.43727907e+03, 5.74604651e+02, 1.03575194e+03,\n",
       "        8.75193798e+01, 9.33333333e+01, 1.02046512e+01, 3.51627907e+01,\n",
       "        1.78138140e+04, 8.02868217e+01]])"
      ]
     },
     "execution_count": 37,
     "metadata": {},
     "output_type": "execute_result"
    }
   ],
   "source": [
    "kmeans.cluster_centers_"
   ]
  },
  {
   "cell_type": "markdown",
   "metadata": {},
   "source": [
    "<span style='color:Blue'> **Question - 24. Indentify the summary of prediction results.**</span>"
   ]
  },
  {
   "cell_type": "markdown",
   "metadata": {},
   "source": [
    "#write observation and code here\n",
    "Not solw"
   ]
  },
  {
   "cell_type": "markdown",
   "metadata": {},
   "source": [
    "<span style='color:Blue'> **Question - 25. It is possible to seperate out the dataset in two different classes?**</span>\n",
    "\n",
    "NOTE:- Create a two seperate clusters based on class."
   ]
  },
  {
   "cell_type": "code",
   "execution_count": 38,
   "metadata": {},
   "outputs": [],
   "source": [
    "from sklearn.decomposition import PCA"
   ]
  },
  {
   "cell_type": "code",
   "execution_count": 39,
   "metadata": {},
   "outputs": [],
   "source": [
    "pca = PCA(n_components = 2)"
   ]
  },
  {
   "cell_type": "code",
   "execution_count": 40,
   "metadata": {},
   "outputs": [
    {
     "data": {
      "text/plain": [
       "PCA(n_components=2)"
      ]
     },
     "execution_count": 40,
     "metadata": {},
     "output_type": "execute_result"
    }
   ],
   "source": [
    "pca.fit(X)"
   ]
  },
  {
   "cell_type": "code",
   "execution_count": 41,
   "metadata": {},
   "outputs": [],
   "source": [
    "pca1= pca.transform(X)"
   ]
  },
  {
   "cell_type": "code",
   "execution_count": 42,
   "metadata": {},
   "outputs": [
    {
     "data": {
      "text/plain": [
       "array([[-2551.83783727, -3445.94721665],\n",
       "       [ -743.72956064,  2227.36355805],\n",
       "       [-3373.55622543,   674.25246151],\n",
       "       ...,\n",
       "       [-1838.20683109, -2662.64945636],\n",
       "       [15023.18634781, 27968.56100798],\n",
       "       [-2286.58217384, -6915.50729917]])"
      ]
     },
     "execution_count": 42,
     "metadata": {},
     "output_type": "execute_result"
    }
   ],
   "source": [
    "pca1"
   ]
  }
 ],
 "metadata": {
  "kernelspec": {
   "display_name": "Python 3 (ipykernel)",
   "language": "python",
   "name": "python3"
  },
  "language_info": {
   "codemirror_mode": {
    "name": "ipython",
    "version": 3
   },
   "file_extension": ".py",
   "mimetype": "text/x-python",
   "name": "python",
   "nbconvert_exporter": "python",
   "pygments_lexer": "ipython3",
   "version": "3.9.12"
  }
 },
 "nbformat": 4,
 "nbformat_minor": 4
}

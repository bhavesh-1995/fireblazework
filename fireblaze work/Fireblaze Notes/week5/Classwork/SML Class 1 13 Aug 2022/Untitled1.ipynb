{
 "cells": [
  {
   "cell_type": "code",
   "execution_count": 1,
   "id": "63d3c01b",
   "metadata": {},
   "outputs": [],
   "source": [
    "import numpy as np\n",
    "import pandas as pd\n"
   ]
  },
  {
   "cell_type": "code",
   "execution_count": 6,
   "id": "25e8198d",
   "metadata": {},
   "outputs": [],
   "source": [
    "# overfitting\n",
    "# bias low\n",
    "# varience high"
   ]
  },
  {
   "cell_type": "code",
   "execution_count": null,
   "id": "8c5c0fe1",
   "metadata": {},
   "outputs": [],
   "source": [
    "# underfitting \n",
    "# bias high\n",
    "# varience high"
   ]
  },
  {
   "cell_type": "code",
   "execution_count": null,
   "id": "0f0e8214",
   "metadata": {},
   "outputs": [],
   "source": [
    "# genralized \n",
    "# bias low\n",
    "# var low"
   ]
  },
  {
   "cell_type": "code",
   "execution_count": null,
   "id": "ee2d47ff",
   "metadata": {},
   "outputs": [],
   "source": [
    "#  regualrization tchniques\n",
    "\n",
    "# l1 regularization (lasso regression)\n",
    "# l2 regular (ridge regression)\n"
   ]
  },
  {
   "cell_type": "code",
   "execution_count": null,
   "id": "c004ee07",
   "metadata": {},
   "outputs": [],
   "source": []
  },
  {
   "cell_type": "code",
   "execution_count": null,
   "id": "b5d8c2c3",
   "metadata": {},
   "outputs": [],
   "source": []
  }
 ],
 "metadata": {
  "kernelspec": {
   "display_name": "Python 3 (ipykernel)",
   "language": "python",
   "name": "python3"
  },
  "language_info": {
   "codemirror_mode": {
    "name": "ipython",
    "version": 3
   },
   "file_extension": ".py",
   "mimetype": "text/x-python",
   "name": "python",
   "nbconvert_exporter": "python",
   "pygments_lexer": "ipython3",
   "version": "3.9.12"
  }
 },
 "nbformat": 4,
 "nbformat_minor": 5
}

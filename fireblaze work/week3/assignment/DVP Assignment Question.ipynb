{
 "cells": [
  {
   "cell_type": "markdown",
   "id": "20c245fb",
   "metadata": {},
   "source": [
    "<img src=\"fireblaze.jpg\" width=250 height=150 />\n"
   ]
  },
  {
   "cell_type": "markdown",
   "id": "122fa4de",
   "metadata": {},
   "source": [
    "## <p style=\"font-family: Arial; font-size:1.4em;color:red; style='background :yellow'\"> Assignment</p>\n"
   ]
  },
  {
   "cell_type": "markdown",
   "id": "51f774a4",
   "metadata": {},
   "source": [
    "<span style='color:Red'> **About The Dataset(StudentsPerformance)** </span>"
   ]
  },
  {
   "cell_type": "markdown",
   "id": "7ccb25c5",
   "metadata": {},
   "source": [
    "This data set consists of the marks secured by the students in various subjects.\n",
    "\n",
    "* **gender:** female,male\n",
    "\n",
    "* **race/ethnicity:** group C,group D\n",
    "\n",
    "* **parental level of education:** some college, associate's degree\n",
    "\n",
    "* **lunch:** standard, free/reduced\n",
    "\n",
    "* **test preparation course:** none, completed\n",
    "\n",
    "* **math score:** subject marks\n",
    "\n",
    "* **reading score:** How much time spend on reading\n",
    "\n",
    "* **writing score:** Writing speed "
   ]
  },
  {
   "cell_type": "markdown",
   "id": "02ef79d9",
   "metadata": {},
   "source": [
    "## Import required library."
   ]
  },
  {
   "cell_type": "code",
   "execution_count": 1,
   "id": "75975247",
   "metadata": {},
   "outputs": [],
   "source": [
    "import matplotlib.pyplot as plt\n",
    "from matplotlib import pyplot as plt\n",
    "import seaborn as sns\n",
    "import numpy as np\n",
    "import pandas as pd"
   ]
  },
  {
   "cell_type": "markdown",
   "id": "2d63850d",
   "metadata": {},
   "source": [
    "### <span style='color:Blue'> **Questions - 1.Read the students performance dataset.** </span>"
   ]
  },
  {
   "cell_type": "code",
   "execution_count": 2,
   "id": "b1cb56df",
   "metadata": {},
   "outputs": [],
   "source": [
    "dtf=pd.read_csv('StudentsPerformance.csv')"
   ]
  },
  {
   "cell_type": "markdown",
   "id": "e2b547f3",
   "metadata": {},
   "source": [
    "### <span style='color:Blue'> **Question - 2. Show some random sample record from dataset** </span>"
   ]
  },
  {
   "cell_type": "code",
   "execution_count": 3,
   "id": "620f45d3",
   "metadata": {},
   "outputs": [
    {
     "data": {
      "text/html": [
       "<div>\n",
       "<style scoped>\n",
       "    .dataframe tbody tr th:only-of-type {\n",
       "        vertical-align: middle;\n",
       "    }\n",
       "\n",
       "    .dataframe tbody tr th {\n",
       "        vertical-align: top;\n",
       "    }\n",
       "\n",
       "    .dataframe thead th {\n",
       "        text-align: right;\n",
       "    }\n",
       "</style>\n",
       "<table border=\"1\" class=\"dataframe\">\n",
       "  <thead>\n",
       "    <tr style=\"text-align: right;\">\n",
       "      <th></th>\n",
       "      <th>gender</th>\n",
       "      <th>race/ethnicity</th>\n",
       "      <th>parental level of education</th>\n",
       "      <th>lunch</th>\n",
       "      <th>test preparation course</th>\n",
       "      <th>math score</th>\n",
       "      <th>reading score</th>\n",
       "      <th>writing score</th>\n",
       "    </tr>\n",
       "  </thead>\n",
       "  <tbody>\n",
       "    <tr>\n",
       "      <th>310</th>\n",
       "      <td>female</td>\n",
       "      <td>group B</td>\n",
       "      <td>associate's degree</td>\n",
       "      <td>standard</td>\n",
       "      <td>none</td>\n",
       "      <td>73</td>\n",
       "      <td>76</td>\n",
       "      <td>80</td>\n",
       "    </tr>\n",
       "    <tr>\n",
       "      <th>696</th>\n",
       "      <td>female</td>\n",
       "      <td>group C</td>\n",
       "      <td>associate's degree</td>\n",
       "      <td>standard</td>\n",
       "      <td>completed</td>\n",
       "      <td>75</td>\n",
       "      <td>82</td>\n",
       "      <td>90</td>\n",
       "    </tr>\n",
       "    <tr>\n",
       "      <th>301</th>\n",
       "      <td>male</td>\n",
       "      <td>group D</td>\n",
       "      <td>some high school</td>\n",
       "      <td>free/reduced</td>\n",
       "      <td>none</td>\n",
       "      <td>56</td>\n",
       "      <td>54</td>\n",
       "      <td>52</td>\n",
       "    </tr>\n",
       "    <tr>\n",
       "      <th>208</th>\n",
       "      <td>female</td>\n",
       "      <td>group B</td>\n",
       "      <td>some college</td>\n",
       "      <td>free/reduced</td>\n",
       "      <td>none</td>\n",
       "      <td>74</td>\n",
       "      <td>81</td>\n",
       "      <td>76</td>\n",
       "    </tr>\n",
       "    <tr>\n",
       "      <th>441</th>\n",
       "      <td>female</td>\n",
       "      <td>group D</td>\n",
       "      <td>high school</td>\n",
       "      <td>standard</td>\n",
       "      <td>none</td>\n",
       "      <td>78</td>\n",
       "      <td>81</td>\n",
       "      <td>80</td>\n",
       "    </tr>\n",
       "    <tr>\n",
       "      <th>646</th>\n",
       "      <td>female</td>\n",
       "      <td>group D</td>\n",
       "      <td>associate's degree</td>\n",
       "      <td>standard</td>\n",
       "      <td>none</td>\n",
       "      <td>59</td>\n",
       "      <td>70</td>\n",
       "      <td>65</td>\n",
       "    </tr>\n",
       "    <tr>\n",
       "      <th>225</th>\n",
       "      <td>female</td>\n",
       "      <td>group E</td>\n",
       "      <td>master's degree</td>\n",
       "      <td>free/reduced</td>\n",
       "      <td>none</td>\n",
       "      <td>45</td>\n",
       "      <td>56</td>\n",
       "      <td>54</td>\n",
       "    </tr>\n",
       "    <tr>\n",
       "      <th>246</th>\n",
       "      <td>male</td>\n",
       "      <td>group E</td>\n",
       "      <td>associate's degree</td>\n",
       "      <td>standard</td>\n",
       "      <td>none</td>\n",
       "      <td>89</td>\n",
       "      <td>76</td>\n",
       "      <td>74</td>\n",
       "    </tr>\n",
       "    <tr>\n",
       "      <th>144</th>\n",
       "      <td>male</td>\n",
       "      <td>group D</td>\n",
       "      <td>some college</td>\n",
       "      <td>standard</td>\n",
       "      <td>none</td>\n",
       "      <td>88</td>\n",
       "      <td>73</td>\n",
       "      <td>78</td>\n",
       "    </tr>\n",
       "    <tr>\n",
       "      <th>943</th>\n",
       "      <td>male</td>\n",
       "      <td>group A</td>\n",
       "      <td>some high school</td>\n",
       "      <td>free/reduced</td>\n",
       "      <td>completed</td>\n",
       "      <td>61</td>\n",
       "      <td>62</td>\n",
       "      <td>61</td>\n",
       "    </tr>\n",
       "  </tbody>\n",
       "</table>\n",
       "</div>"
      ],
      "text/plain": [
       "     gender race/ethnicity parental level of education         lunch  \\\n",
       "310  female        group B          associate's degree      standard   \n",
       "696  female        group C          associate's degree      standard   \n",
       "301    male        group D            some high school  free/reduced   \n",
       "208  female        group B                some college  free/reduced   \n",
       "441  female        group D                 high school      standard   \n",
       "646  female        group D          associate's degree      standard   \n",
       "225  female        group E             master's degree  free/reduced   \n",
       "246    male        group E          associate's degree      standard   \n",
       "144    male        group D                some college      standard   \n",
       "943    male        group A            some high school  free/reduced   \n",
       "\n",
       "    test preparation course  math score  reading score  writing score  \n",
       "310                    none          73             76             80  \n",
       "696               completed          75             82             90  \n",
       "301                    none          56             54             52  \n",
       "208                    none          74             81             76  \n",
       "441                    none          78             81             80  \n",
       "646                    none          59             70             65  \n",
       "225                    none          45             56             54  \n",
       "246                    none          89             76             74  \n",
       "144                    none          88             73             78  \n",
       "943               completed          61             62             61  "
      ]
     },
     "execution_count": 3,
     "metadata": {},
     "output_type": "execute_result"
    }
   ],
   "source": [
    "dtf.sample(10)"
   ]
  },
  {
   "cell_type": "markdown",
   "id": "d1fa8fe4",
   "metadata": {},
   "source": [
    "### <span style='color:Blue'> **Question - 3. Display some upper part sample records from dataset   .** </span>"
   ]
  },
  {
   "cell_type": "code",
   "execution_count": 4,
   "id": "e148b748",
   "metadata": {},
   "outputs": [
    {
     "data": {
      "text/html": [
       "<div>\n",
       "<style scoped>\n",
       "    .dataframe tbody tr th:only-of-type {\n",
       "        vertical-align: middle;\n",
       "    }\n",
       "\n",
       "    .dataframe tbody tr th {\n",
       "        vertical-align: top;\n",
       "    }\n",
       "\n",
       "    .dataframe thead th {\n",
       "        text-align: right;\n",
       "    }\n",
       "</style>\n",
       "<table border=\"1\" class=\"dataframe\">\n",
       "  <thead>\n",
       "    <tr style=\"text-align: right;\">\n",
       "      <th></th>\n",
       "      <th>gender</th>\n",
       "      <th>race/ethnicity</th>\n",
       "      <th>parental level of education</th>\n",
       "      <th>lunch</th>\n",
       "      <th>test preparation course</th>\n",
       "      <th>math score</th>\n",
       "      <th>reading score</th>\n",
       "      <th>writing score</th>\n",
       "    </tr>\n",
       "  </thead>\n",
       "  <tbody>\n",
       "    <tr>\n",
       "      <th>0</th>\n",
       "      <td>female</td>\n",
       "      <td>group B</td>\n",
       "      <td>bachelor's degree</td>\n",
       "      <td>standard</td>\n",
       "      <td>none</td>\n",
       "      <td>72</td>\n",
       "      <td>72</td>\n",
       "      <td>74</td>\n",
       "    </tr>\n",
       "    <tr>\n",
       "      <th>1</th>\n",
       "      <td>female</td>\n",
       "      <td>group C</td>\n",
       "      <td>some college</td>\n",
       "      <td>standard</td>\n",
       "      <td>completed</td>\n",
       "      <td>69</td>\n",
       "      <td>90</td>\n",
       "      <td>88</td>\n",
       "    </tr>\n",
       "    <tr>\n",
       "      <th>2</th>\n",
       "      <td>female</td>\n",
       "      <td>group B</td>\n",
       "      <td>master's degree</td>\n",
       "      <td>standard</td>\n",
       "      <td>none</td>\n",
       "      <td>90</td>\n",
       "      <td>95</td>\n",
       "      <td>93</td>\n",
       "    </tr>\n",
       "    <tr>\n",
       "      <th>3</th>\n",
       "      <td>male</td>\n",
       "      <td>group A</td>\n",
       "      <td>associate's degree</td>\n",
       "      <td>free/reduced</td>\n",
       "      <td>none</td>\n",
       "      <td>47</td>\n",
       "      <td>57</td>\n",
       "      <td>44</td>\n",
       "    </tr>\n",
       "    <tr>\n",
       "      <th>4</th>\n",
       "      <td>male</td>\n",
       "      <td>group C</td>\n",
       "      <td>some college</td>\n",
       "      <td>standard</td>\n",
       "      <td>none</td>\n",
       "      <td>76</td>\n",
       "      <td>78</td>\n",
       "      <td>75</td>\n",
       "    </tr>\n",
       "    <tr>\n",
       "      <th>5</th>\n",
       "      <td>female</td>\n",
       "      <td>group B</td>\n",
       "      <td>associate's degree</td>\n",
       "      <td>standard</td>\n",
       "      <td>none</td>\n",
       "      <td>71</td>\n",
       "      <td>83</td>\n",
       "      <td>78</td>\n",
       "    </tr>\n",
       "    <tr>\n",
       "      <th>6</th>\n",
       "      <td>female</td>\n",
       "      <td>group B</td>\n",
       "      <td>some college</td>\n",
       "      <td>standard</td>\n",
       "      <td>completed</td>\n",
       "      <td>88</td>\n",
       "      <td>95</td>\n",
       "      <td>92</td>\n",
       "    </tr>\n",
       "  </tbody>\n",
       "</table>\n",
       "</div>"
      ],
      "text/plain": [
       "   gender race/ethnicity parental level of education         lunch  \\\n",
       "0  female        group B           bachelor's degree      standard   \n",
       "1  female        group C                some college      standard   \n",
       "2  female        group B             master's degree      standard   \n",
       "3    male        group A          associate's degree  free/reduced   \n",
       "4    male        group C                some college      standard   \n",
       "5  female        group B          associate's degree      standard   \n",
       "6  female        group B                some college      standard   \n",
       "\n",
       "  test preparation course  math score  reading score  writing score  \n",
       "0                    none          72             72             74  \n",
       "1               completed          69             90             88  \n",
       "2                    none          90             95             93  \n",
       "3                    none          47             57             44  \n",
       "4                    none          76             78             75  \n",
       "5                    none          71             83             78  \n",
       "6               completed          88             95             92  "
      ]
     },
     "execution_count": 4,
     "metadata": {},
     "output_type": "execute_result"
    }
   ],
   "source": [
    "dtf.head(7)"
   ]
  },
  {
   "cell_type": "markdown",
   "id": "0c6cd1af",
   "metadata": {},
   "source": [
    "### <span style='color:Blue'> **Question - 4. Display some lower part records from dataset.** </span>"
   ]
  },
  {
   "cell_type": "code",
   "execution_count": 5,
   "id": "ca82f8ec",
   "metadata": {},
   "outputs": [
    {
     "data": {
      "text/html": [
       "<div>\n",
       "<style scoped>\n",
       "    .dataframe tbody tr th:only-of-type {\n",
       "        vertical-align: middle;\n",
       "    }\n",
       "\n",
       "    .dataframe tbody tr th {\n",
       "        vertical-align: top;\n",
       "    }\n",
       "\n",
       "    .dataframe thead th {\n",
       "        text-align: right;\n",
       "    }\n",
       "</style>\n",
       "<table border=\"1\" class=\"dataframe\">\n",
       "  <thead>\n",
       "    <tr style=\"text-align: right;\">\n",
       "      <th></th>\n",
       "      <th>gender</th>\n",
       "      <th>race/ethnicity</th>\n",
       "      <th>parental level of education</th>\n",
       "      <th>lunch</th>\n",
       "      <th>test preparation course</th>\n",
       "      <th>math score</th>\n",
       "      <th>reading score</th>\n",
       "      <th>writing score</th>\n",
       "    </tr>\n",
       "  </thead>\n",
       "  <tbody>\n",
       "    <tr>\n",
       "      <th>995</th>\n",
       "      <td>female</td>\n",
       "      <td>group E</td>\n",
       "      <td>master's degree</td>\n",
       "      <td>standard</td>\n",
       "      <td>completed</td>\n",
       "      <td>88</td>\n",
       "      <td>99</td>\n",
       "      <td>95</td>\n",
       "    </tr>\n",
       "    <tr>\n",
       "      <th>996</th>\n",
       "      <td>male</td>\n",
       "      <td>group C</td>\n",
       "      <td>high school</td>\n",
       "      <td>free/reduced</td>\n",
       "      <td>none</td>\n",
       "      <td>62</td>\n",
       "      <td>55</td>\n",
       "      <td>55</td>\n",
       "    </tr>\n",
       "    <tr>\n",
       "      <th>997</th>\n",
       "      <td>female</td>\n",
       "      <td>group C</td>\n",
       "      <td>high school</td>\n",
       "      <td>free/reduced</td>\n",
       "      <td>completed</td>\n",
       "      <td>59</td>\n",
       "      <td>71</td>\n",
       "      <td>65</td>\n",
       "    </tr>\n",
       "    <tr>\n",
       "      <th>998</th>\n",
       "      <td>female</td>\n",
       "      <td>group D</td>\n",
       "      <td>some college</td>\n",
       "      <td>standard</td>\n",
       "      <td>completed</td>\n",
       "      <td>68</td>\n",
       "      <td>78</td>\n",
       "      <td>77</td>\n",
       "    </tr>\n",
       "    <tr>\n",
       "      <th>999</th>\n",
       "      <td>female</td>\n",
       "      <td>group D</td>\n",
       "      <td>some college</td>\n",
       "      <td>free/reduced</td>\n",
       "      <td>none</td>\n",
       "      <td>77</td>\n",
       "      <td>86</td>\n",
       "      <td>86</td>\n",
       "    </tr>\n",
       "  </tbody>\n",
       "</table>\n",
       "</div>"
      ],
      "text/plain": [
       "     gender race/ethnicity parental level of education         lunch  \\\n",
       "995  female        group E             master's degree      standard   \n",
       "996    male        group C                 high school  free/reduced   \n",
       "997  female        group C                 high school  free/reduced   \n",
       "998  female        group D                some college      standard   \n",
       "999  female        group D                some college  free/reduced   \n",
       "\n",
       "    test preparation course  math score  reading score  writing score  \n",
       "995               completed          88             99             95  \n",
       "996                    none          62             55             55  \n",
       "997               completed          59             71             65  \n",
       "998               completed          68             78             77  \n",
       "999                    none          77             86             86  "
      ]
     },
     "execution_count": 5,
     "metadata": {},
     "output_type": "execute_result"
    }
   ],
   "source": [
    "dtf.tail()"
   ]
  },
  {
   "cell_type": "markdown",
   "id": "0fae5a72",
   "metadata": {},
   "source": [
    "### <span style='color:Blue'> **Question - 5. Show the statistical summary.** </span>"
   ]
  },
  {
   "cell_type": "code",
   "execution_count": 6,
   "id": "a2c2cef7",
   "metadata": {},
   "outputs": [
    {
     "data": {
      "text/html": [
       "<div>\n",
       "<style scoped>\n",
       "    .dataframe tbody tr th:only-of-type {\n",
       "        vertical-align: middle;\n",
       "    }\n",
       "\n",
       "    .dataframe tbody tr th {\n",
       "        vertical-align: top;\n",
       "    }\n",
       "\n",
       "    .dataframe thead th {\n",
       "        text-align: right;\n",
       "    }\n",
       "</style>\n",
       "<table border=\"1\" class=\"dataframe\">\n",
       "  <thead>\n",
       "    <tr style=\"text-align: right;\">\n",
       "      <th></th>\n",
       "      <th>math score</th>\n",
       "      <th>reading score</th>\n",
       "      <th>writing score</th>\n",
       "    </tr>\n",
       "  </thead>\n",
       "  <tbody>\n",
       "    <tr>\n",
       "      <th>count</th>\n",
       "      <td>1000.00000</td>\n",
       "      <td>1000.000000</td>\n",
       "      <td>1000.000000</td>\n",
       "    </tr>\n",
       "    <tr>\n",
       "      <th>mean</th>\n",
       "      <td>66.08900</td>\n",
       "      <td>69.169000</td>\n",
       "      <td>68.054000</td>\n",
       "    </tr>\n",
       "    <tr>\n",
       "      <th>std</th>\n",
       "      <td>15.16308</td>\n",
       "      <td>14.600192</td>\n",
       "      <td>15.195657</td>\n",
       "    </tr>\n",
       "    <tr>\n",
       "      <th>min</th>\n",
       "      <td>0.00000</td>\n",
       "      <td>17.000000</td>\n",
       "      <td>10.000000</td>\n",
       "    </tr>\n",
       "    <tr>\n",
       "      <th>25%</th>\n",
       "      <td>57.00000</td>\n",
       "      <td>59.000000</td>\n",
       "      <td>57.750000</td>\n",
       "    </tr>\n",
       "    <tr>\n",
       "      <th>50%</th>\n",
       "      <td>66.00000</td>\n",
       "      <td>70.000000</td>\n",
       "      <td>69.000000</td>\n",
       "    </tr>\n",
       "    <tr>\n",
       "      <th>75%</th>\n",
       "      <td>77.00000</td>\n",
       "      <td>79.000000</td>\n",
       "      <td>79.000000</td>\n",
       "    </tr>\n",
       "    <tr>\n",
       "      <th>max</th>\n",
       "      <td>100.00000</td>\n",
       "      <td>100.000000</td>\n",
       "      <td>100.000000</td>\n",
       "    </tr>\n",
       "  </tbody>\n",
       "</table>\n",
       "</div>"
      ],
      "text/plain": [
       "       math score  reading score  writing score\n",
       "count  1000.00000    1000.000000    1000.000000\n",
       "mean     66.08900      69.169000      68.054000\n",
       "std      15.16308      14.600192      15.195657\n",
       "min       0.00000      17.000000      10.000000\n",
       "25%      57.00000      59.000000      57.750000\n",
       "50%      66.00000      70.000000      69.000000\n",
       "75%      77.00000      79.000000      79.000000\n",
       "max     100.00000     100.000000     100.000000"
      ]
     },
     "execution_count": 6,
     "metadata": {},
     "output_type": "execute_result"
    }
   ],
   "source": [
    "dtf.describe()"
   ]
  },
  {
   "cell_type": "markdown",
   "id": "0fc2f8f0",
   "metadata": {},
   "source": [
    "### <span style='color:Blue'> **Question - 6. Check out the missing values.** </span>"
   ]
  },
  {
   "cell_type": "code",
   "execution_count": 7,
   "id": "c412d0dc",
   "metadata": {},
   "outputs": [
    {
     "data": {
      "text/plain": [
       "gender                         0\n",
       "race/ethnicity                 0\n",
       "parental level of education    0\n",
       "lunch                          0\n",
       "test preparation course        0\n",
       "math score                     0\n",
       "reading score                  0\n",
       "writing score                  0\n",
       "dtype: int64"
      ]
     },
     "execution_count": 7,
     "metadata": {},
     "output_type": "execute_result"
    }
   ],
   "source": [
    "dtf.isnull().sum()"
   ]
  },
  {
   "cell_type": "markdown",
   "id": "e366d70e",
   "metadata": {},
   "source": [
    "### <span style='color:Blue'> **Question - 7. How many male and female in give dataset and count in percentage format.** </span>\n",
    "\n",
    "NOTE:- Answer in visualization."
   ]
  },
  {
   "cell_type": "code",
   "execution_count": 8,
   "id": "d11e88b6",
   "metadata": {},
   "outputs": [
    {
     "data": {
      "text/plain": [
       "female    518\n",
       "male      482\n",
       "Name: gender, dtype: int64"
      ]
     },
     "execution_count": 8,
     "metadata": {},
     "output_type": "execute_result"
    }
   ],
   "source": [
    "dtf['gender'].value_counts()"
   ]
  },
  {
   "cell_type": "code",
   "execution_count": 9,
   "id": "f361ca95",
   "metadata": {},
   "outputs": [
    {
     "data": {
      "image/png": "[encoded data removed]",
      "text/plain": [
       "<Figure size 432x288 with 1 Axes>"
      ]
     },
     "metadata": {},
     "output_type": "display_data"
    }
   ],
   "source": [
    "dtf['gender'].value_counts().plot(kind='pie',autopct='%0.1f%%',explode=[0,0.1])\n",
    "plt.legend()\n",
    "plt.show()"
   ]
  },
  {
   "cell_type": "markdown",
   "id": "9d4be653",
   "metadata": {},
   "source": [
    "### <span style='color:Blue'> **Question - 8. Which lunch is common?** </span>\n",
    "\n",
    "NOTE:- Do not be use count method. Observation can be done by visualization."
   ]
  },
  {
   "cell_type": "code",
   "execution_count": 10,
   "id": "cccf0022",
   "metadata": {},
   "outputs": [
    {
     "data": {
      "text/plain": [
       "<pandas.core.groupby.generic.DataFrameGroupBy object at 0x000001C49811F520>"
      ]
     },
     "execution_count": 10,
     "metadata": {},
     "output_type": "execute_result"
    }
   ],
   "source": [
    "dtf.groupby('lunch')"
   ]
  },
  {
   "cell_type": "markdown",
   "id": "ff960bf6",
   "metadata": {},
   "source": [
    "### <span style='color:Blue'> **Question- 9: What is the effect of gender and education level on math score?** </span>"
   ]
  },
  {
   "cell_type": "code",
   "execution_count": 34,
   "id": "0ad7a309",
   "metadata": {},
   "outputs": [
    {
     "data": {
      "image/png": "[encoded data removed]",
      "text/plain": [
       "<Figure size 720x576 with 1 Axes>"
      ]
     },
     "metadata": {
      "needs_background": "light"
     },
     "output_type": "display_data"
    }
   ],
   "source": [
    "plt.figure(figsize=(10, 8))\n",
    "sns.barplot(data=dtf,y='math score',x='parental level of education', hue='gender')\n",
    "\n",
    "plt.show()"
   ]
  },
  {
   "cell_type": "markdown",
   "id": "a05d4957",
   "metadata": {},
   "source": [
    "### <span style='color:Blue'> **Question - 10. What is the effect of gender and preparation course on math score?** </span>"
   ]
  },
  {
   "cell_type": "code",
   "execution_count": 31,
   "id": "eed1cb72",
   "metadata": {},
   "outputs": [
    {
     "data": {
      "image/png": "[encoded data removed]",
      "text/plain": [
       "<Figure size 432x288 with 1 Axes>"
      ]
     },
     "metadata": {
      "needs_background": "light"
     },
     "output_type": "display_data"
    },
    {
     "data": {
      "text/plain": [
       "<Figure size 144x144 with 0 Axes>"
      ]
     },
     "metadata": {},
     "output_type": "display_data"
    }
   ],
   "source": [
    "sns.barplot(data=dtf,x='math score',y='test preparation course', hue='gender')\n",
    "plt.show()"
   ]
  },
  {
   "cell_type": "markdown",
   "id": "3e2bea4e",
   "metadata": {},
   "source": [
    "### <span style='color:Blue'> **Question - 11. Which group is the most successful based on math score?** </span>"
   ]
  },
  {
   "cell_type": "markdown",
   "id": "cddbf8c7",
   "metadata": {},
   "source": [
    "NOTE:- However, explain why particular group is most sucessful?. "
   ]
  },
  {
   "cell_type": "code",
   "execution_count": 13,
   "id": "322d8fc8",
   "metadata": {
    "scrolled": false
   },
   "outputs": [
    {
     "data": {
      "image/png": "[encoded data removed]",
      "text/plain": [
       "<Figure size 432x288 with 1 Axes>"
      ]
     },
     "metadata": {
      "needs_background": "light"
     },
     "output_type": "display_data"
    }
   ],
   "source": [
    "sns.barplot(data=dtf,x='math score',y='race/ethnicity')\n",
    "plt.show()"
   ]
  },
  {
   "cell_type": "markdown",
   "id": "7fca0b15",
   "metadata": {},
   "source": [
    "### <span style='color:Blue'> **Question - 12. Which group is much more successful than other students on \"reading score\".?** </span>"
   ]
  },
  {
   "cell_type": "code",
   "execution_count": 14,
   "id": "dbee153d",
   "metadata": {},
   "outputs": [
    {
     "data": {
      "image/png": "[encoded data removed]",
      "text/plain": [
       "<Figure size 432x288 with 1 Axes>"
      ]
     },
     "metadata": {
      "needs_background": "light"
     },
     "output_type": "display_data"
    }
   ],
   "source": [
    "sns.barplot(data=dtf,x='reading score',y='race/ethnicity')\n",
    "plt.show()"
   ]
  },
  {
   "cell_type": "markdown",
   "id": "0e2184ad",
   "metadata": {},
   "source": [
    "### <span style='color:Blue'> **Question - 13. Show the frequency of each and every score.** </span>"
   ]
  },
  {
   "cell_type": "code",
   "execution_count": 70,
   "id": "5fb2df5c",
   "metadata": {},
   "outputs": [
    {
     "data": {
      "image/png": "[encoded data removed]",
      "text/plain": [
       "<Figure size 720x576 with 4 Axes>"
      ]
     },
     "metadata": {
      "needs_background": "light"
     },
     "output_type": "display_data"
    }
   ],
   "source": [
    "# plt.figure(figsize=(10, 8))\n",
    "# sns.kdeplot(data=dtf);\n",
    "dtf.hist(figsize=(10, 8),);"
   ]
  },
  {
   "cell_type": "markdown",
   "id": "2194df70",
   "metadata": {},
   "source": [
    "### <span style='color:Blue'> **Question - 14. Show point estimation of race/ethnicity based on reading score** </span>"
   ]
  },
  {
   "cell_type": "code",
   "execution_count": 16,
   "id": "6b5c8f01",
   "metadata": {},
   "outputs": [],
   "source": [
    "# Write code and Observation here."
   ]
  },
  {
   "cell_type": "markdown",
   "id": "a3cb90cf",
   "metadata": {},
   "source": [
    "### <span style='color:Blue'> **Question - 15. Show point estimation of race/ethnicity based on math score with parental level of education** </span>"
   ]
  },
  {
   "cell_type": "code",
   "execution_count": 17,
   "id": "c9c4c05b",
   "metadata": {},
   "outputs": [],
   "source": [
    "# Write code and Observation here."
   ]
  },
  {
   "cell_type": "markdown",
   "id": "9c8cda9e",
   "metadata": {},
   "source": [
    "### <span style='color:Blue'> **Question - 16. Show the relationship of math score based reading score.** </span>"
   ]
  },
  {
   "cell_type": "code",
   "execution_count": 18,
   "id": "65d3d80c",
   "metadata": {},
   "outputs": [],
   "source": [
    "# Write code and Observation here."
   ]
  },
  {
   "cell_type": "markdown",
   "id": "e8b723c8",
   "metadata": {},
   "source": [
    "### <span style='color:Blue'> **Question - 17. Show the relationship between writing score based on reading score with respect to gender** </span>"
   ]
  },
  {
   "cell_type": "code",
   "execution_count": 19,
   "id": "c082e33f",
   "metadata": {},
   "outputs": [],
   "source": [
    "# Write code and Observation here."
   ]
  },
  {
   "cell_type": "markdown",
   "id": "2773e497",
   "metadata": {},
   "source": [
    "### <span style='color:Blue'> **Question - 18. Show the relationship between writing score based on math score with respect to parental level of education.** </span>"
   ]
  },
  {
   "cell_type": "code",
   "execution_count": 20,
   "id": "13d408be",
   "metadata": {},
   "outputs": [],
   "source": [
    "# Write code and Observation here."
   ]
  },
  {
   "cell_type": "markdown",
   "id": "10a35527",
   "metadata": {},
   "source": [
    "### <span style='color:Blue'> **Question - 19. Is there an increased math score while students are continuously reading.** </span>"
   ]
  },
  {
   "cell_type": "code",
   "execution_count": 21,
   "id": "19633aa9",
   "metadata": {},
   "outputs": [],
   "source": [
    "# Write code and Observation here."
   ]
  },
  {
   "cell_type": "markdown",
   "id": "0cb112df",
   "metadata": {},
   "source": [
    "### <span style='color:Blue'> **Question - 20. Which gender is continuously practicing the example and they help to increase the math score?** </span>"
   ]
  },
  {
   "cell_type": "code",
   "execution_count": 22,
   "id": "a2d46bd8",
   "metadata": {},
   "outputs": [],
   "source": [
    "# Write code and Observation here."
   ]
  },
  {
   "cell_type": "markdown",
   "id": "5302866e",
   "metadata": {},
   "source": [
    "### <span style='color:Blue'> **Question - 21. In math some of the examples differ from one another, can we plot them and explain them?** </span>"
   ]
  },
  {
   "cell_type": "code",
   "execution_count": 23,
   "id": "e064869e",
   "metadata": {},
   "outputs": [],
   "source": [
    "# Write code and Observation here."
   ]
  },
  {
   "cell_type": "markdown",
   "id": "cc9f8f25",
   "metadata": {},
   "source": [
    "### <span style='color:Blue'> **Question - 22. In which group examples are more spread out with respect to math?** </span>"
   ]
  },
  {
   "cell_type": "code",
   "execution_count": 24,
   "id": "21970baa",
   "metadata": {},
   "outputs": [],
   "source": [
    "# Write code and Observation here."
   ]
  },
  {
   "cell_type": "markdown",
   "id": "1a0ef917",
   "metadata": {},
   "source": [
    "### <span style='color:Blue'> **Question - 23. If outliers in mathematics can we show them on which quartile have an outlier example?** </span>"
   ]
  },
  {
   "cell_type": "code",
   "execution_count": 25,
   "id": "8135dce6",
   "metadata": {},
   "outputs": [],
   "source": [
    "# Write code and Observation here."
   ]
  },
  {
   "cell_type": "markdown",
   "id": "ad27be4b",
   "metadata": {},
   "source": [
    "### <span style='color:Blue'> **Question - 24. Show the correlation between each and every feature.** </span>"
   ]
  },
  {
   "cell_type": "code",
   "execution_count": 26,
   "id": "9f7ee4dc",
   "metadata": {},
   "outputs": [],
   "source": [
    "# Write code and Observation here."
   ]
  },
  {
   "cell_type": "markdown",
   "id": "e52f6a53",
   "metadata": {},
   "source": [
    "### <span style='color:Blue'> **Question - 25. Is there any relationship between math and reading score? If yes? show the answer and explain it.** </span>"
   ]
  },
  {
   "cell_type": "code",
   "execution_count": 27,
   "id": "39ae0e86",
   "metadata": {},
   "outputs": [],
   "source": [
    "# Write code and Observation here."
   ]
  },
  {
   "cell_type": "markdown",
   "id": "4aeb220c",
   "metadata": {},
   "source": [
    "# End"
   ]
  },
  {
   "cell_type": "code",
   "execution_count": null,
   "id": "590a1dc8",
   "metadata": {},
   "outputs": [],
   "source": []
  }
 ],
 "metadata": {
  "kernelspec": {
   "display_name": "Python 3 (ipykernel)",
   "language": "python",
   "name": "python3"
  },
  "language_info": {
   "codemirror_mode": {
    "name": "ipython",
    "version": 3
   },
   "file_extension": ".py",
   "mimetype": "text/x-python",
   "name": "python",
   "nbconvert_exporter": "python",
   "pygments_lexer": "ipython3",
   "version": "3.9.12"
  }
 },
 "nbformat": 4,
 "nbformat_minor": 5
}
